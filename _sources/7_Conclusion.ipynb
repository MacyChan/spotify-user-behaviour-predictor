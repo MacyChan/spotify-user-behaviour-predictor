{
 "cells": [
  {
   "cell_type": "markdown",
   "metadata": {
    "slideshow": {
     "slide_type": "slide"
    }
   },
   "source": [
    "# Conclusion\n",
    "\n",
    "- This is a Python base notebook  "
   ]
  },
  {
   "cell_type": "markdown",
   "metadata": {},
   "source": [
    "## Summary of the whole project"
   ]
  },
  {
   "cell_type": "code",
   "execution_count": 1,
   "metadata": {},
   "outputs": [
    {
     "data": {
      "text/html": [
       "<div>\n",
       "<style scoped>\n",
       "    .dataframe tbody tr th:only-of-type {\n",
       "        vertical-align: middle;\n",
       "    }\n",
       "\n",
       "    .dataframe tbody tr th {\n",
       "        vertical-align: top;\n",
       "    }\n",
       "\n",
       "    .dataframe thead th {\n",
       "        text-align: right;\n",
       "    }\n",
       "</style>\n",
       "<table border=\"1\" class=\"dataframe\">\n",
       "  <thead>\n",
       "    <tr style=\"text-align: right;\">\n",
       "      <th></th>\n",
       "      <th>LogisticReg</th>\n",
       "      <th>LogisticReg_opt</th>\n",
       "      <th>RandomForest</th>\n",
       "      <th>XGBoost</th>\n",
       "      <th>LGBM</th>\n",
       "      <th>Cat_Boost</th>\n",
       "      <th>averaging</th>\n",
       "    </tr>\n",
       "    <tr>\n",
       "      <th>dummy</th>\n",
       "      <th></th>\n",
       "      <th></th>\n",
       "      <th></th>\n",
       "      <th></th>\n",
       "      <th></th>\n",
       "      <th></th>\n",
       "      <th></th>\n",
       "    </tr>\n",
       "  </thead>\n",
       "  <tbody>\n",
       "    <tr>\n",
       "      <th>0.030 (+/- 0.007)</th>\n",
       "      <td>0.369 (+/- 0.016)</td>\n",
       "      <td>14.622 (+/- 1.540)</td>\n",
       "      <td>0.964 (+/- 0.028)</td>\n",
       "      <td>2.203 (+/- 0.164)</td>\n",
       "      <td>0.153 (+/- 0.017)</td>\n",
       "      <td>3.150 (+/- 0.202)</td>\n",
       "      <td>3.238 (+/- 0.247)</td>\n",
       "    </tr>\n",
       "    <tr>\n",
       "      <th>0.022 (+/- 0.008)</th>\n",
       "      <td>0.027 (+/- 0.001)</td>\n",
       "      <td>0.027 (+/- 0.003)</td>\n",
       "      <td>0.075 (+/- 0.007)</td>\n",
       "      <td>0.032 (+/- 0.001)</td>\n",
       "      <td>0.023 (+/- 0.001)</td>\n",
       "      <td>0.274 (+/- 0.017)</td>\n",
       "      <td>0.100 (+/- 0.004)</td>\n",
       "    </tr>\n",
       "    <tr>\n",
       "      <th>0.520 (+/- 0.001)</th>\n",
       "      <td>0.873 (+/- 0.009)</td>\n",
       "      <td>0.887 (+/- 0.010)</td>\n",
       "      <td>0.941 (+/- 0.010)</td>\n",
       "      <td>0.937 (+/- 0.007)</td>\n",
       "      <td>0.937 (+/- 0.006)</td>\n",
       "      <td>0.930 (+/- 0.006)</td>\n",
       "      <td>0.940 (+/- 0.005)</td>\n",
       "    </tr>\n",
       "    <tr>\n",
       "      <th>0.520 (+/- 0.000)</th>\n",
       "      <td>0.931 (+/- 0.003)</td>\n",
       "      <td>0.959 (+/- 0.004)</td>\n",
       "      <td>0.997 (+/- 0.000)</td>\n",
       "      <td>0.997 (+/- 0.000)</td>\n",
       "      <td>0.996 (+/- 0.000)</td>\n",
       "      <td>0.968 (+/- 0.002)</td>\n",
       "      <td>0.997 (+/- 0.000)</td>\n",
       "    </tr>\n",
       "    <tr>\n",
       "      <th>0.500 (+/- 0.000)</th>\n",
       "      <td>0.950 (+/- 0.006)</td>\n",
       "      <td>0.961 (+/- 0.004)</td>\n",
       "      <td>0.989 (+/- 0.002)</td>\n",
       "      <td>0.981 (+/- 0.005)</td>\n",
       "      <td>0.981 (+/- 0.004)</td>\n",
       "      <td>0.975 (+/- 0.003)</td>\n",
       "      <td>0.989 (+/- 0.002)</td>\n",
       "    </tr>\n",
       "    <tr>\n",
       "      <th>0.500 (+/- 0.000)</th>\n",
       "      <td>0.977 (+/- 0.001)</td>\n",
       "      <td>0.988 (+/- 0.002)</td>\n",
       "      <td>1.000 (+/- 0.000)</td>\n",
       "      <td>1.000 (+/- 0.000)</td>\n",
       "      <td>1.000 (+/- 0.000)</td>\n",
       "      <td>0.997 (+/- 0.001)</td>\n",
       "      <td>1.000 (+/- 0.000)</td>\n",
       "    </tr>\n",
       "  </tbody>\n",
       "</table>\n",
       "</div>"
      ],
      "text/plain": [
       "                         LogisticReg     LogisticReg_opt       RandomForest  \\\n",
       "dummy                                                                         \n",
       "0.030 (+/- 0.007)  0.369 (+/- 0.016)  14.622 (+/- 1.540)  0.964 (+/- 0.028)   \n",
       "0.022 (+/- 0.008)  0.027 (+/- 0.001)   0.027 (+/- 0.003)  0.075 (+/- 0.007)   \n",
       "0.520 (+/- 0.001)  0.873 (+/- 0.009)   0.887 (+/- 0.010)  0.941 (+/- 0.010)   \n",
       "0.520 (+/- 0.000)  0.931 (+/- 0.003)   0.959 (+/- 0.004)  0.997 (+/- 0.000)   \n",
       "0.500 (+/- 0.000)  0.950 (+/- 0.006)   0.961 (+/- 0.004)  0.989 (+/- 0.002)   \n",
       "0.500 (+/- 0.000)  0.977 (+/- 0.001)   0.988 (+/- 0.002)  1.000 (+/- 0.000)   \n",
       "\n",
       "                             XGBoost               LGBM          Cat_Boost  \\\n",
       "dummy                                                                        \n",
       "0.030 (+/- 0.007)  2.203 (+/- 0.164)  0.153 (+/- 0.017)  3.150 (+/- 0.202)   \n",
       "0.022 (+/- 0.008)  0.032 (+/- 0.001)  0.023 (+/- 0.001)  0.274 (+/- 0.017)   \n",
       "0.520 (+/- 0.001)  0.937 (+/- 0.007)  0.937 (+/- 0.006)  0.930 (+/- 0.006)   \n",
       "0.520 (+/- 0.000)  0.997 (+/- 0.000)  0.996 (+/- 0.000)  0.968 (+/- 0.002)   \n",
       "0.500 (+/- 0.000)  0.981 (+/- 0.005)  0.981 (+/- 0.004)  0.975 (+/- 0.003)   \n",
       "0.500 (+/- 0.000)  1.000 (+/- 0.000)  1.000 (+/- 0.000)  0.997 (+/- 0.001)   \n",
       "\n",
       "                           averaging  \n",
       "dummy                                 \n",
       "0.030 (+/- 0.007)  3.238 (+/- 0.247)  \n",
       "0.022 (+/- 0.008)  0.100 (+/- 0.004)  \n",
       "0.520 (+/- 0.001)  0.940 (+/- 0.005)  \n",
       "0.520 (+/- 0.000)  0.997 (+/- 0.000)  \n",
       "0.500 (+/- 0.000)  0.989 (+/- 0.002)  \n",
       "0.500 (+/- 0.000)  1.000 (+/- 0.000)  "
      ]
     },
     "execution_count": 1,
     "metadata": {},
     "output_type": "execute_result"
    }
   ],
   "source": [
    "import pandas as pd\n",
    "results = pd.read_csv('data/model_results.csv', index_col = 0 )\n",
    "results"
   ]
  },
  {
   "cell_type": "markdown",
   "metadata": {},
   "source": [
    "Amongst the models, it is clear that `CatBoostClassifier` has the best accuracy and ROC AUC score. Moreover, the difference in scores between the test set and validation set are comparatively small, suggesting that there is minimal optimisation bias. Based on our test scores, our model is able to identify about **77.2%** of the cases.\n",
    "\n",
    "One thing that needs to be kept in mind is that, the fit time for`cat_boost` is slow. It can be a concern as the algorithm is likely to refit every user by the latest song listening history whenever the user wants to update their playlist. Moreover, the score time of `Cat_Boost` is the slowest among all models but acceptable. The processing time (fit + score time) is critical for the application.  \n",
    "\n",
    "Hence, the other options after `Cat_Boost` may be `RandomForest` / `LGBM`, which require less processing time but similar scoring result. Further model training and new training set is needed for continuous model studying."
   ]
  }
 ],
 "metadata": {
  "anaconda-cloud": {},
  "celltoolbar": "Slideshow",
  "kernelspec": {
   "display_name": "Python 3 (ipykernel)",
   "language": "python",
   "name": "python3"
  },
  "language_info": {
   "codemirror_mode": {
    "name": "ipython",
    "version": 3
   },
   "file_extension": ".py",
   "mimetype": "text/x-python",
   "name": "python",
   "nbconvert_exporter": "python",
   "pygments_lexer": "ipython3",
   "version": "3.9.9"
  },
  "toc-autonumbering": false,
  "toc-showtags": false
 },
 "nbformat": 4,
 "nbformat_minor": 4
}
