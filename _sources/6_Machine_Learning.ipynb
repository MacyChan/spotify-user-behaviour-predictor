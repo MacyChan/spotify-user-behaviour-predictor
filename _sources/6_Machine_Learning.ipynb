{
 "cells": [
  {
   "cell_type": "markdown",
   "metadata": {},
   "source": [
    "# Machine Learning analysis\n",
    "\n",
    "- This is a Python base notebook  \n",
    "\n",
    "Kaggle's [Spotify Song Attributes](https://www.kaggle.com/geomack/spotifyclassification/home) dataset contains a number of features of songs from 2017 and a binary variable `target` that represents whether the user liked the song (encoded as 1) or not (encoded as 0). See the documentation of all the features [here](https://developer.spotify.com/documentation/web-api/reference/tracks/get-audio-features/). "
   ]
  },
  {
   "cell_type": "markdown",
   "metadata": {},
   "source": [
    "## Imports"
   ]
  },
  {
   "cell_type": "markdown",
   "metadata": {},
   "source": [
    "### Import libraries"
   ]
  },
  {
   "cell_type": "code",
   "execution_count": 3,
   "metadata": {},
   "outputs": [],
   "source": [
    "import matplotlib.pyplot as plt\n",
    "import numpy as np\n",
    "import pandas as pd\n",
    "#from sklearn import datasets\n",
    "from sklearn.compose import ColumnTransformer, make_column_transformer\n",
    "\n",
    "#from sklearn.impute import SimpleImputer\n",
    "from sklearn.model_selection import (\n",
    "    RandomizedSearchCV,\n",
    "#    cross_val_score,\n",
    "    cross_validate,\n",
    "    train_test_split,\n",
    ")\n",
    "from sklearn.pipeline import make_pipeline #Pipeline, make_pipeline\n",
    "from sklearn.preprocessing import StandardScaler, OneHotEncoder\n",
    "#from sklearn.svm import SVC, SVR\n",
    "#from sklearn.preprocessing import PolynomialFeatures\n",
    "\n",
    "from sklearn.dummy import DummyClassifier\n",
    "from sklearn.linear_model import LogisticRegression, Ridge\n",
    "from sklearn.ensemble import RandomForestClassifier\n",
    "from lightgbm.sklearn import LGBMClassifier\n",
    "from xgboost import XGBClassifier\n",
    "from catboost import CatBoostClassifier\n",
    "from sklearn.tree import DecisionTreeClassifier\n",
    "from sklearn.ensemble import VotingClassifier\n",
    "#from sklearn.feature_selection import RFECV\n",
    "\n",
    "from sklearn.metrics import (\n",
    "    classification_report,\n",
    "    roc_curve,\n",
    "    RocCurveDisplay,\n",
    "    roc_auc_score\n",
    ")\n",
    "\n",
    "import shap\n",
    "#from sklearn.model_selection import cross_val_predict"
   ]
  },
  {
   "cell_type": "code",
   "execution_count": 4,
   "metadata": {},
   "outputs": [],
   "source": [
    "def mean_std_cross_val_scores(model, X_train, y_train, **kwargs):\n",
    "    \"\"\"\n",
    "    Returns mean and std of cross validation\n",
    "\n",
    "    Parameters\n",
    "    ----------\n",
    "    model :\n",
    "        scikit-learn model\n",
    "    X_train : numpy array or pandas DataFrame\n",
    "        X in the training data\n",
    "    y_train :\n",
    "        y in the training data\n",
    "\n",
    "    Returns\n",
    "    ----------\n",
    "        pandas Series with mean scores from cross_validation\n",
    "    \"\"\"\n",
    "\n",
    "    scores = cross_validate(model, X_train, y_train, **kwargs)\n",
    "\n",
    "    mean_scores = pd.DataFrame(scores).mean()\n",
    "    std_scores = pd.DataFrame(scores).std()\n",
    "    out_col = []\n",
    "\n",
    "    for i in range(len(mean_scores)):\n",
    "        out_col.append((f\"%0.3f (+/- %0.3f)\" % (mean_scores[i], std_scores[i])))\n",
    "\n",
    "    return pd.Series(data=out_col, index=mean_scores.index)"
   ]
  },
  {
   "cell_type": "markdown",
   "metadata": {},
   "source": [
    "### Reading the data CSV\n",
    "Read in the data CSV and store it as a pandas dataframe named `spotify_df`."
   ]
  },
  {
   "cell_type": "code",
   "execution_count": 5,
   "metadata": {},
   "outputs": [
    {
     "data": {
      "text/html": [
       "<div>\n",
       "<style scoped>\n",
       "    .dataframe tbody tr th:only-of-type {\n",
       "        vertical-align: middle;\n",
       "    }\n",
       "\n",
       "    .dataframe tbody tr th {\n",
       "        vertical-align: top;\n",
       "    }\n",
       "\n",
       "    .dataframe thead th {\n",
       "        text-align: right;\n",
       "    }\n",
       "</style>\n",
       "<table border=\"1\" class=\"dataframe\">\n",
       "  <thead>\n",
       "    <tr style=\"text-align: right;\">\n",
       "      <th></th>\n",
       "      <th>acousticness</th>\n",
       "      <th>danceability</th>\n",
       "      <th>duration_ms</th>\n",
       "      <th>energy</th>\n",
       "      <th>instrumentalness</th>\n",
       "      <th>key</th>\n",
       "      <th>liveness</th>\n",
       "      <th>loudness</th>\n",
       "      <th>mode</th>\n",
       "      <th>speechiness</th>\n",
       "      <th>...</th>\n",
       "      <th>genres_west coast rap</th>\n",
       "      <th>genres_west coast trap</th>\n",
       "      <th>genres_wonky</th>\n",
       "      <th>genres_worcester ma indie</th>\n",
       "      <th>genres_world</th>\n",
       "      <th>genres_world fusion</th>\n",
       "      <th>genres_world worship</th>\n",
       "      <th>genres_worship</th>\n",
       "      <th>genres_zolo</th>\n",
       "      <th>lyrics</th>\n",
       "    </tr>\n",
       "  </thead>\n",
       "  <tbody>\n",
       "    <tr>\n",
       "      <th>0</th>\n",
       "      <td>0.0102</td>\n",
       "      <td>0.833</td>\n",
       "      <td>204600</td>\n",
       "      <td>0.434</td>\n",
       "      <td>0.0219</td>\n",
       "      <td>2</td>\n",
       "      <td>0.165</td>\n",
       "      <td>-8.795</td>\n",
       "      <td>1</td>\n",
       "      <td>0.431</td>\n",
       "      <td>...</td>\n",
       "      <td>0.0</td>\n",
       "      <td>0.0</td>\n",
       "      <td>0.0</td>\n",
       "      <td>0.0</td>\n",
       "      <td>0.0</td>\n",
       "      <td>0.0</td>\n",
       "      <td>0.0</td>\n",
       "      <td>0.0</td>\n",
       "      <td>0.0</td>\n",
       "      <td>\\nCall it how it is (Call it how it is)\\nHendr...</td>\n",
       "    </tr>\n",
       "    <tr>\n",
       "      <th>1</th>\n",
       "      <td>0.0102</td>\n",
       "      <td>0.833</td>\n",
       "      <td>204600</td>\n",
       "      <td>0.434</td>\n",
       "      <td>0.0219</td>\n",
       "      <td>2</td>\n",
       "      <td>0.165</td>\n",
       "      <td>-8.795</td>\n",
       "      <td>1</td>\n",
       "      <td>0.431</td>\n",
       "      <td>...</td>\n",
       "      <td>0.0</td>\n",
       "      <td>0.0</td>\n",
       "      <td>0.0</td>\n",
       "      <td>0.0</td>\n",
       "      <td>0.0</td>\n",
       "      <td>0.0</td>\n",
       "      <td>0.0</td>\n",
       "      <td>0.0</td>\n",
       "      <td>0.0</td>\n",
       "      <td>\\nThree exotic broads and I got 'em soakin' pa...</td>\n",
       "    </tr>\n",
       "    <tr>\n",
       "      <th>2</th>\n",
       "      <td>0.0102</td>\n",
       "      <td>0.833</td>\n",
       "      <td>204600</td>\n",
       "      <td>0.434</td>\n",
       "      <td>0.0219</td>\n",
       "      <td>2</td>\n",
       "      <td>0.165</td>\n",
       "      <td>-8.795</td>\n",
       "      <td>1</td>\n",
       "      <td>0.431</td>\n",
       "      <td>...</td>\n",
       "      <td>0.0</td>\n",
       "      <td>0.0</td>\n",
       "      <td>0.0</td>\n",
       "      <td>0.0</td>\n",
       "      <td>0.0</td>\n",
       "      <td>0.0</td>\n",
       "      <td>0.0</td>\n",
       "      <td>0.0</td>\n",
       "      <td>0.0</td>\n",
       "      <td>\\nThey gave lil' Trotty 25 for them thangs, ni...</td>\n",
       "    </tr>\n",
       "    <tr>\n",
       "      <th>3</th>\n",
       "      <td>0.0102</td>\n",
       "      <td>0.833</td>\n",
       "      <td>204600</td>\n",
       "      <td>0.434</td>\n",
       "      <td>0.0219</td>\n",
       "      <td>2</td>\n",
       "      <td>0.165</td>\n",
       "      <td>-8.795</td>\n",
       "      <td>1</td>\n",
       "      <td>0.431</td>\n",
       "      <td>...</td>\n",
       "      <td>0.0</td>\n",
       "      <td>0.0</td>\n",
       "      <td>0.0</td>\n",
       "      <td>0.0</td>\n",
       "      <td>0.0</td>\n",
       "      <td>0.0</td>\n",
       "      <td>0.0</td>\n",
       "      <td>0.0</td>\n",
       "      <td>0.0</td>\n",
       "      <td>\\n\\n\\nReal dope dealers for real, haha\\nHahaha...</td>\n",
       "    </tr>\n",
       "    <tr>\n",
       "      <th>4</th>\n",
       "      <td>0.0102</td>\n",
       "      <td>0.833</td>\n",
       "      <td>204600</td>\n",
       "      <td>0.434</td>\n",
       "      <td>0.0219</td>\n",
       "      <td>2</td>\n",
       "      <td>0.165</td>\n",
       "      <td>-8.795</td>\n",
       "      <td>1</td>\n",
       "      <td>0.431</td>\n",
       "      <td>...</td>\n",
       "      <td>0.0</td>\n",
       "      <td>0.0</td>\n",
       "      <td>0.0</td>\n",
       "      <td>0.0</td>\n",
       "      <td>0.0</td>\n",
       "      <td>0.0</td>\n",
       "      <td>0.0</td>\n",
       "      <td>0.0</td>\n",
       "      <td>0.0</td>\n",
       "      <td>\\nYeah\\nI woke up feeling like fucking up some...</td>\n",
       "    </tr>\n",
       "    <tr>\n",
       "      <th>5</th>\n",
       "      <td>0.0102</td>\n",
       "      <td>0.833</td>\n",
       "      <td>204600</td>\n",
       "      <td>0.434</td>\n",
       "      <td>0.0219</td>\n",
       "      <td>2</td>\n",
       "      <td>0.165</td>\n",
       "      <td>-8.795</td>\n",
       "      <td>1</td>\n",
       "      <td>0.431</td>\n",
       "      <td>...</td>\n",
       "      <td>0.0</td>\n",
       "      <td>0.0</td>\n",
       "      <td>0.0</td>\n",
       "      <td>0.0</td>\n",
       "      <td>0.0</td>\n",
       "      <td>0.0</td>\n",
       "      <td>0.0</td>\n",
       "      <td>0.0</td>\n",
       "      <td>0.0</td>\n",
       "      <td>\\nBeast mode\\n(Zaytoven)\\n\\n\\nI fuck on that b...</td>\n",
       "    </tr>\n",
       "  </tbody>\n",
       "</table>\n",
       "<p>6 rows × 878 columns</p>\n",
       "</div>"
      ],
      "text/plain": [
       "   acousticness  danceability  duration_ms  energy  instrumentalness  key  \\\n",
       "0        0.0102         0.833       204600   0.434            0.0219    2   \n",
       "1        0.0102         0.833       204600   0.434            0.0219    2   \n",
       "2        0.0102         0.833       204600   0.434            0.0219    2   \n",
       "3        0.0102         0.833       204600   0.434            0.0219    2   \n",
       "4        0.0102         0.833       204600   0.434            0.0219    2   \n",
       "5        0.0102         0.833       204600   0.434            0.0219    2   \n",
       "\n",
       "   liveness  loudness  mode  speechiness  ...  genres_west coast rap  \\\n",
       "0     0.165    -8.795     1        0.431  ...                    0.0   \n",
       "1     0.165    -8.795     1        0.431  ...                    0.0   \n",
       "2     0.165    -8.795     1        0.431  ...                    0.0   \n",
       "3     0.165    -8.795     1        0.431  ...                    0.0   \n",
       "4     0.165    -8.795     1        0.431  ...                    0.0   \n",
       "5     0.165    -8.795     1        0.431  ...                    0.0   \n",
       "\n",
       "   genres_west coast trap  genres_wonky  genres_worcester ma indie  \\\n",
       "0                     0.0           0.0                        0.0   \n",
       "1                     0.0           0.0                        0.0   \n",
       "2                     0.0           0.0                        0.0   \n",
       "3                     0.0           0.0                        0.0   \n",
       "4                     0.0           0.0                        0.0   \n",
       "5                     0.0           0.0                        0.0   \n",
       "\n",
       "  genres_world genres_world fusion  genres_world worship  genres_worship  \\\n",
       "0          0.0                 0.0                   0.0             0.0   \n",
       "1          0.0                 0.0                   0.0             0.0   \n",
       "2          0.0                 0.0                   0.0             0.0   \n",
       "3          0.0                 0.0                   0.0             0.0   \n",
       "4          0.0                 0.0                   0.0             0.0   \n",
       "5          0.0                 0.0                   0.0             0.0   \n",
       "\n",
       "   genres_zolo                                             lyrics  \n",
       "0          0.0  \\nCall it how it is (Call it how it is)\\nHendr...  \n",
       "1          0.0  \\nThree exotic broads and I got 'em soakin' pa...  \n",
       "2          0.0  \\nThey gave lil' Trotty 25 for them thangs, ni...  \n",
       "3          0.0  \\n\\n\\nReal dope dealers for real, haha\\nHahaha...  \n",
       "4          0.0  \\nYeah\\nI woke up feeling like fucking up some...  \n",
       "5          0.0  \\nBeast mode\\n(Zaytoven)\\n\\n\\nI fuck on that b...  \n",
       "\n",
       "[6 rows x 878 columns]"
      ]
     },
     "execution_count": 5,
     "metadata": {},
     "output_type": "execute_result"
    }
   ],
   "source": [
    "spotify_df = pd.read_csv('data/spotify_df_processed.csv')#, index_col = 0 )\n",
    "spotify_df.head(6)"
   ]
  },
  {
   "cell_type": "markdown",
   "metadata": {},
   "source": [
    "## Data splitting\n",
    "Split the data into train and test portions. Remove `song_title`, separate data to `X_train`, `y_train`, `X_test`, `y_test`."
   ]
  },
  {
   "cell_type": "code",
   "execution_count": 6,
   "metadata": {},
   "outputs": [],
   "source": [
    "train_df, test_df = train_test_split(spotify_df, test_size=0.2, random_state=123)\n",
    "X_train, y_train = train_df.drop(columns=[\"target\"]), train_df[\"target\"].astype('category')\n",
    "X_test, y_test = test_df.drop(columns=[\"target\"]), test_df[\"target\"].astype('category')"
   ]
  },
  {
   "cell_type": "code",
   "execution_count": 7,
   "metadata": {},
   "outputs": [
    {
     "name": "stdout",
     "output_type": "stream",
     "text": [
      "The number of observations for train set:  3831\n",
      "The number of observations for test set:  958\n"
     ]
    }
   ],
   "source": [
    "# printing the number of observations for train and test sets\n",
    "print('The number of observations for train set: ', train_df['target'].shape[0])\n",
    "print('The number of observations for test set: ', test_df['target'].shape[0])"
   ]
  },
  {
   "cell_type": "markdown",
   "metadata": {},
   "source": [
    "I split 20% of the observations in the test data and 80% in the train data set. Overall the data set has about 2,000 observations, as it is not a very large data set, I preserved more portion for training."
   ]
  },
  {
   "cell_type": "markdown",
   "metadata": {},
   "source": [
    "## Scoring metric"
   ]
  },
  {
   "cell_type": "markdown",
   "metadata": {},
   "source": [
    "Since it is a balanced data set and both positive and negative class are equally balanced, accuracy and precision-recall curves are selected as scoring metric."
   ]
  },
  {
   "cell_type": "code",
   "execution_count": 8,
   "metadata": {
    "tags": []
   },
   "outputs": [],
   "source": [
    "scoring_metric = [\"accuracy\", \"roc_auc\"]"
   ]
  },
  {
   "cell_type": "markdown",
   "metadata": {},
   "source": [
    "## Preprocessing and transformations \n",
    "Here is different feature types and the transformations I will apply on each feature type. "
   ]
  },
  {
   "cell_type": "markdown",
   "metadata": {},
   "source": [
    "| Transformation | Reason                                                                                                                                                                                                                                         | Features                                                                                                                                                                                                |\n",
    "|---------:|------------------------------------------------------------------------------------------------------------------------------------------------------------------------------------------------------------------------------------------------|---------------------------------------------------------------------------------------------------------------------------------------------------------------------------------------------------------|\n",
    "| OneHotEncoder |All of these features have fixed number of categories. `key` is circulated features like months. `artist`, `genres`, `artist_style` have limited categories. | `key`, `artist`, `genres`, `artist_style`|\n",
    "| StandardScaler  | Numeric columns needs standardization | `acousticness`, `danceability`, `duration_ms`, `energy`, `instrumentalness`, `liveness`, `loudness`, `mode`, `speechiness`, `tempo`, `time_signature`, `valence`|\n",
    "| Glove (TBC)| Catagorize lyrics word using Glove | `lyrics` |\n",
    "| none     | The format are as required | `genres_` |\n",
    "| drop     | Free text column which has low correlation with target.| `song_title` |"
   ]
  },
  {
   "cell_type": "code",
   "execution_count": 9,
   "metadata": {},
   "outputs": [
    {
     "data": {
      "text/plain": [
       "ColumnTransformer(transformers=[('drop', 'drop', ['song_title']),\n",
       "                                ('standardscaler', StandardScaler(),\n",
       "                                 ['time_signature', 'tempo', 'speechiness',\n",
       "                                  'danceability', 'instrumentalness', 'valence',\n",
       "                                  'loudness', 'liveness', 'mode', 'energy',\n",
       "                                  'acousticness', 'duration_ms']),\n",
       "                                ('onehotencoder',\n",
       "                                 OneHotEncoder(handle_unknown='ignore',\n",
       "                                               sparse=False),\n",
       "                                 ['key', 'artist'])])"
      ]
     },
     "execution_count": 9,
     "metadata": {},
     "output_type": "execute_result"
    }
   ],
   "source": [
    "category_feats = [\"key\", \"artist\"]\n",
    "glove_feats = ['lyrics']\n",
    "none_feats = [col for col in X_train.columns if col.startswith('genres_')]\n",
    "drop_feats = ['song_title']\n",
    "\n",
    "\n",
    "numeric_feats  = list(set(X_train.columns)\n",
    "            - set(category_feats)\n",
    "            - set(glove_feats)\n",
    "            - set(none_feats)\n",
    "            - set(drop_feats)\n",
    "        )\n",
    "\n",
    "preprocessor = make_column_transformer(\n",
    "    (\"drop\", drop_feats),\n",
    "    (StandardScaler(), numeric_feats),\n",
    "    (OneHotEncoder(handle_unknown=\"ignore\", sparse=False), category_feats)\n",
    ")\n",
    "preprocessor.fit(X_train, y_train)"
   ]
  },
  {
   "cell_type": "markdown",
   "metadata": {},
   "source": [
    "## Baseline model"
   ]
  },
  {
   "cell_type": "code",
   "execution_count": 10,
   "metadata": {},
   "outputs": [],
   "source": [
    "results = {}"
   ]
  },
  {
   "cell_type": "code",
   "execution_count": 11,
   "metadata": {},
   "outputs": [],
   "source": [
    "dummy = DummyClassifier()\n",
    "baseline_pipe = make_pipeline(preprocessor, dummy)\n",
    "results['dummy'] = mean_std_cross_val_scores(make_pipeline(preprocessor, dummy), X_train, y_train, \n",
    "                                             return_train_score=True, scoring=scoring_metric)"
   ]
  },
  {
   "cell_type": "code",
   "execution_count": 12,
   "metadata": {},
   "outputs": [
    {
     "data": {
      "text/html": [
       "<div>\n",
       "<style scoped>\n",
       "    .dataframe tbody tr th:only-of-type {\n",
       "        vertical-align: middle;\n",
       "    }\n",
       "\n",
       "    .dataframe tbody tr th {\n",
       "        vertical-align: top;\n",
       "    }\n",
       "\n",
       "    .dataframe thead th {\n",
       "        text-align: right;\n",
       "    }\n",
       "</style>\n",
       "<table border=\"1\" class=\"dataframe\">\n",
       "  <thead>\n",
       "    <tr style=\"text-align: right;\">\n",
       "      <th></th>\n",
       "      <th>dummy</th>\n",
       "    </tr>\n",
       "  </thead>\n",
       "  <tbody>\n",
       "    <tr>\n",
       "      <th>fit_time</th>\n",
       "      <td>0.033 (+/- 0.007)</td>\n",
       "    </tr>\n",
       "    <tr>\n",
       "      <th>score_time</th>\n",
       "      <td>0.020 (+/- 0.002)</td>\n",
       "    </tr>\n",
       "    <tr>\n",
       "      <th>test_accuracy</th>\n",
       "      <td>0.520 (+/- 0.001)</td>\n",
       "    </tr>\n",
       "    <tr>\n",
       "      <th>train_accuracy</th>\n",
       "      <td>0.520 (+/- 0.000)</td>\n",
       "    </tr>\n",
       "    <tr>\n",
       "      <th>test_roc_auc</th>\n",
       "      <td>0.500 (+/- 0.000)</td>\n",
       "    </tr>\n",
       "    <tr>\n",
       "      <th>train_roc_auc</th>\n",
       "      <td>0.500 (+/- 0.000)</td>\n",
       "    </tr>\n",
       "  </tbody>\n",
       "</table>\n",
       "</div>"
      ],
      "text/plain": [
       "                            dummy\n",
       "fit_time        0.033 (+/- 0.007)\n",
       "score_time      0.020 (+/- 0.002)\n",
       "test_accuracy   0.520 (+/- 0.001)\n",
       "train_accuracy  0.520 (+/- 0.000)\n",
       "test_roc_auc    0.500 (+/- 0.000)\n",
       "train_roc_auc   0.500 (+/- 0.000)"
      ]
     },
     "execution_count": 12,
     "metadata": {},
     "output_type": "execute_result"
    }
   ],
   "source": [
    "pd.DataFrame(results)"
   ]
  },
  {
   "cell_type": "markdown",
   "metadata": {},
   "source": [
    "Accuracy of Dummy classifier depends on class ratio. As we have a balanced data set, the accuracy of Dummy classifier is around 50%."
   ]
  },
  {
   "cell_type": "markdown",
   "metadata": {},
   "source": [
    "## Linear models\n",
    "### Model training - LogisticRegression\n",
    "First, a linear model is used as a first real attempt. Hyperparameter tuning is also carried out for tuning to explore different values for the regularization hyperparameter. Cross-validation scores along with standard deviation and results summary is shown in below."
   ]
  },
  {
   "cell_type": "code",
   "execution_count": 13,
   "metadata": {},
   "outputs": [],
   "source": [
    "#pipe logistic regression\n",
    "pipe_logisticregression = make_pipeline(preprocessor,\n",
    "                           LogisticRegression(max_iter=2000, \n",
    "                                             random_state=123))"
   ]
  },
  {
   "cell_type": "code",
   "execution_count": 14,
   "metadata": {},
   "outputs": [
    {
     "data": {
      "text/html": [
       "<div>\n",
       "<style scoped>\n",
       "    .dataframe tbody tr th:only-of-type {\n",
       "        vertical-align: middle;\n",
       "    }\n",
       "\n",
       "    .dataframe tbody tr th {\n",
       "        vertical-align: top;\n",
       "    }\n",
       "\n",
       "    .dataframe thead th {\n",
       "        text-align: right;\n",
       "    }\n",
       "</style>\n",
       "<table border=\"1\" class=\"dataframe\">\n",
       "  <thead>\n",
       "    <tr style=\"text-align: right;\">\n",
       "      <th></th>\n",
       "      <th>dummy</th>\n",
       "      <th>LogisticReg</th>\n",
       "    </tr>\n",
       "  </thead>\n",
       "  <tbody>\n",
       "    <tr>\n",
       "      <th>fit_time</th>\n",
       "      <td>0.033 (+/- 0.007)</td>\n",
       "      <td>1.462 (+/- 0.022)</td>\n",
       "    </tr>\n",
       "    <tr>\n",
       "      <th>score_time</th>\n",
       "      <td>0.020 (+/- 0.002)</td>\n",
       "      <td>0.043 (+/- 0.006)</td>\n",
       "    </tr>\n",
       "    <tr>\n",
       "      <th>test_accuracy</th>\n",
       "      <td>0.520 (+/- 0.001)</td>\n",
       "      <td>0.873 (+/- 0.009)</td>\n",
       "    </tr>\n",
       "    <tr>\n",
       "      <th>train_accuracy</th>\n",
       "      <td>0.520 (+/- 0.000)</td>\n",
       "      <td>0.931 (+/- 0.003)</td>\n",
       "    </tr>\n",
       "    <tr>\n",
       "      <th>test_roc_auc</th>\n",
       "      <td>0.500 (+/- 0.000)</td>\n",
       "      <td>0.950 (+/- 0.006)</td>\n",
       "    </tr>\n",
       "    <tr>\n",
       "      <th>train_roc_auc</th>\n",
       "      <td>0.500 (+/- 0.000)</td>\n",
       "      <td>0.977 (+/- 0.001)</td>\n",
       "    </tr>\n",
       "  </tbody>\n",
       "</table>\n",
       "</div>"
      ],
      "text/plain": [
       "                            dummy        LogisticReg\n",
       "fit_time        0.033 (+/- 0.007)  1.462 (+/- 0.022)\n",
       "score_time      0.020 (+/- 0.002)  0.043 (+/- 0.006)\n",
       "test_accuracy   0.520 (+/- 0.001)  0.873 (+/- 0.009)\n",
       "train_accuracy  0.520 (+/- 0.000)  0.931 (+/- 0.003)\n",
       "test_roc_auc    0.500 (+/- 0.000)  0.950 (+/- 0.006)\n",
       "train_roc_auc   0.500 (+/- 0.000)  0.977 (+/- 0.001)"
      ]
     },
     "execution_count": 14,
     "metadata": {},
     "output_type": "execute_result"
    }
   ],
   "source": [
    "#save in the results logistic regression score\n",
    "results[\"LogisticReg\"] = mean_std_cross_val_scores(pipe_logisticregression, \n",
    "                                                   X_train, \n",
    "                                                   y_train, \n",
    "                                                   return_train_score=True,\n",
    "                                                   scoring = scoring_metric,\n",
    "                                                   n_jobs=-1)\n",
    "pd.DataFrame(results)"
   ]
  },
  {
   "cell_type": "markdown",
   "metadata": {},
   "source": [
    "### hyperparameter optimization"
   ]
  },
  {
   "cell_type": "markdown",
   "metadata": {},
   "source": [
    "We will carry out hyperparameter optimization: C controls the regularization, and class_weight hyperparameter for tackling class imbalance. "
   ]
  },
  {
   "cell_type": "code",
   "execution_count": 15,
   "metadata": {},
   "outputs": [],
   "source": [
    "#parameters for logistic regression\n",
    "param_dist_lg = {'logisticregression__C': np.linspace(2, 3, 6),\n",
    "                 'logisticregression__class_weight': ['balanced', None]}\n",
    "\n",
    "#randomized search to find the best parameters\n",
    "random_search_lg = RandomizedSearchCV(\n",
    "    pipe_logisticregression, \n",
    "    param_dist_lg,\n",
    "    n_jobs=-1,\n",
    "    return_train_score=True,\n",
    "    scoring = scoring_metric,\n",
    "    refit='accuracy',\n",
    "    random_state=123\n",
    ")"
   ]
  },
  {
   "cell_type": "code",
   "execution_count": null,
   "metadata": {},
   "outputs": [],
   "source": [
    "random_search_lg.fit(X_train, y_train)\n",
    "print(\"Best parameter values are:\", random_search_lg.best_params_)\n",
    "print(\"Best cv score is:\", random_search_lg.best_score_)"
   ]
  },
  {
   "cell_type": "code",
   "execution_count": null,
   "metadata": {},
   "outputs": [],
   "source": [
    "results['LogisticReg_opt'] = mean_std_cross_val_scores(random_search_lg, \n",
    "                                                       X_train, \n",
    "                                                       y_train, \n",
    "                                                       return_train_score=True,\n",
    "                                                       scoring = scoring_metric,\n",
    "                                                       n_jobs=-1) "
   ]
  },
  {
   "cell_type": "code",
   "execution_count": 16,
   "metadata": {},
   "outputs": [
    {
     "data": {
      "text/html": [
       "<div>\n",
       "<style scoped>\n",
       "    .dataframe tbody tr th:only-of-type {\n",
       "        vertical-align: middle;\n",
       "    }\n",
       "\n",
       "    .dataframe tbody tr th {\n",
       "        vertical-align: top;\n",
       "    }\n",
       "\n",
       "    .dataframe thead th {\n",
       "        text-align: right;\n",
       "    }\n",
       "</style>\n",
       "<table border=\"1\" class=\"dataframe\">\n",
       "  <thead>\n",
       "    <tr style=\"text-align: right;\">\n",
       "      <th></th>\n",
       "      <th>dummy</th>\n",
       "      <th>LogisticReg</th>\n",
       "      <th>LogisticReg_opt</th>\n",
       "    </tr>\n",
       "  </thead>\n",
       "  <tbody>\n",
       "    <tr>\n",
       "      <th>fit_time</th>\n",
       "      <td>0.030 (+/- 0.007)</td>\n",
       "      <td>0.369 (+/- 0.016)</td>\n",
       "      <td>14.622 (+/- 1.540)</td>\n",
       "    </tr>\n",
       "    <tr>\n",
       "      <th>score_time</th>\n",
       "      <td>0.022 (+/- 0.008)</td>\n",
       "      <td>0.027 (+/- 0.001)</td>\n",
       "      <td>0.027 (+/- 0.003)</td>\n",
       "    </tr>\n",
       "    <tr>\n",
       "      <th>test_accuracy</th>\n",
       "      <td>0.520 (+/- 0.001)</td>\n",
       "      <td>0.873 (+/- 0.009)</td>\n",
       "      <td>0.887 (+/- 0.010)</td>\n",
       "    </tr>\n",
       "    <tr>\n",
       "      <th>train_accuracy</th>\n",
       "      <td>0.520 (+/- 0.000)</td>\n",
       "      <td>0.931 (+/- 0.003)</td>\n",
       "      <td>0.959 (+/- 0.004)</td>\n",
       "    </tr>\n",
       "    <tr>\n",
       "      <th>test_roc_auc</th>\n",
       "      <td>0.500 (+/- 0.000)</td>\n",
       "      <td>0.950 (+/- 0.006)</td>\n",
       "      <td>0.961 (+/- 0.004)</td>\n",
       "    </tr>\n",
       "    <tr>\n",
       "      <th>train_roc_auc</th>\n",
       "      <td>0.500 (+/- 0.000)</td>\n",
       "      <td>0.977 (+/- 0.001)</td>\n",
       "      <td>0.988 (+/- 0.002)</td>\n",
       "    </tr>\n",
       "  </tbody>\n",
       "</table>\n",
       "</div>"
      ],
      "text/plain": [
       "                            dummy        LogisticReg     LogisticReg_opt\n",
       "fit_time        0.030 (+/- 0.007)  0.369 (+/- 0.016)  14.622 (+/- 1.540)\n",
       "score_time      0.022 (+/- 0.008)  0.027 (+/- 0.001)   0.027 (+/- 0.003)\n",
       "test_accuracy   0.520 (+/- 0.001)  0.873 (+/- 0.009)   0.887 (+/- 0.010)\n",
       "train_accuracy  0.520 (+/- 0.000)  0.931 (+/- 0.003)   0.959 (+/- 0.004)\n",
       "test_roc_auc    0.500 (+/- 0.000)  0.950 (+/- 0.006)   0.961 (+/- 0.004)\n",
       "train_roc_auc   0.500 (+/- 0.000)  0.977 (+/- 0.001)   0.988 (+/- 0.002)"
      ]
     },
     "execution_count": 16,
     "metadata": {},
     "output_type": "execute_result"
    }
   ],
   "source": [
    "pd.DataFrame(results)"
   ]
  },
  {
   "cell_type": "markdown",
   "metadata": {},
   "source": [
    "We can see that with optimized hyperparameters, Logistic Regression is doing a bit better. However, it is obvious that we are dealing with overfitting (big gap between test and training scores and the training accuracy is almost 100%). The std is very small ranging in +- 0.01. "
   ]
  },
  {
   "cell_type": "code",
   "execution_count": 17,
   "metadata": {},
   "outputs": [
    {
     "name": "stdout",
     "output_type": "stream",
     "text": [
      "              precision    recall  f1-score   support\n",
      "\n",
      "           0       0.95      0.96      0.96      1838\n",
      "           1       0.96      0.96      0.96      1993\n",
      "\n",
      "    accuracy                           0.96      3831\n",
      "   macro avg       0.96      0.96      0.96      3831\n",
      "weighted avg       0.96      0.96      0.96      3831\n",
      "\n"
     ]
    }
   ],
   "source": [
    "print(\n",
    "    classification_report(\n",
    "        y_train,\n",
    "        random_search_lg.predict_proba(X_train)[:, 1] > 0.5,\n",
    "        target_names=[\"0\", \"1\"],\n",
    "    )\n",
    ")"
   ]
  },
  {
   "cell_type": "code",
   "execution_count": 18,
   "metadata": {},
   "outputs": [
    {
     "name": "stdout",
     "output_type": "stream",
     "text": [
      "Area under the curve (AUC): 0.989\n"
     ]
    },
    {
     "data": {
      "image/png": "[encoded data removed]",
      "text/plain": [
       "<Figure size 432x288 with 1 Axes>"
      ]
     },
     "metadata": {
      "needs_background": "light"
     },
     "output_type": "display_data"
    }
   ],
   "source": [
    "fpr, tpr, _ = roc_curve(\n",
    "    y_train,\n",
    "    random_search_lg.predict_proba(X_train)[:, 1],\n",
    "    pos_label=random_search_lg.classes_[1],\n",
    ")\n",
    "print(\n",
    "    \"Area under the curve (AUC): {:.3f}\".format(\n",
    "        roc_auc_score(y_train, random_search_lg.predict_proba(X_train)[:, 1])\n",
    "    )\n",
    ")\n",
    "roc_display = RocCurveDisplay(fpr=fpr, tpr=tpr).plot()"
   ]
  },
  {
   "cell_type": "markdown",
   "metadata": {},
   "source": [
    "We have high score in AUC and classification report, which means our prediction model performance is good."
   ]
  },
  {
   "cell_type": "markdown",
   "metadata": {},
   "source": [
    "### Model interpretation on Training set"
   ]
  },
  {
   "cell_type": "markdown",
   "metadata": {},
   "source": [
    "Most important features are listed in below."
   ]
  },
  {
   "cell_type": "code",
   "execution_count": 19,
   "metadata": {},
   "outputs": [
    {
     "data": {
      "text/html": [
       "<div>\n",
       "<style scoped>\n",
       "    .dataframe tbody tr th:only-of-type {\n",
       "        vertical-align: middle;\n",
       "    }\n",
       "\n",
       "    .dataframe tbody tr th {\n",
       "        vertical-align: top;\n",
       "    }\n",
       "\n",
       "    .dataframe thead th {\n",
       "        text-align: right;\n",
       "    }\n",
       "</style>\n",
       "<table border=\"1\" class=\"dataframe\">\n",
       "  <thead>\n",
       "    <tr style=\"text-align: right;\">\n",
       "      <th></th>\n",
       "      <th>Importance</th>\n",
       "      <th>rank</th>\n",
       "      <th>side</th>\n",
       "    </tr>\n",
       "  </thead>\n",
       "  <tbody>\n",
       "    <tr>\n",
       "      <th>artist_FIDLAR</th>\n",
       "      <td>4.557683</td>\n",
       "      <td>1.0</td>\n",
       "      <td>pos</td>\n",
       "    </tr>\n",
       "    <tr>\n",
       "      <th>artist_Kanye West</th>\n",
       "      <td>4.034912</td>\n",
       "      <td>2.0</td>\n",
       "      <td>pos</td>\n",
       "    </tr>\n",
       "    <tr>\n",
       "      <th>artist_Crystal Castles</th>\n",
       "      <td>4.017172</td>\n",
       "      <td>3.0</td>\n",
       "      <td>pos</td>\n",
       "    </tr>\n",
       "    <tr>\n",
       "      <th>artist_Beach House</th>\n",
       "      <td>4.015040</td>\n",
       "      <td>4.0</td>\n",
       "      <td>pos</td>\n",
       "    </tr>\n",
       "    <tr>\n",
       "      <th>artist_Disclosure</th>\n",
       "      <td>3.799238</td>\n",
       "      <td>5.0</td>\n",
       "      <td>pos</td>\n",
       "    </tr>\n",
       "    <tr>\n",
       "      <th>...</th>\n",
       "      <td>...</td>\n",
       "      <td>...</td>\n",
       "      <td>...</td>\n",
       "    </tr>\n",
       "    <tr>\n",
       "      <th>artist_*NSYNC</th>\n",
       "      <td>-3.596354</td>\n",
       "      <td>195.0</td>\n",
       "      <td>neg</td>\n",
       "    </tr>\n",
       "    <tr>\n",
       "      <th>artist_WALK THE MOON</th>\n",
       "      <td>-3.766083</td>\n",
       "      <td>196.0</td>\n",
       "      <td>neg</td>\n",
       "    </tr>\n",
       "    <tr>\n",
       "      <th>artist_Skrillex</th>\n",
       "      <td>-3.874031</td>\n",
       "      <td>197.0</td>\n",
       "      <td>neg</td>\n",
       "    </tr>\n",
       "    <tr>\n",
       "      <th>artist_Michael Jackson</th>\n",
       "      <td>-3.897069</td>\n",
       "      <td>198.0</td>\n",
       "      <td>neg</td>\n",
       "    </tr>\n",
       "    <tr>\n",
       "      <th>artist_Backstreet Boys</th>\n",
       "      <td>-3.979357</td>\n",
       "      <td>199.0</td>\n",
       "      <td>neg</td>\n",
       "    </tr>\n",
       "  </tbody>\n",
       "</table>\n",
       "<p>199 rows × 3 columns</p>\n",
       "</div>"
      ],
      "text/plain": [
       "                        Importance   rank side\n",
       "artist_FIDLAR             4.557683    1.0  pos\n",
       "artist_Kanye West         4.034912    2.0  pos\n",
       "artist_Crystal Castles    4.017172    3.0  pos\n",
       "artist_Beach House        4.015040    4.0  pos\n",
       "artist_Disclosure         3.799238    5.0  pos\n",
       "...                            ...    ...  ...\n",
       "artist_*NSYNC            -3.596354  195.0  neg\n",
       "artist_WALK THE MOON     -3.766083  196.0  neg\n",
       "artist_Skrillex          -3.874031  197.0  neg\n",
       "artist_Michael Jackson   -3.897069  198.0  neg\n",
       "artist_Backstreet Boys   -3.979357  199.0  neg\n",
       "\n",
       "[199 rows x 3 columns]"
      ]
     },
     "execution_count": 19,
     "metadata": {},
     "output_type": "execute_result"
    }
   ],
   "source": [
    "col_name_pp_all = [\n",
    "    *numeric_feats,\n",
    "    *random_search_lg.best_estimator_.named_steps[\"columntransformer\"]\n",
    "    .named_transformers_[\"onehotencoder\"]\n",
    "    .get_feature_names_out(),\n",
    "]\n",
    "\n",
    "data = {\n",
    "    \"Importance\": random_search_lg.best_estimator_.named_steps[\n",
    "        \"logisticregression\"\n",
    "    ].coef_[0],\n",
    "}\n",
    "feat_importance = pd.DataFrame(data=data, index=col_name_pp_all).sort_values(\n",
    "    by=\"Importance\", ascending=False\n",
    ")\n",
    "\n",
    "feat_importance_200 = pd.concat([feat_importance[0:99], feat_importance[-100:]])\n",
    "feat_importance_200[\"rank\"] = feat_importance_200[\"Importance\"].rank(ascending=False)\n",
    "feat_importance_200[\"side\"] = np.where(\n",
    "    feat_importance_200[\"Importance\"] > 0, \"pos\", \"neg\"\n",
    ")\n",
    "feat_importance_200"
   ]
  },
  {
   "cell_type": "markdown",
   "metadata": {},
   "source": [
    "Most of the important features are determined by `artists`. Excluding all the features from artist, the other important features are `key`, `danceability` and `duration`. However, the ranking of importance are pretty low, starting from #423."
   ]
  },
  {
   "cell_type": "code",
   "execution_count": 20,
   "metadata": {},
   "outputs": [
    {
     "data": {
      "text/html": [
       "<div>\n",
       "<style scoped>\n",
       "    .dataframe tbody tr th:only-of-type {\n",
       "        vertical-align: middle;\n",
       "    }\n",
       "\n",
       "    .dataframe tbody tr th {\n",
       "        vertical-align: top;\n",
       "    }\n",
       "\n",
       "    .dataframe thead th {\n",
       "        text-align: right;\n",
       "    }\n",
       "</style>\n",
       "<table border=\"1\" class=\"dataframe\">\n",
       "  <thead>\n",
       "    <tr style=\"text-align: right;\">\n",
       "      <th></th>\n",
       "      <th>index</th>\n",
       "      <th>Importance</th>\n",
       "    </tr>\n",
       "  </thead>\n",
       "  <tbody>\n",
       "    <tr>\n",
       "      <th>353</th>\n",
       "      <td>danceability</td>\n",
       "      <td>0.552342</td>\n",
       "    </tr>\n",
       "    <tr>\n",
       "      <th>389</th>\n",
       "      <td>key_9</td>\n",
       "      <td>0.436209</td>\n",
       "    </tr>\n",
       "    <tr>\n",
       "      <th>397</th>\n",
       "      <td>key_4</td>\n",
       "      <td>0.411787</td>\n",
       "    </tr>\n",
       "    <tr>\n",
       "      <th>422</th>\n",
       "      <td>key_2</td>\n",
       "      <td>0.258068</td>\n",
       "    </tr>\n",
       "    <tr>\n",
       "      <th>424</th>\n",
       "      <td>key_10</td>\n",
       "      <td>0.251043</td>\n",
       "    </tr>\n",
       "    <tr>\n",
       "      <th>431</th>\n",
       "      <td>key_6</td>\n",
       "      <td>0.220164</td>\n",
       "    </tr>\n",
       "    <tr>\n",
       "      <th>434</th>\n",
       "      <td>duration_ms</td>\n",
       "      <td>0.197986</td>\n",
       "    </tr>\n",
       "    <tr>\n",
       "      <th>441</th>\n",
       "      <td>liveness</td>\n",
       "      <td>0.136481</td>\n",
       "    </tr>\n",
       "    <tr>\n",
       "      <th>443</th>\n",
       "      <td>valence</td>\n",
       "      <td>0.097475</td>\n",
       "    </tr>\n",
       "    <tr>\n",
       "      <th>446</th>\n",
       "      <td>energy</td>\n",
       "      <td>0.068914</td>\n",
       "    </tr>\n",
       "    <tr>\n",
       "      <th>447</th>\n",
       "      <td>key_11</td>\n",
       "      <td>0.065221</td>\n",
       "    </tr>\n",
       "    <tr>\n",
       "      <th>448</th>\n",
       "      <td>key_5</td>\n",
       "      <td>0.038536</td>\n",
       "    </tr>\n",
       "    <tr>\n",
       "      <th>450</th>\n",
       "      <td>key_8</td>\n",
       "      <td>-0.025301</td>\n",
       "    </tr>\n",
       "    <tr>\n",
       "      <th>452</th>\n",
       "      <td>mode</td>\n",
       "      <td>-0.092021</td>\n",
       "    </tr>\n",
       "    <tr>\n",
       "      <th>454</th>\n",
       "      <td>key_7</td>\n",
       "      <td>-0.099948</td>\n",
       "    </tr>\n",
       "    <tr>\n",
       "      <th>460</th>\n",
       "      <td>loudness</td>\n",
       "      <td>-0.206236</td>\n",
       "    </tr>\n",
       "    <tr>\n",
       "      <th>463</th>\n",
       "      <td>key_1</td>\n",
       "      <td>-0.225751</td>\n",
       "    </tr>\n",
       "    <tr>\n",
       "      <th>555</th>\n",
       "      <td>key_0</td>\n",
       "      <td>-0.554652</td>\n",
       "    </tr>\n",
       "    <tr>\n",
       "      <th>706</th>\n",
       "      <td>key_3</td>\n",
       "      <td>-0.775756</td>\n",
       "    </tr>\n",
       "  </tbody>\n",
       "</table>\n",
       "</div>"
      ],
      "text/plain": [
       "            index  Importance\n",
       "353  danceability    0.552342\n",
       "389         key_9    0.436209\n",
       "397         key_4    0.411787\n",
       "422         key_2    0.258068\n",
       "424        key_10    0.251043\n",
       "431         key_6    0.220164\n",
       "434   duration_ms    0.197986\n",
       "441      liveness    0.136481\n",
       "443       valence    0.097475\n",
       "446        energy    0.068914\n",
       "447        key_11    0.065221\n",
       "448         key_5    0.038536\n",
       "450         key_8   -0.025301\n",
       "452          mode   -0.092021\n",
       "454         key_7   -0.099948\n",
       "460      loudness   -0.206236\n",
       "463         key_1   -0.225751\n",
       "555         key_0   -0.554652\n",
       "706         key_3   -0.775756"
      ]
     },
     "execution_count": 20,
     "metadata": {},
     "output_type": "execute_result"
    }
   ],
   "source": [
    "feat_importance_reset = feat_importance.reset_index()\n",
    "feat_importance_reset[feat_importance_reset['index'].str.match('^(?![artist])')]"
   ]
  },
  {
   "cell_type": "code",
   "execution_count": 21,
   "metadata": {},
   "outputs": [
    {
     "data": {
      "text/html": [
       "\n",
       "<div id=\"altair-viz-41791aaa30564132bdd630f3e1d7a89b\"></div>\n",
       "<script type=\"text/javascript\">\n",
       "  var VEGA_DEBUG = (typeof VEGA_DEBUG == \"undefined\") ? {} : VEGA_DEBUG;\n",
       "  (function(spec, embedOpt){\n",
       "    let outputDiv = document.currentScript.previousElementSibling;\n",
       "    if (outputDiv.id !== \"altair-viz-41791aaa30564132bdd630f3e1d7a89b\") {\n",
       "      outputDiv = document.getElementById(\"altair-viz-41791aaa30564132bdd630f3e1d7a89b\");\n",
       "    }\n",
       "    const paths = {\n",
       "      \"vega\": \"https://cdn.jsdelivr.net/npm//vega@5?noext\",\n",
       "      \"vega-lib\": \"https://cdn.jsdelivr.net/npm//vega-lib?noext\",\n",
       "      \"vega-lite\": \"https://cdn.jsdelivr.net/npm//vega-lite@4.17.0?noext\",\n",
       "      \"vega-embed\": \"https://cdn.jsdelivr.net/npm//vega-embed@6?noext\",\n",
       "    };\n",
       "\n",
       "    function maybeLoadScript(lib, version) {\n",
       "      var key = `${lib.replace(\"-\", \"\")}_version`;\n",
       "      return (VEGA_DEBUG[key] == version) ?\n",
       "        Promise.resolve(paths[lib]) :\n",
       "        new Promise(function(resolve, reject) {\n",
       "          var s = document.createElement('script');\n",
       "          document.getElementsByTagName(\"head\")[0].appendChild(s);\n",
       "          s.async = true;\n",
       "          s.onload = () => {\n",
       "            VEGA_DEBUG[key] = version;\n",
       "            return resolve(paths[lib]);\n",
       "          };\n",
       "          s.onerror = () => reject(`Error loading script: ${paths[lib]}`);\n",
       "          s.src = paths[lib];\n",
       "        });\n",
       "    }\n",
       "\n",
       "    function showError(err) {\n",
       "      outputDiv.innerHTML = `<div class=\"error\" style=\"color:red;\">${err}</div>`;\n",
       "      throw err;\n",
       "    }\n",
       "\n",
       "    function displayChart(vegaEmbed) {\n",
       "      vegaEmbed(outputDiv, spec, embedOpt)\n",
       "        .catch(err => showError(`Javascript Error: ${err.message}<br>This usually means there's a typo in your chart specification. See the javascript console for the full traceback.`));\n",
       "    }\n",
       "\n",
       "    if(typeof define === \"function\" && define.amd) {\n",
       "      requirejs.config({paths});\n",
       "      require([\"vega-embed\"], displayChart, err => showError(`Error loading script: ${err.message}`));\n",
       "    } else {\n",
       "      maybeLoadScript(\"vega\", \"5\")\n",
       "        .then(() => maybeLoadScript(\"vega-lite\", \"4.17.0\"))\n",
       "        .then(() => maybeLoadScript(\"vega-embed\", \"6\"))\n",
       "        .catch(showError)\n",
       "        .then(() => displayChart(vegaEmbed));\n",
       "    }\n",
       "  })({\"config\": {\"view\": {\"continuousWidth\": 400, \"continuousHeight\": 300}}, \"vconcat\": [{\"mark\": \"bar\", \"encoding\": {\"color\": {\"field\": \"side\", \"type\": \"nominal\"}, \"x\": {\"axis\": {\"title\": \"\"}, \"field\": \"index\", \"scale\": {\"domain\": {\"selection\": \"selector001\"}}, \"sort\": {\"field\": \"rank\", \"order\": \"ascending\"}, \"type\": \"nominal\"}, \"y\": {\"field\": \"Importance\", \"type\": \"quantitative\"}}, \"height\": 200, \"title\": \"Top 200 important features\", \"width\": 800}, {\"mark\": \"bar\", \"encoding\": {\"color\": {\"field\": \"side\", \"type\": \"nominal\"}, \"x\": {\"axis\": {\"labels\": false, \"title\": \"Features\"}, \"field\": \"index\", \"sort\": {\"field\": \"rank\", \"order\": \"ascending\"}, \"type\": \"nominal\"}, \"y\": {\"field\": \"Importance\", \"type\": \"quantitative\"}}, \"height\": 60, \"selection\": {\"selector001\": {\"type\": \"interval\", \"encodings\": [\"x\"]}}, \"title\": \"Drag the plot in below to zoom\", \"width\": 800}], \"data\": {\"name\": \"data-adf903ce752dd2bfdf786163fac9bda0\"}, \"$schema\": \"https://vega.github.io/schema/vega-lite/v4.17.0.json\", \"datasets\": {\"data-adf903ce752dd2bfdf786163fac9bda0\": [{\"index\": \"artist_FIDLAR\", \"Importance\": 4.557682958329887, \"rank\": 1.0, \"side\": \"pos\"}, {\"index\": \"artist_Kanye West\", \"Importance\": 4.034912398562022, \"rank\": 2.0, \"side\": \"pos\"}, {\"index\": \"artist_Crystal Castles\", \"Importance\": 4.017171661763169, \"rank\": 3.0, \"side\": \"pos\"}, {\"index\": \"artist_Beach House\", \"Importance\": 4.015040410257645, \"rank\": 4.0, \"side\": \"pos\"}, {\"index\": \"artist_Disclosure\", \"Importance\": 3.7992376083135477, \"rank\": 5.0, \"side\": \"pos\"}, {\"index\": \"artist_M83\", \"Importance\": 3.763638434007246, \"rank\": 6.0, \"side\": \"pos\"}, {\"index\": \"artist_CHVRCHES\", \"Importance\": 3.7221428405036474, \"rank\": 7.0, \"side\": \"pos\"}, {\"index\": \"artist_The Sonics\", \"Importance\": 3.236269782562456, \"rank\": 8.0, \"side\": \"pos\"}, {\"index\": \"artist_Perfume Genius\", \"Importance\": 3.0836472283036263, \"rank\": 9.0, \"side\": \"pos\"}, {\"index\": \"artist_Young Thug\", \"Importance\": 3.0574632002607403, \"rank\": 10.0, \"side\": \"pos\"}, {\"index\": \"artist_Autre Ne Veut\", \"Importance\": 3.0388835131219194, \"rank\": 11.0, \"side\": \"pos\"}, {\"index\": \"artist_ScHoolboy Q\", \"Importance\": 2.9633358089812356, \"rank\": 12.0, \"side\": \"pos\"}, {\"index\": \"artist_Leon Bridges\", \"Importance\": 2.9261095040402436, \"rank\": 13.0, \"side\": \"pos\"}, {\"index\": \"artist_Hot Chip\", \"Importance\": 2.9083831691875788, \"rank\": 14.0, \"side\": \"pos\"}, {\"index\": \"artist_Tame Impala\", \"Importance\": 2.894412011102099, \"rank\": 15.0, \"side\": \"pos\"}, {\"index\": \"artist_Teams vs. Star Slinger\", \"Importance\": 2.888217462007609, \"rank\": 16.0, \"side\": \"pos\"}, {\"index\": \"artist_Radiohead\", \"Importance\": 2.8607545390625457, \"rank\": 17.0, \"side\": \"pos\"}, {\"index\": \"artist_Purity Ring\", \"Importance\": 2.8605947555227873, \"rank\": 18.0, \"side\": \"pos\"}, {\"index\": \"artist_Ty Segall\", \"Importance\": 2.8404535899708807, \"rank\": 19.0, \"side\": \"pos\"}, {\"index\": \"artist_Washed Out\", \"Importance\": 2.8361590949700135, \"rank\": 20.0, \"side\": \"pos\"}, {\"index\": \"artist_Grimes\", \"Importance\": 2.803208861312942, \"rank\": 21.0, \"side\": \"pos\"}, {\"index\": \"artist_Duke Dumont\", \"Importance\": 2.7934062763680063, \"rank\": 22.0, \"side\": \"pos\"}, {\"index\": \"artist_Gary Clark Jr.\", \"Importance\": 2.7223757993061235, \"rank\": 23.0, \"side\": \"pos\"}, {\"index\": \"artist_The Ronettes\", \"Importance\": 2.6631707600077523, \"rank\": 24.0, \"side\": \"pos\"}, {\"index\": \"artist_Stormzy\", \"Importance\": 2.605120818269488, \"rank\": 25.0, \"side\": \"pos\"}, {\"index\": \"artist_Danny Brown\", \"Importance\": 2.5795300908535537, \"rank\": 26.0, \"side\": \"pos\"}, {\"index\": \"artist_Iamsu!\", \"Importance\": 2.5387938122117615, \"rank\": 27.0, \"side\": \"pos\"}, {\"index\": \"artist_New Order\", \"Importance\": 2.536103139793367, \"rank\": 28.0, \"side\": \"pos\"}, {\"index\": \"artist_Chief Keef\", \"Importance\": 2.4997736991251616, \"rank\": 29.0, \"side\": \"pos\"}, {\"index\": \"artist_Phantogram\", \"Importance\": 2.4329640140185504, \"rank\": 30.0, \"side\": \"pos\"}, {\"index\": \"artist_The Partysquad\", \"Importance\": 2.4170206321111185, \"rank\": 31.0, \"side\": \"pos\"}, {\"index\": \"artist_Angel Olsen\", \"Importance\": 2.4054290204499416, \"rank\": 32.0, \"side\": \"pos\"}, {\"index\": \"artist_Parquet Courts\", \"Importance\": 2.4014765780579133, \"rank\": 33.0, \"side\": \"pos\"}, {\"index\": \"artist_Sleigh Bells\", \"Importance\": 2.3761939051072942, \"rank\": 34.0, \"side\": \"pos\"}, {\"index\": \"artist_Neon Indian\", \"Importance\": 2.3691685040970527, \"rank\": 35.0, \"side\": \"pos\"}, {\"index\": \"artist_James Brown\", \"Importance\": 2.3565361407887258, \"rank\": 36.0, \"side\": \"pos\"}, {\"index\": \"artist_Best Coast\", \"Importance\": 2.322148798449988, \"rank\": 37.0, \"side\": \"pos\"}, {\"index\": \"artist_TR/ST\", \"Importance\": 2.3144593213184215, \"rank\": 38.0, \"side\": \"pos\"}, {\"index\": \"artist_Action Bronson\", \"Importance\": 2.3023911593099977, \"rank\": 39.0, \"side\": \"pos\"}, {\"index\": \"artist_Lykke Li\", \"Importance\": 2.2631054948941864, \"rank\": 40.0, \"side\": \"pos\"}, {\"index\": \"artist_A$AP Ferg\", \"Importance\": 2.2607321731657275, \"rank\": 41.0, \"side\": \"pos\"}, {\"index\": \"artist_Jamie xx\", \"Importance\": 2.2293982562586967, \"rank\": 42.0, \"side\": \"pos\"}, {\"index\": \"artist_Justice\", \"Importance\": 2.209094674314559, \"rank\": 43.0, \"side\": \"pos\"}, {\"index\": \"artist_Barrington Levy\", \"Importance\": 2.186738645660485, \"rank\": 44.0, \"side\": \"pos\"}, {\"index\": \"artist_Sky Ferreira\", \"Importance\": 2.116045761791774, \"rank\": 45.0, \"side\": \"pos\"}, {\"index\": \"artist_TV On The Radio\", \"Importance\": 2.1083039556833527, \"rank\": 46.0, \"side\": \"pos\"}, {\"index\": \"artist_Fetty Wap\", \"Importance\": 2.092869478572716, \"rank\": 47.0, \"side\": \"pos\"}, {\"index\": \"artist_The Chiffons\", \"Importance\": 2.0783900002544504, \"rank\": 48.0, \"side\": \"pos\"}, {\"index\": \"artist_Arcade Fire\", \"Importance\": 2.034872541068936, \"rank\": 49.0, \"side\": \"pos\"}, {\"index\": \"artist_Zapp\", \"Importance\": 2.010516115566095, \"rank\": 50.0, \"side\": \"pos\"}, {\"index\": \"artist_Matthew Dear\", \"Importance\": 2.003856423593521, \"rank\": 51.0, \"side\": \"pos\"}, {\"index\": \"artist_2 Chainz\", \"Importance\": 1.9769383171752783, \"rank\": 52.0, \"side\": \"pos\"}, {\"index\": \"artist_Wiley\", \"Importance\": 1.9616343611166096, \"rank\": 53.0, \"side\": \"pos\"}, {\"index\": \"artist_Jefferson Airplane\", \"Importance\": 1.9545763463378882, \"rank\": 54.0, \"side\": \"pos\"}, {\"index\": \"artist_ODESZA\", \"Importance\": 1.8897624756742601, \"rank\": 55.0, \"side\": \"pos\"}, {\"index\": \"artist_Hippie Sabotage\", \"Importance\": 1.8808653591199458, \"rank\": 56.0, \"side\": \"pos\"}, {\"index\": \"artist_Booba\", \"Importance\": 1.8583559169320965, \"rank\": 57.0, \"side\": \"pos\"}, {\"index\": \"artist_How To Dress Well\", \"Importance\": 1.8426287944338795, \"rank\": 58.0, \"side\": \"pos\"}, {\"index\": \"artist_Blood Orange\", \"Importance\": 1.830392800376495, \"rank\": 59.0, \"side\": \"pos\"}, {\"index\": \"artist_Three 6 Mafia\", \"Importance\": 1.8256057282491749, \"rank\": 60.0, \"side\": \"pos\"}, {\"index\": \"artist_Travis Scott\", \"Importance\": 1.8197959053761743, \"rank\": 61.0, \"side\": \"pos\"}, {\"index\": \"artist_Juicy J\", \"Importance\": 1.81908010294679, \"rank\": 62.0, \"side\": \"pos\"}, {\"index\": \"artist_Ebo Taylor\", \"Importance\": 1.8167112202352351, \"rank\": 63.0, \"side\": \"pos\"}, {\"index\": \"artist_GENER8ION\", \"Importance\": 1.8156780567771842, \"rank\": 64.0, \"side\": \"pos\"}, {\"index\": \"artist_Ezale\", \"Importance\": 1.8116488303929448, \"rank\": 65.0, \"side\": \"pos\"}, {\"index\": \"artist_Shabazz Palaces\", \"Importance\": 1.80179906456638, \"rank\": 66.0, \"side\": \"pos\"}, {\"index\": \"artist_Solange\", \"Importance\": 1.7759942006131528, \"rank\": 67.0, \"side\": \"pos\"}, {\"index\": \"artist_Passion Pit\", \"Importance\": 1.7757541253045888, \"rank\": 68.0, \"side\": \"pos\"}, {\"index\": \"artist_Twin Shadow\", \"Importance\": 1.7734678037656337, \"rank\": 69.0, \"side\": \"pos\"}, {\"index\": \"artist_A$AP Rocky\", \"Importance\": 1.759986522503961, \"rank\": 70.0, \"side\": \"pos\"}, {\"index\": \"artist_Ben Pearce\", \"Importance\": 1.75648944738362, \"rank\": 71.0, \"side\": \"pos\"}, {\"index\": \"artist_Cults\", \"Importance\": 1.7394256749592978, \"rank\": 72.0, \"side\": \"pos\"}, {\"index\": \"artist_SBTRKT\", \"Importance\": 1.7364613316776738, \"rank\": 73.0, \"side\": \"pos\"}, {\"index\": \"artist_Marvin Gaye\", \"Importance\": 1.703836245878112, \"rank\": 74.0, \"side\": \"pos\"}, {\"index\": \"artist_A-Trak\", \"Importance\": 1.6978217615520774, \"rank\": 75.0, \"side\": \"pos\"}, {\"index\": \"artist_Gayngs\", \"Importance\": 1.688439785891468, \"rank\": 76.0, \"side\": \"pos\"}, {\"index\": \"artist_Martin Solveig\", \"Importance\": 1.678777291539134, \"rank\": 77.0, \"side\": \"pos\"}, {\"index\": \"artist_Thundercat\", \"Importance\": 1.6775179472164068, \"rank\": 78.0, \"side\": \"pos\"}, {\"index\": \"artist_M.I.A.\", \"Importance\": 1.6559994342690316, \"rank\": 79.0, \"side\": \"pos\"}, {\"index\": \"artist_Future Islands\", \"Importance\": 1.6436340150054674, \"rank\": 80.0, \"side\": \"pos\"}, {\"index\": \"artist_The Districts\", \"Importance\": 1.6090753493825911, \"rank\": 81.0, \"side\": \"pos\"}, {\"index\": \"artist_T. P. Orchestre Poly-Rythmo\", \"Importance\": 1.597684966266536, \"rank\": 82.0, \"side\": \"pos\"}, {\"index\": \"artist_Small Black\", \"Importance\": 1.5975268081449316, \"rank\": 83.0, \"side\": \"pos\"}, {\"index\": \"artist_Miguel\", \"Importance\": 1.5938229676786668, \"rank\": 84.0, \"side\": \"pos\"}, {\"index\": \"artist_Baauer\", \"Importance\": 1.5867167047340505, \"rank\": 85.0, \"side\": \"pos\"}, {\"index\": \"artist_William Onyeabor\", \"Importance\": 1.5852947339669865, \"rank\": 86.0, \"side\": \"pos\"}, {\"index\": \"artist_Vampire Weekend\", \"Importance\": 1.573130266859144, \"rank\": 87.0, \"side\": \"pos\"}, {\"index\": \"artist_Cathedrals\", \"Importance\": 1.5591487425426045, \"rank\": 88.0, \"side\": \"pos\"}, {\"index\": \"artist_Childish Gambino\", \"Importance\": 1.54614712759249, \"rank\": 89.0, \"side\": \"pos\"}, {\"index\": \"artist_Bugzy Malone\", \"Importance\": 1.5378337446971446, \"rank\": 90.0, \"side\": \"pos\"}, {\"index\": \"artist_Memoryhouse\", \"Importance\": 1.5358016825761136, \"rank\": 91.0, \"side\": \"pos\"}, {\"index\": \"artist_Killer Mike\", \"Importance\": 1.5341418987851108, \"rank\": 92.0, \"side\": \"pos\"}, {\"index\": \"artist_AlunaGeorge\", \"Importance\": 1.5313892662250232, \"rank\": 93.0, \"side\": \"pos\"}, {\"index\": \"artist_The Seshen\", \"Importance\": 1.5210593690944962, \"rank\": 94.0, \"side\": \"pos\"}, {\"index\": \"artist_Jungle\", \"Importance\": 1.5199561258248648, \"rank\": 95.0, \"side\": \"pos\"}, {\"index\": \"artist_Hayden James\", \"Importance\": 1.5151205974819593, \"rank\": 96.0, \"side\": \"pos\"}, {\"index\": \"artist_Toro y Moi\", \"Importance\": 1.5132775104170604, \"rank\": 97.0, \"side\": \"pos\"}, {\"index\": \"artist_The Stooges\", \"Importance\": 1.5125909802867985, \"rank\": 98.0, \"side\": \"pos\"}, {\"index\": \"artist_Kate Boy\", \"Importance\": 1.509522575302354, \"rank\": 99.0, \"side\": \"pos\"}, {\"index\": \"artist_Mark Knight\", \"Importance\": -1.2351286493203595, \"rank\": 100.0, \"side\": \"neg\"}, {\"index\": \"artist_India.Arie\", \"Importance\": -1.2360713454275987, \"rank\": 101.0, \"side\": \"neg\"}, {\"index\": \"artist_Dimitri Vangelis & Wyman\", \"Importance\": -1.2423351702613872, \"rank\": 102.0, \"side\": \"neg\"}, {\"index\": \"artist_Piso 21\", \"Importance\": -1.2503339706655756, \"rank\": 103.0, \"side\": \"neg\"}, {\"index\": \"artist_Jess Glynne\", \"Importance\": -1.265250921310788, \"rank\": 104.0, \"side\": \"neg\"}, {\"index\": \"artist_Vato Gonzalez\", \"Importance\": -1.2687637314650333, \"rank\": 105.0, \"side\": \"neg\"}, {\"index\": \"artist_Porter Robinson\", \"Importance\": -1.2793710763816009, \"rank\": 106.0, \"side\": \"neg\"}, {\"index\": \"artist_Bassjackers\", \"Importance\": -1.289370754029276, \"rank\": 107.0, \"side\": \"neg\"}, {\"index\": \"artist_2 LIVE CREW\", \"Importance\": -1.2949224922743108, \"rank\": 108.0, \"side\": \"neg\"}, {\"index\": \"artist_Gwen Stefani\", \"Importance\": -1.297153213126983, \"rank\": 109.0, \"side\": \"neg\"}, {\"index\": \"artist_Tevin Campbell\", \"Importance\": -1.3000377945533768, \"rank\": 110.0, \"side\": \"neg\"}, {\"index\": \"artist_Mario\", \"Importance\": -1.3042004681117185, \"rank\": 111.0, \"side\": \"neg\"}, {\"index\": \"artist_MercyMe\", \"Importance\": -1.3090389608059114, \"rank\": 112.0, \"side\": \"neg\"}, {\"index\": \"artist_Franz Schubert\", \"Importance\": -1.3184384612750046, \"rank\": 113.0, \"side\": \"neg\"}, {\"index\": \"artist_OneRepublic\", \"Importance\": -1.3240574368570892, \"rank\": 114.0, \"side\": \"neg\"}, {\"index\": \"artist_Alok\", \"Importance\": -1.3299960015383787, \"rank\": 115.0, \"side\": \"neg\"}, {\"index\": \"artist_Standing Egg\", \"Importance\": -1.3388755538104349, \"rank\": 116.0, \"side\": \"neg\"}, {\"index\": \"artist_Ariana Grande\", \"Importance\": -1.3509889268030697, \"rank\": 117.0, \"side\": \"neg\"}, {\"index\": \"artist_Lady Gaga\", \"Importance\": -1.3771070530976828, \"rank\": 118.0, \"side\": \"neg\"}, {\"index\": \"artist_Ben Remember\", \"Importance\": -1.3824903592775244, \"rank\": 119.0, \"side\": \"neg\"}, {\"index\": \"artist_San Holo\", \"Importance\": -1.3891618816460383, \"rank\": 120.0, \"side\": \"neg\"}, {\"index\": \"artist_Chris Brown\", \"Importance\": -1.4023560621239612, \"rank\": 121.0, \"side\": \"neg\"}, {\"index\": \"artist_Ed Sheeran\", \"Importance\": -1.4074951762638823, \"rank\": 122.0, \"side\": \"neg\"}, {\"index\": \"artist_Vanilla Ice\", \"Importance\": -1.4188642780906822, \"rank\": 123.0, \"side\": \"neg\"}, {\"index\": \"artist_Janet Jackson\", \"Importance\": -1.4314474013118559, \"rank\": 124.0, \"side\": \"neg\"}, {\"index\": \"artist_Monica\", \"Importance\": -1.4567615792965065, \"rank\": 125.0, \"side\": \"neg\"}, {\"index\": \"artist_Carlos Vives\", \"Importance\": -1.463868631734744, \"rank\": 126.0, \"side\": \"neg\"}, {\"index\": \"artist_Alan Walker\", \"Importance\": -1.4723275598671908, \"rank\": 127.0, \"side\": \"neg\"}, {\"index\": \"artist_Reik\", \"Importance\": -1.4736016008831168, \"rank\": 128.0, \"side\": \"neg\"}, {\"index\": \"artist_Robert Schumann\", \"Importance\": -1.4784474461807184, \"rank\": 129.0, \"side\": \"neg\"}, {\"index\": \"artist_Eminem\", \"Importance\": -1.483546518147042, \"rank\": 130.0, \"side\": \"neg\"}, {\"index\": \"artist_Sebastian Yatra\", \"Importance\": -1.5050892730490122, \"rank\": 131.0, \"side\": \"neg\"}, {\"index\": \"artist_10cm\", \"Importance\": -1.5086992217275175, \"rank\": 132.0, \"side\": \"neg\"}, {\"index\": \"artist_Chris Lake\", \"Importance\": -1.541389856237162, \"rank\": 133.0, \"side\": \"neg\"}, {\"index\": \"artist_Lost Kings\", \"Importance\": -1.5464108651251962, \"rank\": 134.0, \"side\": \"neg\"}, {\"index\": \"artist_Jon McLaughlin\", \"Importance\": -1.5464921960637519, \"rank\": 135.0, \"side\": \"neg\"}, {\"index\": \"artist_Machine Gun Kelly\", \"Importance\": -1.5467991526023173, \"rank\": 136.0, \"side\": \"neg\"}, {\"index\": \"artist_Maroon 5\", \"Importance\": -1.5500156868468438, \"rank\": 137.0, \"side\": \"neg\"}, {\"index\": \"artist_Wisin\", \"Importance\": -1.573059331035526, \"rank\": 138.0, \"side\": \"neg\"}, {\"index\": \"artist_Savage Garden\", \"Importance\": -1.5738070452610744, \"rank\": 139.0, \"side\": \"neg\"}, {\"index\": \"artist_Bruno Mars\", \"Importance\": -1.577482691136003, \"rank\": 140.0, \"side\": \"neg\"}, {\"index\": \"artist_Kygo\", \"Importance\": -1.5818316780139285, \"rank\": 141.0, \"side\": \"neg\"}, {\"index\": \"artist_Maluma\", \"Importance\": -1.5877540480633165, \"rank\": 142.0, \"side\": \"neg\"}, {\"index\": \"artist_EDX\", \"Importance\": -1.5998928107557135, \"rank\": 143.0, \"side\": \"neg\"}, {\"index\": \"artist_CNCO\", \"Importance\": -1.6181018971146248, \"rank\": 144.0, \"side\": \"neg\"}, {\"index\": \"artist_Scott Hamilton\", \"Importance\": -1.6435228879573252, \"rank\": 145.0, \"side\": \"neg\"}, {\"index\": \"artist_Ozuna\", \"Importance\": -1.6698136701579362, \"rank\": 146.0, \"side\": \"neg\"}, {\"index\": \"artist_Robin Thicke\", \"Importance\": -1.6823598809140234, \"rank\": 147.0, \"side\": \"neg\"}, {\"index\": \"artist_Harry Styles\", \"Importance\": -1.6855025309631355, \"rank\": 148.0, \"side\": \"neg\"}, {\"index\": \"artist_5 Seconds of Summer\", \"Importance\": -1.6996802180015573, \"rank\": 149.0, \"side\": \"neg\"}, {\"index\": \"artist_David Guetta\", \"Importance\": -1.705047200285266, \"rank\": 150.0, \"side\": \"neg\"}, {\"index\": \"artist_Enrique Iglesias\", \"Importance\": -1.7184467966542851, \"rank\": 151.0, \"side\": \"neg\"}, {\"index\": \"artist_Diddy\", \"Importance\": -1.7453393579169632, \"rank\": 152.0, \"side\": \"neg\"}, {\"index\": \"artist_Hanson\", \"Importance\": -1.7693567643171297, \"rank\": 153.0, \"side\": \"neg\"}, {\"index\": \"artist_J Balvin\", \"Importance\": -1.7951616562566342, \"rank\": 154.0, \"side\": \"neg\"}, {\"index\": \"artist_Marshmello\", \"Importance\": -1.8258560686718555, \"rank\": 155.0, \"side\": \"neg\"}, {\"index\": \"artist_Hailee Steinfeld\", \"Importance\": -1.9281226407861012, \"rank\": 156.0, \"side\": \"neg\"}, {\"index\": \"artist_Victorious Cast\", \"Importance\": -2.0191005840294944, \"rank\": 157.0, \"side\": \"neg\"}, {\"index\": \"artist_Bea Miller\", \"Importance\": -2.0520643732152095, \"rank\": 158.0, \"side\": \"neg\"}, {\"index\": \"artist_Kaskade\", \"Importance\": -2.0570778629292192, \"rank\": 159.0, \"side\": \"neg\"}, {\"index\": \"artist_Little Mix\", \"Importance\": -2.0736522853232398, \"rank\": 160.0, \"side\": \"neg\"}, {\"index\": \"artist_Next\", \"Importance\": -2.0767615442402647, \"rank\": 161.0, \"side\": \"neg\"}, {\"index\": \"artist_Flo Rida\", \"Importance\": -2.093680283387475, \"rank\": 162.0, \"side\": \"neg\"}, {\"index\": \"artist_MOTi\", \"Importance\": -2.1124038963258904, \"rank\": 163.0, \"side\": \"neg\"}, {\"index\": \"artist_Britney Spears\", \"Importance\": -2.1357801438024637, \"rank\": 164.0, \"side\": \"neg\"}, {\"index\": \"artist_Adrian Lux\", \"Importance\": -2.139286249831502, \"rank\": 165.0, \"side\": \"neg\"}, {\"index\": \"artist_JoJo\", \"Importance\": -2.1467759449577666, \"rank\": 166.0, \"side\": \"neg\"}, {\"index\": \"artist_Shawn Mendes\", \"Importance\": -2.1649041221236622, \"rank\": 167.0, \"side\": \"neg\"}, {\"index\": \"artist_Wyclef Jean\", \"Importance\": -2.216136657544768, \"rank\": 168.0, \"side\": \"neg\"}, {\"index\": \"artist_Daddy Yankee\", \"Importance\": -2.2332697844007483, \"rank\": 169.0, \"side\": \"neg\"}, {\"index\": \"artist_Luis Fonsi\", \"Importance\": -2.3019344657953797, \"rank\": 170.0, \"side\": \"neg\"}, {\"index\": \"artist_deadmau5\", \"Importance\": -2.355829779319882, \"rank\": 171.0, \"side\": \"neg\"}, {\"index\": \"artist_Nicky Jam\", \"Importance\": -2.37749441407609, \"rank\": 172.0, \"side\": \"neg\"}, {\"index\": \"artist_Ne-Yo\", \"Importance\": -2.4122844994009744, \"rank\": 173.0, \"side\": \"neg\"}, {\"index\": \"artist_Pitbull\", \"Importance\": -2.433847446480362, \"rank\": 174.0, \"side\": \"neg\"}, {\"index\": \"artist_Wahlstedt\", \"Importance\": -2.4707589362782767, \"rank\": 175.0, \"side\": \"neg\"}, {\"index\": \"artist_Kim Walker-Smith\", \"Importance\": -2.5338634170911143, \"rank\": 176.0, \"side\": \"neg\"}, {\"index\": \"artist_Zac Brown Band\", \"Importance\": -2.5622462998309197, \"rank\": 177.0, \"side\": \"neg\"}, {\"index\": \"artist_Martin Garrix\", \"Importance\": -2.5674512723005716, \"rank\": 178.0, \"side\": \"neg\"}, {\"index\": \"artist_Owl City\", \"Importance\": -2.622792387833988, \"rank\": 179.0, \"side\": \"neg\"}, {\"index\": \"artist_Xscape\", \"Importance\": -2.699176451124276, \"rank\": 180.0, \"side\": \"neg\"}, {\"index\": \"artist_Boyz II Men\", \"Importance\": -2.702059743920966, \"rank\": 181.0, \"side\": \"neg\"}, {\"index\": \"artist_Afrojack\", \"Importance\": -2.761312824057406, \"rank\": 182.0, \"side\": \"neg\"}, {\"index\": \"artist_Usher\", \"Importance\": -2.7810751429476475, \"rank\": 183.0, \"side\": \"neg\"}, {\"index\": \"artist_Katy Perry\", \"Importance\": -2.783643992925893, \"rank\": 184.0, \"side\": \"neg\"}, {\"index\": \"artist_Toni Braxton\", \"Importance\": -2.799536843709133, \"rank\": 185.0, \"side\": \"neg\"}, {\"index\": \"artist_Nickelback\", \"Importance\": -2.8386887976250117, \"rank\": 186.0, \"side\": \"neg\"}, {\"index\": \"artist_Shakira\", \"Importance\": -2.9296351723665057, \"rank\": 187.0, \"side\": \"neg\"}, {\"index\": \"artist_Big Time Rush\", \"Importance\": -3.162839636844421, \"rank\": 188.0, \"side\": \"neg\"}, {\"index\": \"artist_Destiny's Child\", \"Importance\": -3.1653008112212655, \"rank\": 189.0, \"side\": \"neg\"}, {\"index\": \"artist_The Chainsmokers\", \"Importance\": -3.2913626588789393, \"rank\": 190.0, \"side\": \"neg\"}, {\"index\": \"artist_Demi Lovato\", \"Importance\": -3.3800407800491326, \"rank\": 191.0, \"side\": \"neg\"}, {\"index\": \"artist_Kina Grannis\", \"Importance\": -3.494224822360758, \"rank\": 192.0, \"side\": \"neg\"}, {\"index\": \"artist_J. Cole\", \"Importance\": -3.5315371672351783, \"rank\": 193.0, \"side\": \"neg\"}, {\"index\": \"artist_Fall Out Boy\", \"Importance\": -3.5742754301407853, \"rank\": 194.0, \"side\": \"neg\"}, {\"index\": \"artist_*NSYNC\", \"Importance\": -3.5963540480065572, \"rank\": 195.0, \"side\": \"neg\"}, {\"index\": \"artist_WALK THE MOON\", \"Importance\": -3.7660833917063274, \"rank\": 196.0, \"side\": \"neg\"}, {\"index\": \"artist_Skrillex\", \"Importance\": -3.8740313009135794, \"rank\": 197.0, \"side\": \"neg\"}, {\"index\": \"artist_Michael Jackson\", \"Importance\": -3.8970688203403356, \"rank\": 198.0, \"side\": \"neg\"}, {\"index\": \"artist_Backstreet Boys\", \"Importance\": -3.9793570186336136, \"rank\": 199.0, \"side\": \"neg\"}]}}, {\"mode\": \"vega-lite\"});\n",
       "</script>"
      ],
      "text/plain": [
       "alt.VConcatChart(...)"
      ]
     },
     "execution_count": 21,
     "metadata": {},
     "output_type": "execute_result"
    }
   ],
   "source": [
    "import altair as alt\n",
    "\n",
    "base = (\n",
    "    alt.Chart(feat_importance_200.reset_index())\n",
    "    .mark_bar()\n",
    "    .encode(\n",
    "        x=alt.X(\n",
    "            \"index\",\n",
    "        ),\n",
    "        y=\"Importance:Q\",\n",
    "        color=\"side\",\n",
    "    )\n",
    "    .properties(height=200, width=800, title=\"Top 200 important features\")\n",
    ")\n",
    "\n",
    "brush = alt.selection_interval(encodings=[\"x\"])\n",
    "lower = (\n",
    "    base.encode(\n",
    "        x=alt.X(\n",
    "            \"index\",\n",
    "            axis=alt.Axis(labels=False, title=\"Features\"),\n",
    "            sort=alt.SortField(field=\"rank\", order=\"ascending\"),\n",
    "        )\n",
    "    )\n",
    "    .properties(height=60, width=800, title=\"Drag the plot in below to zoom\")\n",
    "    .add_selection(brush)\n",
    ")\n",
    "\n",
    "upper = base.encode(\n",
    "    alt.X(\n",
    "        \"index\",\n",
    "        scale=alt.Scale(domain=brush),\n",
    "        axis=alt.Axis(title=\"\"),\n",
    "        sort=alt.SortField(field=\"rank\", order=\"ascending\"),\n",
    "    )\n",
    ")\n",
    "\n",
    "upper & lower"
   ]
  },
  {
   "cell_type": "markdown",
   "metadata": {},
   "source": [
    "Top 200 most important features are based on artists."
   ]
  },
  {
   "cell_type": "markdown",
   "metadata": {},
   "source": [
    "<br><br>"
   ]
  },
  {
   "cell_type": "markdown",
   "metadata": {},
   "source": [
    "## Non-linear models\n",
    "### Model training - RandomForestClassifier, XGBClassifier, LGBMClassifier, CatBoostClassifier\n",
    "Second, four non-linear model are trained aside from the linear model above.  \n",
    "After that, feature selection and hyperparameter tuning will carried out in later stage. Cross-validation scores along with standard deviation and results summary is shown in below."
   ]
  },
  {
   "cell_type": "code",
   "execution_count": 22,
   "metadata": {},
   "outputs": [],
   "source": [
    "# Random Forest pipe\n",
    "pipe_rf = make_pipeline(preprocessor, RandomForestClassifier(random_state=123))\n",
    "\n",
    "# XGBoost pipe\n",
    "pipe_xgb = make_pipeline(\n",
    "    preprocessor,\n",
    "    XGBClassifier(\n",
    "        random_state=123, eval_metric=\"logloss\", verbosity=0, use_label_encoder=False\n",
    "    ),\n",
    ")\n",
    "\n",
    "# LGBM Classifier pipe\n",
    "pipe_lgbm = make_pipeline(preprocessor, LGBMClassifier(random_state=123))\n",
    "\n",
    "# Catboost pipe\n",
    "pipe_catb = make_pipeline(preprocessor, CatBoostClassifier(verbose=0, random_state=123))\n",
    "\n",
    "models = {\n",
    "    \"RandomForest\": pipe_rf,\n",
    "    \"XGBoost\": pipe_xgb,\n",
    "    \"LGBM\": pipe_lgbm,\n",
    "    \"Cat_Boost\": pipe_catb,\n",
    "}\n",
    "\n",
    "# summarize mean cv scores in result_non_linear\n",
    "for (name, model) in models.items():\n",
    "    results[name] = mean_std_cross_val_scores(\n",
    "        model, X_train, y_train, return_train_score=True, scoring=scoring_metric\n",
    "    )"
   ]
  },
  {
   "cell_type": "code",
   "execution_count": 23,
   "metadata": {},
   "outputs": [
    {
     "data": {
      "text/html": [
       "<div>\n",
       "<style scoped>\n",
       "    .dataframe tbody tr th:only-of-type {\n",
       "        vertical-align: middle;\n",
       "    }\n",
       "\n",
       "    .dataframe tbody tr th {\n",
       "        vertical-align: top;\n",
       "    }\n",
       "\n",
       "    .dataframe thead th {\n",
       "        text-align: right;\n",
       "    }\n",
       "</style>\n",
       "<table border=\"1\" class=\"dataframe\">\n",
       "  <thead>\n",
       "    <tr style=\"text-align: right;\">\n",
       "      <th></th>\n",
       "      <th>dummy</th>\n",
       "      <th>LogisticReg</th>\n",
       "      <th>LogisticReg_opt</th>\n",
       "      <th>RandomForest</th>\n",
       "      <th>XGBoost</th>\n",
       "      <th>LGBM</th>\n",
       "      <th>Cat_Boost</th>\n",
       "    </tr>\n",
       "  </thead>\n",
       "  <tbody>\n",
       "    <tr>\n",
       "      <th>fit_time</th>\n",
       "      <td>0.030 (+/- 0.007)</td>\n",
       "      <td>0.369 (+/- 0.016)</td>\n",
       "      <td>14.622 (+/- 1.540)</td>\n",
       "      <td>0.964 (+/- 0.028)</td>\n",
       "      <td>2.203 (+/- 0.164)</td>\n",
       "      <td>0.153 (+/- 0.017)</td>\n",
       "      <td>3.150 (+/- 0.202)</td>\n",
       "    </tr>\n",
       "    <tr>\n",
       "      <th>score_time</th>\n",
       "      <td>0.022 (+/- 0.008)</td>\n",
       "      <td>0.027 (+/- 0.001)</td>\n",
       "      <td>0.027 (+/- 0.003)</td>\n",
       "      <td>0.075 (+/- 0.007)</td>\n",
       "      <td>0.032 (+/- 0.001)</td>\n",
       "      <td>0.023 (+/- 0.001)</td>\n",
       "      <td>0.274 (+/- 0.017)</td>\n",
       "    </tr>\n",
       "    <tr>\n",
       "      <th>test_accuracy</th>\n",
       "      <td>0.520 (+/- 0.001)</td>\n",
       "      <td>0.873 (+/- 0.009)</td>\n",
       "      <td>0.887 (+/- 0.010)</td>\n",
       "      <td>0.941 (+/- 0.010)</td>\n",
       "      <td>0.937 (+/- 0.007)</td>\n",
       "      <td>0.937 (+/- 0.006)</td>\n",
       "      <td>0.930 (+/- 0.006)</td>\n",
       "    </tr>\n",
       "    <tr>\n",
       "      <th>train_accuracy</th>\n",
       "      <td>0.520 (+/- 0.000)</td>\n",
       "      <td>0.931 (+/- 0.003)</td>\n",
       "      <td>0.959 (+/- 0.004)</td>\n",
       "      <td>0.997 (+/- 0.000)</td>\n",
       "      <td>0.997 (+/- 0.000)</td>\n",
       "      <td>0.996 (+/- 0.000)</td>\n",
       "      <td>0.968 (+/- 0.002)</td>\n",
       "    </tr>\n",
       "    <tr>\n",
       "      <th>test_roc_auc</th>\n",
       "      <td>0.500 (+/- 0.000)</td>\n",
       "      <td>0.950 (+/- 0.006)</td>\n",
       "      <td>0.961 (+/- 0.004)</td>\n",
       "      <td>0.989 (+/- 0.002)</td>\n",
       "      <td>0.981 (+/- 0.005)</td>\n",
       "      <td>0.981 (+/- 0.004)</td>\n",
       "      <td>0.975 (+/- 0.003)</td>\n",
       "    </tr>\n",
       "    <tr>\n",
       "      <th>train_roc_auc</th>\n",
       "      <td>0.500 (+/- 0.000)</td>\n",
       "      <td>0.977 (+/- 0.001)</td>\n",
       "      <td>0.988 (+/- 0.002)</td>\n",
       "      <td>1.000 (+/- 0.000)</td>\n",
       "      <td>1.000 (+/- 0.000)</td>\n",
       "      <td>1.000 (+/- 0.000)</td>\n",
       "      <td>0.997 (+/- 0.001)</td>\n",
       "    </tr>\n",
       "  </tbody>\n",
       "</table>\n",
       "</div>"
      ],
      "text/plain": [
       "                            dummy        LogisticReg     LogisticReg_opt  \\\n",
       "fit_time        0.030 (+/- 0.007)  0.369 (+/- 0.016)  14.622 (+/- 1.540)   \n",
       "score_time      0.022 (+/- 0.008)  0.027 (+/- 0.001)   0.027 (+/- 0.003)   \n",
       "test_accuracy   0.520 (+/- 0.001)  0.873 (+/- 0.009)   0.887 (+/- 0.010)   \n",
       "train_accuracy  0.520 (+/- 0.000)  0.931 (+/- 0.003)   0.959 (+/- 0.004)   \n",
       "test_roc_auc    0.500 (+/- 0.000)  0.950 (+/- 0.006)   0.961 (+/- 0.004)   \n",
       "train_roc_auc   0.500 (+/- 0.000)  0.977 (+/- 0.001)   0.988 (+/- 0.002)   \n",
       "\n",
       "                     RandomForest            XGBoost               LGBM  \\\n",
       "fit_time        0.964 (+/- 0.028)  2.203 (+/- 0.164)  0.153 (+/- 0.017)   \n",
       "score_time      0.075 (+/- 0.007)  0.032 (+/- 0.001)  0.023 (+/- 0.001)   \n",
       "test_accuracy   0.941 (+/- 0.010)  0.937 (+/- 0.007)  0.937 (+/- 0.006)   \n",
       "train_accuracy  0.997 (+/- 0.000)  0.997 (+/- 0.000)  0.996 (+/- 0.000)   \n",
       "test_roc_auc    0.989 (+/- 0.002)  0.981 (+/- 0.005)  0.981 (+/- 0.004)   \n",
       "train_roc_auc   1.000 (+/- 0.000)  1.000 (+/- 0.000)  1.000 (+/- 0.000)   \n",
       "\n",
       "                        Cat_Boost  \n",
       "fit_time        3.150 (+/- 0.202)  \n",
       "score_time      0.274 (+/- 0.017)  \n",
       "test_accuracy   0.930 (+/- 0.006)  \n",
       "train_accuracy  0.968 (+/- 0.002)  \n",
       "test_roc_auc    0.975 (+/- 0.003)  \n",
       "train_roc_auc   0.997 (+/- 0.001)  "
      ]
     },
     "execution_count": 23,
     "metadata": {},
     "output_type": "execute_result"
    }
   ],
   "source": [
    "pd.DataFrame(results)"
   ]
  },
  {
   "cell_type": "markdown",
   "metadata": {},
   "source": [
    "All the non-linear models are overfitting as all the training scores are close to 1. Compared to most of the models, `CatBoost` is the most balanced model in performance, it has the highest accuracy and comparatively less overfitting (the gap between train and validation scores is smaller).\n",
    "\n",
    "However, the fit time for`cat_boost` is slow. It may be a concern as the algorithm is likely to refit every user by the latest song listening history whenever the user wants to update their playlist. Moreover, the score time of `cat_boost` is the slowest among all models but acceptable.\n",
    "\n",
    "Stability of scores is more or less stable, with standard deviation ranging in around 0.01. "
   ]
  },
  {
   "cell_type": "markdown",
   "metadata": {
    "tags": []
   },
   "source": [
    "### Hyperparameter optimization (Very time consuming, TBC)"
   ]
  },
  {
   "cell_type": "markdown",
   "metadata": {},
   "source": [
    "Hyperparamaters optimization is performed for `CatBoostClassifier`:  \n",
    "**max_depth** which determines the the depth of the tree  \n",
    "**learning_rate** which controls the gradient step size (smaller size, more iterations) and can help to minimize the error associated with the Loss function"
   ]
  },
  {
   "cell_type": "code",
   "execution_count": 24,
   "metadata": {},
   "outputs": [],
   "source": [
    "param_grid_cat = {\n",
    "     \"catboostclassifier__max_depth\": np.arange(5, 15, 2),\n",
    "     \"catboostclassifier__learning_rate\": np.linspace(0.1,0.2,5)\n",
    "}"
   ]
  },
  {
   "cell_type": "raw",
   "metadata": {},
   "source": [
    "random_search_cat = RandomizedSearchCV(\n",
    "    pipe_catb,\n",
    "    param_grid_cat,\n",
    "    n_jobs=-1,\n",
    "    n_iter=6,\n",
    "    return_train_score=True,\n",
    "    scoring = scoring_metric,\n",
    "    refit='accuracy',\n",
    "    random_state=123\n",
    ")\n",
    "\n",
    "results['catboost_opt'] = mean_std_cross_val_scores(\n",
    "        random_search_cat, X_train, y_train, return_train_score=True, scoring=scoring_metric\n",
    "    )\n",
    "\n",
    "#random_search_cat.fit(X_train, y_train)"
   ]
  },
  {
   "cell_type": "raw",
   "metadata": {},
   "source": [
    "print(\"Best hyperparameter values for CatBoost: \", random_search_cat.best_params_)\n",
    "print(\"Best score: %0.3f\" % (random_search_cat.best_score_))"
   ]
  },
  {
   "cell_type": "raw",
   "metadata": {},
   "source": [
    "pd.DataFrame(results)"
   ]
  },
  {
   "cell_type": "markdown",
   "metadata": {},
   "source": [
    "<br><br>"
   ]
  },
  {
   "cell_type": "markdown",
   "metadata": {},
   "source": [
    "### Model interpretation on Training set\n",
    "\n",
    "Since `feature_importance_` is not supported on the models, `shap` is used to examine the most important features of our best non-linear models. "
   ]
  },
  {
   "cell_type": "code",
   "execution_count": 25,
   "metadata": {},
   "outputs": [],
   "source": [
    "pipe_catb.fit(X_train, y_train);"
   ]
  },
  {
   "cell_type": "code",
   "execution_count": 26,
   "metadata": {},
   "outputs": [],
   "source": [
    "X_train_enc = pd.DataFrame(\n",
    "    data=preprocessor.transform(X_train),\n",
    "    columns=col_name_pp_all,\n",
    "    index=X_train.index,\n",
    ")"
   ]
  },
  {
   "cell_type": "code",
   "execution_count": 27,
   "metadata": {},
   "outputs": [
    {
     "data": {
      "image/png": "[encoded data removed]",
      "text/plain": [
       "<Figure size 576x684 with 1 Axes>"
      ]
     },
     "metadata": {
      "needs_background": "light"
     },
     "output_type": "display_data"
    }
   ],
   "source": [
    "catboost_explainer = shap.TreeExplainer(pipe_catb.named_steps[\"catboostclassifier\"])\n",
    "train_catboost_shap_values = catboost_explainer.shap_values(X_train_enc)\n",
    "shap.summary_plot(train_catboost_shap_values, X_train_enc, plot_type=\"bar\")"
   ]
  },
  {
   "cell_type": "markdown",
   "metadata": {},
   "source": [
    "We examined the most important features of `CatBoostClassifier` with SHAP methods. The results suggests that the most important feature are `instrumentalness`, `loudness` and `speechiness`. It introduced a very different results comparing to the linear model, which suggested `artist` is the most important features. \n",
    "\n",
    "One interesting observation from the result here is that, the importance of `artist` suggested by two models are different too. Top 3 `artist` from linear model are **FIDLAR**, **Beach House**, **Perfume Genius**, while top 3 `artist` from linear model are **Disclosure**, **Kanye West** and **Purity Ring**. Nevertheless, all of the artists above are noticeable from EDA **Artist like world cloud**."
   ]
  },
  {
   "cell_type": "markdown",
   "metadata": {},
   "source": [
    "## Model Averaging\n",
    "`CatBoostClassifier` has long processing time but the other models are overfitted. To ease the fundamental trade off, `Averaging` is attempted to see if a higher validation score and shorter fit time can be achieved."
   ]
  },
  {
   "cell_type": "code",
   "execution_count": 28,
   "metadata": {},
   "outputs": [],
   "source": [
    "avg_classifiers = {\n",
    "    \"random forest\": pipe_rf,\n",
    "    \"XGBoost\": pipe_xgb,\n",
    "    \"LightGBM\": pipe_lgbm\n",
    "}\n",
    "\n",
    "averaging_model = VotingClassifier(\n",
    "    list(avg_classifiers.items()), voting=\"soft\"\n",
    ") \n",
    "\n",
    "results['averaging'] = mean_std_cross_val_scores(\n",
    "        averaging_model, X_train, y_train, return_train_score=True, scoring=scoring_metric#, cv=2\n",
    "    )"
   ]
  },
  {
   "cell_type": "code",
   "execution_count": 29,
   "metadata": {},
   "outputs": [
    {
     "data": {
      "text/html": [
       "<div>\n",
       "<style scoped>\n",
       "    .dataframe tbody tr th:only-of-type {\n",
       "        vertical-align: middle;\n",
       "    }\n",
       "\n",
       "    .dataframe tbody tr th {\n",
       "        vertical-align: top;\n",
       "    }\n",
       "\n",
       "    .dataframe thead th {\n",
       "        text-align: right;\n",
       "    }\n",
       "</style>\n",
       "<table border=\"1\" class=\"dataframe\">\n",
       "  <thead>\n",
       "    <tr style=\"text-align: right;\">\n",
       "      <th></th>\n",
       "      <th>dummy</th>\n",
       "      <th>LogisticReg</th>\n",
       "      <th>LogisticReg_opt</th>\n",
       "      <th>RandomForest</th>\n",
       "      <th>XGBoost</th>\n",
       "      <th>LGBM</th>\n",
       "      <th>Cat_Boost</th>\n",
       "      <th>averaging</th>\n",
       "    </tr>\n",
       "  </thead>\n",
       "  <tbody>\n",
       "    <tr>\n",
       "      <th>fit_time</th>\n",
       "      <td>0.030 (+/- 0.007)</td>\n",
       "      <td>0.369 (+/- 0.016)</td>\n",
       "      <td>14.622 (+/- 1.540)</td>\n",
       "      <td>0.964 (+/- 0.028)</td>\n",
       "      <td>2.203 (+/- 0.164)</td>\n",
       "      <td>0.153 (+/- 0.017)</td>\n",
       "      <td>3.150 (+/- 0.202)</td>\n",
       "      <td>3.238 (+/- 0.247)</td>\n",
       "    </tr>\n",
       "    <tr>\n",
       "      <th>score_time</th>\n",
       "      <td>0.022 (+/- 0.008)</td>\n",
       "      <td>0.027 (+/- 0.001)</td>\n",
       "      <td>0.027 (+/- 0.003)</td>\n",
       "      <td>0.075 (+/- 0.007)</td>\n",
       "      <td>0.032 (+/- 0.001)</td>\n",
       "      <td>0.023 (+/- 0.001)</td>\n",
       "      <td>0.274 (+/- 0.017)</td>\n",
       "      <td>0.100 (+/- 0.004)</td>\n",
       "    </tr>\n",
       "    <tr>\n",
       "      <th>test_accuracy</th>\n",
       "      <td>0.520 (+/- 0.001)</td>\n",
       "      <td>0.873 (+/- 0.009)</td>\n",
       "      <td>0.887 (+/- 0.010)</td>\n",
       "      <td>0.941 (+/- 0.010)</td>\n",
       "      <td>0.937 (+/- 0.007)</td>\n",
       "      <td>0.937 (+/- 0.006)</td>\n",
       "      <td>0.930 (+/- 0.006)</td>\n",
       "      <td>0.940 (+/- 0.005)</td>\n",
       "    </tr>\n",
       "    <tr>\n",
       "      <th>train_accuracy</th>\n",
       "      <td>0.520 (+/- 0.000)</td>\n",
       "      <td>0.931 (+/- 0.003)</td>\n",
       "      <td>0.959 (+/- 0.004)</td>\n",
       "      <td>0.997 (+/- 0.000)</td>\n",
       "      <td>0.997 (+/- 0.000)</td>\n",
       "      <td>0.996 (+/- 0.000)</td>\n",
       "      <td>0.968 (+/- 0.002)</td>\n",
       "      <td>0.997 (+/- 0.000)</td>\n",
       "    </tr>\n",
       "    <tr>\n",
       "      <th>test_roc_auc</th>\n",
       "      <td>0.500 (+/- 0.000)</td>\n",
       "      <td>0.950 (+/- 0.006)</td>\n",
       "      <td>0.961 (+/- 0.004)</td>\n",
       "      <td>0.989 (+/- 0.002)</td>\n",
       "      <td>0.981 (+/- 0.005)</td>\n",
       "      <td>0.981 (+/- 0.004)</td>\n",
       "      <td>0.975 (+/- 0.003)</td>\n",
       "      <td>0.989 (+/- 0.002)</td>\n",
       "    </tr>\n",
       "    <tr>\n",
       "      <th>train_roc_auc</th>\n",
       "      <td>0.500 (+/- 0.000)</td>\n",
       "      <td>0.977 (+/- 0.001)</td>\n",
       "      <td>0.988 (+/- 0.002)</td>\n",
       "      <td>1.000 (+/- 0.000)</td>\n",
       "      <td>1.000 (+/- 0.000)</td>\n",
       "      <td>1.000 (+/- 0.000)</td>\n",
       "      <td>0.997 (+/- 0.001)</td>\n",
       "      <td>1.000 (+/- 0.000)</td>\n",
       "    </tr>\n",
       "  </tbody>\n",
       "</table>\n",
       "</div>"
      ],
      "text/plain": [
       "                            dummy        LogisticReg     LogisticReg_opt  \\\n",
       "fit_time        0.030 (+/- 0.007)  0.369 (+/- 0.016)  14.622 (+/- 1.540)   \n",
       "score_time      0.022 (+/- 0.008)  0.027 (+/- 0.001)   0.027 (+/- 0.003)   \n",
       "test_accuracy   0.520 (+/- 0.001)  0.873 (+/- 0.009)   0.887 (+/- 0.010)   \n",
       "train_accuracy  0.520 (+/- 0.000)  0.931 (+/- 0.003)   0.959 (+/- 0.004)   \n",
       "test_roc_auc    0.500 (+/- 0.000)  0.950 (+/- 0.006)   0.961 (+/- 0.004)   \n",
       "train_roc_auc   0.500 (+/- 0.000)  0.977 (+/- 0.001)   0.988 (+/- 0.002)   \n",
       "\n",
       "                     RandomForest            XGBoost               LGBM  \\\n",
       "fit_time        0.964 (+/- 0.028)  2.203 (+/- 0.164)  0.153 (+/- 0.017)   \n",
       "score_time      0.075 (+/- 0.007)  0.032 (+/- 0.001)  0.023 (+/- 0.001)   \n",
       "test_accuracy   0.941 (+/- 0.010)  0.937 (+/- 0.007)  0.937 (+/- 0.006)   \n",
       "train_accuracy  0.997 (+/- 0.000)  0.997 (+/- 0.000)  0.996 (+/- 0.000)   \n",
       "test_roc_auc    0.989 (+/- 0.002)  0.981 (+/- 0.005)  0.981 (+/- 0.004)   \n",
       "train_roc_auc   1.000 (+/- 0.000)  1.000 (+/- 0.000)  1.000 (+/- 0.000)   \n",
       "\n",
       "                        Cat_Boost          averaging  \n",
       "fit_time        3.150 (+/- 0.202)  3.238 (+/- 0.247)  \n",
       "score_time      0.274 (+/- 0.017)  0.100 (+/- 0.004)  \n",
       "test_accuracy   0.930 (+/- 0.006)  0.940 (+/- 0.005)  \n",
       "train_accuracy  0.968 (+/- 0.002)  0.997 (+/- 0.000)  \n",
       "test_roc_auc    0.975 (+/- 0.003)  0.989 (+/- 0.002)  \n",
       "train_roc_auc   0.997 (+/- 0.001)  1.000 (+/- 0.000)  "
      ]
     },
     "execution_count": 29,
     "metadata": {},
     "output_type": "execute_result"
    }
   ],
   "source": [
    "pd.DataFrame(results)"
   ]
  },
  {
   "cell_type": "markdown",
   "metadata": {},
   "source": [
    "According to the result, averaging the models neither help the overfitting issue nor scoring. However, the fit score is indeed faster than `Cat_Boost`. `CatBoostClassifier` is still the best model."
   ]
  },
  {
   "cell_type": "markdown",
   "metadata": {},
   "source": [
    "## Results on the test set \n",
    "\n",
    "The best performing model `CatBoostClassifier` is used on the test data and report test scores. Summary is shown as below. Furthermore, some test predictions and corresponding explanation with SHAP force plots are drawn for further study."
   ]
  },
  {
   "cell_type": "code",
   "execution_count": 30,
   "metadata": {},
   "outputs": [
    {
     "name": "stdout",
     "output_type": "stream",
     "text": [
      "Test Set accuracy:  0.933\n"
     ]
    }
   ],
   "source": [
    "#predictions = pipe_catb.predict(X_test)\n",
    "print(\"Test Set accuracy: \", round(pipe_catb.score(X_test, y_test), 3))"
   ]
  },
  {
   "cell_type": "markdown",
   "metadata": {},
   "source": [
    "The test set's score were slightly lower than the validation score. Therefore, the prediction is promising. "
   ]
  },
  {
   "cell_type": "markdown",
   "metadata": {},
   "source": [
    "### Interpretation and feature importances on Test set"
   ]
  },
  {
   "cell_type": "code",
   "execution_count": 31,
   "metadata": {},
   "outputs": [
    {
     "data": {
      "text/plain": [
       "(958, 960)"
      ]
     },
     "execution_count": 31,
     "metadata": {},
     "output_type": "execute_result"
    }
   ],
   "source": [
    "# Encoding X_test for SHAP force plot\n",
    "X_test_enc = pd.DataFrame(\n",
    "    data=preprocessor.transform(X_test),\n",
    "    columns=col_name_pp_all,\n",
    "    index=X_test.index,\n",
    ")\n",
    "X_test_enc.shape"
   ]
  },
  {
   "cell_type": "code",
   "execution_count": 32,
   "metadata": {},
   "outputs": [
    {
     "data": {
      "image/png": "[encoded data removed]",
      "text/plain": [
       "<Figure size 576x684 with 1 Axes>"
      ]
     },
     "metadata": {
      "needs_background": "light"
     },
     "output_type": "display_data"
    }
   ],
   "source": [
    "# Create an explainer for X_test_enc\n",
    "test_catboost_shap_values = catboost_explainer.shap_values(X_test_enc)\n",
    "shap.summary_plot(test_catboost_shap_values, X_test_enc, plot_type=\"bar\")"
   ]
  },
  {
   "cell_type": "code",
   "execution_count": 33,
   "metadata": {},
   "outputs": [
    {
     "data": {
      "text/plain": [
       "1"
      ]
     },
     "execution_count": 33,
     "metadata": {},
     "output_type": "execute_result"
    }
   ],
   "source": [
    "y_test.iloc[3]"
   ]
  },
  {
   "cell_type": "code",
   "execution_count": 34,
   "metadata": {},
   "outputs": [
    {
     "data": {
      "image/png": "[encoded data removed]",
      "text/plain": [
       "<Figure size 1440x216 with 1 Axes>"
      ]
     },
     "metadata": {
      "needs_background": "light"
     },
     "output_type": "display_data"
    }
   ],
   "source": [
    "# Force Plot for prediction of 4th row (no_default)\n",
    "shap.force_plot(\n",
    "    catboost_explainer.expected_value,\n",
    "    test_catboost_shap_values[3,:],\n",
    "    X_test_enc.iloc[3,:],\n",
    "    matplotlib=True,\n",
    ")"
   ]
  },
  {
   "cell_type": "markdown",
   "metadata": {},
   "source": [
    "- As seen from the plot, the raw score is much smaller than the base value, which predict accurately as **Unlike** (class of '0').  \n",
    "- `speechiness` is pushing the prediction towards a higher score, and `instrumentalness` and `duration_ms` are pushing the prediction towards a lower score."
   ]
  },
  {
   "cell_type": "code",
   "execution_count": 35,
   "metadata": {},
   "outputs": [
    {
     "data": {
      "text/plain": [
       "1"
      ]
     },
     "execution_count": 35,
     "metadata": {},
     "output_type": "execute_result"
    }
   ],
   "source": [
    "y_test.iloc[1]"
   ]
  },
  {
   "cell_type": "code",
   "execution_count": 36,
   "metadata": {},
   "outputs": [
    {
     "data": {
      "image/png": "[encoded data removed]",
      "text/plain": [
       "<Figure size 1440x216 with 1 Axes>"
      ]
     },
     "metadata": {
      "needs_background": "light"
     },
     "output_type": "display_data"
    }
   ],
   "source": [
    "# Force Plot for prediction of 2nd row (no_default)\n",
    "shap.force_plot(\n",
    "    catboost_explainer.expected_value,\n",
    "    test_catboost_shap_values[1,:],\n",
    "    X_test_enc.iloc[1,:],\n",
    "    matplotlib=True,\n",
    ")"
   ]
  },
  {
   "cell_type": "markdown",
   "metadata": {},
   "source": [
    "- As seen from the plot, the raw score is much smaller than the base value, which predict accurately as **Unlike** (class of '0').  \n",
    "- `instrumentalness` and `duration_ms` are pushing the prediction towards a higher score, and `loudness` is pushing the prediction towards a lower score."
   ]
  },
  {
   "cell_type": "markdown",
   "metadata": {},
   "source": [
    "## Summary of machine learning results "
   ]
  },
  {
   "cell_type": "code",
   "execution_count": 37,
   "metadata": {},
   "outputs": [
    {
     "data": {
      "text/html": [
       "<div>\n",
       "<style scoped>\n",
       "    .dataframe tbody tr th:only-of-type {\n",
       "        vertical-align: middle;\n",
       "    }\n",
       "\n",
       "    .dataframe tbody tr th {\n",
       "        vertical-align: top;\n",
       "    }\n",
       "\n",
       "    .dataframe thead th {\n",
       "        text-align: right;\n",
       "    }\n",
       "</style>\n",
       "<table border=\"1\" class=\"dataframe\">\n",
       "  <thead>\n",
       "    <tr style=\"text-align: right;\">\n",
       "      <th></th>\n",
       "      <th>dummy</th>\n",
       "      <th>LogisticReg</th>\n",
       "      <th>LogisticReg_opt</th>\n",
       "      <th>RandomForest</th>\n",
       "      <th>XGBoost</th>\n",
       "      <th>LGBM</th>\n",
       "      <th>Cat_Boost</th>\n",
       "      <th>averaging</th>\n",
       "    </tr>\n",
       "  </thead>\n",
       "  <tbody>\n",
       "    <tr>\n",
       "      <th>fit_time</th>\n",
       "      <td>0.030 (+/- 0.007)</td>\n",
       "      <td>0.369 (+/- 0.016)</td>\n",
       "      <td>14.622 (+/- 1.540)</td>\n",
       "      <td>0.964 (+/- 0.028)</td>\n",
       "      <td>2.203 (+/- 0.164)</td>\n",
       "      <td>0.153 (+/- 0.017)</td>\n",
       "      <td>3.150 (+/- 0.202)</td>\n",
       "      <td>3.238 (+/- 0.247)</td>\n",
       "    </tr>\n",
       "    <tr>\n",
       "      <th>score_time</th>\n",
       "      <td>0.022 (+/- 0.008)</td>\n",
       "      <td>0.027 (+/- 0.001)</td>\n",
       "      <td>0.027 (+/- 0.003)</td>\n",
       "      <td>0.075 (+/- 0.007)</td>\n",
       "      <td>0.032 (+/- 0.001)</td>\n",
       "      <td>0.023 (+/- 0.001)</td>\n",
       "      <td>0.274 (+/- 0.017)</td>\n",
       "      <td>0.100 (+/- 0.004)</td>\n",
       "    </tr>\n",
       "    <tr>\n",
       "      <th>test_accuracy</th>\n",
       "      <td>0.520 (+/- 0.001)</td>\n",
       "      <td>0.873 (+/- 0.009)</td>\n",
       "      <td>0.887 (+/- 0.010)</td>\n",
       "      <td>0.941 (+/- 0.010)</td>\n",
       "      <td>0.937 (+/- 0.007)</td>\n",
       "      <td>0.937 (+/- 0.006)</td>\n",
       "      <td>0.930 (+/- 0.006)</td>\n",
       "      <td>0.940 (+/- 0.005)</td>\n",
       "    </tr>\n",
       "    <tr>\n",
       "      <th>train_accuracy</th>\n",
       "      <td>0.520 (+/- 0.000)</td>\n",
       "      <td>0.931 (+/- 0.003)</td>\n",
       "      <td>0.959 (+/- 0.004)</td>\n",
       "      <td>0.997 (+/- 0.000)</td>\n",
       "      <td>0.997 (+/- 0.000)</td>\n",
       "      <td>0.996 (+/- 0.000)</td>\n",
       "      <td>0.968 (+/- 0.002)</td>\n",
       "      <td>0.997 (+/- 0.000)</td>\n",
       "    </tr>\n",
       "    <tr>\n",
       "      <th>test_roc_auc</th>\n",
       "      <td>0.500 (+/- 0.000)</td>\n",
       "      <td>0.950 (+/- 0.006)</td>\n",
       "      <td>0.961 (+/- 0.004)</td>\n",
       "      <td>0.989 (+/- 0.002)</td>\n",
       "      <td>0.981 (+/- 0.005)</td>\n",
       "      <td>0.981 (+/- 0.004)</td>\n",
       "      <td>0.975 (+/- 0.003)</td>\n",
       "      <td>0.989 (+/- 0.002)</td>\n",
       "    </tr>\n",
       "    <tr>\n",
       "      <th>train_roc_auc</th>\n",
       "      <td>0.500 (+/- 0.000)</td>\n",
       "      <td>0.977 (+/- 0.001)</td>\n",
       "      <td>0.988 (+/- 0.002)</td>\n",
       "      <td>1.000 (+/- 0.000)</td>\n",
       "      <td>1.000 (+/- 0.000)</td>\n",
       "      <td>1.000 (+/- 0.000)</td>\n",
       "      <td>0.997 (+/- 0.001)</td>\n",
       "      <td>1.000 (+/- 0.000)</td>\n",
       "    </tr>\n",
       "  </tbody>\n",
       "</table>\n",
       "</div>"
      ],
      "text/plain": [
       "                            dummy        LogisticReg     LogisticReg_opt  \\\n",
       "fit_time        0.030 (+/- 0.007)  0.369 (+/- 0.016)  14.622 (+/- 1.540)   \n",
       "score_time      0.022 (+/- 0.008)  0.027 (+/- 0.001)   0.027 (+/- 0.003)   \n",
       "test_accuracy   0.520 (+/- 0.001)  0.873 (+/- 0.009)   0.887 (+/- 0.010)   \n",
       "train_accuracy  0.520 (+/- 0.000)  0.931 (+/- 0.003)   0.959 (+/- 0.004)   \n",
       "test_roc_auc    0.500 (+/- 0.000)  0.950 (+/- 0.006)   0.961 (+/- 0.004)   \n",
       "train_roc_auc   0.500 (+/- 0.000)  0.977 (+/- 0.001)   0.988 (+/- 0.002)   \n",
       "\n",
       "                     RandomForest            XGBoost               LGBM  \\\n",
       "fit_time        0.964 (+/- 0.028)  2.203 (+/- 0.164)  0.153 (+/- 0.017)   \n",
       "score_time      0.075 (+/- 0.007)  0.032 (+/- 0.001)  0.023 (+/- 0.001)   \n",
       "test_accuracy   0.941 (+/- 0.010)  0.937 (+/- 0.007)  0.937 (+/- 0.006)   \n",
       "train_accuracy  0.997 (+/- 0.000)  0.997 (+/- 0.000)  0.996 (+/- 0.000)   \n",
       "test_roc_auc    0.989 (+/- 0.002)  0.981 (+/- 0.005)  0.981 (+/- 0.004)   \n",
       "train_roc_auc   1.000 (+/- 0.000)  1.000 (+/- 0.000)  1.000 (+/- 0.000)   \n",
       "\n",
       "                        Cat_Boost          averaging  \n",
       "fit_time        3.150 (+/- 0.202)  3.238 (+/- 0.247)  \n",
       "score_time      0.274 (+/- 0.017)  0.100 (+/- 0.004)  \n",
       "test_accuracy   0.930 (+/- 0.006)  0.940 (+/- 0.005)  \n",
       "train_accuracy  0.968 (+/- 0.002)  0.997 (+/- 0.000)  \n",
       "test_roc_auc    0.975 (+/- 0.003)  0.989 (+/- 0.002)  \n",
       "train_roc_auc   0.997 (+/- 0.001)  1.000 (+/- 0.000)  "
      ]
     },
     "execution_count": 37,
     "metadata": {},
     "output_type": "execute_result"
    }
   ],
   "source": [
    "pd.DataFrame(results)"
   ]
  },
  {
   "cell_type": "code",
   "execution_count": 39,
   "metadata": {},
   "outputs": [],
   "source": [
    "pd.DataFrame(results).to_csv('data/model_results.csv',index=False)"
   ]
  },
  {
   "cell_type": "markdown",
   "metadata": {},
   "source": [
    "<br><br>"
   ]
  },
  {
   "cell_type": "markdown",
   "metadata": {},
   "source": [
    "<br><br>"
   ]
  }
 ],
 "metadata": {
  "kernelspec": {
   "display_name": "Python 3 (ipykernel)",
   "language": "python",
   "name": "python3"
  },
  "language_info": {
   "codemirror_mode": {
    "name": "ipython",
    "version": 3
   },
   "file_extension": ".py",
   "mimetype": "text/x-python",
   "name": "python",
   "nbconvert_exporter": "python",
   "pygments_lexer": "ipython3",
   "version": "3.9.9"
  }
 },
 "nbformat": 4,
 "nbformat_minor": 4
}
