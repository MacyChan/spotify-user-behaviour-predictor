{
 "cells": [
  {
   "cell_type": "markdown",
   "metadata": {
    "slideshow": {
     "slide_type": "slide"
    }
   },
   "source": [
    "# Conclusion\n",
    "\n",
    "- This is a Python base notebook  "
   ]
  },
  {
   "cell_type": "markdown",
   "metadata": {},
   "source": [
    "## Summary of the whole project"
   ]
  },
  {
   "cell_type": "code",
   "execution_count": 1,
   "metadata": {},
   "outputs": [
    {
     "data": {
      "text/html": [
       "<div>\n",
       "<style scoped>\n",
       "    .dataframe tbody tr th:only-of-type {\n",
       "        vertical-align: middle;\n",
       "    }\n",
       "\n",
       "    .dataframe tbody tr th {\n",
       "        vertical-align: top;\n",
       "    }\n",
       "\n",
       "    .dataframe thead th {\n",
       "        text-align: right;\n",
       "    }\n",
       "</style>\n",
       "<table border=\"1\" class=\"dataframe\">\n",
       "  <thead>\n",
       "    <tr style=\"text-align: right;\">\n",
       "      <th></th>\n",
       "      <th>dummy</th>\n",
       "      <th>LogisticReg</th>\n",
       "      <th>LogisticReg_opt</th>\n",
       "      <th>RandomForest</th>\n",
       "      <th>XGBoost</th>\n",
       "      <th>LGBM</th>\n",
       "      <th>Cat_Boost</th>\n",
       "      <th>averaging</th>\n",
       "    </tr>\n",
       "  </thead>\n",
       "  <tbody>\n",
       "    <tr>\n",
       "      <th>fit time</th>\n",
       "      <td>0.138 (+/- 0.015)</td>\n",
       "      <td>13.436 (+/- 0.415)</td>\n",
       "      <td>729.602 (+/- 1.470)</td>\n",
       "      <td>3.025 (+/- 0.158)</td>\n",
       "      <td>6.629 (+/- 0.337)</td>\n",
       "      <td>2.496 (+/- 0.136)</td>\n",
       "      <td>43.591 (+/- 0.065)</td>\n",
       "      <td>14.263 (+/- 0.906)</td>\n",
       "    </tr>\n",
       "    <tr>\n",
       "      <th>score time</th>\n",
       "      <td>0.054 (+/- 0.003)</td>\n",
       "      <td>0.138 (+/- 0.048)</td>\n",
       "      <td>0.126 (+/- 0.062)</td>\n",
       "      <td>0.096 (+/- 0.003)</td>\n",
       "      <td>0.072 (+/- 0.003)</td>\n",
       "      <td>0.061 (+/- 0.003)</td>\n",
       "      <td>0.675 (+/- 0.045)</td>\n",
       "      <td>0.278 (+/- 0.010)</td>\n",
       "    </tr>\n",
       "    <tr>\n",
       "      <th>test accuracy</th>\n",
       "      <td>0.520 (+/- 0.001)</td>\n",
       "      <td>0.887 (+/- 0.006)</td>\n",
       "      <td>0.888 (+/- 0.008)</td>\n",
       "      <td>0.900 (+/- 0.011)</td>\n",
       "      <td>0.944 (+/- 0.007)</td>\n",
       "      <td>0.950 (+/- 0.003)</td>\n",
       "      <td>0.954 (+/- 0.005)</td>\n",
       "      <td>0.951 (+/- 0.004)</td>\n",
       "    </tr>\n",
       "    <tr>\n",
       "      <th>train accuracy</th>\n",
       "      <td>0.520 (+/- 0.000)</td>\n",
       "      <td>0.972 (+/- 0.002)</td>\n",
       "      <td>0.974 (+/- 0.003)</td>\n",
       "      <td>0.997 (+/- 0.001)</td>\n",
       "      <td>0.997 (+/- 0.001)</td>\n",
       "      <td>0.997 (+/- 0.001)</td>\n",
       "      <td>0.995 (+/- 0.001)</td>\n",
       "      <td>0.997 (+/- 0.001)</td>\n",
       "    </tr>\n",
       "    <tr>\n",
       "      <th>test ROC AUC</th>\n",
       "      <td>0.500 (+/- 0.000)</td>\n",
       "      <td>0.955 (+/- 0.005)</td>\n",
       "      <td>0.954 (+/- 0.005)</td>\n",
       "      <td>0.960 (+/- 0.002)</td>\n",
       "      <td>0.986 (+/- 0.001)</td>\n",
       "      <td>0.991 (+/- 0.002)</td>\n",
       "      <td>0.991 (+/- 0.002)</td>\n",
       "      <td>0.986 (+/- 0.001)</td>\n",
       "    </tr>\n",
       "    <tr>\n",
       "      <th>train ROC AUC</th>\n",
       "      <td>0.500 (+/- 0.000)</td>\n",
       "      <td>0.997 (+/- 0.000)</td>\n",
       "      <td>0.998 (+/- 0.000)</td>\n",
       "      <td>1.000 (+/- 0.000)</td>\n",
       "      <td>1.000 (+/- 0.000)</td>\n",
       "      <td>1.000 (+/- 0.000)</td>\n",
       "      <td>1.000 (+/- 0.000)</td>\n",
       "      <td>1.000 (+/- 0.000)</td>\n",
       "    </tr>\n",
       "  </tbody>\n",
       "</table>\n",
       "</div>"
      ],
      "text/plain": [
       "                            dummy         LogisticReg      LogisticReg_opt  \\\n",
       "fit time        0.138 (+/- 0.015)  13.436 (+/- 0.415)  729.602 (+/- 1.470)   \n",
       "score time      0.054 (+/- 0.003)   0.138 (+/- 0.048)    0.126 (+/- 0.062)   \n",
       "test accuracy   0.520 (+/- 0.001)   0.887 (+/- 0.006)    0.888 (+/- 0.008)   \n",
       "train accuracy  0.520 (+/- 0.000)   0.972 (+/- 0.002)    0.974 (+/- 0.003)   \n",
       "test ROC AUC    0.500 (+/- 0.000)   0.955 (+/- 0.005)    0.954 (+/- 0.005)   \n",
       "train ROC AUC   0.500 (+/- 0.000)   0.997 (+/- 0.000)    0.998 (+/- 0.000)   \n",
       "\n",
       "                     RandomForest            XGBoost               LGBM  \\\n",
       "fit time        3.025 (+/- 0.158)  6.629 (+/- 0.337)  2.496 (+/- 0.136)   \n",
       "score time      0.096 (+/- 0.003)  0.072 (+/- 0.003)  0.061 (+/- 0.003)   \n",
       "test accuracy   0.900 (+/- 0.011)  0.944 (+/- 0.007)  0.950 (+/- 0.003)   \n",
       "train accuracy  0.997 (+/- 0.001)  0.997 (+/- 0.001)  0.997 (+/- 0.001)   \n",
       "test ROC AUC    0.960 (+/- 0.002)  0.986 (+/- 0.001)  0.991 (+/- 0.002)   \n",
       "train ROC AUC   1.000 (+/- 0.000)  1.000 (+/- 0.000)  1.000 (+/- 0.000)   \n",
       "\n",
       "                         Cat_Boost           averaging  \n",
       "fit time        43.591 (+/- 0.065)  14.263 (+/- 0.906)  \n",
       "score time       0.675 (+/- 0.045)   0.278 (+/- 0.010)  \n",
       "test accuracy    0.954 (+/- 0.005)   0.951 (+/- 0.004)  \n",
       "train accuracy   0.995 (+/- 0.001)   0.997 (+/- 0.001)  \n",
       "test ROC AUC     0.991 (+/- 0.002)   0.986 (+/- 0.001)  \n",
       "train ROC AUC    1.000 (+/- 0.000)   1.000 (+/- 0.000)  "
      ]
     },
     "execution_count": 1,
     "metadata": {},
     "output_type": "execute_result"
    }
   ],
   "source": [
    "import pandas as pd\n",
    "results = pd.read_csv('data/model_results.csv', index_col = 0 )\n",
    "results.reset_index().rename(index= {0: 'fit time', 1: 'score time', 2: 'test accuracy', 3: 'train accuracy', 4: 'test ROC AUC', 5: 'train ROC AUC'})"
   ]
  },
  {
   "cell_type": "markdown",
   "metadata": {},
   "source": [
    "Amongst the models, `LGBMClassifier` is the best model. Even though `CatBoostClassifier` has the best accuracy and ROC AUC score, the fit time for`cat_boost` is slow. It can be a concern as the algorithm is likely to refit every user by the latest song listening history whenever the user wants to update their playlist. For `LGBMClassifier`, the test accuracy is **0.950**, which is 0.004 lower than `CatBoostClassifier`, but the fit time is 20 times shorter. \n",
    "\n",
    "Therefore, `LGBMClassifier` will be used for the Soptify user behavior prediction."
   ]
  }
 ],
 "metadata": {
  "anaconda-cloud": {},
  "celltoolbar": "Slideshow",
  "kernelspec": {
   "display_name": "Python 3 (ipykernel)",
   "language": "python",
   "name": "python3"
  },
  "language_info": {
   "codemirror_mode": {
    "name": "ipython",
    "version": 3
   },
   "file_extension": ".py",
   "mimetype": "text/x-python",
   "name": "python",
   "nbconvert_exporter": "python",
   "pygments_lexer": "ipython3",
   "version": "3.9.9"
  },
  "toc-autonumbering": false,
  "toc-showtags": false
 },
 "nbformat": 4,
 "nbformat_minor": 4
}
