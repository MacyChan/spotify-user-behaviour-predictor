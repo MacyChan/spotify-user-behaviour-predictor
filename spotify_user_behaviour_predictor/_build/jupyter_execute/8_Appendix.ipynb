{
 "cells": [
  {
   "cell_type": "markdown",
   "metadata": {
    "slideshow": {
     "slide_type": "slide"
    }
   },
   "source": [
    "# Appendix\n",
    "\n",
    "- This is a Python base notebook  "
   ]
  },
  {
   "cell_type": "markdown",
   "metadata": {},
   "source": [
    "## Demo of scrapping lyrics for the first 10 songs using pyLyrics2"
   ]
  },
  {
   "cell_type": "code",
   "execution_count": 1,
   "metadata": {},
   "outputs": [],
   "source": [
    "from pylyrics2 import extract_lyrics as pl\n",
    "from pylyrics2 import clean_text as ct\n",
    "import pandas as pd\n",
    "import re\n",
    "import sys, os"
   ]
  },
  {
   "cell_type": "code",
   "execution_count": 2,
   "metadata": {},
   "outputs": [],
   "source": [
    "class HiddenPrints:\n",
    "    def __enter__(self):\n",
    "        self._original_stdout = sys.stdout\n",
    "        sys.stdout = open(os.devnull, 'w')\n",
    "\n",
    "    def __exit__(self, exc_type, exc_val, exc_tb):\n",
    "        sys.stdout.close()\n",
    "        sys.stdout = self._original_stdout"
   ]
  },
  {
   "cell_type": "code",
   "execution_count": 3,
   "metadata": {},
   "outputs": [],
   "source": [
    "spotify_df = pd.read_csv('data/spotify_data.csv', index_col = 0 )"
   ]
  },
  {
   "cell_type": "code",
   "execution_count": 4,
   "metadata": {},
   "outputs": [
    {
     "data": {
      "text/html": [
       "<div>\n",
       "<style scoped>\n",
       "    .dataframe tbody tr th:only-of-type {\n",
       "        vertical-align: middle;\n",
       "    }\n",
       "\n",
       "    .dataframe tbody tr th {\n",
       "        vertical-align: top;\n",
       "    }\n",
       "\n",
       "    .dataframe thead th {\n",
       "        text-align: right;\n",
       "    }\n",
       "</style>\n",
       "<table border=\"1\" class=\"dataframe\">\n",
       "  <thead>\n",
       "    <tr style=\"text-align: right;\">\n",
       "      <th></th>\n",
       "      <th>song_title</th>\n",
       "      <th>artist</th>\n",
       "    </tr>\n",
       "  </thead>\n",
       "  <tbody>\n",
       "    <tr>\n",
       "      <th>0</th>\n",
       "      <td>Mask Off</td>\n",
       "      <td>Future</td>\n",
       "    </tr>\n",
       "    <tr>\n",
       "      <th>1</th>\n",
       "      <td>Redbone</td>\n",
       "      <td>Childish Gambino</td>\n",
       "    </tr>\n",
       "    <tr>\n",
       "      <th>2</th>\n",
       "      <td>Xanny Family</td>\n",
       "      <td>Future</td>\n",
       "    </tr>\n",
       "    <tr>\n",
       "      <th>3</th>\n",
       "      <td>Master Of None</td>\n",
       "      <td>Beach House</td>\n",
       "    </tr>\n",
       "    <tr>\n",
       "      <th>4</th>\n",
       "      <td>Parallel Lines</td>\n",
       "      <td>Junior Boys</td>\n",
       "    </tr>\n",
       "  </tbody>\n",
       "</table>\n",
       "</div>"
      ],
      "text/plain": [
       "       song_title            artist\n",
       "0        Mask Off            Future\n",
       "1         Redbone  Childish Gambino\n",
       "2    Xanny Family            Future\n",
       "3  Master Of None       Beach House\n",
       "4  Parallel Lines       Junior Boys"
      ]
     },
     "execution_count": 4,
     "metadata": {},
     "output_type": "execute_result"
    }
   ],
   "source": [
    "spotify_df[[\"song_title\", \"artist\"]].head()"
   ]
  },
  {
   "cell_type": "code",
   "execution_count": 5,
   "metadata": {},
   "outputs": [],
   "source": [
    "def scrapLyrics(song_title, artist):\n",
    "    with HiddenPrints():\n",
    "        try:\n",
    "            return pl.extract_lyrics(song_title, artist)\n",
    "        except:\n",
    "            return \" \""
   ]
  },
  {
   "cell_type": "code",
   "execution_count": 6,
   "metadata": {},
   "outputs": [],
   "source": [
    "lyrics = []\n",
    "for i in range(10):  # range(len(spotify_df)):\n",
    "    song_title = ct.clean_text(text=spotify_df.iloc[i][\"song_title\"], bool_contra_dict=False)\n",
    "    artist = ct.clean_text(text=spotify_df.iloc[i][\"artist\"], bool_contra_dict=False)\n",
    "    lyric = scrapLyrics(song_title, artist)\n",
    "    if lyric.strip() != \"\":\n",
    "        clean_lyric = ct.clean_text(lyric)\n",
    "    else:\n",
    "        clean_lyric = \"\"\n",
    "    lyrics.append([song_title, artist, clean_lyric])"
   ]
  },
  {
   "cell_type": "code",
   "execution_count": 7,
   "metadata": {},
   "outputs": [
    {
     "data": {
      "text/html": [
       "<div>\n",
       "<style scoped>\n",
       "    .dataframe tbody tr th:only-of-type {\n",
       "        vertical-align: middle;\n",
       "    }\n",
       "\n",
       "    .dataframe tbody tr th {\n",
       "        vertical-align: top;\n",
       "    }\n",
       "\n",
       "    .dataframe thead th {\n",
       "        text-align: right;\n",
       "    }\n",
       "</style>\n",
       "<table border=\"1\" class=\"dataframe\">\n",
       "  <thead>\n",
       "    <tr style=\"text-align: right;\">\n",
       "      <th></th>\n",
       "      <th>song_title</th>\n",
       "      <th>artist</th>\n",
       "      <th>lyrics</th>\n",
       "    </tr>\n",
       "  </thead>\n",
       "  <tbody>\n",
       "    <tr>\n",
       "      <th>0</th>\n",
       "      <td>mask off</td>\n",
       "      <td>future</td>\n",
       "      <td>introcall it how it is call it how it ishendri...</td>\n",
       "    </tr>\n",
       "    <tr>\n",
       "      <th>1</th>\n",
       "      <td>redbone</td>\n",
       "      <td>childish gambino</td>\n",
       "      <td>verse daylight i wake up feeling like you wo n...</td>\n",
       "    </tr>\n",
       "    <tr>\n",
       "      <th>2</th>\n",
       "      <td>xanny family</td>\n",
       "      <td>future</td>\n",
       "      <td>introthree exotic broads and i got em soakin p...</td>\n",
       "    </tr>\n",
       "    <tr>\n",
       "      <th>3</th>\n",
       "      <td>master of none</td>\n",
       "      <td>beach house</td>\n",
       "      <td>you always go to the parties to pluck the feat...</td>\n",
       "    </tr>\n",
       "    <tr>\n",
       "      <th>4</th>\n",
       "      <td>parallel lines</td>\n",
       "      <td>junior boys</td>\n",
       "      <td>if you found the words would you really say th...</td>\n",
       "    </tr>\n",
       "    <tr>\n",
       "      <th>5</th>\n",
       "      <td>sneakin</td>\n",
       "      <td>drake</td>\n",
       "      <td>intro drake amp skoolyyeah we got london on da...</td>\n",
       "    </tr>\n",
       "    <tr>\n",
       "      <th>6</th>\n",
       "      <td>childs play</td>\n",
       "      <td>drake</td>\n",
       "      <td>introbreaking news my niggas if your girlfrien...</td>\n",
       "    </tr>\n",
       "    <tr>\n",
       "      <th>7</th>\n",
       "      <td>gyngyhaj lny</td>\n",
       "      <td>omega</td>\n",
       "      <td></td>\n",
       "    </tr>\n",
       "    <tr>\n",
       "      <th>8</th>\n",
       "      <td>ive seen footage</td>\n",
       "      <td>death grips</td>\n",
       "      <td>introget up beats bout waist deep swallowed by...</td>\n",
       "    </tr>\n",
       "    <tr>\n",
       "      <th>9</th>\n",
       "      <td>digital animal</td>\n",
       "      <td>honey claws</td>\n",
       "      <td>introhey honey claws honey claws honey claws j...</td>\n",
       "    </tr>\n",
       "  </tbody>\n",
       "</table>\n",
       "</div>"
      ],
      "text/plain": [
       "         song_title            artist  \\\n",
       "0          mask off            future   \n",
       "1           redbone  childish gambino   \n",
       "2      xanny family            future   \n",
       "3    master of none       beach house   \n",
       "4    parallel lines       junior boys   \n",
       "5           sneakin             drake   \n",
       "6       childs play             drake   \n",
       "7      gyngyhaj lny             omega   \n",
       "8  ive seen footage       death grips   \n",
       "9    digital animal       honey claws   \n",
       "\n",
       "                                              lyrics  \n",
       "0  introcall it how it is call it how it ishendri...  \n",
       "1  verse daylight i wake up feeling like you wo n...  \n",
       "2  introthree exotic broads and i got em soakin p...  \n",
       "3  you always go to the parties to pluck the feat...  \n",
       "4  if you found the words would you really say th...  \n",
       "5  intro drake amp skoolyyeah we got london on da...  \n",
       "6  introbreaking news my niggas if your girlfrien...  \n",
       "7                                                     \n",
       "8  introget up beats bout waist deep swallowed by...  \n",
       "9  introhey honey claws honey claws honey claws j...  "
      ]
     },
     "execution_count": 7,
     "metadata": {},
     "output_type": "execute_result"
    }
   ],
   "source": [
    "pd.DataFrame(lyrics, columns = [\"song_title\", \"artist\", \"lyrics\"]).head(10)"
   ]
  }
 ],
 "metadata": {
  "anaconda-cloud": {},
  "celltoolbar": "Slideshow",
  "kernelspec": {
   "display_name": "Python 3 (ipykernel)",
   "language": "python",
   "name": "python3"
  },
  "language_info": {
   "codemirror_mode": {
    "name": "ipython",
    "version": 3
   },
   "file_extension": ".py",
   "mimetype": "text/x-python",
   "name": "python",
   "nbconvert_exporter": "python",
   "pygments_lexer": "ipython3",
   "version": "3.9.9"
  },
  "toc-autonumbering": false,
  "toc-showtags": false
 },
 "nbformat": 4,
 "nbformat_minor": 4
}