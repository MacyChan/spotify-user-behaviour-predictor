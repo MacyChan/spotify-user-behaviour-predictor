{
 "cells": [
  {
   "cell_type": "markdown",
   "metadata": {},
   "source": [
    "# About this project"
   ]
  },
  {
   "cell_type": "markdown",
   "metadata": {},
   "source": [
    "## Why did I start this project?\n",
    "\n",
    "I believe everyone has some OCD in their daily lives. In my case, I have some Techno-OCD. Every now and then, it drives me crazy when I see my friends have countless unread emails in their inboxes or multiple tabs remain opened on their browsers. Apart from this, I also have a tiny pet peeve on Spotify playlist. As a loyal Spotify customer, I have been maintaining a personal playlist for over 6 years. Form time to time, I would dedicate my time to clean it up by removing old entries and adding new favorites exclusively fromr different playlists (mainly from the one called Today’s Top Hit). Sometimes, I told myself that I should not spend so much time on organizing this personal playlist. Yet I have an unique taste and I hate to hit “Next” every time I am offered with some automatically-generated songs that I do not enjoy. \n",
    "\n",
    "One day, when I was repeating this time consuming playlist process, this idea popped. Why don't I design an algorithm to help me finish this task, so that I have more time to organize my laptop folders?"
   ]
  },
  {
   "cell_type": "markdown",
   "metadata": {},
   "source": [
    "## Difference with Spotify\n",
    "\n",
    "You may have asked, Spotify also has song recommendation, is it not good enough for you? Short answer is Yes, it is not good enough. I enjoy Spotify recommended song and the algorithm is doing a good to recommend songs for me. Most of the recommended songs fits my mood and I give a credit for that. However, I have no control on what songs I would like to pick. Given my raw and desperate story about, I want to be recommend only from some designated playlist, which are the go-to playlist that I like and grab songs that I like from that playlist."
   ]
  }
 ],
 "metadata": {
  "kernelspec": {
   "display_name": "Python 3 (ipykernel)",
   "language": "python",
   "name": "python3"
  },
  "language_info": {
   "codemirror_mode": {
    "name": "ipython",
    "version": 3
   },
   "file_extension": ".py",
   "mimetype": "text/x-python",
   "name": "python",
   "nbconvert_exporter": "python",
   "pygments_lexer": "ipython3",
   "version": "3.8.12"
  },
  "widgets": {
   "application/vnd.jupyter.widget-state+json": {
    "state": {},
    "version_major": 2,
    "version_minor": 0
   }
  }
 },
 "nbformat": 4,
 "nbformat_minor": 4
}