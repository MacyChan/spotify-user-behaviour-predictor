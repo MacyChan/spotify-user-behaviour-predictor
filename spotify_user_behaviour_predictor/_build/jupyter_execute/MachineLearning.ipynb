{
 "cells": [
  {
   "cell_type": "markdown",
   "metadata": {
    "slideshow": {
     "slide_type": "slide"
    }
   },
   "source": [
    "# Machine Learning analysis\n",
    "  \n",
    "Kaggle's [Spotify Song Attributes](https://www.kaggle.com/geomack/spotifyclassification/home) dataset contains a number of features of songs from 2017 and a binary variable `target` that represents whether the user liked the song (encoded as 1) or not (encoded as 0). See the documentation of all the features [here](https://developer.spotify.com/documentation/web-api/reference/tracks/get-audio-features/). "
   ]
  },
  {
   "cell_type": "markdown",
   "metadata": {
    "nbgrader": {
     "grade": false,
     "grade_id": "cell-d4d478b6cdc9bf88",
     "locked": true,
     "schema_version": 3,
     "solution": false
    }
   },
   "source": [
    "### 2.1 Reading the data CSV\n",
    "rubric={accuracy:3}\n",
    "\n",
    "Read in the data CSV and store it as a pandas dataframe named `spotify_df`. The first column of the .csv file should be set as the index."
   ]
  },
  {
   "cell_type": "code",
   "execution_count": 1,
   "metadata": {
    "nbgrader": {
     "grade": true,
     "grade_id": "cell-4f3f14b59fd7e6b8",
     "locked": false,
     "points": 0,
     "schema_version": 3,
     "solution": true,
     "task": false
    }
   },
   "outputs": [
    {
     "ename": "NameError",
     "evalue": "name 'pd' is not defined",
     "output_type": "error",
     "traceback": [
      "\u001b[0;31m---------------------------------------------------------------------------\u001b[0m",
      "\u001b[0;31mNameError\u001b[0m                                 Traceback (most recent call last)",
      "\u001b[0;32m/var/folders/zn/40lvk7q11ddb7fryhn5vq7x80000gn/T/ipykernel_45050/581305263.py\u001b[0m in \u001b[0;36m<module>\u001b[0;34m\u001b[0m\n\u001b[0;32m----> 1\u001b[0;31m \u001b[0mspotify_df\u001b[0m \u001b[0;34m=\u001b[0m \u001b[0mpd\u001b[0m\u001b[0;34m.\u001b[0m\u001b[0mread_csv\u001b[0m\u001b[0;34m(\u001b[0m\u001b[0;34m'data.csv'\u001b[0m\u001b[0;34m,\u001b[0m \u001b[0mindex_col\u001b[0m \u001b[0;34m=\u001b[0m \u001b[0;36m0\u001b[0m \u001b[0;34m)\u001b[0m\u001b[0;34m\u001b[0m\u001b[0;34m\u001b[0m\u001b[0m\n\u001b[0m\u001b[1;32m      2\u001b[0m \u001b[0mspotify_df\u001b[0m\u001b[0;34m\u001b[0m\u001b[0;34m\u001b[0m\u001b[0m\n",
      "\u001b[0;31mNameError\u001b[0m: name 'pd' is not defined"
     ]
    }
   ],
   "source": [
    "spotify_df = pd.read_csv('data.csv', index_col = 0 )\n",
    "spotify_df"
   ]
  },
  {
   "cell_type": "markdown",
   "metadata": {},
   "source": [
    "<br><br>"
   ]
  },
  {
   "cell_type": "markdown",
   "metadata": {},
   "source": [
    "### 2.2 Data splitting \n",
    "rubric={accuracy:2}\n",
    "\n",
    "Run the following line of code to split the data. How many training and test examples do we have?\n",
    "\n",
    "> Note: we are setting the `random_state` so that everyone has the same split on their assignments. This will make it easier for the TAs to grade."
   ]
  },
  {
   "cell_type": "code",
   "execution_count": 15,
   "metadata": {},
   "outputs": [
    {
     "name": "stdout",
     "output_type": "stream",
     "text": [
      "(1613, 16)\n",
      "(404, 16)\n"
     ]
    }
   ],
   "source": [
    "train_df, test_df = train_test_split(spotify_df, test_size=0.2, random_state=123)\n",
    "print(train_df.shape)\n",
    "print(test_df.shape)"
   ]
  },
  {
   "cell_type": "markdown",
   "metadata": {},
   "source": [
    "We have 1613 examples in training data, 404 examples in test data."
   ]
  },
  {
   "cell_type": "markdown",
   "metadata": {},
   "source": [
    "Yes, the difference between the features correlate to two target classes are used to distinguish whether the example should go to either one of the target classes. If two histograms are identical, no difference can be found, hence no useful information to distinguish between to target classes."
   ]
  },
  {
   "cell_type": "markdown",
   "metadata": {
    "nbgrader": {
     "grade": false,
     "grade_id": "cell-86f9e0c649669daf",
     "locked": true,
     "schema_version": 3,
     "solution": false,
     "task": false
    }
   },
   "source": [
    "### 2.7 Which columns to include? \n",
    "rubric={reasoning:4}\n",
    "\n",
    "**Your tasks:**\n",
    "\n",
    "Note that the dataset includes two free text features labeled `song_title` and `artist`. Do you think these features could be useful in predicting whether the user liked the song or not? Would there be any difficulty in using them in your model?   "
   ]
  },
  {
   "cell_type": "markdown",
   "metadata": {
    "nbgrader": {
     "grade": true,
     "grade_id": "cell-dce517defdc16360",
     "locked": false,
     "points": 0,
     "schema_version": 3,
     "solution": true,
     "task": false
    }
   },
   "source": [
    "`artist` can be useful in the prediction while `song_title` may be less useful. As many listeners may like the songs because of the artist, some popular singer like Taylor Swift, could be more favorable these days comparing to some older generation artists. However, song title may not be critical for user to like or dislike a song.  \n",
    "Technically, DecisionTreeClassifier can handle text like categorical labels by treating them as `numeric`. But it will be difficulty to use since both `song_title` and `artist` are free text, which is not categorical labels with limited categories. The possible combinations are huge, hence hard to use them in the tree model."
   ]
  },
  {
   "cell_type": "markdown",
   "metadata": {},
   "source": [
    "<br><br><br><br>"
   ]
  },
  {
   "cell_type": "markdown",
   "metadata": {},
   "source": [
    "## Exercise 3: Data splitting and model building <a name=\"3\"></a>\n",
    "<hr>\n",
    "Recall that in machine learning what we care about is generalization; we want to build models that generalize well on unseen examples. One way to approximate generalization error is by splitting the data into train and test splits, building and tuning the model only using the train split, and carrying out the final assessment on the test split. \n",
    "\n",
    "In Exercise 2.2, we used `scikit-learn`'s [train_test_split](https://scikit-learn.org/stable/modules/generated/sklearn.model_selection.train_test_split.html) to split the data, which shuffles the data before splitting. In this exercise, we will try to convince ourselves the importance of shuffling before splitting. \n",
    "\n",
    "The starter code below creates `X` and `y` for you to use in the following questions. In the exercises below, you'll have to calculate `train` and `test` scores several times. To make it a bit easy for you, I am providing you a function `fit_and_report` below, which fits a model and prints train and test scores. Feel free to use this function in the following exercises. "
   ]
  },
  {
   "cell_type": "code",
   "execution_count": null,
   "metadata": {},
   "outputs": [],
   "source": [
    "X = spotify_df.drop(columns=[\"song_title\", \"artist\", \"target\"])\n",
    "y = spotify_df[\"target\"]"
   ]
  },
  {
   "cell_type": "code",
   "execution_count": null,
   "metadata": {},
   "outputs": [],
   "source": [
    "def fit_and_report(model, X_train, y_train, X_test, y_test):\n",
    "    \"\"\"\n",
    "    Fits a given model on the training data and prints train and\n",
    "    test scores.\n",
    "\n",
    "    Parameters\n",
    "    ----------\n",
    "    model: sklearn classifier model\n",
    "        The sklearn model\n",
    "    X_train: numpy.ndarray\n",
    "        The X_train part of the data\n",
    "    y_train: numpy.ndarray\n",
    "        The y_train part of the data\n",
    "    X_test: numpy.ndarray\n",
    "        The X_train part of the data\n",
    "    y_test: numpy.ndarray\n",
    "        The y_test part of the data\n",
    "\n",
    "    Returns\n",
    "    -------\n",
    "        None\n",
    "    \"\"\"\n",
    "    model.fit(X_train, y_train)\n",
    "    print(\"Training score: %0.3f\" % (model.score(X_train, y_train)))\n",
    "    print(\"Test score: %0.3f\" % (model.score(X_test, y_test)))"
   ]
  },
  {
   "cell_type": "markdown",
   "metadata": {},
   "source": [
    "<br><br>"
   ]
  },
  {
   "cell_type": "markdown",
   "metadata": {},
   "source": [
    "### 3.1 Splitting without shuffling \n",
    "rubric={accuracy:4}\n",
    "\n",
    "The dataset has total 2,017 examples. \n",
    "\n",
    "**Your tasks:**  \n",
    "\n",
    "1. Split `X` and `y` as follows: \n",
    "    - Use the first 1500 rows as the train set (`X_train` and `y_train`)\n",
    "    - Use the remaining rows as the test set (`X_test` and `y_test`)\n",
    "2. Train `DummyClassifier` on the train set and score it on the train and test sets.\n",
    "3. Now train the `DecisionTreeClassifier` with `random_state=123` on the train set and score it on the train and test sets. \n",
    "\n",
    "> You may use the `fit_and_report` function above to `fit` and `score` models.  \n",
    "\n",
    "> If parameter values are not specified explicitly, you may use the default values. "
   ]
  },
  {
   "cell_type": "code",
   "execution_count": null,
   "metadata": {},
   "outputs": [
    {
     "name": "stdout",
     "output_type": "stream",
     "text": [
      "DummyClassifier:\n",
      "Training score: 0.680\n",
      "Test score: 0.000\n",
      "DecisionTreeClassifier:\n",
      "Training score: 0.998\n",
      "Test score: 0.491\n"
     ]
    }
   ],
   "source": [
    "X_train, X_test = X.iloc[:1500,:], X.iloc[1500:,:]\n",
    "y_train, y_test = y.iloc[:1500,], y.iloc[1500:,]\n",
    "\n",
    "print('DummyClassifier:')\n",
    "model_dummy = DummyClassifier()\n",
    "fit_and_report(model_dummy, X_train, y_train, X_test, y_test)\n",
    "\n",
    "print('DecisionTreeClassifier:')\n",
    "model_tree = DecisionTreeClassifier(random_state=123)\n",
    "fit_and_report(model_tree, X_train, y_train, X_test, y_test)\n"
   ]
  },
  {
   "cell_type": "markdown",
   "metadata": {},
   "source": [
    "<br><br>"
   ]
  },
  {
   "cell_type": "markdown",
   "metadata": {},
   "source": [
    "### 3.2 Splitting with shuffling \n",
    "rubric={accuracy:4}\n",
    "\n",
    "The problem in the previous exercise was that we did not shuffle the training examples before splitting. Let's see if shuffling the data improves the test score.\n",
    "\n",
    "**Your tasks:** \n",
    "\n",
    "1. Run the starter code below to shuffle `X` and `y`. \n",
    "2. Split the **shuffled data** as follows: \n",
    "    - Use the first 1500 rows as the train set \n",
    "    - Use the remaining rows as the test set\n",
    "3. Train `DummyClassifier` on the train set and score it on the train and test sets.    \n",
    "4. Now train the `DecisionTreeClassifier` with `random_state=123` on the train set and score it on the train and test sets. "
   ]
  },
  {
   "cell_type": "code",
   "execution_count": null,
   "metadata": {},
   "outputs": [],
   "source": [
    "X_shuffled = X.reindex(np.random.permutation(X.index))\n",
    "y_shuffled = y.reindex(X_shuffled.index)"
   ]
  },
  {
   "cell_type": "code",
   "execution_count": null,
   "metadata": {},
   "outputs": [
    {
     "name": "stdout",
     "output_type": "stream",
     "text": [
      "DummyClassifier:\n",
      "Training score: 0.510\n",
      "Test score: 0.493\n",
      "DecisionTreeClassifier:\n",
      "Training score: 0.999\n",
      "Test score: 0.662\n"
     ]
    }
   ],
   "source": [
    "X_train, X_test = X_shuffled.iloc[:1500,:], X_shuffled.iloc[1500:,:]\n",
    "y_train, y_test = y_shuffled.iloc[:1500,], y_shuffled.iloc[1500:,]\n",
    "\n",
    "print('DummyClassifier:')\n",
    "model_dummy = DummyClassifier()\n",
    "fit_and_report(model_dummy, X_train, y_train, X_test, y_test)\n",
    "\n",
    "print('DecisionTreeClassifier:')\n",
    "model_tree = DecisionTreeClassifier(random_state=123)\n",
    "fit_and_report(model_tree, X_train, y_train, X_test, y_test)\n"
   ]
  },
  {
   "cell_type": "markdown",
   "metadata": {},
   "source": [
    "<br><br>"
   ]
  },
  {
   "cell_type": "markdown",
   "metadata": {},
   "source": [
    "### 3.3 Splitting with `train_test_split` \n",
    "rubric={accuracy:4}\n",
    "\n",
    "**Your tasks:** \n",
    "\n",
    "1. Now split the Spotify dataset into a 80% train and 20% test using [`train_test_split`](https://scikit-learn.org/stable/modules/generated/sklearn.model_selection.train_test_split.html) with `random_state=123`.\n",
    "2. Train `DummyClassifier` on the train set and score it on the train and test sets.    \n",
    "3. Train the `DecisionTreeClassifier` with `random_state=123` on the train set and score it on the train and test sets. "
   ]
  },
  {
   "cell_type": "code",
   "execution_count": null,
   "metadata": {},
   "outputs": [
    {
     "name": "stdout",
     "output_type": "stream",
     "text": [
      "DummyClassifier:\n",
      "Training score: 0.508\n",
      "Test score: 0.498\n",
      "DecisionTreeClassifier:\n",
      "Training score: 0.999\n",
      "Test score: 0.688\n"
     ]
    }
   ],
   "source": [
    "X_train, X_test, y_train, y_test = train_test_split(\n",
    "    X, y, test_size=0.2, random_state=123\n",
    ")\n",
    "\n",
    "print('DummyClassifier:')\n",
    "model_dummy = DummyClassifier()\n",
    "fit_and_report(model_dummy, X_train, y_train, X_test, y_test)\n",
    "\n",
    "print('DecisionTreeClassifier:')\n",
    "model_tree = DecisionTreeClassifier(random_state=123)\n",
    "fit_and_report(model_tree, X_train, y_train, X_test, y_test)"
   ]
  },
  {
   "cell_type": "markdown",
   "metadata": {},
   "source": [
    "<br><br>"
   ]
  },
  {
   "cell_type": "markdown",
   "metadata": {},
   "source": [
    "### 3.4 Discussion\n",
    "rubric={reasoning:4}\n",
    "\n",
    "**Your tasks:** \n",
    "1. Why do you think we got a lower test accuracy on the Spotify Song Attributes datasets when we did not shuffle the data before splitting compared to when we shuffled the data before splitting?  \n",
    "2. Do you expect `DummyClassifier` to be sensitive to data shuffling and splitting? Why or why not?     "
   ]
  },
  {
   "cell_type": "markdown",
   "metadata": {},
   "source": [
    "1. When a dataset is provided, it might be sorted, which makes the data has bias if we do not pick our data randomly. We want a set of training data that can represent the whole data set, therefore, shuffling is necessary.\n",
    "2. Yes, it is very sensitive to shuffling and splitting. Since DummyClassifier only look at the frequency of y, if y is sorted, or not randomly distributed, the model will have bias. In our example, most of the ones are at the top of the data set while zeros at the bottom, when we count the training data without shuffle, naturally the model will predict 1 for all cases, and fail when we apply it to test data."
   ]
  },
  {
   "cell_type": "code",
   "execution_count": null,
   "metadata": {},
   "outputs": [
    {
     "data": {
      "text/plain": [
       "0    1\n",
       "1    1\n",
       "2    1\n",
       "3    1\n",
       "4    1\n",
       "Name: target, dtype: int64"
      ]
     },
     "execution_count": 26,
     "metadata": {},
     "output_type": "execute_result"
    }
   ],
   "source": [
    "y.head(5)"
   ]
  },
  {
   "cell_type": "code",
   "execution_count": null,
   "metadata": {},
   "outputs": [
    {
     "data": {
      "text/plain": [
       "2012    0\n",
       "2013    0\n",
       "2014    0\n",
       "2015    0\n",
       "2016    0\n",
       "Name: target, dtype: int64"
      ]
     },
     "execution_count": 27,
     "metadata": {},
     "output_type": "execute_result"
    }
   ],
   "source": [
    "y.tail(5)"
   ]
  },
  {
   "cell_type": "markdown",
   "metadata": {},
   "source": [
    "<br><br>"
   ]
  },
  {
   "cell_type": "markdown",
   "metadata": {},
   "source": [
    "### 3.5 Cross-validation\n",
    "rubric={accuracy:4}\n",
    "\n",
    "**Your tasks:** \n",
    "\n",
    "Carry out 10-fold cross validation using `cross_validate` on `X_train` and `y_train` from Exercise 3.3 by passing `return_train_score=True`. Display the results as a pandas dataframe. "
   ]
  },
  {
   "cell_type": "code",
   "execution_count": null,
   "metadata": {},
   "outputs": [
    {
     "data": {
      "text/html": [
       "<div>\n",
       "<style scoped>\n",
       "    .dataframe tbody tr th:only-of-type {\n",
       "        vertical-align: middle;\n",
       "    }\n",
       "\n",
       "    .dataframe tbody tr th {\n",
       "        vertical-align: top;\n",
       "    }\n",
       "\n",
       "    .dataframe thead th {\n",
       "        text-align: right;\n",
       "    }\n",
       "</style>\n",
       "<table border=\"1\" class=\"dataframe\">\n",
       "  <thead>\n",
       "    <tr style=\"text-align: right;\">\n",
       "      <th></th>\n",
       "      <th>fit_time</th>\n",
       "      <th>score_time</th>\n",
       "      <th>test_score</th>\n",
       "      <th>train_score</th>\n",
       "    </tr>\n",
       "  </thead>\n",
       "  <tbody>\n",
       "    <tr>\n",
       "      <th>0</th>\n",
       "      <td>0.018726</td>\n",
       "      <td>0.002628</td>\n",
       "      <td>0.722222</td>\n",
       "      <td>0.999311</td>\n",
       "    </tr>\n",
       "    <tr>\n",
       "      <th>1</th>\n",
       "      <td>0.019385</td>\n",
       "      <td>0.003403</td>\n",
       "      <td>0.660494</td>\n",
       "      <td>1.000000</td>\n",
       "    </tr>\n",
       "    <tr>\n",
       "      <th>2</th>\n",
       "      <td>0.016185</td>\n",
       "      <td>0.001994</td>\n",
       "      <td>0.660494</td>\n",
       "      <td>0.999311</td>\n",
       "    </tr>\n",
       "    <tr>\n",
       "      <th>3</th>\n",
       "      <td>0.017209</td>\n",
       "      <td>0.001832</td>\n",
       "      <td>0.677019</td>\n",
       "      <td>1.000000</td>\n",
       "    </tr>\n",
       "    <tr>\n",
       "      <th>4</th>\n",
       "      <td>0.015630</td>\n",
       "      <td>0.001782</td>\n",
       "      <td>0.695652</td>\n",
       "      <td>0.999311</td>\n",
       "    </tr>\n",
       "    <tr>\n",
       "      <th>5</th>\n",
       "      <td>0.016298</td>\n",
       "      <td>0.001808</td>\n",
       "      <td>0.652174</td>\n",
       "      <td>0.999311</td>\n",
       "    </tr>\n",
       "    <tr>\n",
       "      <th>6</th>\n",
       "      <td>0.014877</td>\n",
       "      <td>0.001813</td>\n",
       "      <td>0.658385</td>\n",
       "      <td>0.999311</td>\n",
       "    </tr>\n",
       "    <tr>\n",
       "      <th>7</th>\n",
       "      <td>0.014943</td>\n",
       "      <td>0.001601</td>\n",
       "      <td>0.608696</td>\n",
       "      <td>0.999311</td>\n",
       "    </tr>\n",
       "    <tr>\n",
       "      <th>8</th>\n",
       "      <td>0.014754</td>\n",
       "      <td>0.002051</td>\n",
       "      <td>0.683230</td>\n",
       "      <td>0.999311</td>\n",
       "    </tr>\n",
       "    <tr>\n",
       "      <th>9</th>\n",
       "      <td>0.015762</td>\n",
       "      <td>0.001740</td>\n",
       "      <td>0.695652</td>\n",
       "      <td>0.999311</td>\n",
       "    </tr>\n",
       "  </tbody>\n",
       "</table>\n",
       "</div>"
      ],
      "text/plain": [
       "   fit_time  score_time  test_score  train_score\n",
       "0  0.018726    0.002628    0.722222     0.999311\n",
       "1  0.019385    0.003403    0.660494     1.000000\n",
       "2  0.016185    0.001994    0.660494     0.999311\n",
       "3  0.017209    0.001832    0.677019     1.000000\n",
       "4  0.015630    0.001782    0.695652     0.999311\n",
       "5  0.016298    0.001808    0.652174     0.999311\n",
       "6  0.014877    0.001813    0.658385     0.999311\n",
       "7  0.014943    0.001601    0.608696     0.999311\n",
       "8  0.014754    0.002051    0.683230     0.999311\n",
       "9  0.015762    0.001740    0.695652     0.999311"
      ]
     },
     "execution_count": 28,
     "metadata": {},
     "output_type": "execute_result"
    }
   ],
   "source": [
    "scores = pd.DataFrame(cross_validate(model_tree, X_train, y_train, cv=10, return_train_score=True))\n",
    "scores"
   ]
  },
  {
   "cell_type": "markdown",
   "metadata": {},
   "source": [
    "<br><br>"
   ]
  },
  {
   "cell_type": "markdown",
   "metadata": {},
   "source": [
    "### 3.6 Examining cross-validation scores\n",
    "rubric={reasoning:5}\n",
    "\n",
    "**Your tasks:** \n",
    "1. Inspect the 10 sub-scores from the 10 folds of cross-validation. How does this inform the trustworthiness of your mean cross-validation score?\n",
    "2. Do you see a significant difference between the training scores and the cross-validation scores? Briefly discuss in 1 to 2 sentences. "
   ]
  },
  {
   "cell_type": "markdown",
   "metadata": {},
   "source": [
    "1. Not trustworthy. The range of validation score is large, from 0.62 to 0.75 (different > 0.12), which indicates that by changing the combination of validation and training data, it can vary. It is not trustworthy because of the steadiness."
   ]
  },
  {
   "cell_type": "code",
   "execution_count": null,
   "metadata": {},
   "outputs": [
    {
     "data": {
      "text/plain": [
       "0.11352657004830913"
      ]
     },
     "execution_count": 29,
     "metadata": {},
     "output_type": "execute_result"
    }
   ],
   "source": [
    "scores['test_score'].max()-scores['test_score'].min()"
   ]
  },
  {
   "cell_type": "code",
   "execution_count": null,
   "metadata": {},
   "outputs": [
    {
     "data": {
      "text/html": [
       "\n",
       "<div id=\"altair-viz-503170ea1aac43158ce5873d9e25a3e0\"></div>\n",
       "<script type=\"text/javascript\">\n",
       "  (function(spec, embedOpt){\n",
       "    let outputDiv = document.currentScript.previousElementSibling;\n",
       "    if (outputDiv.id !== \"altair-viz-503170ea1aac43158ce5873d9e25a3e0\") {\n",
       "      outputDiv = document.getElementById(\"altair-viz-503170ea1aac43158ce5873d9e25a3e0\");\n",
       "    }\n",
       "    const paths = {\n",
       "      \"vega\": \"https://cdn.jsdelivr.net/npm//vega@5?noext\",\n",
       "      \"vega-lib\": \"https://cdn.jsdelivr.net/npm//vega-lib?noext\",\n",
       "      \"vega-lite\": \"https://cdn.jsdelivr.net/npm//vega-lite@4.8.1?noext\",\n",
       "      \"vega-embed\": \"https://cdn.jsdelivr.net/npm//vega-embed@6?noext\",\n",
       "    };\n",
       "\n",
       "    function loadScript(lib) {\n",
       "      return new Promise(function(resolve, reject) {\n",
       "        var s = document.createElement('script');\n",
       "        s.src = paths[lib];\n",
       "        s.async = true;\n",
       "        s.onload = () => resolve(paths[lib]);\n",
       "        s.onerror = () => reject(`Error loading script: ${paths[lib]}`);\n",
       "        document.getElementsByTagName(\"head\")[0].appendChild(s);\n",
       "      });\n",
       "    }\n",
       "\n",
       "    function showError(err) {\n",
       "      outputDiv.innerHTML = `<div class=\"error\" style=\"color:red;\">${err}</div>`;\n",
       "      throw err;\n",
       "    }\n",
       "\n",
       "    function displayChart(vegaEmbed) {\n",
       "      vegaEmbed(outputDiv, spec, embedOpt)\n",
       "        .catch(err => showError(`Javascript Error: ${err.message}<br>This usually means there's a typo in your chart specification. See the javascript console for the full traceback.`));\n",
       "    }\n",
       "\n",
       "    if(typeof define === \"function\" && define.amd) {\n",
       "      requirejs.config({paths});\n",
       "      require([\"vega-embed\"], displayChart, err => showError(`Error loading script: ${err.message}`));\n",
       "    } else if (typeof vegaEmbed === \"function\") {\n",
       "      displayChart(vegaEmbed);\n",
       "    } else {\n",
       "      loadScript(\"vega\")\n",
       "        .then(() => loadScript(\"vega-lite\"))\n",
       "        .then(() => loadScript(\"vega-embed\"))\n",
       "        .catch(showError)\n",
       "        .then(() => displayChart(vegaEmbed));\n",
       "    }\n",
       "  })({\"config\": {\"view\": {\"continuousWidth\": 400, \"continuousHeight\": 300}}, \"data\": {\"name\": \"data-dd5ed9ca7d16e64442f1ebf17dc4e6cf\"}, \"mark\": \"boxplot\", \"encoding\": {\"color\": {\"type\": \"nominal\", \"field\": \"score_type\"}, \"x\": {\"type\": \"quantitative\", \"field\": \"score\", \"scale\": {\"domain\": [0.6, 0.8]}}, \"y\": {\"type\": \"nominal\", \"field\": \"score_type\"}}, \"$schema\": \"https://vega.github.io/schema/vega-lite/v4.8.1.json\", \"datasets\": {\"data-dd5ed9ca7d16e64442f1ebf17dc4e6cf\": [{\"fit_time\": 0.018725872039794922, \"score_time\": 0.0026280879974365234, \"score_type\": \"test_score\", \"score\": 0.7222222222222222}, {\"fit_time\": 0.01938486099243164, \"score_time\": 0.0034029483795166016, \"score_type\": \"test_score\", \"score\": 0.6604938271604939}, {\"fit_time\": 0.01618504524230957, \"score_time\": 0.0019941329956054688, \"score_type\": \"test_score\", \"score\": 0.6604938271604939}, {\"fit_time\": 0.01720905303955078, \"score_time\": 0.0018320083618164062, \"score_type\": \"test_score\", \"score\": 0.6770186335403726}, {\"fit_time\": 0.01562976837158203, \"score_time\": 0.0017821788787841797, \"score_type\": \"test_score\", \"score\": 0.6956521739130435}, {\"fit_time\": 0.01629805564880371, \"score_time\": 0.0018079280853271484, \"score_type\": \"test_score\", \"score\": 0.6521739130434783}, {\"fit_time\": 0.014877080917358398, \"score_time\": 0.0018129348754882812, \"score_type\": \"test_score\", \"score\": 0.6583850931677019}, {\"fit_time\": 0.01494288444519043, \"score_time\": 0.0016009807586669922, \"score_type\": \"test_score\", \"score\": 0.6086956521739131}, {\"fit_time\": 0.014754056930541992, \"score_time\": 0.0020508766174316406, \"score_type\": \"test_score\", \"score\": 0.6832298136645962}, {\"fit_time\": 0.0157620906829834, \"score_time\": 0.0017399787902832031, \"score_type\": \"test_score\", \"score\": 0.6956521739130435}]}}, {\"mode\": \"vega-lite\"});\n",
       "</script>"
      ],
      "text/plain": [
       "alt.Chart(...)"
      ]
     },
     "execution_count": 30,
     "metadata": {},
     "output_type": "execute_result"
    }
   ],
   "source": [
    "scores_melt = scores.melt(\n",
    "    id_vars=[\"fit_time\", \"score_time\"], var_name=\"score_type\", value_name=\"score\"\n",
    ").query('score_type == \"test_score\"')\n",
    "test_score_boxplot = (\n",
    "    alt.Chart(scores_melt)\n",
    "    .mark_boxplot()\n",
    "    .encode(\n",
    "        y=\"score_type\",\n",
    "        x=alt.X(\"score\", scale=alt.Scale(domain=[0.6, 0.8])),\n",
    "        color=\"score_type\",\n",
    "    )\n",
    ")\n",
    "test_score_boxplot"
   ]
  },
  {
   "cell_type": "markdown",
   "metadata": {},
   "source": [
    "2. Yes, the difference between training mean and cross-validation mean is large, while training mean is close to 1, the cross-validation mean is only 0.66. It indicates that the model is overfitting."
   ]
  },
  {
   "cell_type": "code",
   "execution_count": null,
   "metadata": {},
   "outputs": [
    {
     "data": {
      "text/plain": [
       "0.6714017329959358"
      ]
     },
     "execution_count": 31,
     "metadata": {},
     "output_type": "execute_result"
    }
   ],
   "source": [
    "scores['test_score'].mean()"
   ]
  },
  {
   "cell_type": "code",
   "execution_count": null,
   "metadata": {},
   "outputs": [
    {
     "data": {
      "text/plain": [
       "0.9994489408843148"
      ]
     },
     "execution_count": 32,
     "metadata": {},
     "output_type": "execute_result"
    }
   ],
   "source": [
    "scores['train_score'].mean()"
   ]
  },
  {
   "cell_type": "markdown",
   "metadata": {},
   "source": [
    "<br><br><br><br>"
   ]
  },
  {
   "cell_type": "markdown",
   "metadata": {},
   "source": [
    "## Exercise 4: Hyperparameters <a name=\"4\"></a>\n",
    "<hr>"
   ]
  },
  {
   "cell_type": "markdown",
   "metadata": {},
   "source": [
    "### 4.1 Train and cross-validation plots\n",
    "rubric={accuracy:12}\n",
    "\n",
    "In this exercise, you'll experiment with the `max_depth` hyperparameter of the decision tree classifier. See the [`DecisionTreeClassifier` documentation](https://scikit-learn.org/stable/modules/generated/sklearn.tree.DecisionTreeClassifier.html) for more details.\n",
    "\n",
    "**Your tasks:**\n",
    "\n",
    "1. Just to start fresh, split the Spotify dataset into a 80% train and 20% test subset using [`sklearn.model_selection.train_test_split`](https://scikit-learn.org/stable/modules/generated/sklearn.model_selection.train_test_split.html) and `random_state=123`.\n",
    "2. Explore the `max_depth` hyperparameter. Run 10-fold cross-validation for trees with different values of `max_depth` (at least 10 different values in the range 1 to 25). \n",
    "3. For each `max_depth`, get both the train accuracy and the cross-validation accuracy.\n",
    "4. Make a plot with `max_depth` on the *x*-axis and the train and cross-validation scores on the *y*-axis. That is, your plot should have two curves, one for train and one for cross-validation. Include a legend to specify which is which.\n",
    "\n",
    "> You may use whatever tool you like for plotting. We also have done something similar in lecture 2, and you may adapt that code to answer this question. \n",
    "\n",
    "> Note: generally speaking (for all assignments) you are welcome to copy/paste code directly from the lecture notes, though I ask that you add a small citation (e.g. \"Adapted from lecture 2\") if you do so."
   ]
  },
  {
   "cell_type": "code",
   "execution_count": null,
   "metadata": {},
   "outputs": [
    {
     "data": {
      "text/plain": [
       "<AxesSubplot:xlabel='depth'>"
      ]
     },
     "execution_count": 33,
     "metadata": {},
     "output_type": "execute_result"
    },
    {
     "data": {
      "image/png": "[encoded data removed]",
      "text/plain": [
       "<Figure size 432x288 with 1 Axes>"
      ]
     },
     "metadata": {
      "filenames": {
       "image/png": "/Users/macychan/Git/Personal Project/spotify_user_behaviour_predictor/spotify_user_behaviour_predictor/_build/jupyter_execute/MachineLearning_43_1.png"
      },
      "needs_background": "light"
     },
     "output_type": "display_data"
    }
   ],
   "source": [
    "X_train, X_test, y_train, y_test = train_test_split(\n",
    "    X, y, test_size=0.2, random_state=123\n",
    ")\n",
    "\n",
    "result_dict = pd.DataFrame(columns=[\"depth\", \"mean_cv_score\", \"mean_train_score\"])\n",
    "for depth in np.arange(1, 25):\n",
    "    model = DecisionTreeClassifier(max_depth=depth)\n",
    "    score = cross_validate(model, X_train, y_train, cv=10, return_train_score=True)\n",
    "    result_dict = result_dict.append(\n",
    "        {\n",
    "            \"depth\": depth,\n",
    "            \"mean_cv_score\": score[\"test_score\"].mean(),\n",
    "            \"mean_train_score\": score[\"train_score\"].mean(),\n",
    "        },\n",
    "        ignore_index=True,\n",
    "    )\n",
    "\n",
    "result_dict[\"depth\"] = result_dict[\"depth\"].astype(\"int\")\n",
    "result_dict = result_dict.set_index(\"depth\")\n",
    "result_dict[[\"mean_cv_score\", \"mean_train_score\"]].plot()"
   ]
  },
  {
   "cell_type": "markdown",
   "metadata": {},
   "source": [
    "### 4.2 `max_depth` and the fundamental tradeoff\n",
    "rubric={reasoning:2}\n",
    "\n",
    "**Your tasks:**\n",
    "1. Discuss how changing the `max_depth` hyperparameter affects the training and cross-validation accuracy. "
   ]
  },
  {
   "cell_type": "markdown",
   "metadata": {},
   "source": [
    "For training accuracy, it starts at low accuracy. When `max_depth` increases, training accuracy increases and gets closer to 1. It is because more branches are used to evaluate examples.  \n",
    "For cross-validation accuracy, it starts at low accuracy where it is similar to training accuracy. When `max_depth` increases, cross-validation accuracy increases. However, at depth equal to 4, it turns and start decreasing. The differences between training accuracy and cross-validation accuracy also grow after that."
   ]
  },
  {
   "cell_type": "code",
   "execution_count": null,
   "metadata": {},
   "outputs": [
    {
     "data": {
      "text/html": [
       "<div>\n",
       "<style scoped>\n",
       "    .dataframe tbody tr th:only-of-type {\n",
       "        vertical-align: middle;\n",
       "    }\n",
       "\n",
       "    .dataframe tbody tr th {\n",
       "        vertical-align: top;\n",
       "    }\n",
       "\n",
       "    .dataframe thead th {\n",
       "        text-align: right;\n",
       "    }\n",
       "</style>\n",
       "<table border=\"1\" class=\"dataframe\">\n",
       "  <thead>\n",
       "    <tr style=\"text-align: right;\">\n",
       "      <th></th>\n",
       "      <th>mean_cv_score</th>\n",
       "      <th>mean_train_score</th>\n",
       "    </tr>\n",
       "    <tr>\n",
       "      <th>depth</th>\n",
       "      <th></th>\n",
       "      <th></th>\n",
       "    </tr>\n",
       "  </thead>\n",
       "  <tbody>\n",
       "    <tr>\n",
       "      <th>1</th>\n",
       "      <td>0.642926</td>\n",
       "      <td>0.650686</td>\n",
       "    </tr>\n",
       "    <tr>\n",
       "      <th>2</th>\n",
       "      <td>0.692520</td>\n",
       "      <td>0.711718</td>\n",
       "    </tr>\n",
       "    <tr>\n",
       "      <th>3</th>\n",
       "      <td>0.694387</td>\n",
       "      <td>0.732797</td>\n",
       "    </tr>\n",
       "    <tr>\n",
       "      <th>4</th>\n",
       "      <td>0.724139</td>\n",
       "      <td>0.768066</td>\n",
       "    </tr>\n",
       "    <tr>\n",
       "      <th>5</th>\n",
       "      <td>0.716678</td>\n",
       "      <td>0.793691</td>\n",
       "    </tr>\n",
       "  </tbody>\n",
       "</table>\n",
       "</div>"
      ],
      "text/plain": [
       "       mean_cv_score  mean_train_score\n",
       "depth                                 \n",
       "1           0.642926          0.650686\n",
       "2           0.692520          0.711718\n",
       "3           0.694387          0.732797\n",
       "4           0.724139          0.768066\n",
       "5           0.716678          0.793691"
      ]
     },
     "execution_count": 34,
     "metadata": {},
     "output_type": "execute_result"
    }
   ],
   "source": [
    "result_dict.head()"
   ]
  },
  {
   "cell_type": "markdown",
   "metadata": {},
   "source": [
    "<br><br>"
   ]
  },
  {
   "cell_type": "markdown",
   "metadata": {},
   "source": [
    "### 4.3 Picking the best value for `max_depth`\n",
    "rubric={reasoning:3}\n",
    "\n",
    "**Your tasks:**\n",
    "1. From these results, what value for `max_depth` would you pick as the optimal value? "
   ]
  },
  {
   "cell_type": "markdown",
   "metadata": {},
   "source": [
    "The optimal value of `max_depth` is 4, which has highest cross-validation accuracy and closest to raining accuracy."
   ]
  },
  {
   "cell_type": "markdown",
   "metadata": {},
   "source": [
    "<br><br>"
   ]
  },
  {
   "cell_type": "markdown",
   "metadata": {},
   "source": [
    "### 4.4 Final assessment on the test split \n",
    "rubric={accuracy:3}\n",
    "\n",
    "1. Train a decision tree classifier using the optimal `max_depth` you chose in the previous exercise on the _entire training set_.\n",
    "2. Compute and display the test score. "
   ]
  },
  {
   "cell_type": "code",
   "execution_count": null,
   "metadata": {},
   "outputs": [
    {
     "data": {
      "text/plain": [
       "0.7619342839429635"
      ]
     },
     "execution_count": 35,
     "metadata": {},
     "output_type": "execute_result"
    }
   ],
   "source": [
    "model_spotify_max4 = DecisionTreeClassifier(max_depth=4)\n",
    "model_spotify_max4.fit(X_train, y_train)\n",
    "score_spotify_max4 = model_spotify_max4.score(X_train, y_train)\n",
    "score_spotify_max4"
   ]
  },
  {
   "cell_type": "code",
   "execution_count": null,
   "metadata": {},
   "outputs": [
    {
     "name": "stdout",
     "output_type": "stream",
     "text": [
      "Training score: 0.762\n",
      "Test score: 0.678\n",
      "None\n"
     ]
    }
   ],
   "source": [
    "print(fit_and_report(model_spotify_max4, X_train, y_train, X_test, y_test))"
   ]
  },
  {
   "cell_type": "markdown",
   "metadata": {},
   "source": [
    "<br><br>"
   ]
  },
  {
   "cell_type": "markdown",
   "metadata": {},
   "source": [
    "### 4.5 Analysis\n",
    "rubric={reasoning:5}\n",
    "\n",
    "1. How do the test scores compare to the cross-validation scores? Briefly discuss. \n",
    "2. Why can't you simply pick the value of `max_depth` that gives the best accuracy on the training data? (Answer in maximum 2 to 3 sentences.)\n",
    "3. Do you think that the `max_depth` you chose would generalize to other \"spotify\" datasets (i.e., data on other spotify users)?"
   ]
  },
  {
   "cell_type": "markdown",
   "metadata": {},
   "source": [
    "1. Test scores and cross-validation scores are similar. Both are using the same set of data, while we take the mean of all the cross-validation scores, we also calculate the test scores at once using the full set of training data. Mathematically, the results should be similar.\n",
    "2. When `max_depth` is high, the model picks up some patterns from the training data that are not real pattern in the training data but random quirks. That way, the model is overfitting and it is not generalized enough to predict new data, hence the low accuracy in validation data. Since validation data is a proxy to test and real life data, the validation accuracy is more important.\n",
    "3. I think the `max_depth` is generalized enough to be used on other spotify users. `max_depth` controls the tree depth, which is the maximum thresholds and features that we use to identify a user preference of each song. Even though the trained model will not work (i.e. We need the user's personal data to train the model again), the hyper parameter can be similar. It should be enough to identify a personal preference by asking a similar amount of questions to different human by the similar features."
   ]
  }
 ],
 "metadata": {
  "anaconda-cloud": {},
  "celltoolbar": "Slideshow",
  "kernelspec": {
   "display_name": "Python 3 (ipykernel)",
   "language": "python",
   "name": "python3"
  },
  "language_info": {
   "codemirror_mode": {
    "name": "ipython",
    "version": 3
   },
   "file_extension": ".py",
   "mimetype": "text/x-python",
   "name": "python",
   "nbconvert_exporter": "python",
   "pygments_lexer": "ipython3",
   "version": "3.9.5"
  },
  "toc-autonumbering": false,
  "toc-showtags": false
 },
 "nbformat": 4,
 "nbformat_minor": 4
}