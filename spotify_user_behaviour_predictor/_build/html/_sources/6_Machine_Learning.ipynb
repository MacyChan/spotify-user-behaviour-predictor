{
 "cells": [
  {
   "cell_type": "markdown",
   "metadata": {},
   "source": [
    "# Machine Learning analysis\n",
    "\n",
    "- This is a Python base notebook  \n",
    "\n",
    "Kaggle's [Spotify Song Attributes](https://www.kaggle.com/geomack/spotifyclassification/home) dataset contains a number of features of songs from 2017 and a binary variable `target` that represents whether the user liked the song (encoded as 1) or not (encoded as 0). See the documentation of all the features [here](https://developer.spotify.com/documentation/web-api/reference/tracks/get-audio-features/). "
   ]
  },
  {
   "cell_type": "markdown",
   "metadata": {},
   "source": [
    "## Imports"
   ]
  },
  {
   "cell_type": "markdown",
   "metadata": {},
   "source": [
    "### Import libraries"
   ]
  },
  {
   "cell_type": "code",
   "execution_count": 1,
   "metadata": {},
   "outputs": [],
   "source": [
    "import matplotlib.pyplot as plt\n",
    "import numpy as np\n",
    "import pandas as pd\n",
    "from sklearn.compose import ColumnTransformer, make_column_transformer\n",
    "\n",
    "from sklearn.model_selection import (\n",
    "    RandomizedSearchCV,\n",
    "    cross_validate,\n",
    "    train_test_split,\n",
    ")\n",
    "from sklearn.pipeline import make_pipeline \n",
    "from sklearn.preprocessing import StandardScaler, OneHotEncoder\n",
    "from sklearn.impute import SimpleImputer\n",
    "    \n",
    "from sklearn.dummy import DummyClassifier\n",
    "from sklearn.linear_model import LogisticRegression, Ridge\n",
    "from sklearn.ensemble import RandomForestClassifier\n",
    "from lightgbm.sklearn import LGBMClassifier\n",
    "from xgboost import XGBClassifier\n",
    "from catboost import CatBoostClassifier\n",
    "from sklearn.tree import DecisionTreeClassifier\n",
    "from sklearn.ensemble import VotingClassifier\n",
    "\n",
    "from sklearn.metrics import (\n",
    "    classification_report,\n",
    "    roc_curve,\n",
    "    RocCurveDisplay,\n",
    "    roc_auc_score\n",
    ")\n",
    "\n",
    "import shap\n",
    "from pylyrics import clean_text as ct"
   ]
  },
  {
   "cell_type": "code",
   "execution_count": 2,
   "metadata": {},
   "outputs": [],
   "source": [
    "def mean_std_cross_val_scores(model, X_train, y_train, **kwargs):\n",
    "    \"\"\"\n",
    "    Returns mean and std of cross validation\n",
    "\n",
    "    Parameters\n",
    "    ----------\n",
    "    model :\n",
    "        scikit-learn model\n",
    "    X_train : numpy array or pandas DataFrame\n",
    "        X in the training data\n",
    "    y_train :\n",
    "        y in the training data\n",
    "\n",
    "    Returns\n",
    "    ----------\n",
    "        pandas Series with mean scores from cross_validation\n",
    "    \"\"\"\n",
    "\n",
    "    scores = cross_validate(model, X_train, y_train, **kwargs)\n",
    "\n",
    "    mean_scores = pd.DataFrame(scores).mean()\n",
    "    std_scores = pd.DataFrame(scores).std()\n",
    "    out_col = []\n",
    "\n",
    "    for i in range(len(mean_scores)):\n",
    "        out_col.append((f\"%0.3f (+/- %0.3f)\" % (mean_scores[i], std_scores[i])))\n",
    "\n",
    "    return pd.Series(data=out_col, index=mean_scores.index)"
   ]
  },
  {
   "cell_type": "markdown",
   "metadata": {},
   "source": [
    "### Reading the data CSV\n",
    "Read in the data CSV and store it as a pandas dataframe named `spotify_df`."
   ]
  },
  {
   "cell_type": "code",
   "execution_count": 3,
   "metadata": {},
   "outputs": [
    {
     "data": {
      "text/html": [
       "<div>\n",
       "<style scoped>\n",
       "    .dataframe tbody tr th:only-of-type {\n",
       "        vertical-align: middle;\n",
       "    }\n",
       "\n",
       "    .dataframe tbody tr th {\n",
       "        vertical-align: top;\n",
       "    }\n",
       "\n",
       "    .dataframe thead th {\n",
       "        text-align: right;\n",
       "    }\n",
       "</style>\n",
       "<table border=\"1\" class=\"dataframe\">\n",
       "  <thead>\n",
       "    <tr style=\"text-align: right;\">\n",
       "      <th></th>\n",
       "      <th>acousticness</th>\n",
       "      <th>danceability</th>\n",
       "      <th>duration_ms</th>\n",
       "      <th>energy</th>\n",
       "      <th>instrumentalness</th>\n",
       "      <th>key</th>\n",
       "      <th>liveness</th>\n",
       "      <th>loudness</th>\n",
       "      <th>mode</th>\n",
       "      <th>speechiness</th>\n",
       "      <th>...</th>\n",
       "      <th>emb_sent_758</th>\n",
       "      <th>emb_sent_759</th>\n",
       "      <th>emb_sent_760</th>\n",
       "      <th>emb_sent_761</th>\n",
       "      <th>emb_sent_762</th>\n",
       "      <th>emb_sent_763</th>\n",
       "      <th>emb_sent_764</th>\n",
       "      <th>emb_sent_765</th>\n",
       "      <th>emb_sent_766</th>\n",
       "      <th>emb_sent_767</th>\n",
       "    </tr>\n",
       "  </thead>\n",
       "  <tbody>\n",
       "    <tr>\n",
       "      <th>0</th>\n",
       "      <td>0.0102</td>\n",
       "      <td>0.833</td>\n",
       "      <td>204600</td>\n",
       "      <td>0.434</td>\n",
       "      <td>0.0219</td>\n",
       "      <td>2</td>\n",
       "      <td>0.165</td>\n",
       "      <td>-8.795</td>\n",
       "      <td>1</td>\n",
       "      <td>0.431</td>\n",
       "      <td>...</td>\n",
       "      <td>-0.043803</td>\n",
       "      <td>-0.447969</td>\n",
       "      <td>0.751878</td>\n",
       "      <td>-0.143682</td>\n",
       "      <td>-0.581485</td>\n",
       "      <td>-0.016169</td>\n",
       "      <td>0.619145</td>\n",
       "      <td>0.287845</td>\n",
       "      <td>-0.234614</td>\n",
       "      <td>-0.471101</td>\n",
       "    </tr>\n",
       "    <tr>\n",
       "      <th>1</th>\n",
       "      <td>0.0102</td>\n",
       "      <td>0.833</td>\n",
       "      <td>204600</td>\n",
       "      <td>0.434</td>\n",
       "      <td>0.0219</td>\n",
       "      <td>2</td>\n",
       "      <td>0.165</td>\n",
       "      <td>-8.795</td>\n",
       "      <td>1</td>\n",
       "      <td>0.431</td>\n",
       "      <td>...</td>\n",
       "      <td>-0.242343</td>\n",
       "      <td>0.043233</td>\n",
       "      <td>0.199484</td>\n",
       "      <td>0.161576</td>\n",
       "      <td>-0.384538</td>\n",
       "      <td>0.126095</td>\n",
       "      <td>0.462813</td>\n",
       "      <td>0.112398</td>\n",
       "      <td>0.002923</td>\n",
       "      <td>-0.256447</td>\n",
       "    </tr>\n",
       "    <tr>\n",
       "      <th>2</th>\n",
       "      <td>0.0102</td>\n",
       "      <td>0.833</td>\n",
       "      <td>204600</td>\n",
       "      <td>0.434</td>\n",
       "      <td>0.0219</td>\n",
       "      <td>2</td>\n",
       "      <td>0.165</td>\n",
       "      <td>-8.795</td>\n",
       "      <td>1</td>\n",
       "      <td>0.431</td>\n",
       "      <td>...</td>\n",
       "      <td>-0.316598</td>\n",
       "      <td>-0.339585</td>\n",
       "      <td>0.321482</td>\n",
       "      <td>0.280396</td>\n",
       "      <td>-0.003586</td>\n",
       "      <td>0.132081</td>\n",
       "      <td>-0.445193</td>\n",
       "      <td>0.301628</td>\n",
       "      <td>-0.287356</td>\n",
       "      <td>-0.504784</td>\n",
       "    </tr>\n",
       "    <tr>\n",
       "      <th>3</th>\n",
       "      <td>0.0102</td>\n",
       "      <td>0.833</td>\n",
       "      <td>204600</td>\n",
       "      <td>0.434</td>\n",
       "      <td>0.0219</td>\n",
       "      <td>2</td>\n",
       "      <td>0.165</td>\n",
       "      <td>-8.795</td>\n",
       "      <td>1</td>\n",
       "      <td>0.431</td>\n",
       "      <td>...</td>\n",
       "      <td>0.087176</td>\n",
       "      <td>-0.227342</td>\n",
       "      <td>0.278918</td>\n",
       "      <td>0.479892</td>\n",
       "      <td>-0.431301</td>\n",
       "      <td>0.224406</td>\n",
       "      <td>1.213418</td>\n",
       "      <td>-0.474493</td>\n",
       "      <td>-0.316002</td>\n",
       "      <td>-0.365130</td>\n",
       "    </tr>\n",
       "    <tr>\n",
       "      <th>4</th>\n",
       "      <td>0.0102</td>\n",
       "      <td>0.833</td>\n",
       "      <td>204600</td>\n",
       "      <td>0.434</td>\n",
       "      <td>0.0219</td>\n",
       "      <td>2</td>\n",
       "      <td>0.165</td>\n",
       "      <td>-8.795</td>\n",
       "      <td>1</td>\n",
       "      <td>0.431</td>\n",
       "      <td>...</td>\n",
       "      <td>0.117087</td>\n",
       "      <td>-0.418446</td>\n",
       "      <td>-0.040964</td>\n",
       "      <td>0.428880</td>\n",
       "      <td>-0.310667</td>\n",
       "      <td>-0.276378</td>\n",
       "      <td>0.260933</td>\n",
       "      <td>-0.361207</td>\n",
       "      <td>-0.267050</td>\n",
       "      <td>-0.332415</td>\n",
       "    </tr>\n",
       "    <tr>\n",
       "      <th>5</th>\n",
       "      <td>0.0102</td>\n",
       "      <td>0.833</td>\n",
       "      <td>204600</td>\n",
       "      <td>0.434</td>\n",
       "      <td>0.0219</td>\n",
       "      <td>2</td>\n",
       "      <td>0.165</td>\n",
       "      <td>-8.795</td>\n",
       "      <td>1</td>\n",
       "      <td>0.431</td>\n",
       "      <td>...</td>\n",
       "      <td>-0.182009</td>\n",
       "      <td>-0.468775</td>\n",
       "      <td>0.299990</td>\n",
       "      <td>0.213028</td>\n",
       "      <td>0.011709</td>\n",
       "      <td>-0.149237</td>\n",
       "      <td>0.507415</td>\n",
       "      <td>0.057419</td>\n",
       "      <td>-0.013157</td>\n",
       "      <td>-0.161389</td>\n",
       "    </tr>\n",
       "  </tbody>\n",
       "</table>\n",
       "<p>6 rows × 1646 columns</p>\n",
       "</div>"
      ],
      "text/plain": [
       "   acousticness  danceability  duration_ms  energy  instrumentalness  key  \\\n",
       "0        0.0102         0.833       204600   0.434            0.0219    2   \n",
       "1        0.0102         0.833       204600   0.434            0.0219    2   \n",
       "2        0.0102         0.833       204600   0.434            0.0219    2   \n",
       "3        0.0102         0.833       204600   0.434            0.0219    2   \n",
       "4        0.0102         0.833       204600   0.434            0.0219    2   \n",
       "5        0.0102         0.833       204600   0.434            0.0219    2   \n",
       "\n",
       "   liveness  loudness  mode  speechiness  ...  emb_sent_758  emb_sent_759  \\\n",
       "0     0.165    -8.795     1        0.431  ...     -0.043803     -0.447969   \n",
       "1     0.165    -8.795     1        0.431  ...     -0.242343      0.043233   \n",
       "2     0.165    -8.795     1        0.431  ...     -0.316598     -0.339585   \n",
       "3     0.165    -8.795     1        0.431  ...      0.087176     -0.227342   \n",
       "4     0.165    -8.795     1        0.431  ...      0.117087     -0.418446   \n",
       "5     0.165    -8.795     1        0.431  ...     -0.182009     -0.468775   \n",
       "\n",
       "   emb_sent_760  emb_sent_761 emb_sent_762 emb_sent_763  emb_sent_764  \\\n",
       "0      0.751878     -0.143682    -0.581485    -0.016169      0.619145   \n",
       "1      0.199484      0.161576    -0.384538     0.126095      0.462813   \n",
       "2      0.321482      0.280396    -0.003586     0.132081     -0.445193   \n",
       "3      0.278918      0.479892    -0.431301     0.224406      1.213418   \n",
       "4     -0.040964      0.428880    -0.310667    -0.276378      0.260933   \n",
       "5      0.299990      0.213028     0.011709    -0.149237      0.507415   \n",
       "\n",
       "   emb_sent_765  emb_sent_766  emb_sent_767  \n",
       "0      0.287845     -0.234614     -0.471101  \n",
       "1      0.112398      0.002923     -0.256447  \n",
       "2      0.301628     -0.287356     -0.504784  \n",
       "3     -0.474493     -0.316002     -0.365130  \n",
       "4     -0.361207     -0.267050     -0.332415  \n",
       "5      0.057419     -0.013157     -0.161389  \n",
       "\n",
       "[6 rows x 1646 columns]"
      ]
     },
     "execution_count": 3,
     "metadata": {},
     "output_type": "execute_result"
    }
   ],
   "source": [
    "spotify_df = pd.read_csv('data/spotify_df_processed.csv')#, index_col = 0 )\n",
    "spotify_df.head(6)"
   ]
  },
  {
   "cell_type": "markdown",
   "metadata": {},
   "source": [
    "## Data splitting\n",
    "Split the data into train and test portions. Remove `song_title`, separate data to `X_train`, `y_train`, `X_test`, `y_test`."
   ]
  },
  {
   "cell_type": "code",
   "execution_count": 4,
   "metadata": {},
   "outputs": [],
   "source": [
    "train_df, test_df = train_test_split(spotify_df, test_size=0.2, random_state=123)\n",
    "X_train, y_train = train_df.drop(columns=[\"target\"]), train_df[\"target\"].astype('category')\n",
    "X_test, y_test = test_df.drop(columns=[\"target\"]), test_df[\"target\"].astype('category')"
   ]
  },
  {
   "cell_type": "code",
   "execution_count": 5,
   "metadata": {},
   "outputs": [
    {
     "name": "stdout",
     "output_type": "stream",
     "text": [
      "The number of observations for train set:  3831\n",
      "The number of observations for test set:  958\n"
     ]
    }
   ],
   "source": [
    "# printing the number of observations for train and test sets\n",
    "print('The number of observations for train set: ', train_df['target'].shape[0])\n",
    "print('The number of observations for test set: ', test_df['target'].shape[0])"
   ]
  },
  {
   "cell_type": "markdown",
   "metadata": {},
   "source": [
    "I split 20% of the observations in the test data and 80% in the train data set. Overall the data set has about 4,000 observations, as it is not a very large data set, I preserved more portion for training."
   ]
  },
  {
   "cell_type": "markdown",
   "metadata": {},
   "source": [
    "## Scoring metric"
   ]
  },
  {
   "cell_type": "code",
   "execution_count": 6,
   "metadata": {},
   "outputs": [
    {
     "name": "stdout",
     "output_type": "stream",
     "text": [
      "The number of observations for positive targe:  1993\n",
      "The number of observations for negative targe:  1838\n"
     ]
    }
   ],
   "source": [
    "print('The number of observations for positive targe: ', train_df[\"target\"].sum())\n",
    "print('The number of observations for negative targe: ', len(train_df[\"target\"])-train_df[\"target\"].sum())"
   ]
  },
  {
   "cell_type": "markdown",
   "metadata": {},
   "source": [
    "Since it is a balanced data set and both positive and negative class are equally balanced, accuracy and precision-recall curves are selected as scoring metric."
   ]
  },
  {
   "cell_type": "code",
   "execution_count": 7,
   "metadata": {
    "tags": []
   },
   "outputs": [],
   "source": [
    "scoring_metric = [\"accuracy\", \"roc_auc\"]"
   ]
  },
  {
   "cell_type": "markdown",
   "metadata": {},
   "source": [
    "## Preprocessing and transformations \n",
    "Here is different feature types and the transformations I will apply on each feature type. "
   ]
  },
  {
   "cell_type": "markdown",
   "metadata": {},
   "source": [
    "| Transformation | Reason                                                                                                                                                                                                                                         | Features                                                                                                                                                                                                |\n",
    "|---------:|------------------------------------------------------------------------------------------------------------------------------------------------------------------------------------------------------------------------------------------------|---------------------------------------------------------------------------------------------------------------------------------------------------------------------------------------------------------|\n",
    "| OneHotEncoder |All of these features have fixed number of categories. `key` is circulated features like months. | `key`|\n",
    "| StandardScaler  | Numeric columns needs standardization | `acousticness`, `danceability`, `duration_ms`, `energy`, `instrumentalness`, `liveness`, `loudness`, `mode`, `speechiness`, `tempo`, `time_signature`, `valence`|\n",
    "| SimpleImputer, StandardScaler     | Analyze lyrics word using `paraphrase-distilroberta-base-v1`,  Numeric feature, processed in feature engineering  | `emb_sent_` |\n",
    "| none     | The format are as required, represented as category features, processed in feature engineering | `genres_` |\n",
    "| drop     | Free text column which has low correlation with target.| `song_title` |\n",
    "| drop     | Replaced by artist genres `genres_`, do not want to be bounded by specific artist| `artist` |"
   ]
  },
  {
   "cell_type": "code",
   "execution_count": 8,
   "metadata": {},
   "outputs": [],
   "source": [
    "category_feats = [\"key\"]\n",
    "none_feats = [col for col in X_train.columns if col.startswith('genres_')]\n",
    "drop_feats = ['song_title', \"artist\", 'lyrics'] # Don't want to be bounded by artist\n",
    "\n",
    "\n",
    "numeric_feats  = list(set(X_train.columns)\n",
    "            - set(category_feats)\n",
    "            - set(none_feats)\n",
    "            - set(drop_feats)\n",
    "        )\n",
    "\n",
    "numeric_pipe = make_pipeline(SimpleImputer(missing_values=np.nan, strategy='mean'), StandardScaler())\n",
    "\n",
    "\n",
    "preprocessor = make_column_transformer(\n",
    "    (\"drop\", drop_feats),\n",
    "    (numeric_pipe, numeric_feats),\n",
    "    (OneHotEncoder(handle_unknown=\"ignore\", sparse=False), category_feats),\n",
    "    (\"passthrough\", none_feats)\n",
    ")\n",
    "preprocessor.fit(X_train, y_train);"
   ]
  },
  {
   "cell_type": "markdown",
   "metadata": {},
   "source": [
    "## Baseline model"
   ]
  },
  {
   "cell_type": "code",
   "execution_count": 9,
   "metadata": {},
   "outputs": [],
   "source": [
    "results = {}"
   ]
  },
  {
   "cell_type": "code",
   "execution_count": 10,
   "metadata": {},
   "outputs": [],
   "source": [
    "dummy = DummyClassifier()\n",
    "baseline_pipe = make_pipeline(preprocessor, dummy)\n",
    "results['dummy'] = mean_std_cross_val_scores(make_pipeline(preprocessor, dummy), X_train, y_train, \n",
    "                                             return_train_score=True, scoring=scoring_metric)"
   ]
  },
  {
   "cell_type": "code",
   "execution_count": 11,
   "metadata": {},
   "outputs": [
    {
     "data": {
      "text/html": [
       "<div>\n",
       "<style scoped>\n",
       "    .dataframe tbody tr th:only-of-type {\n",
       "        vertical-align: middle;\n",
       "    }\n",
       "\n",
       "    .dataframe tbody tr th {\n",
       "        vertical-align: top;\n",
       "    }\n",
       "\n",
       "    .dataframe thead th {\n",
       "        text-align: right;\n",
       "    }\n",
       "</style>\n",
       "<table border=\"1\" class=\"dataframe\">\n",
       "  <thead>\n",
       "    <tr style=\"text-align: right;\">\n",
       "      <th></th>\n",
       "      <th>dummy</th>\n",
       "    </tr>\n",
       "  </thead>\n",
       "  <tbody>\n",
       "    <tr>\n",
       "      <th>fit_time</th>\n",
       "      <td>0.138 (+/- 0.015)</td>\n",
       "    </tr>\n",
       "    <tr>\n",
       "      <th>score_time</th>\n",
       "      <td>0.054 (+/- 0.003)</td>\n",
       "    </tr>\n",
       "    <tr>\n",
       "      <th>test_accuracy</th>\n",
       "      <td>0.520 (+/- 0.001)</td>\n",
       "    </tr>\n",
       "    <tr>\n",
       "      <th>train_accuracy</th>\n",
       "      <td>0.520 (+/- 0.000)</td>\n",
       "    </tr>\n",
       "    <tr>\n",
       "      <th>test_roc_auc</th>\n",
       "      <td>0.500 (+/- 0.000)</td>\n",
       "    </tr>\n",
       "    <tr>\n",
       "      <th>train_roc_auc</th>\n",
       "      <td>0.500 (+/- 0.000)</td>\n",
       "    </tr>\n",
       "  </tbody>\n",
       "</table>\n",
       "</div>"
      ],
      "text/plain": [
       "                            dummy\n",
       "fit_time        0.138 (+/- 0.015)\n",
       "score_time      0.054 (+/- 0.003)\n",
       "test_accuracy   0.520 (+/- 0.001)\n",
       "train_accuracy  0.520 (+/- 0.000)\n",
       "test_roc_auc    0.500 (+/- 0.000)\n",
       "train_roc_auc   0.500 (+/- 0.000)"
      ]
     },
     "execution_count": 11,
     "metadata": {},
     "output_type": "execute_result"
    }
   ],
   "source": [
    "pd.DataFrame(results)"
   ]
  },
  {
   "cell_type": "markdown",
   "metadata": {},
   "source": [
    "Accuracy of Dummy classifier depends on class ratio. As we have a balanced data set, the accuracy of Dummy classifier is around 50%."
   ]
  },
  {
   "cell_type": "markdown",
   "metadata": {},
   "source": [
    "## Linear models\n",
    "### Model training - LogisticRegression\n",
    "First, a linear model is used as a first real attempt. Hyperparameter tuning is also carried out for tuning to explore different values for the regularization hyperparameter. Cross-validation scores along with standard deviation and results summary is shown in below."
   ]
  },
  {
   "cell_type": "code",
   "execution_count": 12,
   "metadata": {},
   "outputs": [],
   "source": [
    "#pipe logistic regression\n",
    "pipe_logisticregression = make_pipeline(preprocessor,\n",
    "                           LogisticRegression(max_iter=2000, \n",
    "                                             random_state=123))"
   ]
  },
  {
   "cell_type": "code",
   "execution_count": 13,
   "metadata": {},
   "outputs": [
    {
     "data": {
      "text/html": [
       "<div>\n",
       "<style scoped>\n",
       "    .dataframe tbody tr th:only-of-type {\n",
       "        vertical-align: middle;\n",
       "    }\n",
       "\n",
       "    .dataframe tbody tr th {\n",
       "        vertical-align: top;\n",
       "    }\n",
       "\n",
       "    .dataframe thead th {\n",
       "        text-align: right;\n",
       "    }\n",
       "</style>\n",
       "<table border=\"1\" class=\"dataframe\">\n",
       "  <thead>\n",
       "    <tr style=\"text-align: right;\">\n",
       "      <th></th>\n",
       "      <th>dummy</th>\n",
       "      <th>LogisticReg</th>\n",
       "    </tr>\n",
       "  </thead>\n",
       "  <tbody>\n",
       "    <tr>\n",
       "      <th>fit_time</th>\n",
       "      <td>0.138 (+/- 0.015)</td>\n",
       "      <td>13.436 (+/- 0.415)</td>\n",
       "    </tr>\n",
       "    <tr>\n",
       "      <th>score_time</th>\n",
       "      <td>0.054 (+/- 0.003)</td>\n",
       "      <td>0.138 (+/- 0.048)</td>\n",
       "    </tr>\n",
       "    <tr>\n",
       "      <th>test_accuracy</th>\n",
       "      <td>0.520 (+/- 0.001)</td>\n",
       "      <td>0.887 (+/- 0.006)</td>\n",
       "    </tr>\n",
       "    <tr>\n",
       "      <th>train_accuracy</th>\n",
       "      <td>0.520 (+/- 0.000)</td>\n",
       "      <td>0.972 (+/- 0.002)</td>\n",
       "    </tr>\n",
       "    <tr>\n",
       "      <th>test_roc_auc</th>\n",
       "      <td>0.500 (+/- 0.000)</td>\n",
       "      <td>0.955 (+/- 0.005)</td>\n",
       "    </tr>\n",
       "    <tr>\n",
       "      <th>train_roc_auc</th>\n",
       "      <td>0.500 (+/- 0.000)</td>\n",
       "      <td>0.997 (+/- 0.000)</td>\n",
       "    </tr>\n",
       "  </tbody>\n",
       "</table>\n",
       "</div>"
      ],
      "text/plain": [
       "                            dummy         LogisticReg\n",
       "fit_time        0.138 (+/- 0.015)  13.436 (+/- 0.415)\n",
       "score_time      0.054 (+/- 0.003)   0.138 (+/- 0.048)\n",
       "test_accuracy   0.520 (+/- 0.001)   0.887 (+/- 0.006)\n",
       "train_accuracy  0.520 (+/- 0.000)   0.972 (+/- 0.002)\n",
       "test_roc_auc    0.500 (+/- 0.000)   0.955 (+/- 0.005)\n",
       "train_roc_auc   0.500 (+/- 0.000)   0.997 (+/- 0.000)"
      ]
     },
     "execution_count": 13,
     "metadata": {},
     "output_type": "execute_result"
    }
   ],
   "source": [
    "#save in the results logistic regression score\n",
    "results[\"LogisticReg\"] = mean_std_cross_val_scores(pipe_logisticregression, \n",
    "                                                   X_train, \n",
    "                                                   y_train, \n",
    "                                                   return_train_score=True,\n",
    "                                                   scoring = scoring_metric,\n",
    "                                                   n_jobs=-1)\n",
    "pd.DataFrame(results)"
   ]
  },
  {
   "cell_type": "markdown",
   "metadata": {},
   "source": [
    "### hyperparameter optimization"
   ]
  },
  {
   "cell_type": "markdown",
   "metadata": {},
   "source": [
    "We will carry out hyperparameter optimization: C controls the regularization, and class_weight hyperparameter for tackling class imbalance. "
   ]
  },
  {
   "cell_type": "code",
   "execution_count": 14,
   "metadata": {},
   "outputs": [],
   "source": [
    "#parameters for logistic regression\n",
    "param_dist_lg = {'logisticregression__C': np.linspace(2, 3, 6),\n",
    "                 'logisticregression__class_weight': ['balanced', None]}\n",
    "\n",
    "#randomized search to find the best parameters\n",
    "random_search_lg = RandomizedSearchCV(\n",
    "    pipe_logisticregression, \n",
    "    param_dist_lg,\n",
    "    n_jobs=-1,\n",
    "    return_train_score=True,\n",
    "    scoring = scoring_metric,\n",
    "    refit='accuracy',\n",
    "    random_state=123\n",
    ")"
   ]
  },
  {
   "cell_type": "code",
   "execution_count": 15,
   "metadata": {},
   "outputs": [
    {
     "name": "stdout",
     "output_type": "stream",
     "text": [
      "Best parameter values are: {'logisticregression__class_weight': None, 'logisticregression__C': 2.8}\n",
      "Best cv score is: 0.8885437481490055\n"
     ]
    }
   ],
   "source": [
    "random_search_lg.fit(X_train, y_train)\n",
    "print(\"Best parameter values are:\", random_search_lg.best_params_)\n",
    "print(\"Best cv score is:\", random_search_lg.best_score_)"
   ]
  },
  {
   "cell_type": "code",
   "execution_count": 16,
   "metadata": {},
   "outputs": [],
   "source": [
    "results['LogisticReg_opt'] = mean_std_cross_val_scores(random_search_lg, \n",
    "                                                       X_train, \n",
    "                                                       y_train, \n",
    "                                                       return_train_score=True,\n",
    "                                                       scoring = scoring_metric,\n",
    "                                                       n_jobs=-1) "
   ]
  },
  {
   "cell_type": "code",
   "execution_count": 17,
   "metadata": {},
   "outputs": [
    {
     "data": {
      "text/html": [
       "<div>\n",
       "<style scoped>\n",
       "    .dataframe tbody tr th:only-of-type {\n",
       "        vertical-align: middle;\n",
       "    }\n",
       "\n",
       "    .dataframe tbody tr th {\n",
       "        vertical-align: top;\n",
       "    }\n",
       "\n",
       "    .dataframe thead th {\n",
       "        text-align: right;\n",
       "    }\n",
       "</style>\n",
       "<table border=\"1\" class=\"dataframe\">\n",
       "  <thead>\n",
       "    <tr style=\"text-align: right;\">\n",
       "      <th></th>\n",
       "      <th>dummy</th>\n",
       "      <th>LogisticReg</th>\n",
       "      <th>LogisticReg_opt</th>\n",
       "    </tr>\n",
       "  </thead>\n",
       "  <tbody>\n",
       "    <tr>\n",
       "      <th>fit_time</th>\n",
       "      <td>0.138 (+/- 0.015)</td>\n",
       "      <td>13.436 (+/- 0.415)</td>\n",
       "      <td>729.602 (+/- 1.470)</td>\n",
       "    </tr>\n",
       "    <tr>\n",
       "      <th>score_time</th>\n",
       "      <td>0.054 (+/- 0.003)</td>\n",
       "      <td>0.138 (+/- 0.048)</td>\n",
       "      <td>0.126 (+/- 0.062)</td>\n",
       "    </tr>\n",
       "    <tr>\n",
       "      <th>test_accuracy</th>\n",
       "      <td>0.520 (+/- 0.001)</td>\n",
       "      <td>0.887 (+/- 0.006)</td>\n",
       "      <td>0.888 (+/- 0.008)</td>\n",
       "    </tr>\n",
       "    <tr>\n",
       "      <th>train_accuracy</th>\n",
       "      <td>0.520 (+/- 0.000)</td>\n",
       "      <td>0.972 (+/- 0.002)</td>\n",
       "      <td>0.974 (+/- 0.003)</td>\n",
       "    </tr>\n",
       "    <tr>\n",
       "      <th>test_roc_auc</th>\n",
       "      <td>0.500 (+/- 0.000)</td>\n",
       "      <td>0.955 (+/- 0.005)</td>\n",
       "      <td>0.954 (+/- 0.005)</td>\n",
       "    </tr>\n",
       "    <tr>\n",
       "      <th>train_roc_auc</th>\n",
       "      <td>0.500 (+/- 0.000)</td>\n",
       "      <td>0.997 (+/- 0.000)</td>\n",
       "      <td>0.998 (+/- 0.000)</td>\n",
       "    </tr>\n",
       "  </tbody>\n",
       "</table>\n",
       "</div>"
      ],
      "text/plain": [
       "                            dummy         LogisticReg      LogisticReg_opt\n",
       "fit_time        0.138 (+/- 0.015)  13.436 (+/- 0.415)  729.602 (+/- 1.470)\n",
       "score_time      0.054 (+/- 0.003)   0.138 (+/- 0.048)    0.126 (+/- 0.062)\n",
       "test_accuracy   0.520 (+/- 0.001)   0.887 (+/- 0.006)    0.888 (+/- 0.008)\n",
       "train_accuracy  0.520 (+/- 0.000)   0.972 (+/- 0.002)    0.974 (+/- 0.003)\n",
       "test_roc_auc    0.500 (+/- 0.000)   0.955 (+/- 0.005)    0.954 (+/- 0.005)\n",
       "train_roc_auc   0.500 (+/- 0.000)   0.997 (+/- 0.000)    0.998 (+/- 0.000)"
      ]
     },
     "execution_count": 17,
     "metadata": {},
     "output_type": "execute_result"
    }
   ],
   "source": [
    "pd.DataFrame(results)"
   ]
  },
  {
   "cell_type": "markdown",
   "metadata": {},
   "source": [
    "We can see that with optimized hyperparameters, Logistic Regression is doing a bit better. However, it is obvious that we are dealing with overfitting (big gap between test and training scores and the training accuracy is almost 100%). The std is very small ranging in +- 0.01. "
   ]
  },
  {
   "cell_type": "code",
   "execution_count": 18,
   "metadata": {},
   "outputs": [
    {
     "name": "stdout",
     "output_type": "stream",
     "text": [
      "              precision    recall  f1-score   support\n",
      "\n",
      "           0       0.97      0.97      0.97      1838\n",
      "           1       0.97      0.97      0.97      1993\n",
      "\n",
      "    accuracy                           0.97      3831\n",
      "   macro avg       0.97      0.97      0.97      3831\n",
      "weighted avg       0.97      0.97      0.97      3831\n",
      "\n"
     ]
    }
   ],
   "source": [
    "print(\n",
    "    classification_report(\n",
    "        y_train,\n",
    "        random_search_lg.predict_proba(X_train)[:, 1] > 0.5,\n",
    "        target_names=[\"0\", \"1\"],\n",
    "    )\n",
    ")"
   ]
  },
  {
   "cell_type": "code",
   "execution_count": 19,
   "metadata": {},
   "outputs": [
    {
     "name": "stdout",
     "output_type": "stream",
     "text": [
      "Area under the curve (AUC): 0.997\n"
     ]
    },
    {
     "data": {
      "image/png": "[encoded data removed]",
      "text/plain": [
       "<Figure size 432x288 with 1 Axes>"
      ]
     },
     "metadata": {
      "needs_background": "light"
     },
     "output_type": "display_data"
    }
   ],
   "source": [
    "fpr, tpr, _ = roc_curve(\n",
    "    y_train,\n",
    "    random_search_lg.predict_proba(X_train)[:, 1],\n",
    "    pos_label=random_search_lg.classes_[1],\n",
    ")\n",
    "print(\n",
    "    \"Area under the curve (AUC): {:.3f}\".format(\n",
    "        roc_auc_score(y_train, random_search_lg.predict_proba(X_train)[:, 1])\n",
    "    )\n",
    ")\n",
    "roc_display = RocCurveDisplay(fpr=fpr, tpr=tpr).plot()"
   ]
  },
  {
   "cell_type": "markdown",
   "metadata": {},
   "source": [
    "We have high score in AUC and classification report, which means our prediction model performance is good."
   ]
  },
  {
   "cell_type": "markdown",
   "metadata": {},
   "source": [
    "### Model interpretation on Training set"
   ]
  },
  {
   "cell_type": "markdown",
   "metadata": {},
   "source": [
    "Most important features are listed in below."
   ]
  },
  {
   "cell_type": "code",
   "execution_count": 20,
   "metadata": {},
   "outputs": [
    {
     "data": {
      "text/html": [
       "<div>\n",
       "<style scoped>\n",
       "    .dataframe tbody tr th:only-of-type {\n",
       "        vertical-align: middle;\n",
       "    }\n",
       "\n",
       "    .dataframe tbody tr th {\n",
       "        vertical-align: top;\n",
       "    }\n",
       "\n",
       "    .dataframe thead th {\n",
       "        text-align: right;\n",
       "    }\n",
       "</style>\n",
       "<table border=\"1\" class=\"dataframe\">\n",
       "  <thead>\n",
       "    <tr style=\"text-align: right;\">\n",
       "      <th></th>\n",
       "      <th>Importance</th>\n",
       "      <th>rank</th>\n",
       "      <th>side</th>\n",
       "    </tr>\n",
       "  </thead>\n",
       "  <tbody>\n",
       "    <tr>\n",
       "      <th>genres_escape room</th>\n",
       "      <td>1.945204</td>\n",
       "      <td>1.0</td>\n",
       "      <td>pos</td>\n",
       "    </tr>\n",
       "    <tr>\n",
       "      <th>genres_chillwave</th>\n",
       "      <td>1.834105</td>\n",
       "      <td>2.0</td>\n",
       "      <td>pos</td>\n",
       "    </tr>\n",
       "    <tr>\n",
       "      <th>genres_moombahton</th>\n",
       "      <td>1.747695</td>\n",
       "      <td>3.0</td>\n",
       "      <td>pos</td>\n",
       "    </tr>\n",
       "    <tr>\n",
       "      <th>genres_alternative hip hop</th>\n",
       "      <td>1.667970</td>\n",
       "      <td>4.0</td>\n",
       "      <td>pos</td>\n",
       "    </tr>\n",
       "    <tr>\n",
       "      <th>genres_motown</th>\n",
       "      <td>1.571681</td>\n",
       "      <td>5.0</td>\n",
       "      <td>pos</td>\n",
       "    </tr>\n",
       "    <tr>\n",
       "      <th>...</th>\n",
       "      <td>...</td>\n",
       "      <td>...</td>\n",
       "      <td>...</td>\n",
       "    </tr>\n",
       "    <tr>\n",
       "      <th>genres_neo soul</th>\n",
       "      <td>-1.443566</td>\n",
       "      <td>196.0</td>\n",
       "      <td>neg</td>\n",
       "    </tr>\n",
       "    <tr>\n",
       "      <th>genres_pop edm</th>\n",
       "      <td>-1.803435</td>\n",
       "      <td>197.0</td>\n",
       "      <td>neg</td>\n",
       "    </tr>\n",
       "    <tr>\n",
       "      <th>genres_post-teen pop</th>\n",
       "      <td>-1.932468</td>\n",
       "      <td>198.0</td>\n",
       "      <td>neg</td>\n",
       "    </tr>\n",
       "    <tr>\n",
       "      <th>genres_korean pop</th>\n",
       "      <td>-1.965004</td>\n",
       "      <td>199.0</td>\n",
       "      <td>neg</td>\n",
       "    </tr>\n",
       "    <tr>\n",
       "      <th>key_0</th>\n",
       "      <td>-2.526168</td>\n",
       "      <td>200.0</td>\n",
       "      <td>neg</td>\n",
       "    </tr>\n",
       "  </tbody>\n",
       "</table>\n",
       "<p>200 rows × 3 columns</p>\n",
       "</div>"
      ],
      "text/plain": [
       "                            Importance   rank side\n",
       "genres_escape room            1.945204    1.0  pos\n",
       "genres_chillwave              1.834105    2.0  pos\n",
       "genres_moombahton             1.747695    3.0  pos\n",
       "genres_alternative hip hop    1.667970    4.0  pos\n",
       "genres_motown                 1.571681    5.0  pos\n",
       "...                                ...    ...  ...\n",
       "genres_neo soul              -1.443566  196.0  neg\n",
       "genres_pop edm               -1.803435  197.0  neg\n",
       "genres_post-teen pop         -1.932468  198.0  neg\n",
       "genres_korean pop            -1.965004  199.0  neg\n",
       "key_0                        -2.526168  200.0  neg\n",
       "\n",
       "[200 rows x 3 columns]"
      ]
     },
     "execution_count": 20,
     "metadata": {},
     "output_type": "execute_result"
    }
   ],
   "source": [
    "col_name_pp_all = [\n",
    "    *numeric_feats,\n",
    "    *random_search_lg.best_estimator_.named_steps[\"columntransformer\"]\n",
    "    .named_transformers_[\"onehotencoder\"]\n",
    "    .get_feature_names_out(),\n",
    "    *none_feats\n",
    "]\n",
    "\n",
    "data = {\n",
    "    \"Importance\": random_search_lg.best_estimator_.named_steps[\n",
    "        \"logisticregression\"\n",
    "    ].coef_[0],\n",
    "}\n",
    "feat_importance = pd.DataFrame(data=data, index=col_name_pp_all).sort_values(\n",
    "    by=\"Importance\", ascending=False\n",
    ")\n",
    "\n",
    "feat_importance_200 = pd.concat([feat_importance[0:100], feat_importance[-100:]])\n",
    "feat_importance_200[\"rank\"] = feat_importance_200[\"Importance\"].rank(ascending=False)\n",
    "feat_importance_200[\"side\"] = np.where(\n",
    "    feat_importance_200[\"Importance\"] > 0, \"pos\", \"neg\"\n",
    ")\n",
    "feat_importance_200"
   ]
  },
  {
   "cell_type": "markdown",
   "metadata": {},
   "source": [
    "Most of the important features are determined by `genres`. Excluding all the features from artist, the other important features are `key`, `danceability` and `duration`. However, the ranking of importance are pretty low, starting from #423."
   ]
  },
  {
   "cell_type": "code",
   "execution_count": 21,
   "metadata": {},
   "outputs": [
    {
     "data": {
      "text/html": [
       "<div>\n",
       "<style scoped>\n",
       "    .dataframe tbody tr th:only-of-type {\n",
       "        vertical-align: middle;\n",
       "    }\n",
       "\n",
       "    .dataframe tbody tr th {\n",
       "        vertical-align: top;\n",
       "    }\n",
       "\n",
       "    .dataframe thead th {\n",
       "        text-align: right;\n",
       "    }\n",
       "</style>\n",
       "<table border=\"1\" class=\"dataframe\">\n",
       "  <thead>\n",
       "    <tr style=\"text-align: right;\">\n",
       "      <th></th>\n",
       "      <th>index</th>\n",
       "      <th>Importance</th>\n",
       "    </tr>\n",
       "  </thead>\n",
       "  <tbody>\n",
       "    <tr>\n",
       "      <th>17</th>\n",
       "      <td>key_4</td>\n",
       "      <td>1.274235</td>\n",
       "    </tr>\n",
       "    <tr>\n",
       "      <th>36</th>\n",
       "      <td>loudness</td>\n",
       "      <td>0.948385</td>\n",
       "    </tr>\n",
       "    <tr>\n",
       "      <th>41</th>\n",
       "      <td>key_9</td>\n",
       "      <td>0.912684</td>\n",
       "    </tr>\n",
       "    <tr>\n",
       "      <th>50</th>\n",
       "      <td>danceability</td>\n",
       "      <td>0.862934</td>\n",
       "    </tr>\n",
       "    <tr>\n",
       "      <th>62</th>\n",
       "      <td>key_10</td>\n",
       "      <td>0.789978</td>\n",
       "    </tr>\n",
       "    <tr>\n",
       "      <th>114</th>\n",
       "      <td>key_7</td>\n",
       "      <td>0.593926</td>\n",
       "    </tr>\n",
       "    <tr>\n",
       "      <th>119</th>\n",
       "      <td>key_5</td>\n",
       "      <td>0.579661</td>\n",
       "    </tr>\n",
       "    <tr>\n",
       "      <th>131</th>\n",
       "      <td>instrumentalness</td>\n",
       "      <td>0.537758</td>\n",
       "    </tr>\n",
       "    <tr>\n",
       "      <th>132</th>\n",
       "      <td>tempo</td>\n",
       "      <td>0.524994</td>\n",
       "    </tr>\n",
       "    <tr>\n",
       "      <th>391</th>\n",
       "      <td>valence</td>\n",
       "      <td>0.198514</td>\n",
       "    </tr>\n",
       "    <tr>\n",
       "      <th>582</th>\n",
       "      <td>key_8</td>\n",
       "      <td>0.093041</td>\n",
       "    </tr>\n",
       "    <tr>\n",
       "      <th>588</th>\n",
       "      <td>duration_ms</td>\n",
       "      <td>0.089473</td>\n",
       "    </tr>\n",
       "    <tr>\n",
       "      <th>612</th>\n",
       "      <td>key_6</td>\n",
       "      <td>0.074142</td>\n",
       "    </tr>\n",
       "    <tr>\n",
       "      <th>648</th>\n",
       "      <td>key_11</td>\n",
       "      <td>0.060494</td>\n",
       "    </tr>\n",
       "    <tr>\n",
       "      <th>668</th>\n",
       "      <td>liveness</td>\n",
       "      <td>0.047821</td>\n",
       "    </tr>\n",
       "    <tr>\n",
       "      <th>1097</th>\n",
       "      <td>mode</td>\n",
       "      <td>-0.057934</td>\n",
       "    </tr>\n",
       "    <tr>\n",
       "      <th>1185</th>\n",
       "      <td>key_2</td>\n",
       "      <td>-0.113133</td>\n",
       "    </tr>\n",
       "    <tr>\n",
       "      <th>1277</th>\n",
       "      <td>time_signature</td>\n",
       "      <td>-0.173913</td>\n",
       "    </tr>\n",
       "    <tr>\n",
       "      <th>1331</th>\n",
       "      <td>acousticness</td>\n",
       "      <td>-0.213958</td>\n",
       "    </tr>\n",
       "    <tr>\n",
       "      <th>1611</th>\n",
       "      <td>key_3</td>\n",
       "      <td>-0.780837</td>\n",
       "    </tr>\n",
       "    <tr>\n",
       "      <th>1629</th>\n",
       "      <td>key_1</td>\n",
       "      <td>-0.957019</td>\n",
       "    </tr>\n",
       "    <tr>\n",
       "      <th>1652</th>\n",
       "      <td>key_0</td>\n",
       "      <td>-2.526168</td>\n",
       "    </tr>\n",
       "  </tbody>\n",
       "</table>\n",
       "</div>"
      ],
      "text/plain": [
       "                 index  Importance\n",
       "17               key_4    1.274235\n",
       "36            loudness    0.948385\n",
       "41               key_9    0.912684\n",
       "50        danceability    0.862934\n",
       "62              key_10    0.789978\n",
       "114              key_7    0.593926\n",
       "119              key_5    0.579661\n",
       "131   instrumentalness    0.537758\n",
       "132              tempo    0.524994\n",
       "391            valence    0.198514\n",
       "582              key_8    0.093041\n",
       "588        duration_ms    0.089473\n",
       "612              key_6    0.074142\n",
       "648             key_11    0.060494\n",
       "668           liveness    0.047821\n",
       "1097              mode   -0.057934\n",
       "1185             key_2   -0.113133\n",
       "1277    time_signature   -0.173913\n",
       "1331      acousticness   -0.213958\n",
       "1611             key_3   -0.780837\n",
       "1629             key_1   -0.957019\n",
       "1652             key_0   -2.526168"
      ]
     },
     "execution_count": 21,
     "metadata": {},
     "output_type": "execute_result"
    }
   ],
   "source": [
    "feat_importance_reset = feat_importance.reset_index()\n",
    "feat_importance_reset[feat_importance_reset['index'].str.match('^(?![genres])')]"
   ]
  },
  {
   "cell_type": "code",
   "execution_count": 22,
   "metadata": {},
   "outputs": [
    {
     "data": {
      "text/html": [
       "\n",
       "<div id=\"altair-viz-d144101979d14ba68c7945db480206a3\"></div>\n",
       "<script type=\"text/javascript\">\n",
       "  var VEGA_DEBUG = (typeof VEGA_DEBUG == \"undefined\") ? {} : VEGA_DEBUG;\n",
       "  (function(spec, embedOpt){\n",
       "    let outputDiv = document.currentScript.previousElementSibling;\n",
       "    if (outputDiv.id !== \"altair-viz-d144101979d14ba68c7945db480206a3\") {\n",
       "      outputDiv = document.getElementById(\"altair-viz-d144101979d14ba68c7945db480206a3\");\n",
       "    }\n",
       "    const paths = {\n",
       "      \"vega\": \"https://cdn.jsdelivr.net/npm//vega@5?noext\",\n",
       "      \"vega-lib\": \"https://cdn.jsdelivr.net/npm//vega-lib?noext\",\n",
       "      \"vega-lite\": \"https://cdn.jsdelivr.net/npm//vega-lite@4.17.0?noext\",\n",
       "      \"vega-embed\": \"https://cdn.jsdelivr.net/npm//vega-embed@6?noext\",\n",
       "    };\n",
       "\n",
       "    function maybeLoadScript(lib, version) {\n",
       "      var key = `${lib.replace(\"-\", \"\")}_version`;\n",
       "      return (VEGA_DEBUG[key] == version) ?\n",
       "        Promise.resolve(paths[lib]) :\n",
       "        new Promise(function(resolve, reject) {\n",
       "          var s = document.createElement('script');\n",
       "          document.getElementsByTagName(\"head\")[0].appendChild(s);\n",
       "          s.async = true;\n",
       "          s.onload = () => {\n",
       "            VEGA_DEBUG[key] = version;\n",
       "            return resolve(paths[lib]);\n",
       "          };\n",
       "          s.onerror = () => reject(`Error loading script: ${paths[lib]}`);\n",
       "          s.src = paths[lib];\n",
       "        });\n",
       "    }\n",
       "\n",
       "    function showError(err) {\n",
       "      outputDiv.innerHTML = `<div class=\"error\" style=\"color:red;\">${err}</div>`;\n",
       "      throw err;\n",
       "    }\n",
       "\n",
       "    function displayChart(vegaEmbed) {\n",
       "      vegaEmbed(outputDiv, spec, embedOpt)\n",
       "        .catch(err => showError(`Javascript Error: ${err.message}<br>This usually means there's a typo in your chart specification. See the javascript console for the full traceback.`));\n",
       "    }\n",
       "\n",
       "    if(typeof define === \"function\" && define.amd) {\n",
       "      requirejs.config({paths});\n",
       "      require([\"vega-embed\"], displayChart, err => showError(`Error loading script: ${err.message}`));\n",
       "    } else {\n",
       "      maybeLoadScript(\"vega\", \"5\")\n",
       "        .then(() => maybeLoadScript(\"vega-lite\", \"4.17.0\"))\n",
       "        .then(() => maybeLoadScript(\"vega-embed\", \"6\"))\n",
       "        .catch(showError)\n",
       "        .then(() => displayChart(vegaEmbed));\n",
       "    }\n",
       "  })({\"config\": {\"view\": {\"continuousWidth\": 400, \"continuousHeight\": 300}}, \"vconcat\": [{\"mark\": \"bar\", \"encoding\": {\"color\": {\"field\": \"side\", \"type\": \"nominal\"}, \"x\": {\"axis\": {\"title\": \"\"}, \"field\": \"index\", \"scale\": {\"domain\": {\"selection\": \"selector001\"}}, \"sort\": {\"field\": \"rank\", \"order\": \"ascending\"}, \"type\": \"nominal\"}, \"y\": {\"field\": \"Importance\", \"type\": \"quantitative\"}}, \"height\": 200, \"title\": \"Top 200 important features\", \"width\": 800}, {\"mark\": \"bar\", \"encoding\": {\"color\": {\"field\": \"side\", \"type\": \"nominal\"}, \"x\": {\"axis\": {\"labels\": false, \"title\": \"Features\"}, \"field\": \"index\", \"sort\": {\"field\": \"rank\", \"order\": \"ascending\"}, \"type\": \"nominal\"}, \"y\": {\"field\": \"Importance\", \"type\": \"quantitative\"}}, \"height\": 60, \"selection\": {\"selector001\": {\"type\": \"interval\", \"encodings\": [\"x\"]}}, \"title\": \"Drag the plot in below to zoom\", \"width\": 800}], \"data\": {\"name\": \"data-d67e030a05610c459de13364af65e74a\"}, \"$schema\": \"https://vega.github.io/schema/vega-lite/v4.17.0.json\", \"datasets\": {\"data-d67e030a05610c459de13364af65e74a\": [{\"index\": \"genres_escape room\", \"Importance\": 1.945203893920938, \"rank\": 1.0, \"side\": \"pos\"}, {\"index\": \"genres_chillwave\", \"Importance\": 1.8341051576772476, \"rank\": 2.0, \"side\": \"pos\"}, {\"index\": \"genres_moombahton\", \"Importance\": 1.7476950632602868, \"rank\": 3.0, \"side\": \"pos\"}, {\"index\": \"genres_alternative hip hop\", \"Importance\": 1.6679704771831352, \"rank\": 4.0, \"side\": \"pos\"}, {\"index\": \"genres_motown\", \"Importance\": 1.5716807479056478, \"rank\": 5.0, \"side\": \"pos\"}, {\"index\": \"genres_art pop\", \"Importance\": 1.5638350144194757, \"rank\": 6.0, \"side\": \"pos\"}, {\"index\": \"genres_electronica\", \"Importance\": 1.4880428495082993, \"rank\": 7.0, \"side\": \"pos\"}, {\"index\": \"genres_house\", \"Importance\": 1.482725349326394, \"rank\": 8.0, \"side\": \"pos\"}, {\"index\": \"genres_turntablism\", \"Importance\": 1.471457526083835, \"rank\": 9.0, \"side\": \"pos\"}, {\"index\": \"genres_classical performance\", \"Importance\": 1.402340266104816, \"rank\": 11.0, \"side\": \"pos\"}, {\"index\": \"genres_orchestral performance\", \"Importance\": 1.402340266104816, \"rank\": 11.0, \"side\": \"pos\"}, {\"index\": \"genres_choral\", \"Importance\": 1.402340266104816, \"rank\": 11.0, \"side\": \"pos\"}, {\"index\": \"genres_afrofuturism\", \"Importance\": 1.3902843860896774, \"rank\": 13.0, \"side\": \"pos\"}, {\"index\": \"genres_russian romanticism\", \"Importance\": 1.3468273244273563, \"rank\": 14.0, \"side\": \"pos\"}, {\"index\": \"genres_indie rock\", \"Importance\": 1.3235551677257655, \"rank\": 15.0, \"side\": \"pos\"}, {\"index\": \"genres_late romantic era\", \"Importance\": 1.3153418158099106, \"rank\": 16.0, \"side\": \"pos\"}, {\"index\": \"genres_destroy techno\", \"Importance\": 1.3101181663898176, \"rank\": 17.0, \"side\": \"pos\"}, {\"index\": \"key_4\", \"Importance\": 1.2742353988494313, \"rank\": 18.0, \"side\": \"pos\"}, {\"index\": \"emb_sent_664\", \"Importance\": 1.2501998504424117, \"rank\": 19.0, \"side\": \"pos\"}, {\"index\": \"genres_wonky\", \"Importance\": 1.2333002235582378, \"rank\": 20.0, \"side\": \"pos\"}, {\"index\": \"genres_classic afrobeat\", \"Importance\": 1.2228183423232017, \"rank\": 21.0, \"side\": \"pos\"}, {\"index\": \"genres_indie soul\", \"Importance\": 1.1999230681567263, \"rank\": 22.0, \"side\": \"pos\"}, {\"index\": \"genres_post-disco\", \"Importance\": 1.1993783246573133, \"rank\": 23.0, \"side\": \"pos\"}, {\"index\": \"genres_neo-psychedelic\", \"Importance\": 1.1974966900360928, \"rank\": 24.0, \"side\": \"pos\"}, {\"index\": \"genres_underground hip hop\", \"Importance\": 1.1657018349619939, \"rank\": 25.0, \"side\": \"pos\"}, {\"index\": \"genres_funk\", \"Importance\": 1.1533787326063742, \"rank\": 26.0, \"side\": \"pos\"}, {\"index\": \"genres_metropopolis\", \"Importance\": 1.1429430741827091, \"rank\": 27.0, \"side\": \"pos\"}, {\"index\": \"genres_chicago rap\", \"Importance\": 1.1190496104597112, \"rank\": 28.0, \"side\": \"pos\"}, {\"index\": \"genres_bubblegum pop\", \"Importance\": 1.1158728463020051, \"rank\": 29.0, \"side\": \"pos\"}, {\"index\": \"genres_alternative dance\", \"Importance\": 1.1018242020157123, \"rank\": 30.0, \"side\": \"pos\"}, {\"index\": \"genres_new rave\", \"Importance\": 1.0913273028392172, \"rank\": 31.0, \"side\": \"pos\"}, {\"index\": \"genres_permanent wave\", \"Importance\": 1.0743857027881336, \"rank\": 32.0, \"side\": \"pos\"}, {\"index\": \"genres_alternative r&b\", \"Importance\": 1.064926988690719, \"rank\": 33.0, \"side\": \"pos\"}, {\"index\": \"emb_sent_98\", \"Importance\": 1.0490447462149668, \"rank\": 34.0, \"side\": \"pos\"}, {\"index\": \"genres_grime\", \"Importance\": 1.030031157287854, \"rank\": 35.0, \"side\": \"pos\"}, {\"index\": \"genres_houston rap\", \"Importance\": 0.9554750130900987, \"rank\": 36.0, \"side\": \"pos\"}, {\"index\": \"loudness\", \"Importance\": 0.9483851453042519, \"rank\": 37.0, \"side\": \"pos\"}, {\"index\": \"genres_indie pop\", \"Importance\": 0.9448918410334968, \"rank\": 38.0, \"side\": \"pos\"}, {\"index\": \"genres_experimental pop\", \"Importance\": 0.9305689720987014, \"rank\": 39.0, \"side\": \"pos\"}, {\"index\": \"emb_sent_753\", \"Importance\": 0.9261737843503569, \"rank\": 40.0, \"side\": \"pos\"}, {\"index\": \"genres_soundtrack\", \"Importance\": 0.9146117239896216, \"rank\": 41.0, \"side\": \"pos\"}, {\"index\": \"key_9\", \"Importance\": 0.9126838509062727, \"rank\": 42.0, \"side\": \"pos\"}, {\"index\": \"genres_downtempo\", \"Importance\": 0.9126489714101269, \"rank\": 43.0, \"side\": \"pos\"}, {\"index\": \"genres_disco\", \"Importance\": 0.9039691172265267, \"rank\": 44.0, \"side\": \"pos\"}, {\"index\": \"emb_sent_684\", \"Importance\": 0.8728004220753577, \"rank\": 45.0, \"side\": \"pos\"}, {\"index\": \"genres_garage rock\", \"Importance\": 0.8708766218368899, \"rank\": 46.0, \"side\": \"pos\"}, {\"index\": \"genres_blues rock\", \"Importance\": 0.867102772558504, \"rank\": 47.0, \"side\": \"pos\"}, {\"index\": \"genres_bmore\", \"Importance\": 0.863556379283934, \"rank\": 48.0, \"side\": \"pos\"}, {\"index\": \"genres_german soundtrack\", \"Importance\": 0.8635252071135934, \"rank\": 49.5, \"side\": \"pos\"}, {\"index\": \"genres_scorecore\", \"Importance\": 0.8635252071135934, \"rank\": 49.5, \"side\": \"pos\"}, {\"index\": \"danceability\", \"Importance\": 0.8629342874683971, \"rank\": 51.0, \"side\": \"pos\"}, {\"index\": \"genres_swedish electropop\", \"Importance\": 0.8499739662765938, \"rank\": 52.0, \"side\": \"pos\"}, {\"index\": \"emb_sent_179\", \"Importance\": 0.8331755609996452, \"rank\": 53.0, \"side\": \"pos\"}, {\"index\": \"emb_sent_228\", \"Importance\": 0.8323234721418206, \"rank\": 54.0, \"side\": \"pos\"}, {\"index\": \"genres_indie garage rock\", \"Importance\": 0.8304259825802759, \"rank\": 55.0, \"side\": \"pos\"}, {\"index\": \"genres_synthpop\", \"Importance\": 0.8273016670680439, \"rank\": 56.0, \"side\": \"pos\"}, {\"index\": \"genres_new romantic\", \"Importance\": 0.8267604332698928, \"rank\": 57.0, \"side\": \"pos\"}, {\"index\": \"genres_hyphy\", \"Importance\": 0.8232121462237028, \"rank\": 58.0, \"side\": \"pos\"}, {\"index\": \"emb_sent_315\", \"Importance\": 0.8199576953252103, \"rank\": 59.0, \"side\": \"pos\"}, {\"index\": \"genres_australian psych\", \"Importance\": 0.8167691981392076, \"rank\": 60.0, \"side\": \"pos\"}, {\"index\": \"genres_canadian contemporary r&b\", \"Importance\": 0.8128051552176533, \"rank\": 61.0, \"side\": \"pos\"}, {\"index\": \"genres_classic soul\", \"Importance\": 0.7943567615046471, \"rank\": 62.0, \"side\": \"pos\"}, {\"index\": \"key_10\", \"Importance\": 0.7899778280875269, \"rank\": 63.0, \"side\": \"pos\"}, {\"index\": \"genres_nu disco\", \"Importance\": 0.7876289733080031, \"rank\": 64.0, \"side\": \"pos\"}, {\"index\": \"emb_sent_446\", \"Importance\": 0.7782143568125108, \"rank\": 65.0, \"side\": \"pos\"}, {\"index\": \"emb_sent_713\", \"Importance\": 0.7769444168886097, \"rank\": 66.0, \"side\": \"pos\"}, {\"index\": \"genres_tech house\", \"Importance\": 0.7572229458788126, \"rank\": 67.0, \"side\": \"pos\"}, {\"index\": \"emb_sent_41\", \"Importance\": 0.7538155511524193, \"rank\": 68.0, \"side\": \"pos\"}, {\"index\": \"genres_filter house\", \"Importance\": 0.7514954909335083, \"rank\": 69.0, \"side\": \"pos\"}, {\"index\": \"genres_classic rock\", \"Importance\": 0.7496976494909621, \"rank\": 70.0, \"side\": \"pos\"}, {\"index\": \"emb_sent_583\", \"Importance\": 0.7490332187687925, \"rank\": 71.0, \"side\": \"pos\"}, {\"index\": \"emb_sent_297\", \"Importance\": 0.7448696170217687, \"rank\": 72.0, \"side\": \"pos\"}, {\"index\": \"genres_psychedelic rock\", \"Importance\": 0.7418661088098175, \"rank\": 73.0, \"side\": \"pos\"}, {\"index\": \"emb_sent_26\", \"Importance\": 0.7387411659156108, \"rank\": 74.0, \"side\": \"pos\"}, {\"index\": \"genres_cali rap\", \"Importance\": 0.7371929209990336, \"rank\": 75.0, \"side\": \"pos\"}, {\"index\": \"emb_sent_14\", \"Importance\": 0.7331812033752211, \"rank\": 76.0, \"side\": \"pos\"}, {\"index\": \"genres_indietronica\", \"Importance\": 0.7280801275893604, \"rank\": 77.0, \"side\": \"pos\"}, {\"index\": \"genres_tropical house\", \"Importance\": 0.7167902288438204, \"rank\": 78.0, \"side\": \"pos\"}, {\"index\": \"genres_funky tech house\", \"Importance\": 0.7112217371350573, \"rank\": 79.0, \"side\": \"pos\"}, {\"index\": \"emb_sent_606\", \"Importance\": 0.7095077628366103, \"rank\": 80.0, \"side\": \"pos\"}, {\"index\": \"genres_glitch hop\", \"Importance\": 0.7075871034160397, \"rank\": 81.0, \"side\": \"pos\"}, {\"index\": \"emb_sent_523\", \"Importance\": 0.7034931156421225, \"rank\": 82.0, \"side\": \"pos\"}, {\"index\": \"emb_sent_635\", \"Importance\": 0.6900318455720699, \"rank\": 83.0, \"side\": \"pos\"}, {\"index\": \"genres_classic house\", \"Importance\": 0.6883690254000056, \"rank\": 84.0, \"side\": \"pos\"}, {\"index\": \"genres_trap\", \"Importance\": 0.6867454196334757, \"rank\": 85.0, \"side\": \"pos\"}, {\"index\": \"emb_sent_596\", \"Importance\": 0.6845795451016836, \"rank\": 86.0, \"side\": \"pos\"}, {\"index\": \"emb_sent_472\", \"Importance\": 0.6807355214808375, \"rank\": 87.0, \"side\": \"pos\"}, {\"index\": \"emb_sent_23\", \"Importance\": 0.6793116894639478, \"rank\": 88.0, \"side\": \"pos\"}, {\"index\": \"emb_sent_267\", \"Importance\": 0.662961785538117, \"rank\": 89.0, \"side\": \"pos\"}, {\"index\": \"genres_modern blues rock\", \"Importance\": 0.6605120355378857, \"rank\": 90.0, \"side\": \"pos\"}, {\"index\": \"genres_french synthpop\", \"Importance\": 0.6566234776173943, \"rank\": 91.0, \"side\": \"pos\"}, {\"index\": \"genres_electrofox\", \"Importance\": 0.6557960408071328, \"rank\": 92.0, \"side\": \"pos\"}, {\"index\": \"genres_reggae\", \"Importance\": 0.6538286538109995, \"rank\": 93.0, \"side\": \"pos\"}, {\"index\": \"genres_roots reggae\", \"Importance\": 0.653790217938808, \"rank\": 94.0, \"side\": \"pos\"}, {\"index\": \"emb_sent_226\", \"Importance\": 0.6493461916693107, \"rank\": 95.0, \"side\": \"pos\"}, {\"index\": \"genres_dub\", \"Importance\": 0.6489921477622183, \"rank\": 96.0, \"side\": \"pos\"}, {\"index\": \"genres_philly indie\", \"Importance\": 0.6410183952236878, \"rank\": 97.0, \"side\": \"pos\"}, {\"index\": \"genres_vapor house\", \"Importance\": 0.6394189625327452, \"rank\": 98.0, \"side\": \"pos\"}, {\"index\": \"emb_sent_101\", \"Importance\": 0.6369540015451561, \"rank\": 99.0, \"side\": \"pos\"}, {\"index\": \"emb_sent_377\", \"Importance\": 0.634268885470917, \"rank\": 100.0, \"side\": \"pos\"}, {\"index\": \"emb_sent_636\", \"Importance\": -0.5815821934537577, \"rank\": 101.0, \"side\": \"neg\"}, {\"index\": \"emb_sent_628\", \"Importance\": -0.5844425166601407, \"rank\": 102.0, \"side\": \"neg\"}, {\"index\": \"emb_sent_381\", \"Importance\": -0.5930558657864177, \"rank\": 103.0, \"side\": \"neg\"}, {\"index\": \"emb_sent_385\", \"Importance\": -0.5931649673863688, \"rank\": 104.0, \"side\": \"neg\"}, {\"index\": \"emb_sent_213\", \"Importance\": -0.5956689795714417, \"rank\": 105.0, \"side\": \"neg\"}, {\"index\": \"genres_swedish jazz\", \"Importance\": -0.6007150158372637, \"rank\": 106.0, \"side\": \"neg\"}, {\"index\": \"genres_modern jazz trio\", \"Importance\": -0.6071583321107077, \"rank\": 107.0, \"side\": \"neg\"}, {\"index\": \"genres_dance pop\", \"Importance\": -0.6073212500993929, \"rank\": 108.0, \"side\": \"neg\"}, {\"index\": \"emb_sent_313\", \"Importance\": -0.6110598858211839, \"rank\": 109.0, \"side\": \"neg\"}, {\"index\": \"emb_sent_30\", \"Importance\": -0.6131306095746317, \"rank\": 110.0, \"side\": \"neg\"}, {\"index\": \"emb_sent_6\", \"Importance\": -0.6177845148587525, \"rank\": 111.0, \"side\": \"neg\"}, {\"index\": \"emb_sent_706\", \"Importance\": -0.6177947780143747, \"rank\": 112.0, \"side\": \"neg\"}, {\"index\": \"emb_sent_432\", \"Importance\": -0.6198895453048863, \"rank\": 113.0, \"side\": \"neg\"}, {\"index\": \"emb_sent_694\", \"Importance\": -0.6295677164579823, \"rank\": 114.0, \"side\": \"neg\"}, {\"index\": \"emb_sent_291\", \"Importance\": -0.6351991357115787, \"rank\": 115.0, \"side\": \"neg\"}, {\"index\": \"genres_conscious hip hop\", \"Importance\": -0.6366672531975107, \"rank\": 116.0, \"side\": \"neg\"}, {\"index\": \"emb_sent_687\", \"Importance\": -0.6366753206067853, \"rank\": 117.0, \"side\": \"neg\"}, {\"index\": \"genres_pop dance\", \"Importance\": -0.6374734778125308, \"rank\": 118.0, \"side\": \"neg\"}, {\"index\": \"emb_sent_347\", \"Importance\": -0.6395034547149541, \"rank\": 119.0, \"side\": \"neg\"}, {\"index\": \"emb_sent_318\", \"Importance\": -0.6428825239521385, \"rank\": 120.0, \"side\": \"neg\"}, {\"index\": \"emb_sent_587\", \"Importance\": -0.6453430856644587, \"rank\": 121.0, \"side\": \"neg\"}, {\"index\": \"genres_neo mellow\", \"Importance\": -0.6472752381406617, \"rank\": 122.0, \"side\": \"neg\"}, {\"index\": \"genres_latin pop\", \"Importance\": -0.649855044894095, \"rank\": 123.0, \"side\": \"neg\"}, {\"index\": \"emb_sent_250\", \"Importance\": -0.650897065358169, \"rank\": 124.0, \"side\": \"neg\"}, {\"index\": \"emb_sent_74\", \"Importance\": -0.6563803479255104, \"rank\": 125.0, \"side\": \"neg\"}, {\"index\": \"genres_vocal jazz\", \"Importance\": -0.6574771478466551, \"rank\": 126.0, \"side\": \"neg\"}, {\"index\": \"genres_uk pop\", \"Importance\": -0.6579436087439975, \"rank\": 127.0, \"side\": \"neg\"}, {\"index\": \"emb_sent_584\", \"Importance\": -0.6599359995396923, \"rank\": 128.0, \"side\": \"neg\"}, {\"index\": \"genres_viral pop\", \"Importance\": -0.6619019563312849, \"rank\": 129.0, \"side\": \"neg\"}, {\"index\": \"genres_trap latino\", \"Importance\": -0.6678807623002206, \"rank\": 130.0, \"side\": \"neg\"}, {\"index\": \"genres_rap kreyol\", \"Importance\": -0.6718008949484602, \"rank\": 131.0, \"side\": \"neg\"}, {\"index\": \"emb_sent_591\", \"Importance\": -0.6812695317141827, \"rank\": 132.0, \"side\": \"neg\"}, {\"index\": \"genres_electro\", \"Importance\": -0.6836502349487981, \"rank\": 133.0, \"side\": \"neg\"}, {\"index\": \"emb_sent_402\", \"Importance\": -0.6896714997836988, \"rank\": 134.0, \"side\": \"neg\"}, {\"index\": \"emb_sent_470\", \"Importance\": -0.6953634543077072, \"rank\": 135.0, \"side\": \"neg\"}, {\"index\": \"genres_reggaeton\", \"Importance\": -0.6978239890444701, \"rank\": 136.0, \"side\": \"neg\"}, {\"index\": \"emb_sent_263\", \"Importance\": -0.7029943363880949, \"rank\": 137.0, \"side\": \"neg\"}, {\"index\": \"genres_emo\", \"Importance\": -0.7041480801816911, \"rank\": 138.0, \"side\": \"neg\"}, {\"index\": \"emb_sent_544\", \"Importance\": -0.7049928428875113, \"rank\": 139.0, \"side\": \"neg\"}, {\"index\": \"emb_sent_403\", \"Importance\": -0.7070577992307903, \"rank\": 140.0, \"side\": \"neg\"}, {\"index\": \"emb_sent_595\", \"Importance\": -0.7117258843307017, \"rank\": 141.0, \"side\": \"neg\"}, {\"index\": \"genres_deep groove house\", \"Importance\": -0.7130962248276518, \"rank\": 142.0, \"side\": \"neg\"}, {\"index\": \"emb_sent_96\", \"Importance\": -0.7162046466530975, \"rank\": 143.0, \"side\": \"neg\"}, {\"index\": \"genres_modern country rock\", \"Importance\": -0.724546962781604, \"rank\": 144.0, \"side\": \"neg\"}, {\"index\": \"emb_sent_637\", \"Importance\": -0.730683139294966, \"rank\": 145.0, \"side\": \"neg\"}, {\"index\": \"genres_contemporary post-bop\", \"Importance\": -0.7328035083137331, \"rank\": 146.0, \"side\": \"neg\"}, {\"index\": \"genres_jazz saxophone\", \"Importance\": -0.7344188877896547, \"rank\": 147.0, \"side\": \"neg\"}, {\"index\": \"genres_rock\", \"Importance\": -0.7359693463605789, \"rank\": 148.0, \"side\": \"neg\"}, {\"index\": \"genres_girl group\", \"Importance\": -0.7401804228311575, \"rank\": 149.0, \"side\": \"neg\"}, {\"index\": \"genres_social media pop\", \"Importance\": -0.7459458805117954, \"rank\": 150.0, \"side\": \"neg\"}, {\"index\": \"emb_sent_251\", \"Importance\": -0.7464117132474632, \"rank\": 151.0, \"side\": \"neg\"}, {\"index\": \"genres_swedish indie pop\", \"Importance\": -0.7560987976321184, \"rank\": 152.0, \"side\": \"neg\"}, {\"index\": \"emb_sent_60\", \"Importance\": -0.7591608818725085, \"rank\": 153.0, \"side\": \"neg\"}, {\"index\": \"emb_sent_671\", \"Importance\": -0.7592150458012844, \"rank\": 154.0, \"side\": \"neg\"}, {\"index\": \"genres_technical deathcore\", \"Importance\": -0.7649154245544866, \"rank\": 155.0, \"side\": \"neg\"}, {\"index\": \"emb_sent_290\", \"Importance\": -0.7658982482978535, \"rank\": 156.0, \"side\": \"neg\"}, {\"index\": \"genres_progressive house\", \"Importance\": -0.7734366085858444, \"rank\": 157.0, \"side\": \"neg\"}, {\"index\": \"genres_children's music\", \"Importance\": -0.7802148288022454, \"rank\": 158.0, \"side\": \"neg\"}, {\"index\": \"key_3\", \"Importance\": -0.7808370733170773, \"rank\": 159.0, \"side\": \"neg\"}, {\"index\": \"genres_alternative metal\", \"Importance\": -0.78234372476059, \"rank\": 160.0, \"side\": \"neg\"}, {\"index\": \"genres_boy band\", \"Importance\": -0.7927614516867488, \"rank\": 161.0, \"side\": \"neg\"}, {\"index\": \"emb_sent_254\", \"Importance\": -0.8138035008304748, \"rank\": 162.0, \"side\": \"neg\"}, {\"index\": \"genres_uk house\", \"Importance\": -0.8229555155057594, \"rank\": 163.0, \"side\": \"neg\"}, {\"index\": \"emb_sent_136\", \"Importance\": -0.8233339005929838, \"rank\": 164.0, \"side\": \"neg\"}, {\"index\": \"emb_sent_295\", \"Importance\": -0.8314950724011517, \"rank\": 165.0, \"side\": \"neg\"}, {\"index\": \"genres_progressive electro house\", \"Importance\": -0.84291417501536, \"rank\": 166.0, \"side\": \"neg\"}, {\"index\": \"genres_country road\", \"Importance\": -0.8467250744488182, \"rank\": 167.0, \"side\": \"neg\"}, {\"index\": \"genres_edm\", \"Importance\": -0.8608022834704538, \"rank\": 168.0, \"side\": \"neg\"}, {\"index\": \"genres_progressive deathcore\", \"Importance\": -0.8692297538278114, \"rank\": 169.0, \"side\": \"neg\"}, {\"index\": \"genres_modern jazz piano\", \"Importance\": -0.8722052899259785, \"rank\": 170.0, \"side\": \"neg\"}, {\"index\": \"genres_new jack swing\", \"Importance\": -0.8976781801612246, \"rank\": 171.0, \"side\": \"neg\"}, {\"index\": \"genres_christian alternative rock\", \"Importance\": -0.9183880790381426, \"rank\": 172.0, \"side\": \"neg\"}, {\"index\": \"genres_deathcore\", \"Importance\": -0.9209614428379117, \"rank\": 173.0, \"side\": \"neg\"}, {\"index\": \"genres_folk-pop\", \"Importance\": -0.9231071440752212, \"rank\": 174.0, \"side\": \"neg\"}, {\"index\": \"emb_sent_64\", \"Importance\": -0.9516014033302704, \"rank\": 175.0, \"side\": \"neg\"}, {\"index\": \"energy\", \"Importance\": -0.9535519992588078, \"rank\": 176.0, \"side\": \"neg\"}, {\"index\": \"key_1\", \"Importance\": -0.9570193737469347, \"rank\": 177.0, \"side\": \"neg\"}, {\"index\": \"genres_tribal house\", \"Importance\": -0.9858207482157926, \"rank\": 178.0, \"side\": \"neg\"}, {\"index\": \"genres_indie folk argentino\", \"Importance\": -0.9861994195629282, \"rank\": 179.0, \"side\": \"neg\"}, {\"index\": \"genres_worship\", \"Importance\": -0.9954912501413271, \"rank\": 180.0, \"side\": \"neg\"}, {\"index\": \"genres_dirty south rap\", \"Importance\": -0.9980331776777753, \"rank\": 181.0, \"side\": \"neg\"}, {\"index\": \"genres_pop rock\", \"Importance\": -1.0108431719595004, \"rank\": 182.0, \"side\": \"neg\"}, {\"index\": \"genres_dutch house\", \"Importance\": -1.0252427148901246, \"rank\": 183.0, \"side\": \"neg\"}, {\"index\": \"genres_christian music\", \"Importance\": -1.056301350085016, \"rank\": 184.0, \"side\": \"neg\"}, {\"index\": \"genres_kindie rock\", \"Importance\": -1.0670062993065093, \"rank\": 185.0, \"side\": \"neg\"}, {\"index\": \"genres_contemporary country\", \"Importance\": -1.1476705467680586, \"rank\": 186.0, \"side\": \"neg\"}, {\"index\": \"genres_korean singer-songwriter\", \"Importance\": -1.156304378954537, \"rank\": 187.0, \"side\": \"neg\"}, {\"index\": \"genres_country\", \"Importance\": -1.1621744683208581, \"rank\": 188.0, \"side\": \"neg\"}, {\"index\": \"genres_jazz\", \"Importance\": -1.1727117681401489, \"rank\": 189.0, \"side\": \"neg\"}, {\"index\": \"genres_north carolina hip hop\", \"Importance\": -1.2282963867002725, \"rank\": 190.0, \"side\": \"neg\"}, {\"index\": \"emb_sent_181\", \"Importance\": -1.2340715225920413, \"rank\": 191.0, \"side\": \"neg\"}, {\"index\": \"genres_latin\", \"Importance\": -1.266610716128168, \"rank\": 192.0, \"side\": \"neg\"}, {\"index\": \"genres_ccm\", \"Importance\": -1.332786939146638, \"rank\": 193.0, \"side\": \"neg\"}, {\"index\": \"genres_europop\", \"Importance\": -1.35649346069576, \"rank\": 194.0, \"side\": \"neg\"}, {\"index\": \"genres_k-indie\", \"Importance\": -1.3967667487816957, \"rank\": 195.0, \"side\": \"neg\"}, {\"index\": \"genres_neo soul\", \"Importance\": -1.4435659971652646, \"rank\": 196.0, \"side\": \"neg\"}, {\"index\": \"genres_pop edm\", \"Importance\": -1.8034345879629798, \"rank\": 197.0, \"side\": \"neg\"}, {\"index\": \"genres_post-teen pop\", \"Importance\": -1.9324676213427303, \"rank\": 198.0, \"side\": \"neg\"}, {\"index\": \"genres_korean pop\", \"Importance\": -1.9650036953561227, \"rank\": 199.0, \"side\": \"neg\"}, {\"index\": \"key_0\", \"Importance\": -2.52616821427737, \"rank\": 200.0, \"side\": \"neg\"}]}}, {\"mode\": \"vega-lite\"});\n",
       "</script>"
      ],
      "text/plain": [
       "alt.VConcatChart(...)"
      ]
     },
     "execution_count": 22,
     "metadata": {},
     "output_type": "execute_result"
    }
   ],
   "source": [
    "import altair as alt\n",
    "\n",
    "base = (\n",
    "    alt.Chart(feat_importance_200.reset_index())\n",
    "    .mark_bar()\n",
    "    .encode(\n",
    "        x=alt.X(\n",
    "            \"index\",\n",
    "        ),\n",
    "        y=\"Importance:Q\",\n",
    "        color=\"side\",\n",
    "    )\n",
    "    .properties(height=200, width=800, title=\"Top 200 important features\")\n",
    ")\n",
    "\n",
    "brush = alt.selection_interval(encodings=[\"x\"])\n",
    "lower = (\n",
    "    base.encode(\n",
    "        x=alt.X(\n",
    "            \"index\",\n",
    "            axis=alt.Axis(labels=False, title=\"Features\"),\n",
    "            sort=alt.SortField(field=\"rank\", order=\"ascending\"),\n",
    "        )\n",
    "    )\n",
    "    .properties(height=60, width=800, title=\"Drag the plot in below to zoom\")\n",
    "    .add_selection(brush)\n",
    ")\n",
    "\n",
    "upper = base.encode(\n",
    "    alt.X(\n",
    "        \"index\",\n",
    "        scale=alt.Scale(domain=brush),\n",
    "        axis=alt.Axis(title=\"\"),\n",
    "        sort=alt.SortField(field=\"rank\", order=\"ascending\"),\n",
    "    )\n",
    ")\n",
    "\n",
    "upper & lower"
   ]
  },
  {
   "cell_type": "markdown",
   "metadata": {},
   "source": [
    "Top 200 most important features are based on genres."
   ]
  },
  {
   "cell_type": "markdown",
   "metadata": {},
   "source": [
    "<br><br>"
   ]
  },
  {
   "cell_type": "markdown",
   "metadata": {},
   "source": [
    "## Non-linear models\n",
    "### Model training - RandomForestClassifier, XGBClassifier, LGBMClassifier, CatBoostClassifier\n",
    "Second, four non-linear model are trained aside from the linear model above.  \n",
    "After that, feature selection and hyperparameter tuning will carried out in later stage. Cross-validation scores along with standard deviation and results summary is shown in below."
   ]
  },
  {
   "cell_type": "code",
   "execution_count": 23,
   "metadata": {},
   "outputs": [],
   "source": [
    "# Random Forest pipe\n",
    "pipe_rf = make_pipeline(preprocessor, RandomForestClassifier(random_state=123))\n",
    "\n",
    "# XGBoost pipe\n",
    "pipe_xgb = make_pipeline(\n",
    "    preprocessor,\n",
    "    XGBClassifier(\n",
    "        random_state=123, eval_metric=\"logloss\", verbosity=0, use_label_encoder=False\n",
    "    ),\n",
    ")\n",
    "\n",
    "# LGBM Classifier pipe\n",
    "pipe_lgbm = make_pipeline(preprocessor, LGBMClassifier(random_state=123))\n",
    "\n",
    "# Catboost pipe\n",
    "pipe_catb = make_pipeline(preprocessor, CatBoostClassifier(verbose=0, random_state=123))\n",
    "\n",
    "models = {\n",
    "    \"RandomForest\": pipe_rf,\n",
    "    \"XGBoost\": pipe_xgb,\n",
    "    \"LGBM\": pipe_lgbm,\n",
    "    \"Cat_Boost\": pipe_catb,\n",
    "}\n",
    "\n",
    "# summarize mean cv scores in result_non_linear\n",
    "for (name, model) in models.items():\n",
    "    results[name] = mean_std_cross_val_scores(\n",
    "        model, X_train, y_train, return_train_score=True, scoring=scoring_metric\n",
    "    )"
   ]
  },
  {
   "cell_type": "code",
   "execution_count": 24,
   "metadata": {},
   "outputs": [
    {
     "data": {
      "text/html": [
       "<div>\n",
       "<style scoped>\n",
       "    .dataframe tbody tr th:only-of-type {\n",
       "        vertical-align: middle;\n",
       "    }\n",
       "\n",
       "    .dataframe tbody tr th {\n",
       "        vertical-align: top;\n",
       "    }\n",
       "\n",
       "    .dataframe thead th {\n",
       "        text-align: right;\n",
       "    }\n",
       "</style>\n",
       "<table border=\"1\" class=\"dataframe\">\n",
       "  <thead>\n",
       "    <tr style=\"text-align: right;\">\n",
       "      <th></th>\n",
       "      <th>dummy</th>\n",
       "      <th>LogisticReg</th>\n",
       "      <th>LogisticReg_opt</th>\n",
       "      <th>RandomForest</th>\n",
       "      <th>XGBoost</th>\n",
       "      <th>LGBM</th>\n",
       "      <th>Cat_Boost</th>\n",
       "    </tr>\n",
       "  </thead>\n",
       "  <tbody>\n",
       "    <tr>\n",
       "      <th>fit_time</th>\n",
       "      <td>0.138 (+/- 0.015)</td>\n",
       "      <td>13.436 (+/- 0.415)</td>\n",
       "      <td>729.602 (+/- 1.470)</td>\n",
       "      <td>3.025 (+/- 0.158)</td>\n",
       "      <td>6.629 (+/- 0.337)</td>\n",
       "      <td>2.496 (+/- 0.136)</td>\n",
       "      <td>43.591 (+/- 0.065)</td>\n",
       "    </tr>\n",
       "    <tr>\n",
       "      <th>score_time</th>\n",
       "      <td>0.054 (+/- 0.003)</td>\n",
       "      <td>0.138 (+/- 0.048)</td>\n",
       "      <td>0.126 (+/- 0.062)</td>\n",
       "      <td>0.096 (+/- 0.003)</td>\n",
       "      <td>0.072 (+/- 0.003)</td>\n",
       "      <td>0.061 (+/- 0.003)</td>\n",
       "      <td>0.675 (+/- 0.045)</td>\n",
       "    </tr>\n",
       "    <tr>\n",
       "      <th>test_accuracy</th>\n",
       "      <td>0.520 (+/- 0.001)</td>\n",
       "      <td>0.887 (+/- 0.006)</td>\n",
       "      <td>0.888 (+/- 0.008)</td>\n",
       "      <td>0.900 (+/- 0.011)</td>\n",
       "      <td>0.944 (+/- 0.007)</td>\n",
       "      <td>0.950 (+/- 0.003)</td>\n",
       "      <td>0.954 (+/- 0.005)</td>\n",
       "    </tr>\n",
       "    <tr>\n",
       "      <th>train_accuracy</th>\n",
       "      <td>0.520 (+/- 0.000)</td>\n",
       "      <td>0.972 (+/- 0.002)</td>\n",
       "      <td>0.974 (+/- 0.003)</td>\n",
       "      <td>0.997 (+/- 0.001)</td>\n",
       "      <td>0.997 (+/- 0.001)</td>\n",
       "      <td>0.997 (+/- 0.001)</td>\n",
       "      <td>0.995 (+/- 0.001)</td>\n",
       "    </tr>\n",
       "    <tr>\n",
       "      <th>test_roc_auc</th>\n",
       "      <td>0.500 (+/- 0.000)</td>\n",
       "      <td>0.955 (+/- 0.005)</td>\n",
       "      <td>0.954 (+/- 0.005)</td>\n",
       "      <td>0.960 (+/- 0.002)</td>\n",
       "      <td>0.986 (+/- 0.001)</td>\n",
       "      <td>0.991 (+/- 0.002)</td>\n",
       "      <td>0.991 (+/- 0.002)</td>\n",
       "    </tr>\n",
       "    <tr>\n",
       "      <th>train_roc_auc</th>\n",
       "      <td>0.500 (+/- 0.000)</td>\n",
       "      <td>0.997 (+/- 0.000)</td>\n",
       "      <td>0.998 (+/- 0.000)</td>\n",
       "      <td>1.000 (+/- 0.000)</td>\n",
       "      <td>1.000 (+/- 0.000)</td>\n",
       "      <td>1.000 (+/- 0.000)</td>\n",
       "      <td>1.000 (+/- 0.000)</td>\n",
       "    </tr>\n",
       "  </tbody>\n",
       "</table>\n",
       "</div>"
      ],
      "text/plain": [
       "                            dummy         LogisticReg      LogisticReg_opt  \\\n",
       "fit_time        0.138 (+/- 0.015)  13.436 (+/- 0.415)  729.602 (+/- 1.470)   \n",
       "score_time      0.054 (+/- 0.003)   0.138 (+/- 0.048)    0.126 (+/- 0.062)   \n",
       "test_accuracy   0.520 (+/- 0.001)   0.887 (+/- 0.006)    0.888 (+/- 0.008)   \n",
       "train_accuracy  0.520 (+/- 0.000)   0.972 (+/- 0.002)    0.974 (+/- 0.003)   \n",
       "test_roc_auc    0.500 (+/- 0.000)   0.955 (+/- 0.005)    0.954 (+/- 0.005)   \n",
       "train_roc_auc   0.500 (+/- 0.000)   0.997 (+/- 0.000)    0.998 (+/- 0.000)   \n",
       "\n",
       "                     RandomForest            XGBoost               LGBM  \\\n",
       "fit_time        3.025 (+/- 0.158)  6.629 (+/- 0.337)  2.496 (+/- 0.136)   \n",
       "score_time      0.096 (+/- 0.003)  0.072 (+/- 0.003)  0.061 (+/- 0.003)   \n",
       "test_accuracy   0.900 (+/- 0.011)  0.944 (+/- 0.007)  0.950 (+/- 0.003)   \n",
       "train_accuracy  0.997 (+/- 0.001)  0.997 (+/- 0.001)  0.997 (+/- 0.001)   \n",
       "test_roc_auc    0.960 (+/- 0.002)  0.986 (+/- 0.001)  0.991 (+/- 0.002)   \n",
       "train_roc_auc   1.000 (+/- 0.000)  1.000 (+/- 0.000)  1.000 (+/- 0.000)   \n",
       "\n",
       "                         Cat_Boost  \n",
       "fit_time        43.591 (+/- 0.065)  \n",
       "score_time       0.675 (+/- 0.045)  \n",
       "test_accuracy    0.954 (+/- 0.005)  \n",
       "train_accuracy   0.995 (+/- 0.001)  \n",
       "test_roc_auc     0.991 (+/- 0.002)  \n",
       "train_roc_auc    1.000 (+/- 0.000)  "
      ]
     },
     "execution_count": 24,
     "metadata": {},
     "output_type": "execute_result"
    }
   ],
   "source": [
    "pd.DataFrame(results)"
   ]
  },
  {
   "cell_type": "markdown",
   "metadata": {},
   "source": [
    "All the non-linear models are overfitting as all the training scores are close to 1. Compared to most of the models, `LGBM` and `Cat_Boost` are two of the most balanced model in performance, it has the highest accuracy and comparatively less overfitting (the gap between train and validation scores is smaller).\n",
    "\n",
    "Stability of scores is more or less stable, with standard deviation ranging in around 0.06. \n",
    "\n",
    "The fit time of `LGBM` is much shorter than `Cat_Boost`, which is important for the model application, therefore, `LGBM` is by far the most suitable model."
   ]
  },
  {
   "cell_type": "markdown",
   "metadata": {},
   "source": [
    "### Model interpretation on Training set\n",
    "\n",
    "Since `feature_importance_` is not supported on the models, `shap` is used to examine the most important features of our best non-linear models. "
   ]
  },
  {
   "cell_type": "code",
   "execution_count": 25,
   "metadata": {},
   "outputs": [],
   "source": [
    "pipe_lgbm.fit(X_train, y_train);"
   ]
  },
  {
   "cell_type": "code",
   "execution_count": 26,
   "metadata": {},
   "outputs": [],
   "source": [
    "X_train_enc = pd.DataFrame(\n",
    "    data=preprocessor.transform(X_train),\n",
    "    columns=col_name_pp_all,\n",
    "    index=X_train.index,\n",
    ")"
   ]
  },
  {
   "cell_type": "code",
   "execution_count": 27,
   "metadata": {},
   "outputs": [
    {
     "name": "stderr",
     "output_type": "stream",
     "text": [
      "LightGBM binary classifier with TreeExplainer shap values output has changed to a list of ndarray\n"
     ]
    },
    {
     "data": {
      "image/png": "[encoded data removed]",
      "text/plain": [
       "<Figure size 576x684 with 1 Axes>"
      ]
     },
     "metadata": {
      "needs_background": "light"
     },
     "output_type": "display_data"
    }
   ],
   "source": [
    "lgbm_explainer = shap.TreeExplainer(pipe_lgbm.named_steps[\"lgbmclassifier\"])\n",
    "train_lgbm_shap_values = lgbm_explainer.shap_values(X_train_enc)\n",
    "shap.summary_plot(train_lgbm_shap_values, X_train_enc, plot_type=\"bar\")"
   ]
  },
  {
   "cell_type": "markdown",
   "metadata": {},
   "source": [
    "We examined the most important features of `LGBMClassifier` with SHAP methods. Apart from genre, the results suggests that the most important features are `instrumentalness`, `danceability` and `loudness`. Comparing to the linear model, which suggested all `genre_` is the most important features. non-linear model has more diversity."
   ]
  },
  {
   "cell_type": "markdown",
   "metadata": {},
   "source": [
    "## Model Averaging\n",
    "All the models are overfitted. To ease the fundamental trade off, `Averaging` is attempted to see if a higher validation score and shorter fit time can be achieved."
   ]
  },
  {
   "cell_type": "code",
   "execution_count": 28,
   "metadata": {},
   "outputs": [],
   "source": [
    "avg_classifiers = {\n",
    "    \"random forest\": pipe_rf,\n",
    "    \"XGBoost\": pipe_xgb,\n",
    "    \"LightGBM\": pipe_lgbm\n",
    "}\n",
    "\n",
    "averaging_model = VotingClassifier(\n",
    "    list(avg_classifiers.items()), voting=\"soft\"\n",
    ") \n",
    "\n",
    "results['averaging'] = mean_std_cross_val_scores(\n",
    "        averaging_model, X_train, y_train, return_train_score=True, scoring=scoring_metric#, cv=2\n",
    "    )"
   ]
  },
  {
   "cell_type": "code",
   "execution_count": 29,
   "metadata": {},
   "outputs": [
    {
     "data": {
      "text/html": [
       "<div>\n",
       "<style scoped>\n",
       "    .dataframe tbody tr th:only-of-type {\n",
       "        vertical-align: middle;\n",
       "    }\n",
       "\n",
       "    .dataframe tbody tr th {\n",
       "        vertical-align: top;\n",
       "    }\n",
       "\n",
       "    .dataframe thead th {\n",
       "        text-align: right;\n",
       "    }\n",
       "</style>\n",
       "<table border=\"1\" class=\"dataframe\">\n",
       "  <thead>\n",
       "    <tr style=\"text-align: right;\">\n",
       "      <th></th>\n",
       "      <th>dummy</th>\n",
       "      <th>LogisticReg</th>\n",
       "      <th>LogisticReg_opt</th>\n",
       "      <th>RandomForest</th>\n",
       "      <th>XGBoost</th>\n",
       "      <th>LGBM</th>\n",
       "      <th>Cat_Boost</th>\n",
       "      <th>averaging</th>\n",
       "    </tr>\n",
       "  </thead>\n",
       "  <tbody>\n",
       "    <tr>\n",
       "      <th>fit_time</th>\n",
       "      <td>0.138 (+/- 0.015)</td>\n",
       "      <td>13.436 (+/- 0.415)</td>\n",
       "      <td>729.602 (+/- 1.470)</td>\n",
       "      <td>3.025 (+/- 0.158)</td>\n",
       "      <td>6.629 (+/- 0.337)</td>\n",
       "      <td>2.496 (+/- 0.136)</td>\n",
       "      <td>43.591 (+/- 0.065)</td>\n",
       "      <td>14.263 (+/- 0.906)</td>\n",
       "    </tr>\n",
       "    <tr>\n",
       "      <th>score_time</th>\n",
       "      <td>0.054 (+/- 0.003)</td>\n",
       "      <td>0.138 (+/- 0.048)</td>\n",
       "      <td>0.126 (+/- 0.062)</td>\n",
       "      <td>0.096 (+/- 0.003)</td>\n",
       "      <td>0.072 (+/- 0.003)</td>\n",
       "      <td>0.061 (+/- 0.003)</td>\n",
       "      <td>0.675 (+/- 0.045)</td>\n",
       "      <td>0.278 (+/- 0.010)</td>\n",
       "    </tr>\n",
       "    <tr>\n",
       "      <th>test_accuracy</th>\n",
       "      <td>0.520 (+/- 0.001)</td>\n",
       "      <td>0.887 (+/- 0.006)</td>\n",
       "      <td>0.888 (+/- 0.008)</td>\n",
       "      <td>0.900 (+/- 0.011)</td>\n",
       "      <td>0.944 (+/- 0.007)</td>\n",
       "      <td>0.950 (+/- 0.003)</td>\n",
       "      <td>0.954 (+/- 0.005)</td>\n",
       "      <td>0.951 (+/- 0.004)</td>\n",
       "    </tr>\n",
       "    <tr>\n",
       "      <th>train_accuracy</th>\n",
       "      <td>0.520 (+/- 0.000)</td>\n",
       "      <td>0.972 (+/- 0.002)</td>\n",
       "      <td>0.974 (+/- 0.003)</td>\n",
       "      <td>0.997 (+/- 0.001)</td>\n",
       "      <td>0.997 (+/- 0.001)</td>\n",
       "      <td>0.997 (+/- 0.001)</td>\n",
       "      <td>0.995 (+/- 0.001)</td>\n",
       "      <td>0.997 (+/- 0.001)</td>\n",
       "    </tr>\n",
       "    <tr>\n",
       "      <th>test_roc_auc</th>\n",
       "      <td>0.500 (+/- 0.000)</td>\n",
       "      <td>0.955 (+/- 0.005)</td>\n",
       "      <td>0.954 (+/- 0.005)</td>\n",
       "      <td>0.960 (+/- 0.002)</td>\n",
       "      <td>0.986 (+/- 0.001)</td>\n",
       "      <td>0.991 (+/- 0.002)</td>\n",
       "      <td>0.991 (+/- 0.002)</td>\n",
       "      <td>0.986 (+/- 0.001)</td>\n",
       "    </tr>\n",
       "    <tr>\n",
       "      <th>train_roc_auc</th>\n",
       "      <td>0.500 (+/- 0.000)</td>\n",
       "      <td>0.997 (+/- 0.000)</td>\n",
       "      <td>0.998 (+/- 0.000)</td>\n",
       "      <td>1.000 (+/- 0.000)</td>\n",
       "      <td>1.000 (+/- 0.000)</td>\n",
       "      <td>1.000 (+/- 0.000)</td>\n",
       "      <td>1.000 (+/- 0.000)</td>\n",
       "      <td>1.000 (+/- 0.000)</td>\n",
       "    </tr>\n",
       "  </tbody>\n",
       "</table>\n",
       "</div>"
      ],
      "text/plain": [
       "                            dummy         LogisticReg      LogisticReg_opt  \\\n",
       "fit_time        0.138 (+/- 0.015)  13.436 (+/- 0.415)  729.602 (+/- 1.470)   \n",
       "score_time      0.054 (+/- 0.003)   0.138 (+/- 0.048)    0.126 (+/- 0.062)   \n",
       "test_accuracy   0.520 (+/- 0.001)   0.887 (+/- 0.006)    0.888 (+/- 0.008)   \n",
       "train_accuracy  0.520 (+/- 0.000)   0.972 (+/- 0.002)    0.974 (+/- 0.003)   \n",
       "test_roc_auc    0.500 (+/- 0.000)   0.955 (+/- 0.005)    0.954 (+/- 0.005)   \n",
       "train_roc_auc   0.500 (+/- 0.000)   0.997 (+/- 0.000)    0.998 (+/- 0.000)   \n",
       "\n",
       "                     RandomForest            XGBoost               LGBM  \\\n",
       "fit_time        3.025 (+/- 0.158)  6.629 (+/- 0.337)  2.496 (+/- 0.136)   \n",
       "score_time      0.096 (+/- 0.003)  0.072 (+/- 0.003)  0.061 (+/- 0.003)   \n",
       "test_accuracy   0.900 (+/- 0.011)  0.944 (+/- 0.007)  0.950 (+/- 0.003)   \n",
       "train_accuracy  0.997 (+/- 0.001)  0.997 (+/- 0.001)  0.997 (+/- 0.001)   \n",
       "test_roc_auc    0.960 (+/- 0.002)  0.986 (+/- 0.001)  0.991 (+/- 0.002)   \n",
       "train_roc_auc   1.000 (+/- 0.000)  1.000 (+/- 0.000)  1.000 (+/- 0.000)   \n",
       "\n",
       "                         Cat_Boost           averaging  \n",
       "fit_time        43.591 (+/- 0.065)  14.263 (+/- 0.906)  \n",
       "score_time       0.675 (+/- 0.045)   0.278 (+/- 0.010)  \n",
       "test_accuracy    0.954 (+/- 0.005)   0.951 (+/- 0.004)  \n",
       "train_accuracy   0.995 (+/- 0.001)   0.997 (+/- 0.001)  \n",
       "test_roc_auc     0.991 (+/- 0.002)   0.986 (+/- 0.001)  \n",
       "train_roc_auc    1.000 (+/- 0.000)   1.000 (+/- 0.000)  "
      ]
     },
     "execution_count": 29,
     "metadata": {},
     "output_type": "execute_result"
    }
   ],
   "source": [
    "pd.DataFrame(results)"
   ]
  },
  {
   "cell_type": "markdown",
   "metadata": {},
   "source": [
    "According to the result, averaging the models neither help the overfitting issue nor scoring. However, the fit time is slower than `LGBMClassifier`. `LGBMClassifier` is still the best model."
   ]
  },
  {
   "cell_type": "markdown",
   "metadata": {},
   "source": [
    "## Results on the test set \n",
    "\n",
    "The best performing model `LGBMClassifier` is used on the test data and report test scores. Summary is shown as below. Furthermore, some test predictions and corresponding explanation with SHAP force plots are drawn for further study."
   ]
  },
  {
   "cell_type": "code",
   "execution_count": 30,
   "metadata": {},
   "outputs": [
    {
     "name": "stdout",
     "output_type": "stream",
     "text": [
      "Test Set accuracy:  0.954\n"
     ]
    }
   ],
   "source": [
    "#predictions = pipe_catb.predict(X_test)\n",
    "print(\"Test Set accuracy: \", round(pipe_lgbm.score(X_test, y_test), 3))"
   ]
  },
  {
   "cell_type": "markdown",
   "metadata": {},
   "source": [
    "The test set score was similar to the validation score. Therefore, the prediction is promising. "
   ]
  },
  {
   "cell_type": "markdown",
   "metadata": {},
   "source": [
    "### Interpretation and feature importances on Test set"
   ]
  },
  {
   "cell_type": "code",
   "execution_count": 31,
   "metadata": {},
   "outputs": [
    {
     "data": {
      "text/plain": [
       "(958, 1653)"
      ]
     },
     "execution_count": 31,
     "metadata": {},
     "output_type": "execute_result"
    }
   ],
   "source": [
    "# Encoding X_test for SHAP force plot\n",
    "X_test_enc = pd.DataFrame(\n",
    "    data=preprocessor.transform(X_test),\n",
    "    columns=col_name_pp_all,\n",
    "    index=X_test.index,\n",
    ")\n",
    "X_test_enc.shape"
   ]
  },
  {
   "cell_type": "code",
   "execution_count": 32,
   "metadata": {},
   "outputs": [
    {
     "name": "stderr",
     "output_type": "stream",
     "text": [
      "LightGBM binary classifier with TreeExplainer shap values output has changed to a list of ndarray\n"
     ]
    },
    {
     "data": {
      "image/png": "[encoded data removed]",
      "text/plain": [
       "<Figure size 576x684 with 1 Axes>"
      ]
     },
     "metadata": {
      "needs_background": "light"
     },
     "output_type": "display_data"
    }
   ],
   "source": [
    "# Create an explainer for X_test_enc\n",
    "test_lgbm_shap_values = lgbm_explainer.shap_values(X_test_enc)\n",
    "shap.summary_plot(test_lgbm_shap_values, X_test_enc, plot_type=\"bar\")"
   ]
  },
  {
   "cell_type": "code",
   "execution_count": 33,
   "metadata": {},
   "outputs": [
    {
     "data": {
      "text/plain": [
       "1"
      ]
     },
     "execution_count": 33,
     "metadata": {},
     "output_type": "execute_result"
    }
   ],
   "source": [
    "y_test.iloc[8]"
   ]
  },
  {
   "cell_type": "code",
   "execution_count": 34,
   "metadata": {},
   "outputs": [
    {
     "data": {
      "image/png": "[encoded data removed]",
      "text/plain": [
       "<Figure size 1440x216 with 1 Axes>"
      ]
     },
     "metadata": {
      "needs_background": "light"
     },
     "output_type": "display_data"
    }
   ],
   "source": [
    "# Force Plot for prediction of 4th row (no_default)\n",
    "shap.force_plot(\n",
    "    lgbm_explainer.expected_value[1],\n",
    "    test_lgbm_shap_values[1][8,:],\n",
    "    X_test_enc.iloc[8,:],\n",
    "    matplotlib=True,\n",
    ")"
   ]
  },
  {
   "cell_type": "markdown",
   "metadata": {},
   "source": [
    "- As seen from the plot, the raw score is much smaller than the base value, which predict accurately as **Like** (class of '1').  \n",
    "- `danceability` and `genres_dance_pop` are pushing the prediction towards a higher score, and `tempo` is pushing the prediction towards a lower score."
   ]
  },
  {
   "cell_type": "code",
   "execution_count": 35,
   "metadata": {},
   "outputs": [
    {
     "data": {
      "text/plain": [
       "0"
      ]
     },
     "execution_count": 35,
     "metadata": {},
     "output_type": "execute_result"
    }
   ],
   "source": [
    "y_test.iloc[10]"
   ]
  },
  {
   "cell_type": "code",
   "execution_count": 36,
   "metadata": {},
   "outputs": [
    {
     "data": {
      "image/png": "[encoded data removed]",
      "text/plain": [
       "<Figure size 1440x216 with 1 Axes>"
      ]
     },
     "metadata": {
      "needs_background": "light"
     },
     "output_type": "display_data"
    }
   ],
   "source": [
    "# Force Plot for prediction of 2nd row (no_default)\n",
    "shap.force_plot(\n",
    "    lgbm_explainer.expected_value[1],\n",
    "    test_lgbm_shap_values[1][4,:],\n",
    "    X_test_enc.iloc[4,:],\n",
    "    matplotlib=True,\n",
    ")"
   ]
  },
  {
   "cell_type": "markdown",
   "metadata": {},
   "source": [
    "- As seen from the plot, the raw score is much smaller than the base value, which predict accurately as **Unlike** (class of '0').  \n",
    "- `genres_dance_pop` is pushing the prediction towards a higher score, and `genres_modern rock` and `instrumentalness` are pushing the prediction towards a lower score."
   ]
  },
  {
   "cell_type": "markdown",
   "metadata": {},
   "source": [
    "## Summary of machine learning results "
   ]
  },
  {
   "cell_type": "code",
   "execution_count": 37,
   "metadata": {},
   "outputs": [
    {
     "data": {
      "text/html": [
       "<div>\n",
       "<style scoped>\n",
       "    .dataframe tbody tr th:only-of-type {\n",
       "        vertical-align: middle;\n",
       "    }\n",
       "\n",
       "    .dataframe tbody tr th {\n",
       "        vertical-align: top;\n",
       "    }\n",
       "\n",
       "    .dataframe thead th {\n",
       "        text-align: right;\n",
       "    }\n",
       "</style>\n",
       "<table border=\"1\" class=\"dataframe\">\n",
       "  <thead>\n",
       "    <tr style=\"text-align: right;\">\n",
       "      <th></th>\n",
       "      <th>dummy</th>\n",
       "      <th>LogisticReg</th>\n",
       "      <th>LogisticReg_opt</th>\n",
       "      <th>RandomForest</th>\n",
       "      <th>XGBoost</th>\n",
       "      <th>LGBM</th>\n",
       "      <th>Cat_Boost</th>\n",
       "      <th>averaging</th>\n",
       "    </tr>\n",
       "  </thead>\n",
       "  <tbody>\n",
       "    <tr>\n",
       "      <th>fit_time</th>\n",
       "      <td>0.138 (+/- 0.015)</td>\n",
       "      <td>13.436 (+/- 0.415)</td>\n",
       "      <td>729.602 (+/- 1.470)</td>\n",
       "      <td>3.025 (+/- 0.158)</td>\n",
       "      <td>6.629 (+/- 0.337)</td>\n",
       "      <td>2.496 (+/- 0.136)</td>\n",
       "      <td>43.591 (+/- 0.065)</td>\n",
       "      <td>14.263 (+/- 0.906)</td>\n",
       "    </tr>\n",
       "    <tr>\n",
       "      <th>score_time</th>\n",
       "      <td>0.054 (+/- 0.003)</td>\n",
       "      <td>0.138 (+/- 0.048)</td>\n",
       "      <td>0.126 (+/- 0.062)</td>\n",
       "      <td>0.096 (+/- 0.003)</td>\n",
       "      <td>0.072 (+/- 0.003)</td>\n",
       "      <td>0.061 (+/- 0.003)</td>\n",
       "      <td>0.675 (+/- 0.045)</td>\n",
       "      <td>0.278 (+/- 0.010)</td>\n",
       "    </tr>\n",
       "    <tr>\n",
       "      <th>test_accuracy</th>\n",
       "      <td>0.520 (+/- 0.001)</td>\n",
       "      <td>0.887 (+/- 0.006)</td>\n",
       "      <td>0.888 (+/- 0.008)</td>\n",
       "      <td>0.900 (+/- 0.011)</td>\n",
       "      <td>0.944 (+/- 0.007)</td>\n",
       "      <td>0.950 (+/- 0.003)</td>\n",
       "      <td>0.954 (+/- 0.005)</td>\n",
       "      <td>0.951 (+/- 0.004)</td>\n",
       "    </tr>\n",
       "    <tr>\n",
       "      <th>train_accuracy</th>\n",
       "      <td>0.520 (+/- 0.000)</td>\n",
       "      <td>0.972 (+/- 0.002)</td>\n",
       "      <td>0.974 (+/- 0.003)</td>\n",
       "      <td>0.997 (+/- 0.001)</td>\n",
       "      <td>0.997 (+/- 0.001)</td>\n",
       "      <td>0.997 (+/- 0.001)</td>\n",
       "      <td>0.995 (+/- 0.001)</td>\n",
       "      <td>0.997 (+/- 0.001)</td>\n",
       "    </tr>\n",
       "    <tr>\n",
       "      <th>test_roc_auc</th>\n",
       "      <td>0.500 (+/- 0.000)</td>\n",
       "      <td>0.955 (+/- 0.005)</td>\n",
       "      <td>0.954 (+/- 0.005)</td>\n",
       "      <td>0.960 (+/- 0.002)</td>\n",
       "      <td>0.986 (+/- 0.001)</td>\n",
       "      <td>0.991 (+/- 0.002)</td>\n",
       "      <td>0.991 (+/- 0.002)</td>\n",
       "      <td>0.986 (+/- 0.001)</td>\n",
       "    </tr>\n",
       "    <tr>\n",
       "      <th>train_roc_auc</th>\n",
       "      <td>0.500 (+/- 0.000)</td>\n",
       "      <td>0.997 (+/- 0.000)</td>\n",
       "      <td>0.998 (+/- 0.000)</td>\n",
       "      <td>1.000 (+/- 0.000)</td>\n",
       "      <td>1.000 (+/- 0.000)</td>\n",
       "      <td>1.000 (+/- 0.000)</td>\n",
       "      <td>1.000 (+/- 0.000)</td>\n",
       "      <td>1.000 (+/- 0.000)</td>\n",
       "    </tr>\n",
       "  </tbody>\n",
       "</table>\n",
       "</div>"
      ],
      "text/plain": [
       "                            dummy         LogisticReg      LogisticReg_opt  \\\n",
       "fit_time        0.138 (+/- 0.015)  13.436 (+/- 0.415)  729.602 (+/- 1.470)   \n",
       "score_time      0.054 (+/- 0.003)   0.138 (+/- 0.048)    0.126 (+/- 0.062)   \n",
       "test_accuracy   0.520 (+/- 0.001)   0.887 (+/- 0.006)    0.888 (+/- 0.008)   \n",
       "train_accuracy  0.520 (+/- 0.000)   0.972 (+/- 0.002)    0.974 (+/- 0.003)   \n",
       "test_roc_auc    0.500 (+/- 0.000)   0.955 (+/- 0.005)    0.954 (+/- 0.005)   \n",
       "train_roc_auc   0.500 (+/- 0.000)   0.997 (+/- 0.000)    0.998 (+/- 0.000)   \n",
       "\n",
       "                     RandomForest            XGBoost               LGBM  \\\n",
       "fit_time        3.025 (+/- 0.158)  6.629 (+/- 0.337)  2.496 (+/- 0.136)   \n",
       "score_time      0.096 (+/- 0.003)  0.072 (+/- 0.003)  0.061 (+/- 0.003)   \n",
       "test_accuracy   0.900 (+/- 0.011)  0.944 (+/- 0.007)  0.950 (+/- 0.003)   \n",
       "train_accuracy  0.997 (+/- 0.001)  0.997 (+/- 0.001)  0.997 (+/- 0.001)   \n",
       "test_roc_auc    0.960 (+/- 0.002)  0.986 (+/- 0.001)  0.991 (+/- 0.002)   \n",
       "train_roc_auc   1.000 (+/- 0.000)  1.000 (+/- 0.000)  1.000 (+/- 0.000)   \n",
       "\n",
       "                         Cat_Boost           averaging  \n",
       "fit_time        43.591 (+/- 0.065)  14.263 (+/- 0.906)  \n",
       "score_time       0.675 (+/- 0.045)   0.278 (+/- 0.010)  \n",
       "test_accuracy    0.954 (+/- 0.005)   0.951 (+/- 0.004)  \n",
       "train_accuracy   0.995 (+/- 0.001)   0.997 (+/- 0.001)  \n",
       "test_roc_auc     0.991 (+/- 0.002)   0.986 (+/- 0.001)  \n",
       "train_roc_auc    1.000 (+/- 0.000)   1.000 (+/- 0.000)  "
      ]
     },
     "execution_count": 37,
     "metadata": {},
     "output_type": "execute_result"
    }
   ],
   "source": [
    "pd.DataFrame(results)"
   ]
  },
  {
   "cell_type": "code",
   "execution_count": 38,
   "metadata": {},
   "outputs": [],
   "source": [
    "pd.DataFrame(results).to_csv('data/model_results.csv',index=False)"
   ]
  },
  {
   "cell_type": "markdown",
   "metadata": {},
   "source": [
    "<br><br>"
   ]
  },
  {
   "cell_type": "markdown",
   "metadata": {},
   "source": [
    "<br><br>"
   ]
  }
 ],
 "metadata": {
  "kernelspec": {
   "display_name": "Python 3 (ipykernel)",
   "language": "python",
   "name": "python3"
  },
  "language_info": {
   "codemirror_mode": {
    "name": "ipython",
    "version": 3
   },
   "file_extension": ".py",
   "mimetype": "text/x-python",
   "name": "python",
   "nbconvert_exporter": "python",
   "pygments_lexer": "ipython3",
   "version": "3.9.9"
  }
 },
 "nbformat": 4,
 "nbformat_minor": 4
}
