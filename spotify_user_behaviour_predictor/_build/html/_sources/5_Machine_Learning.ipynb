{
 "cells": [
  {
   "cell_type": "markdown",
   "metadata": {},
   "source": [
    "# Machine Learning analysis\n",
    "\n",
    "- This is a Python base notebook  \n",
    "\n",
    "Kaggle's [Spotify Song Attributes](https://www.kaggle.com/geomack/spotifyclassification/home) dataset contains a number of features of songs from 2017 and a binary variable `target` that represents whether the user liked the song (encoded as 1) or not (encoded as 0). See the documentation of all the features [here](https://developer.spotify.com/documentation/web-api/reference/tracks/get-audio-features/). "
   ]
  },
  {
   "cell_type": "markdown",
   "metadata": {},
   "source": [
    "## Imports"
   ]
  },
  {
   "cell_type": "markdown",
   "metadata": {},
   "source": [
    "### Import libraries"
   ]
  },
  {
   "cell_type": "code",
   "execution_count": 1,
   "metadata": {},
   "outputs": [],
   "source": [
    "import matplotlib.pyplot as plt\n",
    "import numpy as np\n",
    "import pandas as pd\n",
    "#from sklearn import datasets\n",
    "from sklearn.compose import ColumnTransformer, make_column_transformer\n",
    "\n",
    "#from sklearn.impute import SimpleImputer\n",
    "from sklearn.model_selection import (\n",
    "    RandomizedSearchCV,\n",
    "#    cross_val_score,\n",
    "    cross_validate,\n",
    "    train_test_split,\n",
    ")\n",
    "from sklearn.pipeline import make_pipeline #Pipeline, make_pipeline\n",
    "from sklearn.preprocessing import StandardScaler, OneHotEncoder\n",
    "#from sklearn.svm import SVC, SVR\n",
    "#from sklearn.preprocessing import PolynomialFeatures\n",
    "\n",
    "from sklearn.dummy import DummyClassifier\n",
    "from sklearn.linear_model import LogisticRegression, Ridge\n",
    "from sklearn.ensemble import RandomForestClassifier\n",
    "from lightgbm.sklearn import LGBMClassifier\n",
    "from xgboost import XGBClassifier\n",
    "from catboost import CatBoostClassifier\n",
    "from sklearn.tree import DecisionTreeClassifier\n",
    "from sklearn.ensemble import VotingClassifier\n",
    "#from sklearn.feature_selection import RFECV\n",
    "\n",
    "from sklearn.metrics import (\n",
    "    classification_report,\n",
    "    roc_curve,\n",
    "    RocCurveDisplay,\n",
    "    roc_auc_score\n",
    ")\n",
    "\n",
    "import shap\n",
    "#from sklearn.model_selection import cross_val_predict"
   ]
  },
  {
   "cell_type": "code",
   "execution_count": 2,
   "metadata": {},
   "outputs": [],
   "source": [
    "def mean_std_cross_val_scores(model, X_train, y_train, **kwargs):\n",
    "    \"\"\"\n",
    "    Returns mean and std of cross validation\n",
    "\n",
    "    Parameters\n",
    "    ----------\n",
    "    model :\n",
    "        scikit-learn model\n",
    "    X_train : numpy array or pandas DataFrame\n",
    "        X in the training data\n",
    "    y_train :\n",
    "        y in the training data\n",
    "\n",
    "    Returns\n",
    "    ----------\n",
    "        pandas Series with mean scores from cross_validation\n",
    "    \"\"\"\n",
    "\n",
    "    scores = cross_validate(model, X_train, y_train, **kwargs)\n",
    "\n",
    "    mean_scores = pd.DataFrame(scores).mean()\n",
    "    std_scores = pd.DataFrame(scores).std()\n",
    "    out_col = []\n",
    "\n",
    "    for i in range(len(mean_scores)):\n",
    "        out_col.append((f\"%0.3f (+/- %0.3f)\" % (mean_scores[i], std_scores[i])))\n",
    "\n",
    "    return pd.Series(data=out_col, index=mean_scores.index)"
   ]
  },
  {
   "cell_type": "markdown",
   "metadata": {},
   "source": [
    "<br><br>"
   ]
  },
  {
   "cell_type": "markdown",
   "metadata": {},
   "source": [
    "### Reading the data CSV\n",
    "Read in the data CSV and store it as a pandas dataframe named `spotify_df`."
   ]
  },
  {
   "cell_type": "code",
   "execution_count": 3,
   "metadata": {},
   "outputs": [
    {
     "data": {
      "text/html": [
       "<div>\n",
       "<style scoped>\n",
       "    .dataframe tbody tr th:only-of-type {\n",
       "        vertical-align: middle;\n",
       "    }\n",
       "\n",
       "    .dataframe tbody tr th {\n",
       "        vertical-align: top;\n",
       "    }\n",
       "\n",
       "    .dataframe thead th {\n",
       "        text-align: right;\n",
       "    }\n",
       "</style>\n",
       "<table border=\"1\" class=\"dataframe\">\n",
       "  <thead>\n",
       "    <tr style=\"text-align: right;\">\n",
       "      <th></th>\n",
       "      <th>acousticness</th>\n",
       "      <th>danceability</th>\n",
       "      <th>duration_ms</th>\n",
       "      <th>energy</th>\n",
       "      <th>instrumentalness</th>\n",
       "      <th>key</th>\n",
       "      <th>liveness</th>\n",
       "      <th>loudness</th>\n",
       "      <th>mode</th>\n",
       "      <th>speechiness</th>\n",
       "      <th>tempo</th>\n",
       "      <th>time_signature</th>\n",
       "      <th>valence</th>\n",
       "      <th>target</th>\n",
       "      <th>song_title</th>\n",
       "      <th>artist</th>\n",
       "    </tr>\n",
       "  </thead>\n",
       "  <tbody>\n",
       "    <tr>\n",
       "      <th>0</th>\n",
       "      <td>0.01020</td>\n",
       "      <td>0.833</td>\n",
       "      <td>204600</td>\n",
       "      <td>0.434</td>\n",
       "      <td>0.021900</td>\n",
       "      <td>2</td>\n",
       "      <td>0.1650</td>\n",
       "      <td>-8.795</td>\n",
       "      <td>1</td>\n",
       "      <td>0.4310</td>\n",
       "      <td>150.062</td>\n",
       "      <td>4.0</td>\n",
       "      <td>0.286</td>\n",
       "      <td>1</td>\n",
       "      <td>Mask Off</td>\n",
       "      <td>Future</td>\n",
       "    </tr>\n",
       "    <tr>\n",
       "      <th>1</th>\n",
       "      <td>0.19900</td>\n",
       "      <td>0.743</td>\n",
       "      <td>326933</td>\n",
       "      <td>0.359</td>\n",
       "      <td>0.006110</td>\n",
       "      <td>1</td>\n",
       "      <td>0.1370</td>\n",
       "      <td>-10.401</td>\n",
       "      <td>1</td>\n",
       "      <td>0.0794</td>\n",
       "      <td>160.083</td>\n",
       "      <td>4.0</td>\n",
       "      <td>0.588</td>\n",
       "      <td>1</td>\n",
       "      <td>Redbone</td>\n",
       "      <td>Childish Gambino</td>\n",
       "    </tr>\n",
       "    <tr>\n",
       "      <th>2</th>\n",
       "      <td>0.03440</td>\n",
       "      <td>0.838</td>\n",
       "      <td>185707</td>\n",
       "      <td>0.412</td>\n",
       "      <td>0.000234</td>\n",
       "      <td>2</td>\n",
       "      <td>0.1590</td>\n",
       "      <td>-7.148</td>\n",
       "      <td>1</td>\n",
       "      <td>0.2890</td>\n",
       "      <td>75.044</td>\n",
       "      <td>4.0</td>\n",
       "      <td>0.173</td>\n",
       "      <td>1</td>\n",
       "      <td>Xanny Family</td>\n",
       "      <td>Future</td>\n",
       "    </tr>\n",
       "    <tr>\n",
       "      <th>3</th>\n",
       "      <td>0.60400</td>\n",
       "      <td>0.494</td>\n",
       "      <td>199413</td>\n",
       "      <td>0.338</td>\n",
       "      <td>0.510000</td>\n",
       "      <td>5</td>\n",
       "      <td>0.0922</td>\n",
       "      <td>-15.236</td>\n",
       "      <td>1</td>\n",
       "      <td>0.0261</td>\n",
       "      <td>86.468</td>\n",
       "      <td>4.0</td>\n",
       "      <td>0.230</td>\n",
       "      <td>1</td>\n",
       "      <td>Master Of None</td>\n",
       "      <td>Beach House</td>\n",
       "    </tr>\n",
       "    <tr>\n",
       "      <th>4</th>\n",
       "      <td>0.18000</td>\n",
       "      <td>0.678</td>\n",
       "      <td>392893</td>\n",
       "      <td>0.561</td>\n",
       "      <td>0.512000</td>\n",
       "      <td>5</td>\n",
       "      <td>0.4390</td>\n",
       "      <td>-11.648</td>\n",
       "      <td>0</td>\n",
       "      <td>0.0694</td>\n",
       "      <td>174.004</td>\n",
       "      <td>4.0</td>\n",
       "      <td>0.904</td>\n",
       "      <td>1</td>\n",
       "      <td>Parallel Lines</td>\n",
       "      <td>Junior Boys</td>\n",
       "    </tr>\n",
       "    <tr>\n",
       "      <th>5</th>\n",
       "      <td>0.00479</td>\n",
       "      <td>0.804</td>\n",
       "      <td>251333</td>\n",
       "      <td>0.560</td>\n",
       "      <td>0.000000</td>\n",
       "      <td>8</td>\n",
       "      <td>0.1640</td>\n",
       "      <td>-6.682</td>\n",
       "      <td>1</td>\n",
       "      <td>0.1850</td>\n",
       "      <td>85.023</td>\n",
       "      <td>4.0</td>\n",
       "      <td>0.264</td>\n",
       "      <td>1</td>\n",
       "      <td>Sneakin’</td>\n",
       "      <td>Drake</td>\n",
       "    </tr>\n",
       "  </tbody>\n",
       "</table>\n",
       "</div>"
      ],
      "text/plain": [
       "   acousticness  danceability  duration_ms  energy  instrumentalness  key  \\\n",
       "0       0.01020         0.833       204600   0.434          0.021900    2   \n",
       "1       0.19900         0.743       326933   0.359          0.006110    1   \n",
       "2       0.03440         0.838       185707   0.412          0.000234    2   \n",
       "3       0.60400         0.494       199413   0.338          0.510000    5   \n",
       "4       0.18000         0.678       392893   0.561          0.512000    5   \n",
       "5       0.00479         0.804       251333   0.560          0.000000    8   \n",
       "\n",
       "   liveness  loudness  mode  speechiness    tempo  time_signature  valence  \\\n",
       "0    0.1650    -8.795     1       0.4310  150.062             4.0    0.286   \n",
       "1    0.1370   -10.401     1       0.0794  160.083             4.0    0.588   \n",
       "2    0.1590    -7.148     1       0.2890   75.044             4.0    0.173   \n",
       "3    0.0922   -15.236     1       0.0261   86.468             4.0    0.230   \n",
       "4    0.4390   -11.648     0       0.0694  174.004             4.0    0.904   \n",
       "5    0.1640    -6.682     1       0.1850   85.023             4.0    0.264   \n",
       "\n",
       "   target      song_title            artist  \n",
       "0       1        Mask Off            Future  \n",
       "1       1         Redbone  Childish Gambino  \n",
       "2       1    Xanny Family            Future  \n",
       "3       1  Master Of None       Beach House  \n",
       "4       1  Parallel Lines       Junior Boys  \n",
       "5       1        Sneakin’             Drake  "
      ]
     },
     "execution_count": 3,
     "metadata": {},
     "output_type": "execute_result"
    }
   ],
   "source": [
    "spotify_df = pd.read_csv('data/spotify_data.csv', index_col = 0 )\n",
    "spotify_df.head(6)"
   ]
  },
  {
   "cell_type": "markdown",
   "metadata": {},
   "source": [
    "## Data splitting\n",
    "Split the data into train and test portions. Remove `song_title`, separate data to `X_train`, `y_train`, `X_test`, `y_test`."
   ]
  },
  {
   "cell_type": "code",
   "execution_count": 4,
   "metadata": {},
   "outputs": [],
   "source": [
    "train_df, test_df = train_test_split(spotify_df, test_size=0.2, random_state=123)\n",
    "X_train, y_train = train_df.drop(columns=[\"target\"]), train_df[\"target\"].astype('category')\n",
    "X_test, y_test = test_df.drop(columns=[\"target\"]), test_df[\"target\"].astype('category')"
   ]
  },
  {
   "cell_type": "code",
   "execution_count": 5,
   "metadata": {},
   "outputs": [
    {
     "name": "stdout",
     "output_type": "stream",
     "text": [
      "The number of observations for train set:  1613\n",
      "The number of observations for test set:  404\n"
     ]
    }
   ],
   "source": [
    "# printing the number of observations for train and test sets\n",
    "print('The number of observations for train set: ', train_df['target'].shape[0])\n",
    "print('The number of observations for test set: ', test_df['target'].shape[0])"
   ]
  },
  {
   "cell_type": "markdown",
   "metadata": {},
   "source": [
    "I split 20% of the observations in the test data and 80% in the train data set. Overall the data set has about 2,000 observations, as it is not a very large data set, I preserved more portion for training."
   ]
  },
  {
   "cell_type": "markdown",
   "metadata": {},
   "source": [
    "## Scoring metric"
   ]
  },
  {
   "cell_type": "markdown",
   "metadata": {},
   "source": [
    "Since it is a balanced data set and both positive and negative class are equally balanced, accuracy and precision-recall curves are selected as scoring metric."
   ]
  },
  {
   "cell_type": "code",
   "execution_count": 6,
   "metadata": {},
   "outputs": [],
   "source": [
    "scoring_metric = [\"accuracy\", \"roc_auc\"]"
   ]
  },
  {
   "cell_type": "markdown",
   "metadata": {},
   "source": [
    "## Feature engineering (TBC)\n",
    "In feature enginnering, we carry out feature engineering, extract new features that are relevant for the problem. For Spotify data set, I added the feature genres which are extracted from Spotify API. To understand more about the data extraction, you can do to appendix."
   ]
  },
  {
   "cell_type": "raw",
   "metadata": {},
   "source": [
    "## see if I can find geners and artis information as new features\n",
    "\n",
    "X_train[\"avg_bill_amt\"] = X_train.loc[:, \"BILL_AMT1\":\"BILL_AMT6\"].mean(axis=1)\n",
    "X_train[\"avg_pay_amt\"] = X_train.loc[:, \"PAY_AMT1\":\"PAY_AMT6\"].mean(axis=1)\n",
    "\n",
    "X_test[\"avg_bill_amt\"] = X_test.loc[:, \"BILL_AMT1\":\"BILL_AMT6\"].mean(axis=1)\n",
    "X_test[\"avg_pay_amt\"] = X_test.loc[:, \"PAY_AMT1\":\"PAY_AMT6\"].mean(axis=1)\n",
    "\n",
    "# convert feature types for later value reordering\n",
    "X_train = X_train.astype(\n",
    "    {\n",
    "        \"PAY_0\": \"str\",\n",
    "        \"PAY_2\": \"str\",\n",
    "        \"PAY_3\": \"str\",\n",
    "        \"PAY_4\": \"str\",\n",
    "        \"PAY_5\": \"str\",\n",
    "        \"PAY_6\": \"str\",\n",
    "    }\n",
    ")\n",
    "\n",
    "# convert feature types for later value reordering\n",
    "X_test = X_test.astype(\n",
    "    {\n",
    "        \"PAY_0\": \"str\",\n",
    "        \"PAY_2\": \"str\",\n",
    "        \"PAY_3\": \"str\",\n",
    "        \"PAY_4\": \"str\",\n",
    "        \"PAY_5\": \"str\",\n",
    "        \"PAY_6\": \"str\",\n",
    "    }\n",
    ")"
   ]
  },
  {
   "cell_type": "markdown",
   "metadata": {},
   "source": [
    "## Preprocessing and transformations \n",
    "Here is different feature types and the transformations I will apply on each feature type. "
   ]
  },
  {
   "cell_type": "markdown",
   "metadata": {},
   "source": [
    "|     Type | Reason                                                                                                                                                                                                                                         | Features                                                                                                                                                                                                |\n",
    "|---------:|------------------------------------------------------------------------------------------------------------------------------------------------------------------------------------------------------------------------------------------------|---------------------------------------------------------------------------------------------------------------------------------------------------------------------------------------------------------|\n",
    "| category |All of these features have fixed number of categories. `key` is circulated features like months. `artist`, `genres`, `artist_style` have limited categories. | `key`, `artist`, `genres`, `artist_style`|\n",
    "| numeric  | Numeric columns needs standardization | `acousticness`, `danceability`, `duration_ms`, `energy`, `instrumentalness`, `liveness`, `loudness`, `mode`, `speechiness`, `tempo`, `time_signature`, `valence`|\n",
    "| drop     | Free text column which has low correlation with target.| `song_title` |"
   ]
  },
  {
   "cell_type": "code",
   "execution_count": 7,
   "metadata": {},
   "outputs": [
    {
     "data": {
      "text/plain": [
       "ColumnTransformer(transformers=[('drop', 'drop', ['song_title']),\n",
       "                                ('standardscaler', StandardScaler(),\n",
       "                                 ['energy', 'instrumentalness', 'tempo',\n",
       "                                  'loudness', 'speechiness', 'liveness',\n",
       "                                  'danceability', 'time_signature',\n",
       "                                  'duration_ms', 'valence', 'acousticness',\n",
       "                                  'mode']),\n",
       "                                ('onehotencoder',\n",
       "                                 OneHotEncoder(handle_unknown='ignore',\n",
       "                                               sparse=False),\n",
       "                                 ['key', 'artist'])])"
      ]
     },
     "execution_count": 7,
     "metadata": {},
     "output_type": "execute_result"
    }
   ],
   "source": [
    "category_feats = [\"key\", \"artist\"]\n",
    "drop_feats = ['song_title']\n",
    "\n",
    "numeric_feats  = list(set(X_train.columns)\n",
    "            - set(category_feats)\n",
    "            - set(drop_feats)\n",
    "        )\n",
    "\n",
    "preprocessor = make_column_transformer(\n",
    "    (\"drop\", drop_feats),\n",
    "    (StandardScaler(), numeric_feats),\n",
    "    (OneHotEncoder(handle_unknown=\"ignore\", sparse=False), category_feats)\n",
    ")\n",
    "preprocessor.fit(X_train, y_train)"
   ]
  },
  {
   "cell_type": "markdown",
   "metadata": {},
   "source": [
    "## Baseline model"
   ]
  },
  {
   "cell_type": "code",
   "execution_count": 8,
   "metadata": {},
   "outputs": [],
   "source": [
    "results = {}"
   ]
  },
  {
   "cell_type": "code",
   "execution_count": 9,
   "metadata": {},
   "outputs": [],
   "source": [
    "dummy = DummyClassifier()\n",
    "baseline_pipe = make_pipeline(preprocessor, dummy)\n",
    "results['dummy'] = mean_std_cross_val_scores(make_pipeline(preprocessor, dummy), X_train, y_train, \n",
    "                                             return_train_score=True, scoring=scoring_metric)"
   ]
  },
  {
   "cell_type": "code",
   "execution_count": 10,
   "metadata": {},
   "outputs": [
    {
     "data": {
      "text/html": [
       "<div>\n",
       "<style scoped>\n",
       "    .dataframe tbody tr th:only-of-type {\n",
       "        vertical-align: middle;\n",
       "    }\n",
       "\n",
       "    .dataframe tbody tr th {\n",
       "        vertical-align: top;\n",
       "    }\n",
       "\n",
       "    .dataframe thead th {\n",
       "        text-align: right;\n",
       "    }\n",
       "</style>\n",
       "<table border=\"1\" class=\"dataframe\">\n",
       "  <thead>\n",
       "    <tr style=\"text-align: right;\">\n",
       "      <th></th>\n",
       "      <th>dummy</th>\n",
       "    </tr>\n",
       "  </thead>\n",
       "  <tbody>\n",
       "    <tr>\n",
       "      <th>fit_time</th>\n",
       "      <td>0.015 (+/- 0.002)</td>\n",
       "    </tr>\n",
       "    <tr>\n",
       "      <th>score_time</th>\n",
       "      <td>0.013 (+/- 0.002)</td>\n",
       "    </tr>\n",
       "    <tr>\n",
       "      <th>test_accuracy</th>\n",
       "      <td>0.508 (+/- 0.001)</td>\n",
       "    </tr>\n",
       "    <tr>\n",
       "      <th>train_accuracy</th>\n",
       "      <td>0.508 (+/- 0.000)</td>\n",
       "    </tr>\n",
       "    <tr>\n",
       "      <th>test_roc_auc</th>\n",
       "      <td>0.500 (+/- 0.000)</td>\n",
       "    </tr>\n",
       "    <tr>\n",
       "      <th>train_roc_auc</th>\n",
       "      <td>0.500 (+/- 0.000)</td>\n",
       "    </tr>\n",
       "  </tbody>\n",
       "</table>\n",
       "</div>"
      ],
      "text/plain": [
       "                            dummy\n",
       "fit_time        0.015 (+/- 0.002)\n",
       "score_time      0.013 (+/- 0.002)\n",
       "test_accuracy   0.508 (+/- 0.001)\n",
       "train_accuracy  0.508 (+/- 0.000)\n",
       "test_roc_auc    0.500 (+/- 0.000)\n",
       "train_roc_auc   0.500 (+/- 0.000)"
      ]
     },
     "execution_count": 10,
     "metadata": {},
     "output_type": "execute_result"
    }
   ],
   "source": [
    "pd.DataFrame(results)"
   ]
  },
  {
   "cell_type": "markdown",
   "metadata": {},
   "source": [
    "Accuracy of Dummy classifier depends on class ratio. As we have a balanced data set, the accuracy of Dummy classifier is around 50%."
   ]
  },
  {
   "cell_type": "markdown",
   "metadata": {},
   "source": [
    "## Linear models\n",
    "### Model training - LogisticRegression\n",
    "First, a linear model is used as a first real attempt. Hyperparameter tuning is also carried out for tuning to explore different values for the regularization hyperparameter. Cross-validation scores along with standard deviation and results summary is shown in below."
   ]
  },
  {
   "cell_type": "code",
   "execution_count": 11,
   "metadata": {},
   "outputs": [],
   "source": [
    "#pipe logistic regression\n",
    "pipe_logisticregression = make_pipeline(preprocessor,\n",
    "                           LogisticRegression(max_iter=2000, \n",
    "                                             random_state=123))"
   ]
  },
  {
   "cell_type": "code",
   "execution_count": 12,
   "metadata": {},
   "outputs": [
    {
     "data": {
      "text/html": [
       "<div>\n",
       "<style scoped>\n",
       "    .dataframe tbody tr th:only-of-type {\n",
       "        vertical-align: middle;\n",
       "    }\n",
       "\n",
       "    .dataframe tbody tr th {\n",
       "        vertical-align: top;\n",
       "    }\n",
       "\n",
       "    .dataframe thead th {\n",
       "        text-align: right;\n",
       "    }\n",
       "</style>\n",
       "<table border=\"1\" class=\"dataframe\">\n",
       "  <thead>\n",
       "    <tr style=\"text-align: right;\">\n",
       "      <th></th>\n",
       "      <th>dummy</th>\n",
       "      <th>LogisticReg</th>\n",
       "    </tr>\n",
       "  </thead>\n",
       "  <tbody>\n",
       "    <tr>\n",
       "      <th>fit_time</th>\n",
       "      <td>0.015 (+/- 0.002)</td>\n",
       "      <td>0.072 (+/- 0.018)</td>\n",
       "    </tr>\n",
       "    <tr>\n",
       "      <th>score_time</th>\n",
       "      <td>0.013 (+/- 0.002)</td>\n",
       "      <td>0.014 (+/- 0.001)</td>\n",
       "    </tr>\n",
       "    <tr>\n",
       "      <th>test_accuracy</th>\n",
       "      <td>0.508 (+/- 0.001)</td>\n",
       "      <td>0.734 (+/- 0.032)</td>\n",
       "    </tr>\n",
       "    <tr>\n",
       "      <th>train_accuracy</th>\n",
       "      <td>0.508 (+/- 0.000)</td>\n",
       "      <td>0.891 (+/- 0.005)</td>\n",
       "    </tr>\n",
       "    <tr>\n",
       "      <th>test_roc_auc</th>\n",
       "      <td>0.500 (+/- 0.000)</td>\n",
       "      <td>0.805 (+/- 0.034)</td>\n",
       "    </tr>\n",
       "    <tr>\n",
       "      <th>train_roc_auc</th>\n",
       "      <td>0.500 (+/- 0.000)</td>\n",
       "      <td>0.952 (+/- 0.002)</td>\n",
       "    </tr>\n",
       "  </tbody>\n",
       "</table>\n",
       "</div>"
      ],
      "text/plain": [
       "                            dummy        LogisticReg\n",
       "fit_time        0.015 (+/- 0.002)  0.072 (+/- 0.018)\n",
       "score_time      0.013 (+/- 0.002)  0.014 (+/- 0.001)\n",
       "test_accuracy   0.508 (+/- 0.001)  0.734 (+/- 0.032)\n",
       "train_accuracy  0.508 (+/- 0.000)  0.891 (+/- 0.005)\n",
       "test_roc_auc    0.500 (+/- 0.000)  0.805 (+/- 0.034)\n",
       "train_roc_auc   0.500 (+/- 0.000)  0.952 (+/- 0.002)"
      ]
     },
     "execution_count": 12,
     "metadata": {},
     "output_type": "execute_result"
    }
   ],
   "source": [
    "#save in the results logistic regression score\n",
    "results[\"LogisticReg\"] = mean_std_cross_val_scores(pipe_logisticregression, \n",
    "                                                   X_train, \n",
    "                                                   y_train, \n",
    "                                                   return_train_score=True,\n",
    "                                                   scoring = scoring_metric)\n",
    "pd.DataFrame(results)"
   ]
  },
  {
   "cell_type": "markdown",
   "metadata": {},
   "source": [
    "### hyperparameter optimization"
   ]
  },
  {
   "cell_type": "markdown",
   "metadata": {},
   "source": [
    "We will carry out hyperparameter optimization: C controls the regularization, and class_weight hyperparameter for tackling class imbalance. "
   ]
  },
  {
   "cell_type": "code",
   "execution_count": 13,
   "metadata": {},
   "outputs": [],
   "source": [
    "#parameters for logistic regression\n",
    "param_dist_lg = {'logisticregression__C': np.linspace(2, 3, 6),\n",
    "                 'logisticregression__class_weight': ['balanced', None]}\n",
    "\n",
    "#randomized search to find the best parameters\n",
    "random_search_lg = RandomizedSearchCV(\n",
    "    pipe_logisticregression, \n",
    "    param_dist_lg,\n",
    "    n_jobs=-1,\n",
    "    return_train_score=True,\n",
    "    scoring = scoring_metric,\n",
    "    refit='accuracy',\n",
    "    random_state=123\n",
    ")"
   ]
  },
  {
   "cell_type": "code",
   "execution_count": 14,
   "metadata": {},
   "outputs": [
    {
     "name": "stdout",
     "output_type": "stream",
     "text": [
      "Best parameter values are: {'logisticregression__class_weight': 'balanced', 'logisticregression__C': 2.8}\n",
      "Best cv score is: 0.7582293329231007\n"
     ]
    }
   ],
   "source": [
    "random_search_lg.fit(X_train, y_train)\n",
    "print(\"Best parameter values are:\", random_search_lg.best_params_)\n",
    "print(\"Best cv score is:\", random_search_lg.best_score_)"
   ]
  },
  {
   "cell_type": "code",
   "execution_count": 15,
   "metadata": {},
   "outputs": [],
   "source": [
    "results['LogisticReg_opt'] = mean_std_cross_val_scores(random_search_lg, \n",
    "                                                       X_train, \n",
    "                                                       y_train, \n",
    "                                                       return_train_score=True,\n",
    "                                                       scoring = scoring_metric)"
   ]
  },
  {
   "cell_type": "code",
   "execution_count": 16,
   "metadata": {},
   "outputs": [
    {
     "data": {
      "text/html": [
       "<div>\n",
       "<style scoped>\n",
       "    .dataframe tbody tr th:only-of-type {\n",
       "        vertical-align: middle;\n",
       "    }\n",
       "\n",
       "    .dataframe tbody tr th {\n",
       "        vertical-align: top;\n",
       "    }\n",
       "\n",
       "    .dataframe thead th {\n",
       "        text-align: right;\n",
       "    }\n",
       "</style>\n",
       "<table border=\"1\" class=\"dataframe\">\n",
       "  <thead>\n",
       "    <tr style=\"text-align: right;\">\n",
       "      <th></th>\n",
       "      <th>dummy</th>\n",
       "      <th>LogisticReg</th>\n",
       "      <th>LogisticReg_opt</th>\n",
       "    </tr>\n",
       "  </thead>\n",
       "  <tbody>\n",
       "    <tr>\n",
       "      <th>fit_time</th>\n",
       "      <td>0.015 (+/- 0.002)</td>\n",
       "      <td>0.072 (+/- 0.018)</td>\n",
       "      <td>5.671 (+/- 0.304)</td>\n",
       "    </tr>\n",
       "    <tr>\n",
       "      <th>score_time</th>\n",
       "      <td>0.013 (+/- 0.002)</td>\n",
       "      <td>0.014 (+/- 0.001)</td>\n",
       "      <td>0.018 (+/- 0.003)</td>\n",
       "    </tr>\n",
       "    <tr>\n",
       "      <th>test_accuracy</th>\n",
       "      <td>0.508 (+/- 0.001)</td>\n",
       "      <td>0.734 (+/- 0.032)</td>\n",
       "      <td>0.758 (+/- 0.035)</td>\n",
       "    </tr>\n",
       "    <tr>\n",
       "      <th>train_accuracy</th>\n",
       "      <td>0.508 (+/- 0.000)</td>\n",
       "      <td>0.891 (+/- 0.005)</td>\n",
       "      <td>0.971 (+/- 0.004)</td>\n",
       "    </tr>\n",
       "    <tr>\n",
       "      <th>test_roc_auc</th>\n",
       "      <td>0.500 (+/- 0.000)</td>\n",
       "      <td>0.805 (+/- 0.034)</td>\n",
       "      <td>0.840 (+/- 0.030)</td>\n",
       "    </tr>\n",
       "    <tr>\n",
       "      <th>train_roc_auc</th>\n",
       "      <td>0.500 (+/- 0.000)</td>\n",
       "      <td>0.952 (+/- 0.002)</td>\n",
       "      <td>0.993 (+/- 0.002)</td>\n",
       "    </tr>\n",
       "  </tbody>\n",
       "</table>\n",
       "</div>"
      ],
      "text/plain": [
       "                            dummy        LogisticReg    LogisticReg_opt\n",
       "fit_time        0.015 (+/- 0.002)  0.072 (+/- 0.018)  5.671 (+/- 0.304)\n",
       "score_time      0.013 (+/- 0.002)  0.014 (+/- 0.001)  0.018 (+/- 0.003)\n",
       "test_accuracy   0.508 (+/- 0.001)  0.734 (+/- 0.032)  0.758 (+/- 0.035)\n",
       "train_accuracy  0.508 (+/- 0.000)  0.891 (+/- 0.005)  0.971 (+/- 0.004)\n",
       "test_roc_auc    0.500 (+/- 0.000)  0.805 (+/- 0.034)  0.840 (+/- 0.030)\n",
       "train_roc_auc   0.500 (+/- 0.000)  0.952 (+/- 0.002)  0.993 (+/- 0.002)"
      ]
     },
     "execution_count": 16,
     "metadata": {},
     "output_type": "execute_result"
    }
   ],
   "source": [
    "pd.DataFrame(results)"
   ]
  },
  {
   "cell_type": "markdown",
   "metadata": {},
   "source": [
    "We can see that with optimized hyperparameters, Logistic Regression is doing a bit better. However, it is obvious that we are dealing with overfitting (big gap between test and training scores and the training accuracy is almost 100%). The std is very small ranging in +- 0.01. "
   ]
  },
  {
   "cell_type": "code",
   "execution_count": 17,
   "metadata": {},
   "outputs": [
    {
     "name": "stdout",
     "output_type": "stream",
     "text": [
      "              precision    recall  f1-score   support\n",
      "\n",
      "           0       0.96      0.97      0.97       794\n",
      "           1       0.98      0.96      0.97       819\n",
      "\n",
      "    accuracy                           0.97      1613\n",
      "   macro avg       0.97      0.97      0.97      1613\n",
      "weighted avg       0.97      0.97      0.97      1613\n",
      "\n"
     ]
    }
   ],
   "source": [
    "print(\n",
    "    classification_report(\n",
    "        y_train,\n",
    "        random_search_lg.predict_proba(X_train)[:, 1] > 0.5,\n",
    "        target_names=[\"0\", \"1\"],\n",
    "    )\n",
    ")"
   ]
  },
  {
   "cell_type": "code",
   "execution_count": 18,
   "metadata": {},
   "outputs": [
    {
     "name": "stdout",
     "output_type": "stream",
     "text": [
      "Area under the curve (AUC): 0.993\n"
     ]
    },
    {
     "data": {
      "image/png": "[encoded data removed]",
      "text/plain": [
       "<Figure size 432x288 with 1 Axes>"
      ]
     },
     "metadata": {
      "needs_background": "light"
     },
     "output_type": "display_data"
    }
   ],
   "source": [
    "fpr, tpr, _ = roc_curve(\n",
    "    y_train,\n",
    "    random_search_lg.predict_proba(X_train)[:, 1],\n",
    "    pos_label=random_search_lg.classes_[1],\n",
    ")\n",
    "print(\n",
    "    \"Area under the curve (AUC): {:.3f}\".format(\n",
    "        roc_auc_score(y_train, random_search_lg.predict_proba(X_train)[:, 1])\n",
    "    )\n",
    ")\n",
    "roc_display = RocCurveDisplay(fpr=fpr, tpr=tpr).plot()"
   ]
  },
  {
   "cell_type": "markdown",
   "metadata": {},
   "source": [
    "We have high score in AUC and classification report, which means our prediction model performance is good."
   ]
  },
  {
   "cell_type": "markdown",
   "metadata": {},
   "source": [
    "### Model interpretation on Training set"
   ]
  },
  {
   "cell_type": "markdown",
   "metadata": {},
   "source": [
    "Most important features are listed in below."
   ]
  },
  {
   "cell_type": "code",
   "execution_count": 19,
   "metadata": {},
   "outputs": [
    {
     "data": {
      "text/html": [
       "<div>\n",
       "<style scoped>\n",
       "    .dataframe tbody tr th:only-of-type {\n",
       "        vertical-align: middle;\n",
       "    }\n",
       "\n",
       "    .dataframe tbody tr th {\n",
       "        vertical-align: top;\n",
       "    }\n",
       "\n",
       "    .dataframe thead th {\n",
       "        text-align: right;\n",
       "    }\n",
       "</style>\n",
       "<table border=\"1\" class=\"dataframe\">\n",
       "  <thead>\n",
       "    <tr style=\"text-align: right;\">\n",
       "      <th></th>\n",
       "      <th>Importance</th>\n",
       "      <th>rank</th>\n",
       "      <th>side</th>\n",
       "    </tr>\n",
       "  </thead>\n",
       "  <tbody>\n",
       "    <tr>\n",
       "      <th>artist_FIDLAR</th>\n",
       "      <td>2.807141</td>\n",
       "      <td>1.0</td>\n",
       "      <td>pos</td>\n",
       "    </tr>\n",
       "    <tr>\n",
       "      <th>artist_Beach House</th>\n",
       "      <td>2.541964</td>\n",
       "      <td>2.0</td>\n",
       "      <td>pos</td>\n",
       "    </tr>\n",
       "    <tr>\n",
       "      <th>artist_Perfume Genius</th>\n",
       "      <td>2.499702</td>\n",
       "      <td>3.0</td>\n",
       "      <td>pos</td>\n",
       "    </tr>\n",
       "    <tr>\n",
       "      <th>artist_Kanye West</th>\n",
       "      <td>2.472228</td>\n",
       "      <td>4.0</td>\n",
       "      <td>pos</td>\n",
       "    </tr>\n",
       "    <tr>\n",
       "      <th>artist_Crystal Castles</th>\n",
       "      <td>2.439233</td>\n",
       "      <td>5.0</td>\n",
       "      <td>pos</td>\n",
       "    </tr>\n",
       "    <tr>\n",
       "      <th>...</th>\n",
       "      <td>...</td>\n",
       "      <td>...</td>\n",
       "      <td>...</td>\n",
       "    </tr>\n",
       "    <tr>\n",
       "      <th>artist_Backstreet Boys</th>\n",
       "      <td>-2.023535</td>\n",
       "      <td>195.0</td>\n",
       "      <td>neg</td>\n",
       "    </tr>\n",
       "    <tr>\n",
       "      <th>artist_*NSYNC</th>\n",
       "      <td>-2.058217</td>\n",
       "      <td>196.0</td>\n",
       "      <td>neg</td>\n",
       "    </tr>\n",
       "    <tr>\n",
       "      <th>artist_Fall Out Boy</th>\n",
       "      <td>-2.102519</td>\n",
       "      <td>197.0</td>\n",
       "      <td>neg</td>\n",
       "    </tr>\n",
       "    <tr>\n",
       "      <th>artist_WALK THE MOON</th>\n",
       "      <td>-2.150688</td>\n",
       "      <td>198.0</td>\n",
       "      <td>neg</td>\n",
       "    </tr>\n",
       "    <tr>\n",
       "      <th>artist_J. Cole</th>\n",
       "      <td>-2.383681</td>\n",
       "      <td>199.0</td>\n",
       "      <td>neg</td>\n",
       "    </tr>\n",
       "  </tbody>\n",
       "</table>\n",
       "<p>199 rows × 3 columns</p>\n",
       "</div>"
      ],
      "text/plain": [
       "                        Importance   rank side\n",
       "artist_FIDLAR             2.807141    1.0  pos\n",
       "artist_Beach House        2.541964    2.0  pos\n",
       "artist_Perfume Genius     2.499702    3.0  pos\n",
       "artist_Kanye West         2.472228    4.0  pos\n",
       "artist_Crystal Castles    2.439233    5.0  pos\n",
       "...                            ...    ...  ...\n",
       "artist_Backstreet Boys   -2.023535  195.0  neg\n",
       "artist_*NSYNC            -2.058217  196.0  neg\n",
       "artist_Fall Out Boy      -2.102519  197.0  neg\n",
       "artist_WALK THE MOON     -2.150688  198.0  neg\n",
       "artist_J. Cole           -2.383681  199.0  neg\n",
       "\n",
       "[199 rows x 3 columns]"
      ]
     },
     "execution_count": 19,
     "metadata": {},
     "output_type": "execute_result"
    }
   ],
   "source": [
    "col_name_pp_all = [\n",
    "    *numeric_feats,\n",
    "    *random_search_lg.best_estimator_.named_steps[\"columntransformer\"]\n",
    "    .named_transformers_[\"onehotencoder\"]\n",
    "    .get_feature_names_out(),\n",
    "]\n",
    "\n",
    "data = {\n",
    "    \"Importance\": random_search_lg.best_estimator_.named_steps[\n",
    "        \"logisticregression\"\n",
    "    ].coef_[0],\n",
    "}\n",
    "feat_importance = pd.DataFrame(data=data, index=col_name_pp_all).sort_values(\n",
    "    by=\"Importance\", ascending=False\n",
    ")\n",
    "\n",
    "feat_importance_200 = pd.concat([feat_importance[0:99], feat_importance[-100:]])\n",
    "feat_importance_200[\"rank\"] = feat_importance_200[\"Importance\"].rank(ascending=False)\n",
    "feat_importance_200[\"side\"] = np.where(\n",
    "    feat_importance_200[\"Importance\"] > 0, \"pos\", \"neg\"\n",
    ")\n",
    "feat_importance_200"
   ]
  },
  {
   "cell_type": "markdown",
   "metadata": {},
   "source": [
    "Most of the important features are determined by `artists`. Excluding all the features from artist, the other important features are `key`, `danceability` and `duration`. However, the ranking of importance are pretty low, starting from #423."
   ]
  },
  {
   "cell_type": "code",
   "execution_count": 20,
   "metadata": {},
   "outputs": [
    {
     "data": {
      "text/html": [
       "<div>\n",
       "<style scoped>\n",
       "    .dataframe tbody tr th:only-of-type {\n",
       "        vertical-align: middle;\n",
       "    }\n",
       "\n",
       "    .dataframe tbody tr th {\n",
       "        vertical-align: top;\n",
       "    }\n",
       "\n",
       "    .dataframe thead th {\n",
       "        text-align: right;\n",
       "    }\n",
       "</style>\n",
       "<table border=\"1\" class=\"dataframe\">\n",
       "  <thead>\n",
       "    <tr style=\"text-align: right;\">\n",
       "      <th></th>\n",
       "      <th>index</th>\n",
       "      <th>Importance</th>\n",
       "    </tr>\n",
       "  </thead>\n",
       "  <tbody>\n",
       "    <tr>\n",
       "      <th>423</th>\n",
       "      <td>key_2</td>\n",
       "      <td>0.513700</td>\n",
       "    </tr>\n",
       "    <tr>\n",
       "      <th>489</th>\n",
       "      <td>danceability</td>\n",
       "      <td>0.356366</td>\n",
       "    </tr>\n",
       "    <tr>\n",
       "      <th>508</th>\n",
       "      <td>duration_ms</td>\n",
       "      <td>0.309779</td>\n",
       "    </tr>\n",
       "    <tr>\n",
       "      <th>525</th>\n",
       "      <td>valence</td>\n",
       "      <td>0.265947</td>\n",
       "    </tr>\n",
       "    <tr>\n",
       "      <th>529</th>\n",
       "      <td>key_9</td>\n",
       "      <td>0.247395</td>\n",
       "    </tr>\n",
       "    <tr>\n",
       "      <th>536</th>\n",
       "      <td>key_10</td>\n",
       "      <td>0.209361</td>\n",
       "    </tr>\n",
       "    <tr>\n",
       "      <th>549</th>\n",
       "      <td>key_0</td>\n",
       "      <td>0.085376</td>\n",
       "    </tr>\n",
       "    <tr>\n",
       "      <th>550</th>\n",
       "      <td>liveness</td>\n",
       "      <td>0.083531</td>\n",
       "    </tr>\n",
       "    <tr>\n",
       "      <th>552</th>\n",
       "      <td>energy</td>\n",
       "      <td>0.018710</td>\n",
       "    </tr>\n",
       "    <tr>\n",
       "      <th>553</th>\n",
       "      <td>key_4</td>\n",
       "      <td>0.016735</td>\n",
       "    </tr>\n",
       "    <tr>\n",
       "      <th>554</th>\n",
       "      <td>key_7</td>\n",
       "      <td>0.012736</td>\n",
       "    </tr>\n",
       "    <tr>\n",
       "      <th>555</th>\n",
       "      <td>key_11</td>\n",
       "      <td>-0.000006</td>\n",
       "    </tr>\n",
       "    <tr>\n",
       "      <th>557</th>\n",
       "      <td>key_8</td>\n",
       "      <td>-0.022336</td>\n",
       "    </tr>\n",
       "    <tr>\n",
       "      <th>561</th>\n",
       "      <td>key_5</td>\n",
       "      <td>-0.100519</td>\n",
       "    </tr>\n",
       "    <tr>\n",
       "      <th>562</th>\n",
       "      <td>mode</td>\n",
       "      <td>-0.111402</td>\n",
       "    </tr>\n",
       "    <tr>\n",
       "      <th>564</th>\n",
       "      <td>key_6</td>\n",
       "      <td>-0.130690</td>\n",
       "    </tr>\n",
       "    <tr>\n",
       "      <th>573</th>\n",
       "      <td>key_1</td>\n",
       "      <td>-0.252469</td>\n",
       "    </tr>\n",
       "    <tr>\n",
       "      <th>574</th>\n",
       "      <td>loudness</td>\n",
       "      <td>-0.261365</td>\n",
       "    </tr>\n",
       "    <tr>\n",
       "      <th>723</th>\n",
       "      <td>key_3</td>\n",
       "      <td>-0.579404</td>\n",
       "    </tr>\n",
       "  </tbody>\n",
       "</table>\n",
       "</div>"
      ],
      "text/plain": [
       "            index  Importance\n",
       "423         key_2    0.513700\n",
       "489  danceability    0.356366\n",
       "508   duration_ms    0.309779\n",
       "525       valence    0.265947\n",
       "529         key_9    0.247395\n",
       "536        key_10    0.209361\n",
       "549         key_0    0.085376\n",
       "550      liveness    0.083531\n",
       "552        energy    0.018710\n",
       "553         key_4    0.016735\n",
       "554         key_7    0.012736\n",
       "555        key_11   -0.000006\n",
       "557         key_8   -0.022336\n",
       "561         key_5   -0.100519\n",
       "562          mode   -0.111402\n",
       "564         key_6   -0.130690\n",
       "573         key_1   -0.252469\n",
       "574      loudness   -0.261365\n",
       "723         key_3   -0.579404"
      ]
     },
     "execution_count": 20,
     "metadata": {},
     "output_type": "execute_result"
    }
   ],
   "source": [
    "feat_importance_reset = feat_importance.reset_index()\n",
    "feat_importance_reset[feat_importance_reset['index'].str.match('^(?![artist])')]"
   ]
  },
  {
   "cell_type": "code",
   "execution_count": 21,
   "metadata": {},
   "outputs": [
    {
     "data": {
      "text/html": [
       "\n",
       "<div id=\"altair-viz-fe7c86ab759d45f09735bc396976934f\"></div>\n",
       "<script type=\"text/javascript\">\n",
       "  (function(spec, embedOpt){\n",
       "    let outputDiv = document.currentScript.previousElementSibling;\n",
       "    if (outputDiv.id !== \"altair-viz-fe7c86ab759d45f09735bc396976934f\") {\n",
       "      outputDiv = document.getElementById(\"altair-viz-fe7c86ab759d45f09735bc396976934f\");\n",
       "    }\n",
       "    const paths = {\n",
       "      \"vega\": \"https://cdn.jsdelivr.net/npm//vega@5?noext\",\n",
       "      \"vega-lib\": \"https://cdn.jsdelivr.net/npm//vega-lib?noext\",\n",
       "      \"vega-lite\": \"https://cdn.jsdelivr.net/npm//vega-lite@4.8.1?noext\",\n",
       "      \"vega-embed\": \"https://cdn.jsdelivr.net/npm//vega-embed@6?noext\",\n",
       "    };\n",
       "\n",
       "    function loadScript(lib) {\n",
       "      return new Promise(function(resolve, reject) {\n",
       "        var s = document.createElement('script');\n",
       "        s.src = paths[lib];\n",
       "        s.async = true;\n",
       "        s.onload = () => resolve(paths[lib]);\n",
       "        s.onerror = () => reject(`Error loading script: ${paths[lib]}`);\n",
       "        document.getElementsByTagName(\"head\")[0].appendChild(s);\n",
       "      });\n",
       "    }\n",
       "\n",
       "    function showError(err) {\n",
       "      outputDiv.innerHTML = `<div class=\"error\" style=\"color:red;\">${err}</div>`;\n",
       "      throw err;\n",
       "    }\n",
       "\n",
       "    function displayChart(vegaEmbed) {\n",
       "      vegaEmbed(outputDiv, spec, embedOpt)\n",
       "        .catch(err => showError(`Javascript Error: ${err.message}<br>This usually means there's a typo in your chart specification. See the javascript console for the full traceback.`));\n",
       "    }\n",
       "\n",
       "    if(typeof define === \"function\" && define.amd) {\n",
       "      requirejs.config({paths});\n",
       "      require([\"vega-embed\"], displayChart, err => showError(`Error loading script: ${err.message}`));\n",
       "    } else if (typeof vegaEmbed === \"function\") {\n",
       "      displayChart(vegaEmbed);\n",
       "    } else {\n",
       "      loadScript(\"vega\")\n",
       "        .then(() => loadScript(\"vega-lite\"))\n",
       "        .then(() => loadScript(\"vega-embed\"))\n",
       "        .catch(showError)\n",
       "        .then(() => displayChart(vegaEmbed));\n",
       "    }\n",
       "  })({\"config\": {\"view\": {\"continuousWidth\": 400, \"continuousHeight\": 300}}, \"vconcat\": [{\"mark\": \"bar\", \"encoding\": {\"color\": {\"type\": \"nominal\", \"field\": \"side\"}, \"x\": {\"type\": \"nominal\", \"axis\": {\"title\": \"\"}, \"field\": \"index\", \"scale\": {\"domain\": {\"selection\": \"selector001\"}}, \"sort\": {\"field\": \"rank\", \"order\": \"ascending\"}}, \"y\": {\"type\": \"quantitative\", \"field\": \"Importance\"}}, \"height\": 200, \"title\": \"Top 200 important features\", \"width\": 800}, {\"mark\": \"bar\", \"encoding\": {\"color\": {\"type\": \"nominal\", \"field\": \"side\"}, \"x\": {\"type\": \"nominal\", \"axis\": {\"labels\": false, \"title\": \"Features\"}, \"field\": \"index\", \"sort\": {\"field\": \"rank\", \"order\": \"ascending\"}}, \"y\": {\"type\": \"quantitative\", \"field\": \"Importance\"}}, \"height\": 60, \"selection\": {\"selector001\": {\"type\": \"interval\", \"encodings\": [\"x\"]}}, \"title\": \"Drag the plot in below to zoom\", \"width\": 800}], \"data\": {\"name\": \"data-9059f3e7b150bdcb192d970952a8c897\"}, \"$schema\": \"https://vega.github.io/schema/vega-lite/v4.8.1.json\", \"datasets\": {\"data-9059f3e7b150bdcb192d970952a8c897\": [{\"index\": \"artist_FIDLAR\", \"Importance\": 2.8071408512050717, \"rank\": 1.0, \"side\": \"pos\"}, {\"index\": \"artist_Beach House\", \"Importance\": 2.5419637551575702, \"rank\": 2.0, \"side\": \"pos\"}, {\"index\": \"artist_Perfume Genius\", \"Importance\": 2.499701644232069, \"rank\": 3.0, \"side\": \"pos\"}, {\"index\": \"artist_Kanye West\", \"Importance\": 2.472228140062725, \"rank\": 4.0, \"side\": \"pos\"}, {\"index\": \"artist_Crystal Castles\", \"Importance\": 2.4392327365228765, \"rank\": 5.0, \"side\": \"pos\"}, {\"index\": \"artist_Radiohead\", \"Importance\": 2.3809474500722487, \"rank\": 6.0, \"side\": \"pos\"}, {\"index\": \"artist_Leon Bridges\", \"Importance\": 2.3785484803601973, \"rank\": 7.0, \"side\": \"pos\"}, {\"index\": \"artist_Ty Segall\", \"Importance\": 2.326476081761894, \"rank\": 8.0, \"side\": \"pos\"}, {\"index\": \"artist_The Ronettes\", \"Importance\": 2.223505116046183, \"rank\": 9.0, \"side\": \"pos\"}, {\"index\": \"artist_ASTR\", \"Importance\": 2.2147621050125212, \"rank\": 10.0, \"side\": \"pos\"}, {\"index\": \"artist_Mac Demarco\", \"Importance\": 2.122985095139519, \"rank\": 11.0, \"side\": \"pos\"}, {\"index\": \"artist_Purity Ring\", \"Importance\": 2.051381887140518, \"rank\": 12.0, \"side\": \"pos\"}, {\"index\": \"artist_M83\", \"Importance\": 2.0209898426092128, \"rank\": 13.0, \"side\": \"pos\"}, {\"index\": \"artist_Disclosure\", \"Importance\": 2.0032705207787735, \"rank\": 14.0, \"side\": \"pos\"}, {\"index\": \"artist_The Sonics\", \"Importance\": 1.8983170106432836, \"rank\": 15.0, \"side\": \"pos\"}, {\"index\": \"artist_ScHoolboy Q\", \"Importance\": 1.8760816014429433, \"rank\": 16.0, \"side\": \"pos\"}, {\"index\": \"artist_Autre Ne Veut\", \"Importance\": 1.8584011910238598, \"rank\": 17.0, \"side\": \"pos\"}, {\"index\": \"artist_Vampire Weekend\", \"Importance\": 1.8410877520024245, \"rank\": 18.0, \"side\": \"pos\"}, {\"index\": \"artist_Dusty Springfield\", \"Importance\": 1.8261415691910228, \"rank\": 19.0, \"side\": \"pos\"}, {\"index\": \"artist_Ariel Pink's Haunted Graffiti\", \"Importance\": 1.8189549007026475, \"rank\": 20.0, \"side\": \"pos\"}, {\"index\": \"artist_Jerry Townes\", \"Importance\": 1.7953614085469165, \"rank\": 21.0, \"side\": \"pos\"}, {\"index\": \"artist_Young Thug\", \"Importance\": 1.7937374170989242, \"rank\": 22.0, \"side\": \"pos\"}, {\"index\": \"artist_Tame Impala\", \"Importance\": 1.7688080070980228, \"rank\": 23.0, \"side\": \"pos\"}, {\"index\": \"artist_Washed Out\", \"Importance\": 1.7276316320421512, \"rank\": 24.0, \"side\": \"pos\"}, {\"index\": \"artist_Lykke Li\", \"Importance\": 1.7168165658314773, \"rank\": 25.0, \"side\": \"pos\"}, {\"index\": \"artist_Travis Scott\", \"Importance\": 1.7137027751551788, \"rank\": 26.0, \"side\": \"pos\"}, {\"index\": \"artist_AlunaGeorge\", \"Importance\": 1.7071394253901955, \"rank\": 27.0, \"side\": \"pos\"}, {\"index\": \"artist_Hot Chip\", \"Importance\": 1.6906122784392494, \"rank\": 28.0, \"side\": \"pos\"}, {\"index\": \"artist_James Brown\", \"Importance\": 1.685511635915087, \"rank\": 29.0, \"side\": \"pos\"}, {\"index\": \"artist_Angel Olsen\", \"Importance\": 1.6626077956968532, \"rank\": 30.0, \"side\": \"pos\"}, {\"index\": \"artist_Justice\", \"Importance\": 1.6590730038604737, \"rank\": 31.0, \"side\": \"pos\"}, {\"index\": \"artist_2 Chainz\", \"Importance\": 1.6557524045051841, \"rank\": 32.0, \"side\": \"pos\"}, {\"index\": \"artist_Action Bronson\", \"Importance\": 1.6556369376984295, \"rank\": 33.0, \"side\": \"pos\"}, {\"index\": \"artist_Jefferson Airplane\", \"Importance\": 1.6508026437862982, \"rank\": 34.0, \"side\": \"pos\"}, {\"index\": \"artist_The xx\", \"Importance\": 1.6270232700386023, \"rank\": 35.0, \"side\": \"pos\"}, {\"index\": \"artist_How To Dress Well\", \"Importance\": 1.6131270384182144, \"rank\": 36.0, \"side\": \"pos\"}, {\"index\": \"artist_CHVRCHES\", \"Importance\": 1.6004504129254227, \"rank\": 37.0, \"side\": \"pos\"}, {\"index\": \"artist_Epsilons\", \"Importance\": 1.597978741758247, \"rank\": 38.0, \"side\": \"pos\"}, {\"index\": \"artist_A$AP Ferg\", \"Importance\": 1.595396993514599, \"rank\": 39.0, \"side\": \"pos\"}, {\"index\": \"artist_The Partysquad\", \"Importance\": 1.5895618462519703, \"rank\": 40.0, \"side\": \"pos\"}, {\"index\": \"artist_Best Coast\", \"Importance\": 1.5780583573712368, \"rank\": 41.0, \"side\": \"pos\"}, {\"index\": \"artist_Elephant\", \"Importance\": 1.5707516446321956, \"rank\": 42.0, \"side\": \"pos\"}, {\"index\": \"artist_Cathedrals\", \"Importance\": 1.5667695443247198, \"rank\": 43.0, \"side\": \"pos\"}, {\"index\": \"artist_The Yardbirds\", \"Importance\": 1.5506239988810566, \"rank\": 44.0, \"side\": \"pos\"}, {\"index\": \"artist_Twin Shadow\", \"Importance\": 1.5487881112015633, \"rank\": 45.0, \"side\": \"pos\"}, {\"index\": \"artist_Three 6 Mafia\", \"Importance\": 1.5445792055266683, \"rank\": 46.0, \"side\": \"pos\"}, {\"index\": \"artist_Father\", \"Importance\": 1.5387456802843487, \"rank\": 47.0, \"side\": \"pos\"}, {\"index\": \"artist_The Black On White Affair\", \"Importance\": 1.52297660758973, \"rank\": 48.0, \"side\": \"pos\"}, {\"index\": \"artist_The Shirelles\", \"Importance\": 1.5209742000189974, \"rank\": 49.0, \"side\": \"pos\"}, {\"index\": \"artist_Solange\", \"Importance\": 1.518878688189367, \"rank\": 50.0, \"side\": \"pos\"}, {\"index\": \"artist_Stormzy\", \"Importance\": 1.5184539672052848, \"rank\": 51.0, \"side\": \"pos\"}, {\"index\": \"artist_The Chiffons\", \"Importance\": 1.5138838246320456, \"rank\": 52.0, \"side\": \"pos\"}, {\"index\": \"artist_Cults\", \"Importance\": 1.5015832734932113, \"rank\": 53.0, \"side\": \"pos\"}, {\"index\": \"artist_The Silvertones\", \"Importance\": 1.4970383987139657, \"rank\": 54.0, \"side\": \"pos\"}, {\"index\": \"artist_Flume\", \"Importance\": 1.495715850995081, \"rank\": 55.0, \"side\": \"pos\"}, {\"index\": \"artist_Juicy J\", \"Importance\": 1.4892318854402475, \"rank\": 56.0, \"side\": \"pos\"}, {\"index\": \"artist_Joe Cuba\", \"Importance\": 1.4864093592810736, \"rank\": 57.0, \"side\": \"pos\"}, {\"index\": \"artist_Duke Dumont\", \"Importance\": 1.4814835849737031, \"rank\": 58.0, \"side\": \"pos\"}, {\"index\": \"artist_alt-J\", \"Importance\": 1.4782376065902068, \"rank\": 59.0, \"side\": \"pos\"}, {\"index\": \"artist_Glass Animals\", \"Importance\": 1.4749984399467873, \"rank\": 60.0, \"side\": \"pos\"}, {\"index\": \"artist_Vince Staples\", \"Importance\": 1.4650097351328564, \"rank\": 61.0, \"side\": \"pos\"}, {\"index\": \"artist_Wet\", \"Importance\": 1.464917018579882, \"rank\": 62.0, \"side\": \"pos\"}, {\"index\": \"artist_Sleigh Bells\", \"Importance\": 1.4578476259068067, \"rank\": 63.0, \"side\": \"pos\"}, {\"index\": \"artist_Bon Iver\", \"Importance\": 1.455329071947831, \"rank\": 64.0, \"side\": \"pos\"}, {\"index\": \"artist_M.I.A.\", \"Importance\": 1.4503097634917343, \"rank\": 65.0, \"side\": \"pos\"}, {\"index\": \"artist_Mikal Cronin\", \"Importance\": 1.4486745996344592, \"rank\": 66.0, \"side\": \"pos\"}, {\"index\": \"artist_Iamsu!\", \"Importance\": 1.4223583540792988, \"rank\": 67.0, \"side\": \"pos\"}, {\"index\": \"artist_SZA\", \"Importance\": 1.415075552068243, \"rank\": 68.0, \"side\": \"pos\"}, {\"index\": \"artist_Scott McKenzie\", \"Importance\": 1.4123840683963966, \"rank\": 69.0, \"side\": \"pos\"}, {\"index\": \"artist_Ezale\", \"Importance\": 1.4118421720848455, \"rank\": 70.0, \"side\": \"pos\"}, {\"index\": \"artist_Matthew Dear\", \"Importance\": 1.4110452587579783, \"rank\": 71.0, \"side\": \"pos\"}, {\"index\": \"artist_Phantogram\", \"Importance\": 1.4045673827995926, \"rank\": 72.0, \"side\": \"pos\"}, {\"index\": \"artist_The Vogues\", \"Importance\": 1.4014042673936777, \"rank\": 73.0, \"side\": \"pos\"}, {\"index\": \"artist_GENER8ION\", \"Importance\": 1.3981569271642822, \"rank\": 74.0, \"side\": \"pos\"}, {\"index\": \"artist_Booba\", \"Importance\": 1.3837577879495246, \"rank\": 75.0, \"side\": \"pos\"}, {\"index\": \"artist_Donnie & Joe Emerson\", \"Importance\": 1.374600223755193, \"rank\": 76.0, \"side\": \"pos\"}, {\"index\": \"artist_New Order\", \"Importance\": 1.3728529609068578, \"rank\": 77.0, \"side\": \"pos\"}, {\"index\": \"artist_Kaleo\", \"Importance\": 1.3710859612552266, \"rank\": 78.0, \"side\": \"pos\"}, {\"index\": \"artist_ILoveMakonnen\", \"Importance\": 1.3607581267373459, \"rank\": 79.0, \"side\": \"pos\"}, {\"index\": \"artist_Wiley\", \"Importance\": 1.3598890132842192, \"rank\": 80.0, \"side\": \"pos\"}, {\"index\": \"artist_Grimes\", \"Importance\": 1.357989617180702, \"rank\": 81.0, \"side\": \"pos\"}, {\"index\": \"artist_The Stooges\", \"Importance\": 1.3579568083340336, \"rank\": 82.0, \"side\": \"pos\"}, {\"index\": \"artist_Zapp\", \"Importance\": 1.3490700389669557, \"rank\": 83.0, \"side\": \"pos\"}, {\"index\": \"artist_Danny Brown\", \"Importance\": 1.3412791540904403, \"rank\": 84.0, \"side\": \"pos\"}, {\"index\": \"artist_Memoryhouse\", \"Importance\": 1.3374425030474035, \"rank\": 85.0, \"side\": \"pos\"}, {\"index\": \"artist_Banks\", \"Importance\": 1.3297919346466054, \"rank\": 86.0, \"side\": \"pos\"}, {\"index\": \"artist_Chief Keef\", \"Importance\": 1.3190329613201635, \"rank\": 87.0, \"side\": \"pos\"}, {\"index\": \"artist_The Districts\", \"Importance\": 1.318922918784771, \"rank\": 88.0, \"side\": \"pos\"}, {\"index\": \"artist_Status Quo\", \"Importance\": 1.3168771279082208, \"rank\": 89.0, \"side\": \"pos\"}, {\"index\": \"artist_Gerry & The Pacemakers\", \"Importance\": 1.314358652706279, \"rank\": 90.0, \"side\": \"pos\"}, {\"index\": \"artist_Thundercat\", \"Importance\": 1.3135298021965136, \"rank\": 91.0, \"side\": \"pos\"}, {\"index\": \"artist_The Seshen\", \"Importance\": 1.3128426786705811, \"rank\": 92.0, \"side\": \"pos\"}, {\"index\": \"artist_Martin Solveig\", \"Importance\": 1.3056112673547617, \"rank\": 93.0, \"side\": \"pos\"}, {\"index\": \"artist_Myron & E\", \"Importance\": 1.3037394975953445, \"rank\": 94.0, \"side\": \"pos\"}, {\"index\": \"artist_No Parents\", \"Importance\": 1.30038511125762, \"rank\": 95.0, \"side\": \"pos\"}, {\"index\": \"artist_Grizzly Bear\", \"Importance\": 1.2906845197661239, \"rank\": 96.0, \"side\": \"pos\"}, {\"index\": \"artist_Jagwar Ma\", \"Importance\": 1.2865904131318084, \"rank\": 97.0, \"side\": \"pos\"}, {\"index\": \"artist_The Kinks\", \"Importance\": 1.2839150727503597, \"rank\": 98.0, \"side\": \"pos\"}, {\"index\": \"artist_Parquet Courts\", \"Importance\": 1.2803572362808568, \"rank\": 99.0, \"side\": \"pos\"}, {\"index\": \"artist_Enterprise Earth\", \"Importance\": -1.082826136175804, \"rank\": 100.0, \"side\": \"neg\"}, {\"index\": \"artist_Ben Remember\", \"Importance\": -1.0858335897466778, \"rank\": 101.0, \"side\": \"neg\"}, {\"index\": \"artist_CNCO\", \"Importance\": -1.1006686306784392, \"rank\": 102.0, \"side\": \"neg\"}, {\"index\": \"artist_Flo Rida\", \"Importance\": -1.103115869200379, \"rank\": 103.0, \"side\": \"neg\"}, {\"index\": \"artist_George Acosta\", \"Importance\": -1.114324044596889, \"rank\": 104.0, \"side\": \"neg\"}, {\"index\": \"artist_Michael Bolton\", \"Importance\": -1.1158869715048167, \"rank\": 105.0, \"side\": \"neg\"}, {\"index\": \"artist_Thomas Rhett\", \"Importance\": -1.116332841820331, \"rank\": 106.0, \"side\": \"neg\"}, {\"index\": \"artist_Stalking Gia\", \"Importance\": -1.1220669668761112, \"rank\": 107.0, \"side\": \"neg\"}, {\"index\": \"artist_Monica\", \"Importance\": -1.1298905975790703, \"rank\": 108.0, \"side\": \"neg\"}, {\"index\": \"artist_Los Del Rio\", \"Importance\": -1.1347027013154434, \"rank\": 109.0, \"side\": \"neg\"}, {\"index\": \"artist_Alok\", \"Importance\": -1.134815443387234, \"rank\": 110.0, \"side\": \"neg\"}, {\"index\": \"artist_Imagination Movers\", \"Importance\": -1.1407099346442677, \"rank\": 111.0, \"side\": \"neg\"}, {\"index\": \"artist_Diplo\", \"Importance\": -1.1456996132762176, \"rank\": 112.0, \"side\": \"neg\"}, {\"index\": \"artist_JoJo\", \"Importance\": -1.1458275332094099, \"rank\": 113.0, \"side\": \"neg\"}, {\"index\": \"artist_Sebastian Yatra\", \"Importance\": -1.1542220447062872, \"rank\": 114.0, \"side\": \"neg\"}, {\"index\": \"artist_Kesha\", \"Importance\": -1.1545036882386144, \"rank\": 115.0, \"side\": \"neg\"}, {\"index\": \"artist_3LW\", \"Importance\": -1.1617301143165466, \"rank\": 116.0, \"side\": \"neg\"}, {\"index\": \"artist_Burak Yeter\", \"Importance\": -1.1623738588501724, \"rank\": 117.0, \"side\": \"neg\"}, {\"index\": \"artist_Little Mix\", \"Importance\": -1.1665051074367143, \"rank\": 118.0, \"side\": \"neg\"}, {\"index\": \"artist_Martin Garrix\", \"Importance\": -1.1723375756302556, \"rank\": 119.0, \"side\": \"neg\"}, {\"index\": \"artist_5 Seconds of Summer\", \"Importance\": -1.1797848999450289, \"rank\": 120.0, \"side\": \"neg\"}, {\"index\": \"artist_Pitbull\", \"Importance\": -1.1847283141810638, \"rank\": 121.0, \"side\": \"neg\"}, {\"index\": \"artist_Tevin Campbell\", \"Importance\": -1.189762823343593, \"rank\": 122.0, \"side\": \"neg\"}, {\"index\": \"artist_EDX\", \"Importance\": -1.1930629806349187, \"rank\": 123.0, \"side\": \"neg\"}, {\"index\": \"artist_Bill Mobley\", \"Importance\": -1.1955723228876007, \"rank\": 124.0, \"side\": \"neg\"}, {\"index\": \"artist_Scott Hamilton\", \"Importance\": -1.209199180802556, \"rank\": 125.0, \"side\": \"neg\"}, {\"index\": \"artist_Savage Garden\", \"Importance\": -1.2149546939711882, \"rank\": 126.0, \"side\": \"neg\"}, {\"index\": \"artist_R3hab\", \"Importance\": -1.2217147574694498, \"rank\": 127.0, \"side\": \"neg\"}, {\"index\": \"artist_The Kids Band\", \"Importance\": -1.2221109988882273, \"rank\": 128.0, \"side\": \"neg\"}, {\"index\": \"artist_Vader Abraham\", \"Importance\": -1.227046773114084, \"rank\": 129.0, \"side\": \"neg\"}, {\"index\": \"artist_Robert Schumann\", \"Importance\": -1.2292619797508453, \"rank\": 130.0, \"side\": \"neg\"}, {\"index\": \"artist_Kris Kross\", \"Importance\": -1.2298142350604044, \"rank\": 131.0, \"side\": \"neg\"}, {\"index\": \"artist_Enrico Pieranunzi\", \"Importance\": -1.2312768342529024, \"rank\": 132.0, \"side\": \"neg\"}, {\"index\": \"artist_G-Eazy\", \"Importance\": -1.2324725248211745, \"rank\": 133.0, \"side\": \"neg\"}, {\"index\": \"artist_Reik\", \"Importance\": -1.2365875580606869, \"rank\": 134.0, \"side\": \"neg\"}, {\"index\": \"artist_M\\u00fda\", \"Importance\": -1.2416522660494504, \"rank\": 135.0, \"side\": \"neg\"}, {\"index\": \"artist_Chris Lake\", \"Importance\": -1.2520709445958869, \"rank\": 136.0, \"side\": \"neg\"}, {\"index\": \"artist_Mark Knight\", \"Importance\": -1.2597270561714957, \"rank\": 137.0, \"side\": \"neg\"}, {\"index\": \"artist_Franz Schubert\", \"Importance\": -1.2697538595082098, \"rank\": 138.0, \"side\": \"neg\"}, {\"index\": \"artist_Zac Brown Band\", \"Importance\": -1.274499776736243, \"rank\": 139.0, \"side\": \"neg\"}, {\"index\": \"artist_Lil Dicky\", \"Importance\": -1.2768418627202989, \"rank\": 140.0, \"side\": \"neg\"}, {\"index\": \"artist_Enrique Iglesias\", \"Importance\": -1.2796089295589663, \"rank\": 141.0, \"side\": \"neg\"}, {\"index\": \"artist_Marshmello\", \"Importance\": -1.2821428848321503, \"rank\": 142.0, \"side\": \"neg\"}, {\"index\": \"artist_Maroon 5\", \"Importance\": -1.282738498810188, \"rank\": 143.0, \"side\": \"neg\"}, {\"index\": \"artist_Justin Timberlake\", \"Importance\": -1.284226620593657, \"rank\": 144.0, \"side\": \"neg\"}, {\"index\": \"artist_Wisin\", \"Importance\": -1.2900295622404772, \"rank\": 145.0, \"side\": \"neg\"}, {\"index\": \"artist_Bassjackers\", \"Importance\": -1.3012500875180841, \"rank\": 146.0, \"side\": \"neg\"}, {\"index\": \"artist_Lil Wayne\", \"Importance\": -1.3032949118463146, \"rank\": 147.0, \"side\": \"neg\"}, {\"index\": \"artist_David Guetta\", \"Importance\": -1.3066603577986067, \"rank\": 148.0, \"side\": \"neg\"}, {\"index\": \"artist_Lost Kings\", \"Importance\": -1.3082075078884614, \"rank\": 149.0, \"side\": \"neg\"}, {\"index\": \"artist_Mr. C\", \"Importance\": -1.3191350741106056, \"rank\": 150.0, \"side\": \"neg\"}, {\"index\": \"artist_Peter Andre\", \"Importance\": -1.3245741720322561, \"rank\": 151.0, \"side\": \"neg\"}, {\"index\": \"artist_Ne-Yo\", \"Importance\": -1.3272132514321984, \"rank\": 152.0, \"side\": \"neg\"}, {\"index\": \"artist_Machine Gun Kelly\", \"Importance\": -1.3452222465812094, \"rank\": 153.0, \"side\": \"neg\"}, {\"index\": \"artist_India.Arie\", \"Importance\": -1.387247701064574, \"rank\": 154.0, \"side\": \"neg\"}, {\"index\": \"artist_Vanilla Ice\", \"Importance\": -1.3906694949651885, \"rank\": 155.0, \"side\": \"neg\"}, {\"index\": \"artist_\\uce74\\uc6b0\\uce69\\uc2a4 The CowChips\", \"Importance\": -1.3915299421219143, \"rank\": 156.0, \"side\": \"neg\"}, {\"index\": \"artist_2 LIVE CREW\", \"Importance\": -1.3950646193611287, \"rank\": 157.0, \"side\": \"neg\"}, {\"index\": \"artist_Gwen Stefani\", \"Importance\": -1.412715931190873, \"rank\": 158.0, \"side\": \"neg\"}, {\"index\": \"artist_Adrian Lux\", \"Importance\": -1.4188150720770847, \"rank\": 159.0, \"side\": \"neg\"}, {\"index\": \"artist_Owl City\", \"Importance\": -1.4247847075598397, \"rank\": 160.0, \"side\": \"neg\"}, {\"index\": \"artist_The Black Eyed Peas\", \"Importance\": -1.4617987639107741, \"rank\": 161.0, \"side\": \"neg\"}, {\"index\": \"artist_Robin Thicke\", \"Importance\": -1.4702578142824636, \"rank\": 162.0, \"side\": \"neg\"}, {\"index\": \"artist_Nicky Jam\", \"Importance\": -1.4804141934573432, \"rank\": 163.0, \"side\": \"neg\"}, {\"index\": \"artist_Kim Walker-Smith\", \"Importance\": -1.4857760659418178, \"rank\": 164.0, \"side\": \"neg\"}, {\"index\": \"artist_Porter Robinson\", \"Importance\": -1.488193104050104, \"rank\": 165.0, \"side\": \"neg\"}, {\"index\": \"artist_J Balvin\", \"Importance\": -1.5071927821048505, \"rank\": 166.0, \"side\": \"neg\"}, {\"index\": \"artist_Shawn Mendes\", \"Importance\": -1.5159021898908447, \"rank\": 167.0, \"side\": \"neg\"}, {\"index\": \"artist_Nickelback\", \"Importance\": -1.516736039715112, \"rank\": 168.0, \"side\": \"neg\"}, {\"index\": \"artist_Wahlstedt\", \"Importance\": -1.5286518138685834, \"rank\": 169.0, \"side\": \"neg\"}, {\"index\": \"artist_Wyclef Jean\", \"Importance\": -1.5371967547482084, \"rank\": 170.0, \"side\": \"neg\"}, {\"index\": \"artist_Felix Mendelssohn\", \"Importance\": -1.5486534877956302, \"rank\": 171.0, \"side\": \"neg\"}, {\"index\": \"artist_Luis Fonsi\", \"Importance\": -1.5765617110137595, \"rank\": 172.0, \"side\": \"neg\"}, {\"index\": \"artist_Boyz II Men\", \"Importance\": -1.5917838481848963, \"rank\": 173.0, \"side\": \"neg\"}, {\"index\": \"artist_Britney Spears\", \"Importance\": -1.597387384542909, \"rank\": 174.0, \"side\": \"neg\"}, {\"index\": \"artist_Diddy\", \"Importance\": -1.608441936157989, \"rank\": 175.0, \"side\": \"neg\"}, {\"index\": \"artist_StaRR Lyfe\", \"Importance\": -1.6153590763165322, \"rank\": 176.0, \"side\": \"neg\"}, {\"index\": \"artist_Xscape\", \"Importance\": -1.6173995066171167, \"rank\": 177.0, \"side\": \"neg\"}, {\"index\": \"artist_Lex Luca\", \"Importance\": -1.6247367022159342, \"rank\": 178.0, \"side\": \"neg\"}, {\"index\": \"artist_Next\", \"Importance\": -1.6286374522534746, \"rank\": 179.0, \"side\": \"neg\"}, {\"index\": \"artist_MOTi\", \"Importance\": -1.6334356343492002, \"rank\": 180.0, \"side\": \"neg\"}, {\"index\": \"artist_Shakira\", \"Importance\": -1.6964381173755951, \"rank\": 181.0, \"side\": \"neg\"}, {\"index\": \"artist_Demi Lovato\", \"Importance\": -1.7230633667788111, \"rank\": 182.0, \"side\": \"neg\"}, {\"index\": \"artist_Chris Lake Feat. Laura V\", \"Importance\": -1.7427824767208648, \"rank\": 183.0, \"side\": \"neg\"}, {\"index\": \"artist_Skrillex\", \"Importance\": -1.782671710068698, \"rank\": 184.0, \"side\": \"neg\"}, {\"index\": \"artist_Usher\", \"Importance\": -1.790902735145754, \"rank\": 185.0, \"side\": \"neg\"}, {\"index\": \"artist_The Chainsmokers\", \"Importance\": -1.8042216750706968, \"rank\": 186.0, \"side\": \"neg\"}, {\"index\": \"artist_Katy Perry\", \"Importance\": -1.8468319570795397, \"rank\": 187.0, \"side\": \"neg\"}, {\"index\": \"artist_Kina Grannis\", \"Importance\": -1.8733656760138166, \"rank\": 188.0, \"side\": \"neg\"}, {\"index\": \"artist_Toni Braxton\", \"Importance\": -1.8842473312610812, \"rank\": 189.0, \"side\": \"neg\"}, {\"index\": \"artist_Big Time Rush\", \"Importance\": -1.8843865133644018, \"rank\": 190.0, \"side\": \"neg\"}, {\"index\": \"artist_Daddy Yankee\", \"Importance\": -1.9064632039275728, \"rank\": 191.0, \"side\": \"neg\"}, {\"index\": \"artist_Michael Jackson\", \"Importance\": -1.9191589252769587, \"rank\": 192.0, \"side\": \"neg\"}, {\"index\": \"artist_Destiny's Child\", \"Importance\": -1.9542802173615117, \"rank\": 193.0, \"side\": \"neg\"}, {\"index\": \"artist_Afrojack\", \"Importance\": -1.991331256325193, \"rank\": 194.0, \"side\": \"neg\"}, {\"index\": \"artist_Backstreet Boys\", \"Importance\": -2.0235345389484922, \"rank\": 195.0, \"side\": \"neg\"}, {\"index\": \"artist_*NSYNC\", \"Importance\": -2.0582169524803073, \"rank\": 196.0, \"side\": \"neg\"}, {\"index\": \"artist_Fall Out Boy\", \"Importance\": -2.102519020538188, \"rank\": 197.0, \"side\": \"neg\"}, {\"index\": \"artist_WALK THE MOON\", \"Importance\": -2.1506875169563737, \"rank\": 198.0, \"side\": \"neg\"}, {\"index\": \"artist_J. Cole\", \"Importance\": -2.383680841478232, \"rank\": 199.0, \"side\": \"neg\"}]}}, {\"mode\": \"vega-lite\"});\n",
       "</script>"
      ],
      "text/plain": [
       "alt.VConcatChart(...)"
      ]
     },
     "execution_count": 21,
     "metadata": {},
     "output_type": "execute_result"
    }
   ],
   "source": [
    "import altair as alt\n",
    "\n",
    "base = (\n",
    "    alt.Chart(feat_importance_200.reset_index())\n",
    "    .mark_bar()\n",
    "    .encode(\n",
    "        x=alt.X(\n",
    "            \"index\",\n",
    "        ),\n",
    "        y=\"Importance:Q\",\n",
    "        color=\"side\",\n",
    "    )\n",
    "    .properties(height=200, width=800, title=\"Top 200 important features\")\n",
    ")\n",
    "\n",
    "brush = alt.selection_interval(encodings=[\"x\"])\n",
    "lower = (\n",
    "    base.encode(\n",
    "        x=alt.X(\n",
    "            \"index\",\n",
    "            axis=alt.Axis(labels=False, title=\"Features\"),\n",
    "            sort=alt.SortField(field=\"rank\", order=\"ascending\"),\n",
    "        )\n",
    "    )\n",
    "    .properties(height=60, width=800, title=\"Drag the plot in below to zoom\")\n",
    "    .add_selection(brush)\n",
    ")\n",
    "\n",
    "upper = base.encode(\n",
    "    alt.X(\n",
    "        \"index\",\n",
    "        scale=alt.Scale(domain=brush),\n",
    "        axis=alt.Axis(title=\"\"),\n",
    "        sort=alt.SortField(field=\"rank\", order=\"ascending\"),\n",
    "    )\n",
    ")\n",
    "\n",
    "upper & lower"
   ]
  },
  {
   "cell_type": "markdown",
   "metadata": {},
   "source": [
    "Top 200 most important features are based on artists."
   ]
  },
  {
   "cell_type": "markdown",
   "metadata": {},
   "source": [
    "<br><br>"
   ]
  },
  {
   "cell_type": "markdown",
   "metadata": {},
   "source": [
    "## Non-linear models\n",
    "### Model training - RandomForestClassifier, XGBClassifier, LGBMClassifier, CatBoostClassifier\n",
    "Second, four non-linear model are trained aside from the linear model above.  \n",
    "After that, feature selection and hyperparameter tuning will carried out in later stage. Cross-validation scores along with standard deviation and results summary is shown in below."
   ]
  },
  {
   "cell_type": "code",
   "execution_count": 22,
   "metadata": {},
   "outputs": [],
   "source": [
    "# Random Forest pipe\n",
    "pipe_rf = make_pipeline(preprocessor, RandomForestClassifier(random_state=123))\n",
    "\n",
    "# XGBoost pipe\n",
    "pipe_xgb = make_pipeline(\n",
    "    preprocessor,\n",
    "    XGBClassifier(\n",
    "        random_state=123, eval_metric=\"logloss\", verbosity=0, use_label_encoder=False\n",
    "    ),\n",
    ")\n",
    "\n",
    "# LGBM Classifier pipe\n",
    "pipe_lgbm = make_pipeline(preprocessor, LGBMClassifier(random_state=123))\n",
    "\n",
    "# Catboost pipe\n",
    "pipe_catb = make_pipeline(preprocessor, CatBoostClassifier(verbose=0, random_state=123))\n",
    "\n",
    "models = {\n",
    "    \"RandomForest\": pipe_rf,\n",
    "    \"XGBoost\": pipe_xgb,\n",
    "    \"LGBM\": pipe_lgbm,\n",
    "    \"Cat_Boost\": pipe_catb,\n",
    "}\n",
    "\n",
    "# summarize mean cv scores in result_non_linear\n",
    "for (name, model) in models.items():\n",
    "    results[name] = mean_std_cross_val_scores(\n",
    "        model, X_train, y_train, return_train_score=True, scoring=scoring_metric\n",
    "    )"
   ]
  },
  {
   "cell_type": "code",
   "execution_count": 23,
   "metadata": {},
   "outputs": [
    {
     "data": {
      "text/html": [
       "<div>\n",
       "<style scoped>\n",
       "    .dataframe tbody tr th:only-of-type {\n",
       "        vertical-align: middle;\n",
       "    }\n",
       "\n",
       "    .dataframe tbody tr th {\n",
       "        vertical-align: top;\n",
       "    }\n",
       "\n",
       "    .dataframe thead th {\n",
       "        text-align: right;\n",
       "    }\n",
       "</style>\n",
       "<table border=\"1\" class=\"dataframe\">\n",
       "  <thead>\n",
       "    <tr style=\"text-align: right;\">\n",
       "      <th></th>\n",
       "      <th>dummy</th>\n",
       "      <th>LogisticReg</th>\n",
       "      <th>LogisticReg_opt</th>\n",
       "      <th>RandomForest</th>\n",
       "      <th>XGBoost</th>\n",
       "      <th>LGBM</th>\n",
       "      <th>Cat_Boost</th>\n",
       "    </tr>\n",
       "  </thead>\n",
       "  <tbody>\n",
       "    <tr>\n",
       "      <th>fit_time</th>\n",
       "      <td>0.015 (+/- 0.002)</td>\n",
       "      <td>0.072 (+/- 0.018)</td>\n",
       "      <td>5.671 (+/- 0.304)</td>\n",
       "      <td>0.593 (+/- 0.014)</td>\n",
       "      <td>1.083 (+/- 0.050)</td>\n",
       "      <td>0.083 (+/- 0.017)</td>\n",
       "      <td>2.924 (+/- 0.143)</td>\n",
       "    </tr>\n",
       "    <tr>\n",
       "      <th>score_time</th>\n",
       "      <td>0.013 (+/- 0.002)</td>\n",
       "      <td>0.014 (+/- 0.001)</td>\n",
       "      <td>0.018 (+/- 0.003)</td>\n",
       "      <td>0.054 (+/- 0.002)</td>\n",
       "      <td>0.021 (+/- 0.002)</td>\n",
       "      <td>0.016 (+/- 0.002)</td>\n",
       "      <td>0.143 (+/- 0.011)</td>\n",
       "    </tr>\n",
       "    <tr>\n",
       "      <th>test_accuracy</th>\n",
       "      <td>0.508 (+/- 0.001)</td>\n",
       "      <td>0.734 (+/- 0.032)</td>\n",
       "      <td>0.758 (+/- 0.035)</td>\n",
       "      <td>0.797 (+/- 0.039)</td>\n",
       "      <td>0.760 (+/- 0.021)</td>\n",
       "      <td>0.773 (+/- 0.014)</td>\n",
       "      <td>0.790 (+/- 0.025)</td>\n",
       "    </tr>\n",
       "    <tr>\n",
       "      <th>train_accuracy</th>\n",
       "      <td>0.508 (+/- 0.000)</td>\n",
       "      <td>0.891 (+/- 0.005)</td>\n",
       "      <td>0.971 (+/- 0.004)</td>\n",
       "      <td>1.000 (+/- 0.000)</td>\n",
       "      <td>1.000 (+/- 0.000)</td>\n",
       "      <td>1.000 (+/- 0.000)</td>\n",
       "      <td>0.932 (+/- 0.003)</td>\n",
       "    </tr>\n",
       "    <tr>\n",
       "      <th>test_roc_auc</th>\n",
       "      <td>0.500 (+/- 0.000)</td>\n",
       "      <td>0.805 (+/- 0.034)</td>\n",
       "      <td>0.840 (+/- 0.030)</td>\n",
       "      <td>0.865 (+/- 0.030)</td>\n",
       "      <td>0.842 (+/- 0.034)</td>\n",
       "      <td>0.850 (+/- 0.028)</td>\n",
       "      <td>0.863 (+/- 0.031)</td>\n",
       "    </tr>\n",
       "    <tr>\n",
       "      <th>train_roc_auc</th>\n",
       "      <td>0.500 (+/- 0.000)</td>\n",
       "      <td>0.952 (+/- 0.002)</td>\n",
       "      <td>0.993 (+/- 0.002)</td>\n",
       "      <td>1.000 (+/- 0.000)</td>\n",
       "      <td>1.000 (+/- 0.000)</td>\n",
       "      <td>1.000 (+/- 0.000)</td>\n",
       "      <td>0.990 (+/- 0.001)</td>\n",
       "    </tr>\n",
       "  </tbody>\n",
       "</table>\n",
       "</div>"
      ],
      "text/plain": [
       "                            dummy        LogisticReg    LogisticReg_opt  \\\n",
       "fit_time        0.015 (+/- 0.002)  0.072 (+/- 0.018)  5.671 (+/- 0.304)   \n",
       "score_time      0.013 (+/- 0.002)  0.014 (+/- 0.001)  0.018 (+/- 0.003)   \n",
       "test_accuracy   0.508 (+/- 0.001)  0.734 (+/- 0.032)  0.758 (+/- 0.035)   \n",
       "train_accuracy  0.508 (+/- 0.000)  0.891 (+/- 0.005)  0.971 (+/- 0.004)   \n",
       "test_roc_auc    0.500 (+/- 0.000)  0.805 (+/- 0.034)  0.840 (+/- 0.030)   \n",
       "train_roc_auc   0.500 (+/- 0.000)  0.952 (+/- 0.002)  0.993 (+/- 0.002)   \n",
       "\n",
       "                     RandomForest            XGBoost               LGBM  \\\n",
       "fit_time        0.593 (+/- 0.014)  1.083 (+/- 0.050)  0.083 (+/- 0.017)   \n",
       "score_time      0.054 (+/- 0.002)  0.021 (+/- 0.002)  0.016 (+/- 0.002)   \n",
       "test_accuracy   0.797 (+/- 0.039)  0.760 (+/- 0.021)  0.773 (+/- 0.014)   \n",
       "train_accuracy  1.000 (+/- 0.000)  1.000 (+/- 0.000)  1.000 (+/- 0.000)   \n",
       "test_roc_auc    0.865 (+/- 0.030)  0.842 (+/- 0.034)  0.850 (+/- 0.028)   \n",
       "train_roc_auc   1.000 (+/- 0.000)  1.000 (+/- 0.000)  1.000 (+/- 0.000)   \n",
       "\n",
       "                        Cat_Boost  \n",
       "fit_time        2.924 (+/- 0.143)  \n",
       "score_time      0.143 (+/- 0.011)  \n",
       "test_accuracy   0.790 (+/- 0.025)  \n",
       "train_accuracy  0.932 (+/- 0.003)  \n",
       "test_roc_auc    0.863 (+/- 0.031)  \n",
       "train_roc_auc   0.990 (+/- 0.001)  "
      ]
     },
     "execution_count": 23,
     "metadata": {},
     "output_type": "execute_result"
    }
   ],
   "source": [
    "pd.DataFrame(results)"
   ]
  },
  {
   "cell_type": "markdown",
   "metadata": {},
   "source": [
    "All the non-linear models are overfitting as all the training scores are close to 1. Compared to most of the models, `CatBoost` is the most balanced model in performance, it has the highest accuracy and comparatively less overfitting (the gap between train and validation scores is smaller).\n",
    "\n",
    "However, the fit time for`cat_boost` is slow. It may be a concern as the algorithm is likely to refit every user by the latest song listening history whenever the user wants to update their playlist. Moreover, the score time of `cat_boost` is the slowest among all models but acceptable.\n",
    "\n",
    "Stability of scores is more or less stable, with standard deviation ranging in around 0.01. "
   ]
  },
  {
   "cell_type": "markdown",
   "metadata": {
    "tags": []
   },
   "source": [
    "### Hyperparameter optimization (Very time consuming, TBC)"
   ]
  },
  {
   "cell_type": "markdown",
   "metadata": {},
   "source": [
    "Hyperparamaters optimization is performed for `CatBoostClassifier`:  \n",
    "**max_depth** which determines the the depth of the tree  \n",
    "**learning_rate** which controls the gradient step size (smaller size, more iterations) and can help to minimize the error associated with the Loss function"
   ]
  },
  {
   "cell_type": "code",
   "execution_count": 24,
   "metadata": {},
   "outputs": [],
   "source": [
    "param_grid_cat = {\n",
    "     \"catboostclassifier__max_depth\": np.arange(5, 15, 2),\n",
    "     \"catboostclassifier__learning_rate\": np.linspace(0.1,0.2,5)\n",
    "}"
   ]
  },
  {
   "cell_type": "raw",
   "metadata": {},
   "source": [
    "random_search_cat = RandomizedSearchCV(\n",
    "    pipe_catb,\n",
    "    param_grid_cat,\n",
    "    n_jobs=-1,\n",
    "    n_iter=6,\n",
    "    return_train_score=True,\n",
    "    scoring = scoring_metric,\n",
    "    refit='accuracy',\n",
    "    random_state=123\n",
    ")\n",
    "\n",
    "results['catboost_opt'] = mean_std_cross_val_scores(\n",
    "        random_search_cat, X_train, y_train, return_train_score=True, scoring=scoring_metric\n",
    "    )\n",
    "\n",
    "#random_search_cat.fit(X_train, y_train)"
   ]
  },
  {
   "cell_type": "raw",
   "metadata": {},
   "source": [
    "print(\"Best hyperparameter values for CatBoost: \", random_search_cat.best_params_)\n",
    "print(\"Best score: %0.3f\" % (random_search_cat.best_score_))"
   ]
  },
  {
   "cell_type": "raw",
   "metadata": {},
   "source": [
    "pd.DataFrame(results)"
   ]
  },
  {
   "cell_type": "markdown",
   "metadata": {},
   "source": [
    "<br><br>"
   ]
  },
  {
   "cell_type": "markdown",
   "metadata": {},
   "source": [
    "### Model interpretation on Training set\n",
    "\n",
    "Since `feature_importance_` is not supported on the models, `shap` is used to examine the most important features of our best non-linear models. "
   ]
  },
  {
   "cell_type": "code",
   "execution_count": 25,
   "metadata": {},
   "outputs": [],
   "source": [
    "pipe_catb.fit(X_train, y_train);"
   ]
  },
  {
   "cell_type": "code",
   "execution_count": 26,
   "metadata": {},
   "outputs": [],
   "source": [
    "X_train_enc = pd.DataFrame(\n",
    "    data=preprocessor.transform(X_train),\n",
    "    columns=col_name_pp_all,\n",
    "    index=X_train.index,\n",
    ")"
   ]
  },
  {
   "cell_type": "code",
   "execution_count": 27,
   "metadata": {},
   "outputs": [
    {
     "data": {
      "image/png": "[encoded data removed]",
      "text/plain": [
       "<Figure size 576x684 with 1 Axes>"
      ]
     },
     "metadata": {
      "needs_background": "light"
     },
     "output_type": "display_data"
    }
   ],
   "source": [
    "catboost_explainer = shap.TreeExplainer(pipe_catb.named_steps[\"catboostclassifier\"])\n",
    "train_catboost_shap_values = catboost_explainer.shap_values(X_train_enc)\n",
    "shap.summary_plot(train_catboost_shap_values, X_train_enc, plot_type=\"bar\")"
   ]
  },
  {
   "cell_type": "markdown",
   "metadata": {},
   "source": [
    "We examined the most important features of `CatBoostClassifier` with SHAP methods. The results suggests that the most important feature are `instrumentalness`, `loudness` and `speechiness`. It introduced a very different results comparing to the linear model, which suggested `artist` is the most important features. \n",
    "\n",
    "One interesting observation from the result here is that, the importance of `artist` suggested by two models are different too. Top 3 `artist` from linear model are **FIDLAR**, **Beach House**, **Perfume Genius**, while top 3 `artist` from linear model are **Disclosure**, **Kanye West** and **Purity Ring**. Nevertheless, all of the artists above are noticeable from EDA **Artist like world cloud**."
   ]
  },
  {
   "cell_type": "markdown",
   "metadata": {},
   "source": [
    "## Model Averaging\n",
    "`CatBoostClassifier` has long processing time but the other models are overfitted. To ease the fundamental trade off, `Averaging` is attempted to see if a higher validation score and shorter fit time can be achieved."
   ]
  },
  {
   "cell_type": "code",
   "execution_count": 28,
   "metadata": {},
   "outputs": [],
   "source": [
    "avg_classifiers = {\n",
    "    \"random forest\": pipe_rf,\n",
    "    \"XGBoost\": pipe_xgb,\n",
    "    \"LightGBM\": pipe_lgbm\n",
    "}\n",
    "\n",
    "averaging_model = VotingClassifier(\n",
    "    list(avg_classifiers.items()), voting=\"soft\"\n",
    ") \n",
    "\n",
    "results['averaging'] = mean_std_cross_val_scores(\n",
    "        averaging_model, X_train, y_train, return_train_score=True, scoring=scoring_metric#, cv=2\n",
    "    )"
   ]
  },
  {
   "cell_type": "code",
   "execution_count": 29,
   "metadata": {},
   "outputs": [
    {
     "data": {
      "text/html": [
       "<div>\n",
       "<style scoped>\n",
       "    .dataframe tbody tr th:only-of-type {\n",
       "        vertical-align: middle;\n",
       "    }\n",
       "\n",
       "    .dataframe tbody tr th {\n",
       "        vertical-align: top;\n",
       "    }\n",
       "\n",
       "    .dataframe thead th {\n",
       "        text-align: right;\n",
       "    }\n",
       "</style>\n",
       "<table border=\"1\" class=\"dataframe\">\n",
       "  <thead>\n",
       "    <tr style=\"text-align: right;\">\n",
       "      <th></th>\n",
       "      <th>dummy</th>\n",
       "      <th>LogisticReg</th>\n",
       "      <th>LogisticReg_opt</th>\n",
       "      <th>RandomForest</th>\n",
       "      <th>XGBoost</th>\n",
       "      <th>LGBM</th>\n",
       "      <th>Cat_Boost</th>\n",
       "      <th>averaging</th>\n",
       "    </tr>\n",
       "  </thead>\n",
       "  <tbody>\n",
       "    <tr>\n",
       "      <th>fit_time</th>\n",
       "      <td>0.015 (+/- 0.002)</td>\n",
       "      <td>0.072 (+/- 0.018)</td>\n",
       "      <td>5.671 (+/- 0.304)</td>\n",
       "      <td>0.593 (+/- 0.014)</td>\n",
       "      <td>1.083 (+/- 0.050)</td>\n",
       "      <td>0.083 (+/- 0.017)</td>\n",
       "      <td>2.924 (+/- 0.143)</td>\n",
       "      <td>1.715 (+/- 0.347)</td>\n",
       "    </tr>\n",
       "    <tr>\n",
       "      <th>score_time</th>\n",
       "      <td>0.013 (+/- 0.002)</td>\n",
       "      <td>0.014 (+/- 0.001)</td>\n",
       "      <td>0.018 (+/- 0.003)</td>\n",
       "      <td>0.054 (+/- 0.002)</td>\n",
       "      <td>0.021 (+/- 0.002)</td>\n",
       "      <td>0.016 (+/- 0.002)</td>\n",
       "      <td>0.143 (+/- 0.011)</td>\n",
       "      <td>0.074 (+/- 0.004)</td>\n",
       "    </tr>\n",
       "    <tr>\n",
       "      <th>test_accuracy</th>\n",
       "      <td>0.508 (+/- 0.001)</td>\n",
       "      <td>0.734 (+/- 0.032)</td>\n",
       "      <td>0.758 (+/- 0.035)</td>\n",
       "      <td>0.797 (+/- 0.039)</td>\n",
       "      <td>0.760 (+/- 0.021)</td>\n",
       "      <td>0.773 (+/- 0.014)</td>\n",
       "      <td>0.790 (+/- 0.025)</td>\n",
       "      <td>0.771 (+/- 0.017)</td>\n",
       "    </tr>\n",
       "    <tr>\n",
       "      <th>train_accuracy</th>\n",
       "      <td>0.508 (+/- 0.000)</td>\n",
       "      <td>0.891 (+/- 0.005)</td>\n",
       "      <td>0.971 (+/- 0.004)</td>\n",
       "      <td>1.000 (+/- 0.000)</td>\n",
       "      <td>1.000 (+/- 0.000)</td>\n",
       "      <td>1.000 (+/- 0.000)</td>\n",
       "      <td>0.932 (+/- 0.003)</td>\n",
       "      <td>1.000 (+/- 0.000)</td>\n",
       "    </tr>\n",
       "    <tr>\n",
       "      <th>test_roc_auc</th>\n",
       "      <td>0.500 (+/- 0.000)</td>\n",
       "      <td>0.805 (+/- 0.034)</td>\n",
       "      <td>0.840 (+/- 0.030)</td>\n",
       "      <td>0.865 (+/- 0.030)</td>\n",
       "      <td>0.842 (+/- 0.034)</td>\n",
       "      <td>0.850 (+/- 0.028)</td>\n",
       "      <td>0.863 (+/- 0.031)</td>\n",
       "      <td>0.857 (+/- 0.029)</td>\n",
       "    </tr>\n",
       "    <tr>\n",
       "      <th>train_roc_auc</th>\n",
       "      <td>0.500 (+/- 0.000)</td>\n",
       "      <td>0.952 (+/- 0.002)</td>\n",
       "      <td>0.993 (+/- 0.002)</td>\n",
       "      <td>1.000 (+/- 0.000)</td>\n",
       "      <td>1.000 (+/- 0.000)</td>\n",
       "      <td>1.000 (+/- 0.000)</td>\n",
       "      <td>0.990 (+/- 0.001)</td>\n",
       "      <td>1.000 (+/- 0.000)</td>\n",
       "    </tr>\n",
       "  </tbody>\n",
       "</table>\n",
       "</div>"
      ],
      "text/plain": [
       "                            dummy        LogisticReg    LogisticReg_opt  \\\n",
       "fit_time        0.015 (+/- 0.002)  0.072 (+/- 0.018)  5.671 (+/- 0.304)   \n",
       "score_time      0.013 (+/- 0.002)  0.014 (+/- 0.001)  0.018 (+/- 0.003)   \n",
       "test_accuracy   0.508 (+/- 0.001)  0.734 (+/- 0.032)  0.758 (+/- 0.035)   \n",
       "train_accuracy  0.508 (+/- 0.000)  0.891 (+/- 0.005)  0.971 (+/- 0.004)   \n",
       "test_roc_auc    0.500 (+/- 0.000)  0.805 (+/- 0.034)  0.840 (+/- 0.030)   \n",
       "train_roc_auc   0.500 (+/- 0.000)  0.952 (+/- 0.002)  0.993 (+/- 0.002)   \n",
       "\n",
       "                     RandomForest            XGBoost               LGBM  \\\n",
       "fit_time        0.593 (+/- 0.014)  1.083 (+/- 0.050)  0.083 (+/- 0.017)   \n",
       "score_time      0.054 (+/- 0.002)  0.021 (+/- 0.002)  0.016 (+/- 0.002)   \n",
       "test_accuracy   0.797 (+/- 0.039)  0.760 (+/- 0.021)  0.773 (+/- 0.014)   \n",
       "train_accuracy  1.000 (+/- 0.000)  1.000 (+/- 0.000)  1.000 (+/- 0.000)   \n",
       "test_roc_auc    0.865 (+/- 0.030)  0.842 (+/- 0.034)  0.850 (+/- 0.028)   \n",
       "train_roc_auc   1.000 (+/- 0.000)  1.000 (+/- 0.000)  1.000 (+/- 0.000)   \n",
       "\n",
       "                        Cat_Boost          averaging  \n",
       "fit_time        2.924 (+/- 0.143)  1.715 (+/- 0.347)  \n",
       "score_time      0.143 (+/- 0.011)  0.074 (+/- 0.004)  \n",
       "test_accuracy   0.790 (+/- 0.025)  0.771 (+/- 0.017)  \n",
       "train_accuracy  0.932 (+/- 0.003)  1.000 (+/- 0.000)  \n",
       "test_roc_auc    0.863 (+/- 0.031)  0.857 (+/- 0.029)  \n",
       "train_roc_auc   0.990 (+/- 0.001)  1.000 (+/- 0.000)  "
      ]
     },
     "execution_count": 29,
     "metadata": {},
     "output_type": "execute_result"
    }
   ],
   "source": [
    "pd.DataFrame(results)"
   ]
  },
  {
   "cell_type": "markdown",
   "metadata": {},
   "source": [
    "According to the result, averaging the models neither help the overfitting issue nor scoring. However, the fit score is indeed faster than `Cat_Boost`. `CatBoostClassifier` is still the best model."
   ]
  },
  {
   "cell_type": "markdown",
   "metadata": {},
   "source": [
    "## Results on the test set \n",
    "\n",
    "The best performing model `CatBoostClassifier` is used on the test data and report test scores. Summary is shown as below. Furthermore, some test predictions and corresponding explanation with SHAP force plots are drawn for further study."
   ]
  },
  {
   "cell_type": "code",
   "execution_count": 30,
   "metadata": {},
   "outputs": [
    {
     "name": "stdout",
     "output_type": "stream",
     "text": [
      "Test Set accuracy:  0.772\n"
     ]
    }
   ],
   "source": [
    "#predictions = pipe_catb.predict(X_test)\n",
    "print(\"Test Set accuracy: \", round(pipe_catb.score(X_test, y_test), 3))"
   ]
  },
  {
   "cell_type": "markdown",
   "metadata": {},
   "source": [
    "The test set's score were slightly lower than the validation score. Therefore, the prediction is promising. "
   ]
  },
  {
   "cell_type": "markdown",
   "metadata": {},
   "source": [
    "### Interpretation and feature importances on Test set"
   ]
  },
  {
   "cell_type": "code",
   "execution_count": 31,
   "metadata": {},
   "outputs": [
    {
     "data": {
      "text/plain": [
       "(404, 1155)"
      ]
     },
     "execution_count": 31,
     "metadata": {},
     "output_type": "execute_result"
    }
   ],
   "source": [
    "# Encoding X_test for SHAP force plot\n",
    "X_test_enc = pd.DataFrame(\n",
    "    data=preprocessor.transform(X_test),\n",
    "    columns=col_name_pp_all,\n",
    "    index=X_test.index,\n",
    ")\n",
    "X_test_enc.shape"
   ]
  },
  {
   "cell_type": "code",
   "execution_count": 32,
   "metadata": {},
   "outputs": [
    {
     "data": {
      "image/png": "[encoded data removed]",
      "text/plain": [
       "<Figure size 576x684 with 1 Axes>"
      ]
     },
     "metadata": {
      "needs_background": "light"
     },
     "output_type": "display_data"
    }
   ],
   "source": [
    "# Create an explainer for X_test_enc\n",
    "test_catboost_shap_values = catboost_explainer.shap_values(X_test_enc)\n",
    "shap.summary_plot(test_catboost_shap_values, X_test_enc, plot_type=\"bar\")"
   ]
  },
  {
   "cell_type": "code",
   "execution_count": 33,
   "metadata": {},
   "outputs": [
    {
     "data": {
      "text/plain": [
       "0"
      ]
     },
     "execution_count": 33,
     "metadata": {},
     "output_type": "execute_result"
    }
   ],
   "source": [
    "y_test.iloc[3]"
   ]
  },
  {
   "cell_type": "code",
   "execution_count": 34,
   "metadata": {},
   "outputs": [
    {
     "data": {
      "image/png": "[encoded data removed]",
      "text/plain": [
       "<Figure size 1440x216 with 1 Axes>"
      ]
     },
     "metadata": {
      "needs_background": "light"
     },
     "output_type": "display_data"
    }
   ],
   "source": [
    "# Force Plot for prediction of 4th row (no_default)\n",
    "shap.force_plot(\n",
    "    catboost_explainer.expected_value,\n",
    "    test_catboost_shap_values[3,:],\n",
    "    X_test_enc.iloc[3,:],\n",
    "    matplotlib=True,\n",
    ")"
   ]
  },
  {
   "cell_type": "markdown",
   "metadata": {},
   "source": [
    "- As seen from the plot, the raw score is much smaller than the base value, which predict accurately as **Unlike** (class of '0').  \n",
    "- `speechiness` is pushing the prediction towards a higher score, and `instrumentalness` and `duration_ms` are pushing the prediction towards a lower score."
   ]
  },
  {
   "cell_type": "code",
   "execution_count": 35,
   "metadata": {},
   "outputs": [
    {
     "data": {
      "text/plain": [
       "1"
      ]
     },
     "execution_count": 35,
     "metadata": {},
     "output_type": "execute_result"
    }
   ],
   "source": [
    "y_test.iloc[1]"
   ]
  },
  {
   "cell_type": "code",
   "execution_count": 36,
   "metadata": {},
   "outputs": [
    {
     "data": {
      "image/png": "[encoded data removed]",
      "text/plain": [
       "<Figure size 1440x216 with 1 Axes>"
      ]
     },
     "metadata": {
      "needs_background": "light"
     },
     "output_type": "display_data"
    }
   ],
   "source": [
    "# Force Plot for prediction of 2nd row (no_default)\n",
    "shap.force_plot(\n",
    "    catboost_explainer.expected_value,\n",
    "    test_catboost_shap_values[1,:],\n",
    "    X_test_enc.iloc[1,:],\n",
    "    matplotlib=True,\n",
    ")"
   ]
  },
  {
   "cell_type": "markdown",
   "metadata": {},
   "source": [
    "- As seen from the plot, the raw score is much smaller than the base value, which predict accurately as **Unlike** (class of '0').  \n",
    "- `instrumentalness` and `duration_ms` are pushing the prediction towards a higher score, and `loudness` is pushing the prediction towards a lower score."
   ]
  },
  {
   "cell_type": "markdown",
   "metadata": {},
   "source": [
    "## Summary of machine learning results "
   ]
  },
  {
   "cell_type": "code",
   "execution_count": 37,
   "metadata": {},
   "outputs": [
    {
     "data": {
      "text/html": [
       "<div>\n",
       "<style scoped>\n",
       "    .dataframe tbody tr th:only-of-type {\n",
       "        vertical-align: middle;\n",
       "    }\n",
       "\n",
       "    .dataframe tbody tr th {\n",
       "        vertical-align: top;\n",
       "    }\n",
       "\n",
       "    .dataframe thead th {\n",
       "        text-align: right;\n",
       "    }\n",
       "</style>\n",
       "<table border=\"1\" class=\"dataframe\">\n",
       "  <thead>\n",
       "    <tr style=\"text-align: right;\">\n",
       "      <th></th>\n",
       "      <th>dummy</th>\n",
       "      <th>LogisticReg</th>\n",
       "      <th>LogisticReg_opt</th>\n",
       "      <th>RandomForest</th>\n",
       "      <th>XGBoost</th>\n",
       "      <th>LGBM</th>\n",
       "      <th>Cat_Boost</th>\n",
       "      <th>averaging</th>\n",
       "    </tr>\n",
       "  </thead>\n",
       "  <tbody>\n",
       "    <tr>\n",
       "      <th>fit_time</th>\n",
       "      <td>0.015 (+/- 0.002)</td>\n",
       "      <td>0.072 (+/- 0.018)</td>\n",
       "      <td>5.671 (+/- 0.304)</td>\n",
       "      <td>0.593 (+/- 0.014)</td>\n",
       "      <td>1.083 (+/- 0.050)</td>\n",
       "      <td>0.083 (+/- 0.017)</td>\n",
       "      <td>2.924 (+/- 0.143)</td>\n",
       "      <td>1.715 (+/- 0.347)</td>\n",
       "    </tr>\n",
       "    <tr>\n",
       "      <th>score_time</th>\n",
       "      <td>0.013 (+/- 0.002)</td>\n",
       "      <td>0.014 (+/- 0.001)</td>\n",
       "      <td>0.018 (+/- 0.003)</td>\n",
       "      <td>0.054 (+/- 0.002)</td>\n",
       "      <td>0.021 (+/- 0.002)</td>\n",
       "      <td>0.016 (+/- 0.002)</td>\n",
       "      <td>0.143 (+/- 0.011)</td>\n",
       "      <td>0.074 (+/- 0.004)</td>\n",
       "    </tr>\n",
       "    <tr>\n",
       "      <th>test_accuracy</th>\n",
       "      <td>0.508 (+/- 0.001)</td>\n",
       "      <td>0.734 (+/- 0.032)</td>\n",
       "      <td>0.758 (+/- 0.035)</td>\n",
       "      <td>0.797 (+/- 0.039)</td>\n",
       "      <td>0.760 (+/- 0.021)</td>\n",
       "      <td>0.773 (+/- 0.014)</td>\n",
       "      <td>0.790 (+/- 0.025)</td>\n",
       "      <td>0.771 (+/- 0.017)</td>\n",
       "    </tr>\n",
       "    <tr>\n",
       "      <th>train_accuracy</th>\n",
       "      <td>0.508 (+/- 0.000)</td>\n",
       "      <td>0.891 (+/- 0.005)</td>\n",
       "      <td>0.971 (+/- 0.004)</td>\n",
       "      <td>1.000 (+/- 0.000)</td>\n",
       "      <td>1.000 (+/- 0.000)</td>\n",
       "      <td>1.000 (+/- 0.000)</td>\n",
       "      <td>0.932 (+/- 0.003)</td>\n",
       "      <td>1.000 (+/- 0.000)</td>\n",
       "    </tr>\n",
       "    <tr>\n",
       "      <th>test_roc_auc</th>\n",
       "      <td>0.500 (+/- 0.000)</td>\n",
       "      <td>0.805 (+/- 0.034)</td>\n",
       "      <td>0.840 (+/- 0.030)</td>\n",
       "      <td>0.865 (+/- 0.030)</td>\n",
       "      <td>0.842 (+/- 0.034)</td>\n",
       "      <td>0.850 (+/- 0.028)</td>\n",
       "      <td>0.863 (+/- 0.031)</td>\n",
       "      <td>0.857 (+/- 0.029)</td>\n",
       "    </tr>\n",
       "    <tr>\n",
       "      <th>train_roc_auc</th>\n",
       "      <td>0.500 (+/- 0.000)</td>\n",
       "      <td>0.952 (+/- 0.002)</td>\n",
       "      <td>0.993 (+/- 0.002)</td>\n",
       "      <td>1.000 (+/- 0.000)</td>\n",
       "      <td>1.000 (+/- 0.000)</td>\n",
       "      <td>1.000 (+/- 0.000)</td>\n",
       "      <td>0.990 (+/- 0.001)</td>\n",
       "      <td>1.000 (+/- 0.000)</td>\n",
       "    </tr>\n",
       "  </tbody>\n",
       "</table>\n",
       "</div>"
      ],
      "text/plain": [
       "                            dummy        LogisticReg    LogisticReg_opt  \\\n",
       "fit_time        0.015 (+/- 0.002)  0.072 (+/- 0.018)  5.671 (+/- 0.304)   \n",
       "score_time      0.013 (+/- 0.002)  0.014 (+/- 0.001)  0.018 (+/- 0.003)   \n",
       "test_accuracy   0.508 (+/- 0.001)  0.734 (+/- 0.032)  0.758 (+/- 0.035)   \n",
       "train_accuracy  0.508 (+/- 0.000)  0.891 (+/- 0.005)  0.971 (+/- 0.004)   \n",
       "test_roc_auc    0.500 (+/- 0.000)  0.805 (+/- 0.034)  0.840 (+/- 0.030)   \n",
       "train_roc_auc   0.500 (+/- 0.000)  0.952 (+/- 0.002)  0.993 (+/- 0.002)   \n",
       "\n",
       "                     RandomForest            XGBoost               LGBM  \\\n",
       "fit_time        0.593 (+/- 0.014)  1.083 (+/- 0.050)  0.083 (+/- 0.017)   \n",
       "score_time      0.054 (+/- 0.002)  0.021 (+/- 0.002)  0.016 (+/- 0.002)   \n",
       "test_accuracy   0.797 (+/- 0.039)  0.760 (+/- 0.021)  0.773 (+/- 0.014)   \n",
       "train_accuracy  1.000 (+/- 0.000)  1.000 (+/- 0.000)  1.000 (+/- 0.000)   \n",
       "test_roc_auc    0.865 (+/- 0.030)  0.842 (+/- 0.034)  0.850 (+/- 0.028)   \n",
       "train_roc_auc   1.000 (+/- 0.000)  1.000 (+/- 0.000)  1.000 (+/- 0.000)   \n",
       "\n",
       "                        Cat_Boost          averaging  \n",
       "fit_time        2.924 (+/- 0.143)  1.715 (+/- 0.347)  \n",
       "score_time      0.143 (+/- 0.011)  0.074 (+/- 0.004)  \n",
       "test_accuracy   0.790 (+/- 0.025)  0.771 (+/- 0.017)  \n",
       "train_accuracy  0.932 (+/- 0.003)  1.000 (+/- 0.000)  \n",
       "test_roc_auc    0.863 (+/- 0.031)  0.857 (+/- 0.029)  \n",
       "train_roc_auc   0.990 (+/- 0.001)  1.000 (+/- 0.000)  "
      ]
     },
     "execution_count": 37,
     "metadata": {},
     "output_type": "execute_result"
    }
   ],
   "source": [
    "pd.DataFrame(results)"
   ]
  },
  {
   "cell_type": "markdown",
   "metadata": {},
   "source": [
    "Amongst the models, it is clear that `CatBoostClassifier` has the best accuracy and ROC AUC score. Moreover, the difference in scores between the test set and validation set are comparatively small, suggesting that there is minimal optimisation bias. Based on our test scores, our model is able to identify about **77.2%** of the cases.\n",
    "\n",
    "One thing that needs to be kept in mind is that, the fit time for`cat_boost` is slow. It can be a concern as the algorithm is likely to refit every user by the latest song listening history whenever the user wants to update their playlist. Moreover, the score time of `Cat_Boost` is the slowest among all models but acceptable. The processing time (fit + score time) is critical for the application.  \n",
    "\n",
    "Hence, the other options after `Cat_Boost` may be `RandomForest` / `LGBM`, which require less processing time but similar scoring result. Further model training and new training set is needed for continuous model studying."
   ]
  },
  {
   "cell_type": "markdown",
   "metadata": {},
   "source": [
    "<br><br>"
   ]
  },
  {
   "cell_type": "markdown",
   "metadata": {},
   "source": [
    "<br><br>"
   ]
  }
 ],
 "metadata": {
  "kernelspec": {
   "display_name": "Python [conda env:spotify_user_behaviour_predictor]",
   "language": "python",
   "name": "conda-env-spotify_user_behaviour_predictor-py"
  },
  "language_info": {
   "codemirror_mode": {
    "name": "ipython",
    "version": 3
   },
   "file_extension": ".py",
   "mimetype": "text/x-python",
   "name": "python",
   "nbconvert_exporter": "python",
   "pygments_lexer": "ipython3",
   "version": "3.8.12"
  }
 },
 "nbformat": 4,
 "nbformat_minor": 4
}
